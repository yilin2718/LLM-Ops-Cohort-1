{
  "cells": [
    {
      "cell_type": "markdown",
      "metadata": {
        "colab_type": "text",
        "id": "view-in-github"
      },
      "source": [
        "<a href=\"https://colab.research.google.com/github/AI-Maker-Space/LLM-Ops-Vault/blob/main/Week%201/First%20Session/Barbie_Retrieval_Augmented_Question_Answering_(RAQA)_Assignment%20(Assignment%20Version).ipynb\" target=\"_parent\"><img src=\"https://colab.research.google.com/assets/colab-badge.svg\" alt=\"Open In Colab\"/></a>"
      ]
    },
    {
      "cell_type": "markdown",
      "metadata": {
        "id": "PLi09z_3qW8O"
      },
      "source": [
        "# Questioning Barbie Reviews with RAQA (Retrieval Augmented Question Answering)\n",
        "\n",
        "In the following notebook, you are tasked with creating a system that answers questions based on information found in reviews of the 2023 Barbie movie.\n",
        "\n",
        "## Build 🏗️\n",
        "\n",
        "There are 3 main tasks in this notebook:\n",
        "\n",
        "1. Obtain and parse reviews from a review website\n",
        "2. Create a Vectorstore from the reviews\n",
        "3. Create a `RetrievalQA` using the VectorStore\n",
        "\n",
        "## Ship 🚢\n",
        "\n",
        "Create a Hugging Face Space that hosts your application.\n",
        "\n",
        "## Share 🚀\n",
        "\n",
        "Make a social media post about your final application."
      ]
    },
    {
      "cell_type": "markdown",
      "metadata": {
        "id": "_BBraMxjrwOx"
      },
      "source": [
        ">### Why RAQA and not RAG?\n",
        ">If we look at the original [paper](https://arxiv.org/abs/2005.11401), we find that RAG is a fairly specific and well defined term that isn't exactly the same as \"retrieve context, feed context to model in the prompt\".\n",
        ">For that reason, we're making the decision to delineate between \"actual\" RAG, and Retrieval Augmented Question Answering - which is not a well defined phrase."
      ]
    },
    {
      "cell_type": "markdown",
      "metadata": {
        "id": "zcL8585DsZML"
      },
      "source": [
        "### Pre-task Work\n",
        "\n",
        "All we really need to do to get started is to get our prerequisites!\n",
        "\n",
        "We'll be leveraging `langchain` and `openai` today.\n",
        "\n",
        "Check out the docs:\n",
        "- [LangChain](https://docs.langchain.com/docs/)\n",
        "- [OpenAI](https://github.com/openai/openai-python)"
      ]
    },
    {
      "cell_type": "code",
      "execution_count": 8,
      "metadata": {
        "id": "vQa6rjDLqPCI"
      },
      "outputs": [],
      "source": [
        "!pip install -q -U openai langchain"
      ]
    },
    {
      "cell_type": "code",
      "execution_count": null,
      "metadata": {
        "colab": {
          "base_uri": "https://localhost:8080/"
        },
        "id": "1wF8_ODX5h-P",
        "outputId": "f3395c72-029b-4e49-f0b9-aba7e3c2195f"
      },
      "outputs": [],
      "source": []
    },
    {
      "cell_type": "code",
      "execution_count": 2,
      "metadata": {},
      "outputs": [],
      "source": [
        "import os\n",
        "import getpass\n",
        "os.environ[\"OPENAI_API_KEY\"] = getpass.getpass(\"Open AI API Key:\")"
      ]
    },
    {
      "cell_type": "markdown",
      "metadata": {
        "id": "FLrL342RtWxf"
      },
      "source": [
        "### Task 1: Data Preparation\n",
        "\n",
        "In this task we'll be collecting, and then parsing, our data."
      ]
    },
    {
      "cell_type": "markdown",
      "metadata": {
        "id": "zh8QTtMhzY_g"
      },
      "source": [
        "#### Scraping IMDB Reviews of Barbie\n",
        "\n",
        "We'll use some Selenium based trickery to get the reviews we need to make our application.\n",
        "\n",
        "Check out the docs here:\n",
        "- [Selenium](https://www.selenium.dev/documentation/)"
      ]
    },
    {
      "cell_type": "code",
      "execution_count": 10,
      "metadata": {
        "id": "PsGPV2zHuCj2"
      },
      "outputs": [],
      "source": [
        "!pip install -q -U requests pandas "
      ]
    },
    {
      "cell_type": "code",
      "execution_count": 11,
      "metadata": {},
      "outputs": [
        {
          "name": "stdout",
          "output_type": "stream",
          "text": [
            "Requirement already satisfied: ipykernel in /Users/yl/miniforge3/envs/raqa_llm/lib/python3.11/site-packages (6.25.1)\n",
            "Requirement already satisfied: appnope in /Users/yl/miniforge3/envs/raqa_llm/lib/python3.11/site-packages (from ipykernel) (0.1.2)\n",
            "Requirement already satisfied: comm>=0.1.1 in /Users/yl/miniforge3/envs/raqa_llm/lib/python3.11/site-packages (from ipykernel) (0.1.2)\n",
            "Requirement already satisfied: debugpy>=1.6.5 in /Users/yl/miniforge3/envs/raqa_llm/lib/python3.11/site-packages (from ipykernel) (1.6.7)\n",
            "Requirement already satisfied: ipython>=7.23.1 in /Users/yl/miniforge3/envs/raqa_llm/lib/python3.11/site-packages (from ipykernel) (8.12.2)\n",
            "Requirement already satisfied: jupyter-client>=6.1.12 in /Users/yl/miniforge3/envs/raqa_llm/lib/python3.11/site-packages (from ipykernel) (8.1.0)\n",
            "Requirement already satisfied: jupyter-core!=5.0.*,>=4.12 in /Users/yl/miniforge3/envs/raqa_llm/lib/python3.11/site-packages (from ipykernel) (5.3.0)\n",
            "Requirement already satisfied: matplotlib-inline>=0.1 in /Users/yl/miniforge3/envs/raqa_llm/lib/python3.11/site-packages (from ipykernel) (0.1.6)\n",
            "Requirement already satisfied: nest-asyncio in /Users/yl/miniforge3/envs/raqa_llm/lib/python3.11/site-packages (from ipykernel) (1.5.6)\n",
            "Requirement already satisfied: packaging in /Users/yl/miniforge3/envs/raqa_llm/lib/python3.11/site-packages (from ipykernel) (23.0)\n",
            "Requirement already satisfied: psutil in /Users/yl/miniforge3/envs/raqa_llm/lib/python3.11/site-packages (from ipykernel) (5.9.0)\n",
            "Requirement already satisfied: pyzmq>=20 in /Users/yl/miniforge3/envs/raqa_llm/lib/python3.11/site-packages (from ipykernel) (25.1.0)\n",
            "Requirement already satisfied: tornado>=6.1 in /Users/yl/miniforge3/envs/raqa_llm/lib/python3.11/site-packages (from ipykernel) (6.3.2)\n",
            "Requirement already satisfied: traitlets>=5.4.0 in /Users/yl/miniforge3/envs/raqa_llm/lib/python3.11/site-packages (from ipykernel) (5.7.1)\n",
            "Requirement already satisfied: backcall in /Users/yl/miniforge3/envs/raqa_llm/lib/python3.11/site-packages (from ipython>=7.23.1->ipykernel) (0.2.0)\n",
            "Requirement already satisfied: decorator in /Users/yl/miniforge3/envs/raqa_llm/lib/python3.11/site-packages (from ipython>=7.23.1->ipykernel) (5.1.1)\n",
            "Requirement already satisfied: jedi>=0.16 in /Users/yl/miniforge3/envs/raqa_llm/lib/python3.11/site-packages (from ipython>=7.23.1->ipykernel) (0.18.1)\n",
            "Requirement already satisfied: pickleshare in /Users/yl/miniforge3/envs/raqa_llm/lib/python3.11/site-packages (from ipython>=7.23.1->ipykernel) (0.7.5)\n",
            "Requirement already satisfied: prompt-toolkit!=3.0.37,<3.1.0,>=3.0.30 in /Users/yl/miniforge3/envs/raqa_llm/lib/python3.11/site-packages (from ipython>=7.23.1->ipykernel) (3.0.36)\n",
            "Requirement already satisfied: pygments>=2.4.0 in /Users/yl/miniforge3/envs/raqa_llm/lib/python3.11/site-packages (from ipython>=7.23.1->ipykernel) (2.15.1)\n",
            "Requirement already satisfied: stack-data in /Users/yl/miniforge3/envs/raqa_llm/lib/python3.11/site-packages (from ipython>=7.23.1->ipykernel) (0.2.0)\n",
            "Requirement already satisfied: pexpect>4.3 in /Users/yl/miniforge3/envs/raqa_llm/lib/python3.11/site-packages (from ipython>=7.23.1->ipykernel) (4.8.0)\n",
            "Requirement already satisfied: python-dateutil>=2.8.2 in /Users/yl/miniforge3/envs/raqa_llm/lib/python3.11/site-packages (from jupyter-client>=6.1.12->ipykernel) (2.8.2)\n",
            "Requirement already satisfied: platformdirs>=2.5 in /Users/yl/miniforge3/envs/raqa_llm/lib/python3.11/site-packages (from jupyter-core!=5.0.*,>=4.12->ipykernel) (2.5.2)\n",
            "Requirement already satisfied: parso<0.9.0,>=0.8.0 in /Users/yl/miniforge3/envs/raqa_llm/lib/python3.11/site-packages (from jedi>=0.16->ipython>=7.23.1->ipykernel) (0.8.3)\n",
            "Requirement already satisfied: ptyprocess>=0.5 in /Users/yl/miniforge3/envs/raqa_llm/lib/python3.11/site-packages (from pexpect>4.3->ipython>=7.23.1->ipykernel) (0.7.0)\n",
            "Requirement already satisfied: wcwidth in /Users/yl/miniforge3/envs/raqa_llm/lib/python3.11/site-packages (from prompt-toolkit!=3.0.37,<3.1.0,>=3.0.30->ipython>=7.23.1->ipykernel) (0.2.5)\n",
            "Requirement already satisfied: six>=1.5 in /Users/yl/miniforge3/envs/raqa_llm/lib/python3.11/site-packages (from python-dateutil>=2.8.2->jupyter-client>=6.1.12->ipykernel) (1.16.0)\n",
            "Requirement already satisfied: executing in /Users/yl/miniforge3/envs/raqa_llm/lib/python3.11/site-packages (from stack-data->ipython>=7.23.1->ipykernel) (0.8.3)\n",
            "Requirement already satisfied: asttokens in /Users/yl/miniforge3/envs/raqa_llm/lib/python3.11/site-packages (from stack-data->ipython>=7.23.1->ipykernel) (2.0.5)\n",
            "Requirement already satisfied: pure-eval in /Users/yl/miniforge3/envs/raqa_llm/lib/python3.11/site-packages (from stack-data->ipython>=7.23.1->ipykernel) (0.2.2)\n"
          ]
        }
      ],
      "source": [
        "!pip install -U ipykernel"
      ]
    },
    {
      "cell_type": "code",
      "execution_count": 12,
      "metadata": {
        "colab": {
          "base_uri": "https://localhost:8080/"
        },
        "id": "uCNCZdzrw81B",
        "outputId": "f74cc223-af93-491a-e92e-5d7ee1355d49"
      },
      "outputs": [],
      "source": [
        "!pip install -q -U scrapy selenium"
      ]
    },
    {
      "cell_type": "code",
      "execution_count": 13,
      "metadata": {
        "id": "evZzjyX6xTbZ"
      },
      "outputs": [
        {
          "name": "stdout",
          "output_type": "stream",
          "text": [
            "The operation couldn’t be completed. Unable to locate a Java Runtime that supports apt.\n",
            "Please visit http://www.java.com for information on installing Java.\n",
            "\n"
          ]
        }
      ],
      "source": [
        "!apt install chromium-chromedriver "
      ]
    },
    {
      "cell_type": "code",
      "execution_count": 14,
      "metadata": {
        "id": "Niq6DKMOwPIn"
      },
      "outputs": [],
      "source": [
        "import numpy as np\n",
        "import pandas as pd\n",
        "from scrapy.selector import Selector\n",
        "from selenium import webdriver\n",
        "from selenium.webdriver.common.by import By\n",
        "from selenium.webdriver.common.keys import Keys\n",
        "import time\n",
        "from tqdm import tqdm\n",
        "import warnings\n",
        "warnings.filterwarnings(\"ignore\")"
      ]
    },
    {
      "cell_type": "code",
      "execution_count": 15,
      "metadata": {
        "id": "k9AA_f-DxGyv"
      },
      "outputs": [],
      "source": [
        "chrome_options = webdriver.ChromeOptions()\n",
        "chrome_options.add_argument('--headless')\n",
        "chrome_options.add_argument('--no-sandbox')\n",
        "chrome_options.add_argument('--disable-dev-shm-usage')\n",
        "driver = webdriver.Chrome(options=chrome_options)"
      ]
    },
    {
      "cell_type": "code",
      "execution_count": 16,
      "metadata": {
        "id": "IsjYL7K_y1ip"
      },
      "outputs": [],
      "source": [
        "url = \"https://www.imdb.com/title/tt1517268/reviews/?ref_=tt_ov_rt\"\n",
        "driver.get(url)"
      ]
    },
    {
      "cell_type": "code",
      "execution_count": 17,
      "metadata": {
        "id": "XPGysdwuy190"
      },
      "outputs": [],
      "source": [
        "sel = Selector(text = driver.page_source)\n",
        "review_counts = sel.css('.lister .header span::text').extract_first().replace(',','').split(' ')[0]\n",
        "more_review_pages = int(int(review_counts)/25)"
      ]
    },
    {
      "cell_type": "code",
      "execution_count": 18,
      "metadata": {
        "colab": {
          "base_uri": "https://localhost:8080/"
        },
        "id": "eGSJ0vuDy4D2",
        "outputId": "5bd75470-a74a-4b2c-ba76-a9025d71c79b"
      },
      "outputs": [
        {
          "name": "stderr",
          "output_type": "stream",
          "text": [
            "100%|██████████| 44/44 [00:02<00:00, 15.59it/s]\n"
          ]
        }
      ],
      "source": [
        "for i in tqdm(range(more_review_pages)):\n",
        "    try:\n",
        "        css_selector = 'load-more-trigger'\n",
        "        driver.find_element(By.ID, css_selector).click()\n",
        "    except:\n",
        "        pass"
      ]
    },
    {
      "cell_type": "code",
      "execution_count": 11,
      "metadata": {
        "colab": {
          "base_uri": "https://localhost:8080/"
        },
        "id": "c46cAciBxr2C",
        "outputId": "d5a8737f-6162-434c-ef82-81317490960d"
      },
      "outputs": [
        {
          "name": "stderr",
          "output_type": "stream",
          "text": [
            "100%|██████████| 75/75 [00:00<00:00, 200.61it/s]\n"
          ]
        }
      ],
      "source": [
        "rating_list = []\n",
        "review_date_list = []\n",
        "review_title_list = []\n",
        "author_list = []\n",
        "review_list = []\n",
        "review_url_list = []\n",
        "error_url_list = []\n",
        "error_msg_list = []\n",
        "reviews = driver.find_elements(By.CSS_SELECTOR, 'div.review-container')\n",
        "\n",
        "for d in tqdm(reviews):\n",
        "    try:\n",
        "        sel2 = Selector(text = d.get_attribute('innerHTML'))\n",
        "        try:\n",
        "            rating = sel2.css('.rating-other-user-rating span::text').extract_first()\n",
        "        except:\n",
        "            rating = np.NaN\n",
        "        try:\n",
        "            review = sel2.css('.text.show-more__control::text').extract_first()\n",
        "        except:\n",
        "            review = np.NaN\n",
        "        try:\n",
        "            review_date = sel2.css('.review-date::text').extract_first()\n",
        "        except:\n",
        "            review_date = np.NaN\n",
        "        try:\n",
        "            author = sel2.css('.display-name-link a::text').extract_first()\n",
        "        except:\n",
        "            author = np.NaN\n",
        "        try:\n",
        "            review_title = sel2.css('a.title::text').extract_first()\n",
        "        except:\n",
        "            review_title = np.NaN\n",
        "        try:\n",
        "            review_url = sel2.css('a.title::attr(href)').extract_first()\n",
        "        except:\n",
        "            review_url = np.NaN\n",
        "        rating_list.append(rating)\n",
        "        review_date_list.append(review_date)\n",
        "        review_title_list.append(review_title)\n",
        "        author_list.append(author)\n",
        "        review_list.append(review)\n",
        "        review_url_list.append(review_url)\n",
        "    except Exception as e:\n",
        "        error_url_list.append(url)\n",
        "        error_msg_list.append(e)\n",
        "review_df = pd.DataFrame({\n",
        "    'Review_Date':review_date_list,\n",
        "    'Author':author_list,\n",
        "    'Rating':rating_list,\n",
        "    'Review_Title':review_title_list,\n",
        "    'Review':review_list,\n",
        "    'Review_Url':review_url\n",
        "    })"
      ]
    },
    {
      "cell_type": "code",
      "execution_count": 12,
      "metadata": {
        "id": "W9A0C1tbyfuh"
      },
      "outputs": [
        {
          "data": {
            "text/html": [
              "<div>\n",
              "<style scoped>\n",
              "    .dataframe tbody tr th:only-of-type {\n",
              "        vertical-align: middle;\n",
              "    }\n",
              "\n",
              "    .dataframe tbody tr th {\n",
              "        vertical-align: top;\n",
              "    }\n",
              "\n",
              "    .dataframe thead th {\n",
              "        text-align: right;\n",
              "    }\n",
              "</style>\n",
              "<table border=\"1\" class=\"dataframe\">\n",
              "  <thead>\n",
              "    <tr style=\"text-align: right;\">\n",
              "      <th></th>\n",
              "      <th>Review_Date</th>\n",
              "      <th>Author</th>\n",
              "      <th>Rating</th>\n",
              "      <th>Review_Title</th>\n",
              "      <th>Review</th>\n",
              "      <th>Review_Url</th>\n",
              "    </tr>\n",
              "  </thead>\n",
              "  <tbody>\n",
              "    <tr>\n",
              "      <th>0</th>\n",
              "      <td>21 July 2023</td>\n",
              "      <td>LoveofLegacy</td>\n",
              "      <td>6</td>\n",
              "      <td>Beautiful film, but so preachy\\n</td>\n",
              "      <td>Margot does the best with what she's given, bu...</td>\n",
              "      <td>/review/rw9201978/?ref_=tt_urv</td>\n",
              "    </tr>\n",
              "    <tr>\n",
              "      <th>1</th>\n",
              "      <td>22 July 2023</td>\n",
              "      <td>imseeg</td>\n",
              "      <td>7</td>\n",
              "      <td>3 reasons FOR seeing it and 1 reason AGAINST.\\n</td>\n",
              "      <td>The first reason to go see it:</td>\n",
              "      <td>/review/rw9201978/?ref_=tt_urv</td>\n",
              "    </tr>\n",
              "    <tr>\n",
              "      <th>2</th>\n",
              "      <td>22 July 2023</td>\n",
              "      <td>Natcat87</td>\n",
              "      <td>6</td>\n",
              "      <td>Too heavy handed\\n</td>\n",
              "      <td>As a woman that grew up with Barbie, I was ver...</td>\n",
              "      <td>/review/rw9201978/?ref_=tt_urv</td>\n",
              "    </tr>\n",
              "    <tr>\n",
              "      <th>3</th>\n",
              "      <td>31 July 2023</td>\n",
              "      <td>ramair350</td>\n",
              "      <td>10</td>\n",
              "      <td>As a guy I felt some discomfort, and that's o...</td>\n",
              "      <td>As much as it pains me to give a movie called ...</td>\n",
              "      <td>/review/rw9201978/?ref_=tt_urv</td>\n",
              "    </tr>\n",
              "    <tr>\n",
              "      <th>4</th>\n",
              "      <td>24 July 2023</td>\n",
              "      <td>heatherhilgers</td>\n",
              "      <td>9</td>\n",
              "      <td>A Technicolor Dream\\n</td>\n",
              "      <td>Wow, this movie was a love letter to cinema. F...</td>\n",
              "      <td>/review/rw9201978/?ref_=tt_urv</td>\n",
              "    </tr>\n",
              "    <tr>\n",
              "      <th>...</th>\n",
              "      <td>...</td>\n",
              "      <td>...</td>\n",
              "      <td>...</td>\n",
              "      <td>...</td>\n",
              "      <td>...</td>\n",
              "      <td>...</td>\n",
              "    </tr>\n",
              "    <tr>\n",
              "      <th>70</th>\n",
              "      <td>28 July 2023</td>\n",
              "      <td>klastaitas</td>\n",
              "      <td>8</td>\n",
              "      <td>We're All Dolls\\n</td>\n",
              "      <td>Without consumerism, without belief, without p...</td>\n",
              "      <td>/review/rw9201978/?ref_=tt_urv</td>\n",
              "    </tr>\n",
              "    <tr>\n",
              "      <th>71</th>\n",
              "      <td>20 July 2023</td>\n",
              "      <td>FeastMode</td>\n",
              "      <td>7</td>\n",
              "      <td>I'll beach you off so hard\\n</td>\n",
              "      <td>I had no idea what to expect going into Barbie...</td>\n",
              "      <td>/review/rw9201978/?ref_=tt_urv</td>\n",
              "    </tr>\n",
              "    <tr>\n",
              "      <th>72</th>\n",
              "      <td>7 August 2023</td>\n",
              "      <td>misscattik</td>\n",
              "      <td>None</td>\n",
              "      <td>No questions just answers\\n</td>\n",
              "      <td>The title of the review practically sums it al...</td>\n",
              "      <td>/review/rw9201978/?ref_=tt_urv</td>\n",
              "    </tr>\n",
              "    <tr>\n",
              "      <th>73</th>\n",
              "      <td>23 July 2023</td>\n",
              "      <td>acdc_mp3</td>\n",
              "      <td>9</td>\n",
              "      <td>A really fun time\\n</td>\n",
              "      <td>Weeks ago I heard that there was going to be a...</td>\n",
              "      <td>/review/rw9201978/?ref_=tt_urv</td>\n",
              "    </tr>\n",
              "    <tr>\n",
              "      <th>74</th>\n",
              "      <td>20 July 2023</td>\n",
              "      <td>moriumemoltre</td>\n",
              "      <td>6</td>\n",
              "      <td>Great acting but why this movie?\\n</td>\n",
              "      <td>I was really surprised about how much i liked ...</td>\n",
              "      <td>/review/rw9201978/?ref_=tt_urv</td>\n",
              "    </tr>\n",
              "  </tbody>\n",
              "</table>\n",
              "<p>75 rows × 6 columns</p>\n",
              "</div>"
            ],
            "text/plain": [
              "      Review_Date          Author Rating  \\\n",
              "0    21 July 2023    LoveofLegacy      6   \n",
              "1    22 July 2023          imseeg      7   \n",
              "2    22 July 2023        Natcat87      6   \n",
              "3    31 July 2023       ramair350     10   \n",
              "4    24 July 2023  heatherhilgers      9   \n",
              "..            ...             ...    ...   \n",
              "70   28 July 2023      klastaitas      8   \n",
              "71   20 July 2023       FeastMode      7   \n",
              "72  7 August 2023      misscattik   None   \n",
              "73   23 July 2023        acdc_mp3      9   \n",
              "74   20 July 2023   moriumemoltre      6   \n",
              "\n",
              "                                         Review_Title  \\\n",
              "0                    Beautiful film, but so preachy\\n   \n",
              "1     3 reasons FOR seeing it and 1 reason AGAINST.\\n   \n",
              "2                                  Too heavy handed\\n   \n",
              "3    As a guy I felt some discomfort, and that's o...   \n",
              "4                               A Technicolor Dream\\n   \n",
              "..                                                ...   \n",
              "70                                  We're All Dolls\\n   \n",
              "71                       I'll beach you off so hard\\n   \n",
              "72                        No questions just answers\\n   \n",
              "73                                A really fun time\\n   \n",
              "74                 Great acting but why this movie?\\n   \n",
              "\n",
              "                                               Review  \\\n",
              "0   Margot does the best with what she's given, bu...   \n",
              "1                      The first reason to go see it:   \n",
              "2   As a woman that grew up with Barbie, I was ver...   \n",
              "3   As much as it pains me to give a movie called ...   \n",
              "4   Wow, this movie was a love letter to cinema. F...   \n",
              "..                                                ...   \n",
              "70  Without consumerism, without belief, without p...   \n",
              "71  I had no idea what to expect going into Barbie...   \n",
              "72  The title of the review practically sums it al...   \n",
              "73  Weeks ago I heard that there was going to be a...   \n",
              "74  I was really surprised about how much i liked ...   \n",
              "\n",
              "                        Review_Url  \n",
              "0   /review/rw9201978/?ref_=tt_urv  \n",
              "1   /review/rw9201978/?ref_=tt_urv  \n",
              "2   /review/rw9201978/?ref_=tt_urv  \n",
              "3   /review/rw9201978/?ref_=tt_urv  \n",
              "4   /review/rw9201978/?ref_=tt_urv  \n",
              "..                             ...  \n",
              "70  /review/rw9201978/?ref_=tt_urv  \n",
              "71  /review/rw9201978/?ref_=tt_urv  \n",
              "72  /review/rw9201978/?ref_=tt_urv  \n",
              "73  /review/rw9201978/?ref_=tt_urv  \n",
              "74  /review/rw9201978/?ref_=tt_urv  \n",
              "\n",
              "[75 rows x 6 columns]"
            ]
          },
          "execution_count": 12,
          "metadata": {},
          "output_type": "execute_result"
        }
      ],
      "source": [
        "review_df"
      ]
    },
    {
      "cell_type": "markdown",
      "metadata": {
        "id": "9gHLLYflzw_f"
      },
      "source": [
        "Let's save this `pd.DataFrame` as a `.csv` to our local session (this will be terminated when you terminate the Colab session) so we can leverage it in LangChain!\n",
        "\n",
        "Check out the docs if you get stuck:\n",
        "- [`to_csv()`](https://pandas.pydata.org/docs/reference/api/pandas.DataFrame.to_csv.html)"
      ]
    },
    {
      "cell_type": "code",
      "execution_count": 13,
      "metadata": {
        "id": "N9FDhwbNz64p"
      },
      "outputs": [],
      "source": [
        "### YOUR CODE HERE\n",
        "review_df.to_csv(\"./movie_review.csv\")"
      ]
    },
    {
      "cell_type": "markdown",
      "metadata": {
        "id": "JtBD1H8ezNLO"
      },
      "source": [
        "#### Data Parsing\n",
        "\n",
        "Now that we have our data - let's go ahead and start parsing it into a more usable format for LangChain!\n",
        "\n",
        "We'll be using the `CSVLoader` for this application.\n",
        "\n",
        "We also want to be sure to track the sources that our review came from!\n",
        "\n",
        "Check out the docs here:\n",
        "- [`CSVLoader`](https://python.langchain.com/docs/integrations/document_loaders/csv)"
      ]
    },
    {
      "cell_type": "code",
      "execution_count": 20,
      "metadata": {
        "id": "AdXub4CszAAt"
      },
      "outputs": [],
      "source": [
        "from langchain.document_loaders.csv_loader import CSVLoader"
      ]
    },
    {
      "cell_type": "code",
      "execution_count": 21,
      "metadata": {
        "id": "piE3_eSi0KGC"
      },
      "outputs": [],
      "source": [
        "loader = CSVLoader(\n",
        "    file_path=\"movie_review.csv\",\n",
        "    source_column='Review_Url'\n",
        "    )\n",
        " \n",
        "data = loader.load()"
      ]
    },
    {
      "cell_type": "code",
      "execution_count": 38,
      "metadata": {
        "id": "pvxnyjgh0TRQ"
      },
      "outputs": [],
      "source": [
        "#print(data)"
      ]
    },
    {
      "cell_type": "code",
      "execution_count": 23,
      "metadata": {
        "colab": {
          "base_uri": "https://localhost:8080/"
        },
        "id": "26SZD9zb3luR",
        "outputId": "1362d670-2218-4506-9e5b-125864d3bd9a"
      },
      "outputs": [
        {
          "ename": "AssertionError",
          "evalue": "",
          "output_type": "error",
          "traceback": [
            "\u001b[0;31m---------------------------------------------------------------------------\u001b[0m",
            "\u001b[0;31mAssertionError\u001b[0m                            Traceback (most recent call last)",
            "Cell \u001b[0;32mIn[23], line 1\u001b[0m\n\u001b[0;32m----> 1\u001b[0m \u001b[38;5;28;01massert\u001b[39;00m \u001b[38;5;28mlen\u001b[39m(data) \u001b[38;5;241m==\u001b[39m \u001b[38;5;241m125\u001b[39m\n",
            "\u001b[0;31mAssertionError\u001b[0m: "
          ]
        }
      ],
      "source": [
        "assert len(data) == 125"
      ]
    },
    {
      "cell_type": "code",
      "execution_count": 49,
      "metadata": {},
      "outputs": [
        {
          "data": {
            "text/plain": [
              "75"
            ]
          },
          "execution_count": 49,
          "metadata": {},
          "output_type": "execute_result"
        }
      ],
      "source": [
        "len(data)"
      ]
    },
    {
      "cell_type": "markdown",
      "metadata": {
        "id": "_CTameZZ0r76"
      },
      "source": [
        "Now that we have collected our review information into a loader - we can go ahead and chunk the reviews into more manageable pieces.\n",
        "\n",
        "We'll be leveraging the `RecursiveCharacterTextSplitter` for this task today.\n",
        "\n",
        "While splitting our text seems like a simple enough task - getting this correct/incorrect can have massive downstream impacts on your application's performance.\n",
        "\n",
        "You can read the docs here:\n",
        "- [RecursiveCharacterTextSplitter](https://python.langchain.com/docs/modules/data_connection/document_transformers/text_splitters/recursive_text_splitter)\n",
        "\n",
        "We want to split our documents into 1000 character length chunks, with 100 characters of overlap.\n",
        "\n",
        "> ### HINT:\n",
        ">It's always worth it to check out the LangChain source code if you're ever in a bind - for instance, if you want to know how to transform a set of documents, check it out [here](https://github.com/langchain-ai/langchain/blob/5e9687a196410e9f41ebcd11eb3f2ca13925545b/libs/langchain/langchain/text_splitter.py#L268C18-L268C18)"
      ]
    },
    {
      "cell_type": "code",
      "execution_count": 50,
      "metadata": {
        "id": "uEgcUVtl00Xm"
      },
      "outputs": [],
      "source": [
        "from langchain.text_splitter import RecursiveCharacterTextSplitter\n",
        "\n",
        "text_splitter = RecursiveCharacterTextSplitter(\n",
        "    chunk_size = 1000, # the character length of the chunk\n",
        "    chunk_overlap = 100, # the character length of the overlap between chunks\n",
        "    length_function = len # the length function\n",
        ")"
      ]
    },
    {
      "cell_type": "code",
      "execution_count": 26,
      "metadata": {
        "id": "y9RJUiUD2gS5"
      },
      "outputs": [],
      "source": [
        "documents = text_splitter.transform_documents(data)### YOUR CODE HERE"
      ]
    },
    {
      "cell_type": "code",
      "execution_count": 37,
      "metadata": {
        "id": "w-oWu5XT3IG4"
      },
      "outputs": [],
      "source": [
        "#print(documents)"
      ]
    },
    {
      "cell_type": "code",
      "execution_count": 28,
      "metadata": {
        "colab": {
          "base_uri": "https://localhost:8080/"
        },
        "id": "6N4OXAhc3oIB",
        "outputId": "51e36049-38af-4b4d-e2c5-4b16a363f8e6"
      },
      "outputs": [
        {
          "ename": "AssertionError",
          "evalue": "",
          "output_type": "error",
          "traceback": [
            "\u001b[0;31m---------------------------------------------------------------------------\u001b[0m",
            "\u001b[0;31mAssertionError\u001b[0m                            Traceback (most recent call last)",
            "Cell \u001b[0;32mIn[28], line 1\u001b[0m\n\u001b[0;32m----> 1\u001b[0m \u001b[38;5;28;01massert\u001b[39;00m \u001b[38;5;28mlen\u001b[39m(documents) \u001b[38;5;241m==\u001b[39m \u001b[38;5;241m181\u001b[39m\n",
            "\u001b[0;31mAssertionError\u001b[0m: "
          ]
        }
      ],
      "source": [
        "assert len(documents) == 181"
      ]
    },
    {
      "cell_type": "markdown",
      "metadata": {
        "id": "ylT4jwmx3zCb"
      },
      "source": [
        "With our documents transformed into more manageable sizes, and with the correct metadata set-up, we're now ready to move on to creating our VectorStore!"
      ]
    },
    {
      "cell_type": "markdown",
      "metadata": {
        "id": "9cB0L_CN38W5"
      },
      "source": [
        "### Task 2: Creating an \"Index\"\n",
        "\n",
        "The term \"index\" is used largely to mean: Structured documents parsed into a useful format for querying, retrieving, and use in the LLM application stack."
      ]
    },
    {
      "cell_type": "markdown",
      "metadata": {
        "id": "GycdG53N4f9Z"
      },
      "source": [
        "#### Selecting Our VectorStore\n",
        "\n",
        "There are a number of different VectorStores, and a number of different strengths and weaknesses to each.\n",
        "\n",
        "In this notebook, we will be keeping it very simple by leveraging [Facebook AI Similarity Search](https://ai.meta.com/tools/faiss/#:~:text=FAISS%20(Facebook%20AI%20Similarity%20Search,more%20scalable%20similarity%20search%20functions.), or `FAISS`."
      ]
    },
    {
      "cell_type": "code",
      "execution_count": 29,
      "metadata": {
        "colab": {
          "base_uri": "https://localhost:8080/"
        },
        "id": "T5o4vwSn4hfe",
        "outputId": "62bf250d-1c4f-49c3-b154-71e52d530ddf"
      },
      "outputs": [],
      "source": [
        "!pip install -q -U faiss-cpu tiktoken"
      ]
    },
    {
      "cell_type": "markdown",
      "metadata": {
        "id": "CGU96p5R54Xz"
      },
      "source": [
        "We're going to be setting up our VectorStore with the OpenAI embeddings model. While this embeddings model does not need to be consistent with the LLM selection, it does need to be consistent between embedding our index and embedding our queries over that index.\n",
        "\n",
        "While we don't have to worry too much about that in this example - it's something to keep in mind for more complex applications.\n",
        "\n",
        "We're going to leverage a [`CacheBackedEmbeddings`](https://python.langchain.com/docs/modules/data_connection/caching_embeddings )flow to prevent us from re-embedding similar queries over and over again.\n",
        "\n",
        "Not only will this save time, it will also save us precious embedding tokens, which will reduce the overall cost for our application.\n",
        "\n",
        ">#### Note:\n",
        ">The overall cost savings needs to be compared against the additional cost of storing the cached embeddings for a true cost/benefit analysis. If your users are submitting the same queries often, though, this pattern can be a massive reduction in cost."
      ]
    },
    {
      "cell_type": "code",
      "execution_count": null,
      "metadata": {},
      "outputs": [],
      "source": []
    },
    {
      "cell_type": "markdown",
      "metadata": {},
      "source": []
    },
    {
      "cell_type": "code",
      "execution_count": 51,
      "metadata": {},
      "outputs": [
        {
          "name": "stderr",
          "output_type": "stream",
          "text": [
            "Retrying langchain.embeddings.openai.embed_with_retry.<locals>._embed_with_retry in 4.0 seconds as it raised RateLimitError: You exceeded your current quota, please check your plan and billing details..\n"
          ]
        }
      ],
      "source": [
        "from langchain.embeddings.openai import OpenAIEmbeddings\n",
        "from langchain.embeddings import CacheBackedEmbeddings\n",
        "from langchain.vectorstores import FAISS\n",
        "from langchain.storage import LocalFileStore\n",
        "\n",
        "store = LocalFileStore(\"./cache/\") ### YOUR CODE HERE ??\n",
        "core_embeddings_model = OpenAIEmbeddings(openai_api_key=OPENAI_API_KEY) ### YOUR CODE HERE\n",
        "\n",
        "embedder = CacheBackedEmbeddings.from_bytes_store(\n",
        "core_embeddings_model, store, namespace=core_embeddings_model.model\n",
        ")\n",
        "\n",
        "vector_store =FAISS.from_documents(documents,embedder)### YOUR CODE HERE"
      ]
    },
    {
      "cell_type": "code",
      "execution_count": 52,
      "metadata": {},
      "outputs": [
        {
          "data": {
            "text/plain": [
              "['text-embedding-ada-002f5603ee0-e479-5d7f-8e90-6c8c138b6291',\n",
              " 'text-embedding-ada-002153556fb-dc15-5f1e-b70e-e2f2c40622b6',\n",
              " 'text-embedding-ada-002a4d71e0f-d166-5907-ad05-6a62f21e67f6',\n",
              " 'text-embedding-ada-002357297a9-b625-5f60-9556-c3f9b0c1941f',\n",
              " 'text-embedding-ada-002f3d81969-92be-51c6-a768-b9748c4dcfc6',\n",
              " 'text-embedding-ada-002df35a0ba-760e-59db-87ef-c39984028c19',\n",
              " 'text-embedding-ada-002d7e02b54-9403-59f4-b032-a2576ea37fa4',\n",
              " 'text-embedding-ada-002b279039b-208a-52b9-bfd5-c5a80c3e55ab',\n",
              " 'text-embedding-ada-002a3a27c64-e8c2-50ab-8eb4-58a9157e1584',\n",
              " 'text-embedding-ada-002ac68c522-5e8b-57ad-9b29-9f9d9d13591c',\n",
              " 'text-embedding-ada-00207a4bfb1-5185-5dc7-a88f-62639d85b721',\n",
              " 'text-embedding-ada-0020acd5952-16a1-5062-9dea-c1d87aeaf3e1',\n",
              " 'text-embedding-ada-0025387825d-9525-5a60-9f85-fa76afb6a8ca',\n",
              " 'text-embedding-ada-002282d3357-6ed4-5f85-90c7-ed4ab7da0319',\n",
              " 'text-embedding-ada-0022d544bcd-dbd6-57c1-a2f7-a5632c70bbfc',\n",
              " 'text-embedding-ada-00267f79849-b5e3-50c2-8f38-f85e20d441d0',\n",
              " 'text-embedding-ada-002934029f5-d496-5751-b287-c3a80c863cd7',\n",
              " 'text-embedding-ada-002e6572ddf-2b2c-513c-8725-8ed368fb0c09',\n",
              " 'text-embedding-ada-0023b6bdb6e-6d27-5ef8-acb3-2be9ac2f96b2',\n",
              " 'text-embedding-ada-002ef251ec9-070c-5dc1-ab01-095b97aaf4d7',\n",
              " 'text-embedding-ada-0022e1ec744-5ba0-5173-a6f0-c58983dd9c40',\n",
              " 'text-embedding-ada-002b291560b-1612-5ca3-9ada-baa9a4db0b66',\n",
              " 'text-embedding-ada-002817d367a-05c7-5757-9883-55e78fac798d',\n",
              " 'text-embedding-ada-0022a22610e-2193-5f1a-9856-95eab6d39a09',\n",
              " 'text-embedding-ada-0022fed7e2b-dc57-5f13-983c-11d740652fc9',\n",
              " 'text-embedding-ada-00289680a24-d660-50aa-827b-58c090c4635b',\n",
              " 'text-embedding-ada-002eee7c10e-5c35-59cb-8537-2eadc50e4bb3',\n",
              " 'text-embedding-ada-002aa4666a2-90f0-5533-8463-ff583805b33b',\n",
              " 'text-embedding-ada-002fb8758b6-9f83-5594-8f8d-127a541e08bf',\n",
              " 'text-embedding-ada-002e1578520-33d5-52b0-a20a-fcc48e15865d',\n",
              " 'text-embedding-ada-002f5aa41d4-6795-50b3-b6ec-5d115fa4d343',\n",
              " 'text-embedding-ada-002ae838e28-b5ed-5ce6-a315-1c834c6eaf47',\n",
              " 'text-embedding-ada-002f08e864a-ecf9-5f81-95f5-08e898777e5b',\n",
              " 'text-embedding-ada-002dbdd6b8b-b939-5964-80ed-aea71d5f78bd',\n",
              " 'text-embedding-ada-002360395fa-f745-5420-a04c-f9161679be82',\n",
              " 'text-embedding-ada-0020ab90fa7-7d58-59e5-9b73-c2c7c99aa4b5',\n",
              " 'text-embedding-ada-0022c7e6135-c6af-57f7-8bfe-ab7b31617384',\n",
              " 'text-embedding-ada-002981c2b60-5dcf-5bad-9062-d1129687e28e',\n",
              " 'text-embedding-ada-002ab8ecedd-8335-561b-a1b2-893533c33861',\n",
              " 'text-embedding-ada-0028621c8b5-3a72-5f2b-9c81-0a45828ca6b2',\n",
              " 'text-embedding-ada-00233769b39-985a-5a7c-9f00-5710658d9efd',\n",
              " 'text-embedding-ada-00205155d93-da05-5ae7-bbd0-49aa636de0a0',\n",
              " 'text-embedding-ada-002990c71f0-28c7-5df2-8949-db8d67d8741d',\n",
              " 'text-embedding-ada-002ef477ad7-2f64-5c3b-ade6-5cbbb701430f',\n",
              " 'text-embedding-ada-00286f58fc9-9677-5625-817b-4788f11bb0b9',\n",
              " 'text-embedding-ada-0026981e362-c0fb-5993-80d6-484c337a87f3',\n",
              " 'text-embedding-ada-002db9a8f8d-480a-52ac-8510-6d408bdbb377',\n",
              " 'text-embedding-ada-0021ab09fa4-8581-5540-9656-d74e0baa87e9',\n",
              " 'text-embedding-ada-002ee31937c-9431-57f2-b87b-439d3e66abe3',\n",
              " 'text-embedding-ada-002c4cf91a4-cee6-580f-82ca-dad13292d864',\n",
              " 'text-embedding-ada-002005fe3b3-11c6-5c45-bc70-6caa3003383b',\n",
              " 'text-embedding-ada-00238b190fc-6c9c-50cb-80c8-3548c08600fe',\n",
              " 'text-embedding-ada-00206f68201-2e16-566f-80f5-78bf11d88e2d',\n",
              " 'text-embedding-ada-002b0cf067d-a3b1-5070-8c5d-d6171f70beaf',\n",
              " 'text-embedding-ada-00204aa23d1-33a3-54df-aeb3-2d31797a1d5b',\n",
              " 'text-embedding-ada-00285e2beff-9ec6-5f1d-ba79-213de351464e',\n",
              " 'text-embedding-ada-00208cc7207-cc8f-5c9d-8c42-92f6406f4d8b',\n",
              " 'text-embedding-ada-00220d38017-6fdd-56b0-9a0a-d7eed5fbbcff',\n",
              " 'text-embedding-ada-0029164938a-8d66-575a-a2cc-8ac2c3053aa2',\n",
              " 'text-embedding-ada-00259e26379-921f-5470-94b9-d7131c5f4fe0',\n",
              " 'text-embedding-ada-00260ecedcc-7451-5c3e-a60d-65a2494f7703',\n",
              " 'text-embedding-ada-0027f24d388-e614-5c2e-9bb9-d95e8128303b',\n",
              " 'text-embedding-ada-0026ca69ac9-576c-5830-8ee2-9cd982f9344d',\n",
              " 'text-embedding-ada-0022411445d-cbf6-5f45-a124-aa5ca8722d1f',\n",
              " 'text-embedding-ada-002eaae9546-d167-5a92-a4fd-7ef13303931c',\n",
              " 'text-embedding-ada-0021b3d1396-6b55-5a64-bd73-d3dd8498b3b7',\n",
              " 'text-embedding-ada-002d8b92c2f-87d4-5c15-b256-97d1856b39b3',\n",
              " 'text-embedding-ada-0022b83e634-cf61-53ec-9378-36f9b26b6dee',\n",
              " 'text-embedding-ada-002bf03b773-6865-5374-a254-56ba4475e3b2',\n",
              " 'text-embedding-ada-002720c8be1-dd35-5882-83a0-27548cff4a2e',\n",
              " 'text-embedding-ada-0023be4203d-09b2-5b71-af5a-6da4aaf0c6d5',\n",
              " 'text-embedding-ada-00238c3368f-c737-542d-a8d2-9040b6ea11a4',\n",
              " 'text-embedding-ada-0023db11824-a374-522d-9c4b-16fa56861f44',\n",
              " 'text-embedding-ada-002f966839d-e1c6-53df-9c56-f0376a354cd6',\n",
              " 'text-embedding-ada-002d368ed23-6c42-5517-a525-eba7688439fa',\n",
              " 'text-embedding-ada-002c7216dae-add3-5074-971f-7b78e5b2236b',\n",
              " 'text-embedding-ada-0026392ebd7-dd4f-55a9-820b-d1ba44700615',\n",
              " 'text-embedding-ada-0028e6f4c43-d6a4-5df6-bead-51dc12903954',\n",
              " 'text-embedding-ada-002d245ff12-4361-5098-9c64-2cfcaf46dc25',\n",
              " 'text-embedding-ada-00237f6c6ce-1c34-5e05-8979-e7f50ebfa271',\n",
              " 'text-embedding-ada-002e8f638e1-3672-5f5b-a594-22f3c7a6d0cd',\n",
              " 'text-embedding-ada-002e13ced0b-3977-5b0d-be00-d06500c22d5d',\n",
              " 'text-embedding-ada-00231d0635c-bcf9-5cba-829c-1c9da846af75',\n",
              " 'text-embedding-ada-002971f37a8-8bc4-5c7f-af04-e69c87d8a448',\n",
              " 'text-embedding-ada-0029373ece7-57f1-56cc-a699-c5be5c4bcaa2',\n",
              " 'text-embedding-ada-0027c1a6f0a-c936-595f-b4bc-ff4b61b607d7',\n",
              " 'text-embedding-ada-002f0119186-3514-58d1-9dd1-8a7489c179b3',\n",
              " 'text-embedding-ada-002c8bd757d-aa5d-5fd4-86a0-46b67c7c41ca',\n",
              " 'text-embedding-ada-002344c5c49-5e6f-51df-9f2f-4e8b04810a72',\n",
              " 'text-embedding-ada-002655fb1d5-64b4-5329-8856-8dc2e8939ad7',\n",
              " 'text-embedding-ada-002b4501ad9-4acb-5c22-b0f2-17507ce9d3e3',\n",
              " 'text-embedding-ada-002efe21545-1516-5b4b-8bd9-5b5d8692ff58',\n",
              " 'text-embedding-ada-002cb9e8e84-894a-57f0-9965-546e58a7de18',\n",
              " 'text-embedding-ada-002beeaa1e2-beeb-5f3b-918d-87da862635ab',\n",
              " 'text-embedding-ada-00247f8db60-5279-5d0c-9c87-ffb5cb419ce2',\n",
              " 'text-embedding-ada-00209bc8804-afb9-5adb-861a-44b1d5a031c0',\n",
              " 'text-embedding-ada-00223113174-f49d-5a8c-b0d5-513ed19934e1']"
            ]
          },
          "execution_count": 52,
          "metadata": {},
          "output_type": "execute_result"
        }
      ],
      "source": [
        "list(store.yield_keys())"
      ]
    },
    {
      "cell_type": "markdown",
      "metadata": {
        "id": "IGHzcE5i6fOR"
      },
      "source": [
        "Now that we've created the VectorStore, we can check that it's working by embedding a query and retrieving passages from our reviews that are close to it."
      ]
    },
    {
      "cell_type": "code",
      "execution_count": 53,
      "metadata": {
        "id": "JLOvFNxA6ZSH"
      },
      "outputs": [
        {
          "name": "stdout",
          "output_type": "stream",
          "text": [
            ": 61\n",
            "Review_Date: 23 July 2023\n",
            "Author: agjbull\n",
            "Rating: 6\n",
            "Review_Title: Just a little empty\n",
            "Review: I really wanted to enjoy this and I know that I am not the target audience but there were massive plot holes and no real flow. The film was very disjointed. Ryan Gosling as good as he is seemed to old to play Ken and Will Ferrell ruined every scene he was in. I just didn't get it, it seemed hollow artificial and hackneyed. A waste of some great talent. It was predictable without being reassuring and trying so hard to be woke in the most superficial way in that but trying to tick so many boxes it actually ticked none. Margo Robbie looks beautiful throughout, the costumes and the sets were amazing but the story was way too weak and didn't make much sense at all.\n",
            "Review_Url: /review/rw9201978/?ref_=tt_urv\n",
            "I can imagine that in the boardroom they went through a discussion like this: People are going to think this is a feel good movie so we need to give them something deeper but also lets make it absurd and fast paced so that we can finish the plot quickly and also jump on the \"not taking itself serious\" bandwagon and also market these dolls again in the age of smartphone kids. The only reason this movie gets at 5 from me is the humor, which sometimes becomes very meta and creative and Margot Robbie and Ryan Gosling have acted very well. Besides this, they could have just given us a simple feel good movie and I would have respected the creators more. Pass.\n",
            "Review_Url: /review/rw9201978/?ref_=tt_urv\n",
            "While i'm not so sure at first, the movie kept getting even more fun, entertaining, and definitely better, also surprisingly deal with a legit serious stuff, Barbie is a weirdly fun movie that fills with this very interesting concept, definitely the first time that's ever done, Greta Gerwig has created this whole new style of filmmaking specifically for Barbie, from the intentionally weird yet creative editing, some awkward and cringe scene, i found the comedy so funny instead of cringe, Barbie is one of the most original movie of the year and also one of the most original movie i've seen in a while, we all know Margot Robbie and Ryan Gosling is gonna carry the movie and they are, but Will Ferrell, Simu Liu, and the whole rest of the cast were also great and entertaining, the soundtrack was just great, except Nicki Minaj and Ice Spice \"Barbie World\" song that are just absolutely terrible, but Billie Eilish \"What Was I Made For?\" tune that kept haunting in the background until it\n",
            "Review: The movie was very funny and really enjoyable to laugh at with the full theatre. However, the messages of the movie were the problem. I was never really sure what I was supposed to take away, there was nothing about finding equality or love it was all about how every man cat falls every woman or women can't be anything. It was really silly because there was no accurate reflection of America at any single point except for Barbie getting called a Fascist for no reason by a 14 year old. I enjoyed how they called out women for hating women and how they really tried to preach empowerment and the ability to be anything, but at the same time there was so much resentment and they ended the movie by reinstating hate. The majority of the movie was hating men as much as possible. That's just whatever because what really matters is the story. Well it fell short on that mark and it was really disappointing. The pacing was horrible, the villain won and was pretty irrelevant in the long run,\n"
          ]
        }
      ],
      "source": [
        "query = \"How is Will Ferrell in this movie?\"\n",
        "embedding_vector = core_embeddings_model.embed_query(query)\n",
        "docs = vector_store.similarity_search_by_vector(embedding_vector, k = 4)\n",
        "\n",
        "for page in docs:\n",
        "  print(page.page_content)"
      ]
    },
    {
      "cell_type": "markdown",
      "metadata": {
        "id": "ix4fyOUS-fU-"
      },
      "source": [
        "Let's see how much time the `CacheBackedEmbeddings` pattern saves us:"
      ]
    },
    {
      "cell_type": "code",
      "execution_count": 54,
      "metadata": {
        "colab": {
          "base_uri": "https://localhost:8080/"
        },
        "id": "eLXFKzu--m81",
        "outputId": "042181f7-7b21-4e47-dd5f-451b217c1aba"
      },
      "outputs": [
        {
          "name": "stdout",
          "output_type": "stream",
          "text": [
            "321 ms ± 0 ns per loop (mean ± std. dev. of 1 run, 1 loop each)\n"
          ]
        }
      ],
      "source": [
        "%%timeit -n 1 -r 1\n",
        "query = \"I really wanted to enjoy this and I know that I am not the target audience but there were massive plot holes and no real flow.\"\n",
        "embedding_vector = core_embeddings_model.embed_query(query)\n",
        "docs = vector_store.similarity_search_by_vector(embedding_vector, k = 4)"
      ]
    },
    {
      "cell_type": "code",
      "execution_count": 57,
      "metadata": {
        "colab": {
          "base_uri": "https://localhost:8080/"
        },
        "id": "pCwtsJbc_KPd",
        "outputId": "92acfeb8-26e8-4dd8-d247-29fea2ca5187"
      },
      "outputs": [],
      "source": [
        "#%%timeit\n",
        "query = \"I really wanted to enjoy this and I know that I am not the target audience but there were massive plot holes and no real flow.\"\n",
        "embedding_vector = core_embeddings_model.embed_query(query)\n",
        "docs = vector_store.similarity_search_by_vector(embedding_vector, k = 4)"
      ]
    },
    {
      "cell_type": "code",
      "execution_count": 58,
      "metadata": {},
      "outputs": [
        {
          "name": "stdout",
          "output_type": "stream",
          "text": [
            "disappointing. The pacing was horrible, the villain won and was pretty irrelevant in the long run, the story was all over the place, and it is totally not for kids. I think the worst part is how disappointed I was at the opportunity to really make something special and it just wasn't. 6 points for all the laughs and fun I had and I would expect 6-7 to be an appropriate rating.\n",
            "events that made the world think that this movie is going to be all about fun and adventure. Sadly, it was not nearly as enjoyable as the misleading marketing made it seem.\n",
            ": 61\n",
            "Review_Date: 23 July 2023\n",
            "Author: agjbull\n",
            "Rating: 6\n",
            "Review_Title: Just a little empty\n",
            "Review: I really wanted to enjoy this and I know that I am not the target audience but there were massive plot holes and no real flow. The film was very disjointed. Ryan Gosling as good as he is seemed to old to play Ken and Will Ferrell ruined every scene he was in. I just didn't get it, it seemed hollow artificial and hackneyed. A waste of some great talent. It was predictable without being reassuring and trying so hard to be woke in the most superficial way in that but trying to tick so many boxes it actually ticked none. Margo Robbie looks beautiful throughout, the costumes and the sets were amazing but the story was way too weak and didn't make much sense at all.\n",
            "Review_Url: /review/rw9201978/?ref_=tt_urv\n",
            ": 43\n",
            "Review_Date: 24 July 2023\n",
            "Author: brianjohnson-20043\n",
            "Rating: 4\n",
            "Review_Title: This movie tries to be too much\n",
            "Review: I wanted to like it. But I just didn't. The story wasn't very compelling to me because it seemed as if the entire point of much of the movie was to provide learning moments for viewers with some slapstick comedy and quick-delivery comedy. The story itself should nearly always be more important.\n",
            "Review_Url: /review/rw9201978/?ref_=tt_urv\n"
          ]
        }
      ],
      "source": [
        "for page in docs:\n",
        "  print(page.page_content)"
      ]
    },
    {
      "cell_type": "markdown",
      "metadata": {
        "id": "b4utL1EfARTm"
      },
      "source": [
        "As we can see, even over a significant number of runs - the cached query is significantly faster than the first instance of the query!\n",
        "\n",
        "With that, we're ready to move onto Task 3!"
      ]
    },
    {
      "cell_type": "markdown",
      "metadata": {
        "id": "Po3kHNHGBp0j"
      },
      "source": [
        "### Task 3: Building a Retrieval Chain\n",
        "\n",
        "In this task, we'll be making a Retrieval Chain which will allow us to ask semantic questions over our data.\n",
        "\n",
        "This part is rather abstracted away from us in LangChain and so it seems very powerful.\n",
        "\n",
        "Be sure to check the documentation, the source code, and other provided resources to build a deeper understanding of what's happening \"under the hood\"!"
      ]
    },
    {
      "cell_type": "markdown",
      "metadata": {
        "id": "i5Ux9XdzCDi9"
      },
      "source": [
        "#### A Basic RetrievalQA Chain\n",
        "\n",
        "We're going to leverage `return_source_documents=True` to ensure we have proper sources for our reviews - should the end user want to verify the reviews themselves.\n",
        "\n",
        "Hallucinations [are](https://arxiv.org/abs/2202.03629) [a](https://arxiv.org/abs/2305.15852) [massive](https://arxiv.org/abs/2303.16104) [problem](https://arxiv.org/abs/2305.18248) in LLM applications.\n",
        "\n",
        "Though it has been tenuously shown that using Retrieval Augmentation [reduces hallucination in conversations](https://arxiv.org/pdf/2104.07567.pdf), one sure fire way to ensure your model is not hallucinating in a non-transparent way is to provide sources with your responses. This way the end-user can verify the output."
      ]
    },
    {
      "cell_type": "markdown",
      "metadata": {
        "id": "O_waVo3AEk71"
      },
      "source": [
        "#### Our LLM\n",
        "\n",
        "In this notebook, we'll continue to leverage OpenAI's suite of models - this time we'll be using the `gpt-3.5-turbo` model to power our RetrievalQAWithSources chain.\n",
        "\n",
        "Check out the relevant documentation if you get stuck:\n",
        "- [`OpenAIChat()`](https://python.langchain.com/docs/modules/model_io/models/chat/)"
      ]
    },
    {
      "cell_type": "code",
      "execution_count": null,
      "metadata": {
        "id": "QfglvbBtExPR"
      },
      "outputs": [],
      "source": [
        "from langchain.llms.openai import OpenAIChat\n",
        "\n",
        "# llm = ### YOUR CODE HERE"
      ]
    },
    {
      "cell_type": "code",
      "execution_count": null,
      "metadata": {},
      "outputs": [],
      "source": []
    },
    {
      "cell_type": "code",
      "execution_count": 62,
      "metadata": {},
      "outputs": [],
      "source": [
        "from langchain.chat_models import ChatOpenAI\n",
        "llm = ChatOpenAI(model_name=\"gpt-3.5-turbo\"),\n",
        "#chat = ChatOpenAI(model_name=\"gpt-3.5-turbo\")"
      ]
    },
    {
      "cell_type": "markdown",
      "metadata": {
        "id": "w35ZkVEoE8II"
      },
      "source": [
        "Now we can set up our chain.\n",
        "\n",
        "We'll need to make our VectorStore a retriever in order to be able to leverage it in our chain - let's check out the `as_retriever()` method.\n",
        "\n",
        "Relevant Documentation:\n",
        "- [`FAISS`](https://api.python.langchain.com/en/latest/vectorstores/langchain.vectorstores.faiss.FAISS.html#langchain.vectorstores.faiss.FAISS.as_retriever)"
      ]
    },
    {
      "cell_type": "code",
      "execution_count": 76,
      "metadata": {
        "id": "T8TWJMH8F_w7"
      },
      "outputs": [],
      "source": [
        "retriever = vector_store.as_retriever(\n",
        "    search_type=\"mmr\",\n",
        "    search_kwargs={'k': 3, 'fetch_k': 50}\n",
        ")\n",
        "\n",
        "# retriever = vector_store.as_retriever(\n",
        "#     search_type=\"mmr\",\n",
        "#     search_kwargs={'k': 6, 'lambda_mult': 0.25}\n",
        "# )"
      ]
    },
    {
      "cell_type": "code",
      "execution_count": 77,
      "metadata": {
        "id": "QeD8R6huFIf6"
      },
      "outputs": [],
      "source": [
        "#https://python.langchain.com/docs/use_cases/question_answering/how_to/vector_db_qa\n",
        "from langchain.chains import RetrievalQA\n",
        "from langchain.callbacks import StdOutCallbackHandler\n",
        "\n",
        "handler = StdOutCallbackHandler()\n",
        "\n",
        "qa_with_sources_chain = RetrievalQA.from_chain_type(\n",
        "    #chat = ChatOpenAI(model_name=\"gpt-3.5-turbo\", temperature=0, streaming=True),\n",
        "    llm= ChatOpenAI(model_name=\"gpt-3.5-turbo\", temperature=0, streaming=True),### YOUR CODE HERE,\n",
        "    retriever=retriever,### YOUR CODE HERE,\n",
        "    callbacks=[handler],\n",
        "    return_source_documents=True\n",
        ")"
      ]
    },
    {
      "cell_type": "code",
      "execution_count": 82,
      "metadata": {
        "colab": {
          "base_uri": "https://localhost:8080/"
        },
        "id": "oqPaII9nF72R",
        "outputId": "0b46128f-edbe-4010-afdc-36603f25c4c6"
      },
      "outputs": [
        {
          "name": "stdout",
          "output_type": "stream",
          "text": [
            "\n",
            "\n",
            "\u001b[1m> Entering new RetrievalQA chain...\u001b[0m\n",
            "\n",
            "\u001b[1m> Finished chain.\u001b[0m\n"
          ]
        },
        {
          "data": {
            "text/plain": [
              "{'query': 'Should I take my boy friend to see this movie?',\n",
              " 'result': 'Based on the given context, the review does not mention anything about whether this movie is suitable for couples or whether it would be enjoyable for a boyfriend. Therefore, it is uncertain whether you should take your boyfriend to see this movie.',\n",
              " 'source_documents': [Document(page_content=\": 5\\nReview_Date: 21 July 2023\\nAuthor: G-Joshua-Benjamin\\nRating: 6\\nReview_Title: My mom and I saw this yesterday. Here are my thoughts.\\nReview: I don't know if I put spoilers in here. I am super worn out. Haha So I will just put that I did.\\nReview_Url: /review/rw9201978/?ref_=tt_urv\", metadata={'source': '/review/rw9201978/?ref_=tt_urv', 'row': 5}),\n",
              "  Document(page_content=\"there specifically for Margot then I am pretty sure there will be multiple movies at your local cinema at the time you're reading this, which are way more worth watching than this one...\", metadata={'source': '/review/rw9201978/?ref_=tt_urv', 'row': 63}),\n",
              "  Document(page_content='is probably the best movie based off a toy (sorry LEGO Movies) and an overall fantastic time at the movies.', metadata={'source': '/review/rw9201978/?ref_=tt_urv', 'row': 18})]}"
            ]
          },
          "execution_count": 82,
          "metadata": {},
          "output_type": "execute_result"
        }
      ],
      "source": [
        "qa_with_sources_chain({\"query\" : \"Should I take my boy friend to see this movie?\"})"
      ]
    },
    {
      "cell_type": "code",
      "execution_count": 83,
      "metadata": {
        "colab": {
          "base_uri": "https://localhost:8080/"
        },
        "id": "47Ov7N22MxOS",
        "outputId": "aeb6271b-4161-4921-e07c-b5f9041e9c4d"
      },
      "outputs": [
        {
          "name": "stdout",
          "output_type": "stream",
          "text": [
            "\n",
            "\n",
            "\u001b[1m> Entering new RetrievalQA chain...\u001b[0m\n",
            "\n",
            "\u001b[1m> Finished chain.\u001b[0m\n"
          ]
        },
        {
          "data": {
            "text/plain": [
              "{'query': 'how is the music in this movie?',\n",
              " 'result': 'The music in this movie is described as enjoyable, with musical numbers and a beautiful and emotional song by Billie Eilish called \"What Was I Made For?\" However, without more specific information, it is difficult to provide a comprehensive evaluation of the music in the film.',\n",
              " 'source_documents': [Document(page_content=': 6\\nReview_Date: 21 July 2023\\nAuthor: Sleepin_Dragon\\nRating: 8\\nReview_Title: Well this really did come as a surprise.\\nReview: It pains me to say it, but I enjoyed this movie so much more then I was expecting to, musical numbers, humour, there truly is something for the whole family yo enjoy.\\nReview_Url: /review/rw9201978/?ref_=tt_urv', metadata={'source': '/review/rw9201978/?ref_=tt_urv', 'row': 6}),\n",
              "  Document(page_content='but Billie Eilish \"What Was I Made For?\" tune that kept haunting in the background until it finally get the perfect scene to played it was really the best thing because that song was just beautiful and emotional, anyway, Barbie is a lot of fun, while there is still some noticeable flawed, most of them i found it funny, entertaining, colourful, creative, and fun, pure fun, it\\'s something that i probably will love it even more the second time i see it, but as of right now, Barbie was a good time, definitely recommended and with this movie somehow it\\'s actually possible to have a live-action Barbie movie, all you need to have is a good writer, good director, and good cast, and they delivers mostly.', metadata={'source': '/review/rw9201978/?ref_=tt_urv', 'row': 10}),\n",
              "  Document(page_content='events that made the world think that this movie is going to be all about fun and adventure. Sadly, it was not nearly as enjoyable as the misleading marketing made it seem.', metadata={'source': '/review/rw9201978/?ref_=tt_urv', 'row': 40})]}"
            ]
          },
          "execution_count": 83,
          "metadata": {},
          "output_type": "execute_result"
        }
      ],
      "source": [
        "qa_with_sources_chain({\"query\" : \"how is the music in this movie?\"})"
      ]
    },
    {
      "cell_type": "markdown",
      "metadata": {
        "id": "QQVCkoy3H5Rw"
      },
      "source": [
        "And with that, we have our Barbie Review RAQA Application built!"
      ]
    },
    {
      "cell_type": "markdown",
      "metadata": {
        "id": "KqIHum95dtns"
      },
      "source": [
        "### Conclusion\n",
        "\n",
        "Now that we have our application ready, let's deploy it to a Hugging Face space with their Docker spaces.\n",
        "\n",
        "You can find the next part [here](https://ai-maker-space-barbie-raqa-application-chainlit-demo.hf.space/readme)!\n",
        "\n",
        "You've built, now it's time to ship! 🚢"
      ]
    },
    {
      "cell_type": "code",
      "execution_count": null,
      "metadata": {
        "id": "IASA1yaad6ml"
      },
      "outputs": [],
      "source": []
    }
  ],
  "metadata": {
    "colab": {
      "include_colab_link": true,
      "provenance": []
    },
    "kernelspec": {
      "display_name": "Python 3.11.4 ('raqa_llm')",
      "language": "python",
      "name": "python3"
    },
    "language_info": {
      "codemirror_mode": {
        "name": "ipython",
        "version": 3
      },
      "file_extension": ".py",
      "mimetype": "text/x-python",
      "name": "python",
      "nbconvert_exporter": "python",
      "pygments_lexer": "ipython3",
      "version": "3.11.4"
    },
    "vscode": {
      "interpreter": {
        "hash": "be5acfcc025169f2a5d2f1f42c6f0bfaa3f26bc4a79ece99f8de0b1efed5ee59"
      }
    }
  },
  "nbformat": 4,
  "nbformat_minor": 0
}
