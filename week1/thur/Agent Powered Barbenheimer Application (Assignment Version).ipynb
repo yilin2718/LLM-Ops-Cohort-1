{
 "cells": [
  {
   "cell_type": "markdown",
   "metadata": {},
   "source": [
    "# Questioning Barbie and Oppenheimer Through the Use of Agents\n",
    "\n",
    "In the following notebook we will build an application that queries both the Barbie and Oppenheimer movies Wikipedia pages, as well as their reviews. \n",
    "\n",
    "The main focus of this notebook is to showcase a brief introduction to Agents.\n",
    "\n",
    "## Build 🏗️\n",
    "\n",
    "There are 3 main tasks in this notebook:\n",
    "\n",
    "1. Contruct a Barbie retriever\n",
    "2. Construct an Oppenheimer retriever\n",
    "3. Combine the two and allow users to query both resources from a single input through the use of Agents\n",
    "\n",
    "## Ship 🚢\n",
    "\n",
    "Based on Tuesday's session - construct a Chainlit (or Gradio) application that allows users to interface with the application.\n",
    "\n",
    "## Share 🚀\n",
    "\n",
    "Make a social media post about your final application."
   ]
  },
  {
   "cell_type": "markdown",
   "metadata": {},
   "source": [
    "### Dependencies\n",
    "\n",
    "As always, let's start with some dependencies!"
   ]
  },
  {
   "cell_type": "code",
   "execution_count": 1,
   "metadata": {},
   "outputs": [],
   "source": [
    "!pip install -q -U langchain openai"
   ]
  },
  {
   "cell_type": "code",
   "execution_count": 24,
   "metadata": {},
   "outputs": [],
   "source": [
    "import getpass\n",
    "import os\n",
    "openai_api_key = getpass.getpass(\"Enter your OpenAI API Key: \")\n",
    "os.environ[\"OPENAI_API_KEY\"] = openai_api_key"
   ]
  },
  {
   "cell_type": "markdown",
   "metadata": {},
   "source": [
    "### LLM \n",
    "\n",
    "We will be leveraging OpenAI's `gpt-3.5-turbo` throughout the notebook, and we can keep it consistent throughout!"
   ]
  },
  {
   "cell_type": "code",
   "execution_count": 34,
   "metadata": {},
   "outputs": [],
   "source": [
    "from langchain.chat_models import ChatOpenAI\n",
    "llm = ChatOpenAI(model=\"gpt-3.5-turbo\", temperature = 0)"
   ]
  },
  {
   "cell_type": "markdown",
   "metadata": {},
   "source": [
    "### Data Collection and Transformation\n",
    "\n",
    "We'll be leveraging the `WikipediaLoader` tool to collect information from Wikipedia. \n",
    "\n",
    "Be sure to set the `doc_content_chars_max` parameter so that you capture the *entire* Wikipedia article content."
   ]
  },
  {
   "cell_type": "code",
   "execution_count": 5,
   "metadata": {},
   "outputs": [],
   "source": [
    "!pip install -q -U wikipedia"
   ]
  },
  {
   "cell_type": "code",
   "execution_count": 12,
   "metadata": {},
   "outputs": [],
   "source": [
    "from langchain.document_loaders import WikipediaLoader, CSVLoader\n",
    "\n",
    "barbie_wikipedia_docs = WikipediaLoader(\n",
    "    query=\"Barbie (film)\", \n",
    "    load_max_docs=1, # YOUR CODE HERE, \n",
    "    doc_content_chars_max=1_000_000### YOUR CODE HERE\n",
    "    ).load()\n",
    "\n",
    "barbie_csv_docs = CSVLoader(\n",
    "    file_path='./barbie_data/barbie.csv',### YOUR CODE HERE, \n",
    "    source_column='Review_Url'### YOUR CODE HERE\n",
    "    ).load()"
   ]
  },
  {
   "cell_type": "markdown",
   "metadata": {},
   "source": [
    "Since we'll be using same format source documentation separated by topic, we can save ourselves some extra effort and set up our splitters once. \n",
    "\n",
    "We're going to leverage the `RecursiveCharacterTextSplitter` again, this time paying close attention to the format our Wikipedia articles and reviews are in so we can be sure to chunk them appropritately. \n",
    "\n",
    "> HINT: You can pass a list of separators when you intialize your `RecursiveTextSplitter`! They are acted on in order of element 0 -> element len(list).\n",
    "\n",
    "RELEVANT DOCS:\n",
    "- [`RecursiveCharacterTextSplitter`](https://api.python.langchain.com/en/latest/text_splitter/langchain.text_splitter.RecursiveCharacterTextSplitter.html#langchain.text_splitter.RecursiveCharacterTextSplitter)"
   ]
  },
  {
   "cell_type": "code",
   "execution_count": 26,
   "metadata": {},
   "outputs": [],
   "source": [
    "from langchain.text_splitter import RecursiveCharacterTextSplitter\n",
    "\n",
    "wikipedia_text_splitter = RecursiveCharacterTextSplitter(\n",
    "    chunk_size =500, ### YOUR CODE HERE,\n",
    "    chunk_overlap =0, ### YOUR CODE HERE,\n",
    "    length_function =len, ### YOUR CODE HERE,\n",
    "    is_separator_regex= False,\n",
    "    separators =[\"\\n==\",\"\\n\",\" \"], ### YOUR CODE HERE # keep headings, then paragraphs, then sentences\n",
    ")\n",
    "\n",
    "csv_text_splitter = RecursiveCharacterTextSplitter(\n",
    "    chunk_size =1000, ### YOUR CODE HERE,\n",
    "    chunk_overlap =50, ### YOUR CODE HERE,\n",
    "    length_function =len, ### YOUR CODE HERE,\n",
    "    is_separator_regex= False,\n",
    "    separators =[\"\\n\", \" \"] ### YOUR CODE HERE # keep paragraphs, then sentences\n",
    ")\n",
    "\n",
    "chunked_barbie_wikipedia_docs =wikipedia_text_splitter.transform_documents(barbie_wikipedia_docs) ### YOUR CODE HERE\n",
    "chunked_barbie_csv_docs =csv_text_splitter.transform_documents(barbie_csv_docs) ### YOUR CODE HERE"
   ]
  },
  {
   "cell_type": "markdown",
   "metadata": {},
   "source": [
    "#### Retrieval and Embedding Strategy\n",
    "\n",
    "We've already discussed the useful application of `CacheBackedEmbeddings`, so let's do it again!\n",
    "\n",
    "RELEVANT DOCS:\n",
    "- [`CacheBackedEmbeddings`](https://api.python.langchain.com/en/latest/embeddings/langchain.embeddings.cache.CacheBackedEmbeddings.html#langchain-embeddings-cache-cachebackedembeddings)"
   ]
  },
  {
   "cell_type": "code",
   "execution_count": 14,
   "metadata": {},
   "outputs": [],
   "source": [
    "!pip install -q -U rank_bm25 tiktoken faiss-cpu"
   ]
  },
  {
   "cell_type": "code",
   "execution_count": 27,
   "metadata": {},
   "outputs": [],
   "source": [
    "from langchain.retrievers import BM25Retriever, EnsembleRetriever\n",
    "from langchain.vectorstores import FAISS\n",
    "from langchain.embeddings.openai import OpenAIEmbeddings\n",
    "from langchain.embeddings import CacheBackedEmbeddings\n",
    "from langchain.storage import LocalFileStore\n",
    "\n",
    "# set up cached embeddings store\n",
    "store =LocalFileStore(\"./shared_cache/\")### YOUR CODE HERE\n",
    "\n",
    "core_embeddings_model =OpenAIEmbeddings()#### YOUR CODE HERE\n",
    "\n",
    "#core_embeddings_model = OpenAIEmbeddings(openai_api_key=openai_api_key) ### YOUR CODE HERE\n",
    "\n",
    "embedder = CacheBackedEmbeddings.from_bytes_store(\n",
    "core_embeddings_model, store, namespace=core_embeddings_model.model\n",
    ")"
   ]
  },
  {
   "cell_type": "markdown",
   "metadata": {},
   "source": [
    "We'll implement a `FAISS` vectorstore, and create a retriever from it."
   ]
  },
  {
   "cell_type": "code",
   "execution_count": 28,
   "metadata": {},
   "outputs": [],
   "source": [
    "barbie_csv_faiss_retriever =FAISS.from_documents(chunked_barbie_csv_docs,embedder).as_retriever() ### YOUR CODE HERE\n"
   ]
  },
  {
   "cell_type": "markdown",
   "metadata": {},
   "source": [
    "There are a number of excellent options to retrieve documents - we'll be looking at an additional example today, which is called the `EnsembleRetriever`.\n",
    "\n",
    "The method this is using is outlined in [this paper](https://plg.uwaterloo.ca/~gvcormac/cormacksigir09-rrf.pdf).\n",
    "\n",
    "The brief explanation is:\n",
    "\n",
    "1. We collect results from two different retrieval methods over the same corpus\n",
    "2. We apply a reranking algorithm to rerank our source documents to be the *most relevant* without losing specific or potentially low-ranked information rich documents\n",
    "3. We feed the top-k results into the LLM with our query as context.\n",
    "\n",
    "> HINT: Your weight list should be of type `List[float]` and the `sum(List[float])` should be `1`."
   ]
  },
  {
   "cell_type": "code",
   "execution_count": 35,
   "metadata": {},
   "outputs": [],
   "source": [
    "# set up BM25 retriever / bag of words\n",
    "barbie_wikipedia_bm25_retriever = BM25Retriever.from_documents(\n",
    "    chunked_barbie_wikipedia_docs\n",
    "    ### YOUR CODE HERE\n",
    ")\n",
    "barbie_wikipedia_bm25_retriever.k = 1 # return 1 document\n",
    "\n",
    "# set up FAISS vector store\n",
    "barbie_wikipedia_faiss_store = FAISS.from_documents(\n",
    "    chunked_barbie_wikipedia_docs,\n",
    "    embedder\n",
    ")\n",
    "barbie_wikipedia_faiss_retriever = barbie_wikipedia_faiss_store.as_retriever(search_kwargs={\"k\": 1})\n",
    "\n",
    "# set up ensemble retriever\n",
    "barbie_ensemble_retriever = EnsembleRetriever(\n",
    "    retrievers=[barbie_wikipedia_bm25_retriever, barbie_wikipedia_faiss_retriever],\n",
    "    weights= [0.25,0.75]### YOUR CODE HERE # should sum to 1\n",
    ")"
   ]
  },
  {
   "cell_type": "markdown",
   "metadata": {},
   "source": [
    "#### Retrieval Agent\n",
    "\n",
    "We can create a simple conversational retrieval Agent by using the built-ins provided by LangChain!\n",
    "\n",
    "> HINT: Be sure to provide good natural language descriptions of what the tool should be used for to get the best results.\n",
    "\n",
    "RELEVANT DOCS:\n",
    "- [`create_retriever_tool`](https://api.python.langchain.com/en/latest/agents/langchain.agents.agent_toolkits.conversational_retrieval.tool.create_retriever_tool.html#langchain.agents.agent_toolkits.conversational_retrieval.tool.create_retriever_tool)"
   ]
  },
  {
   "cell_type": "code",
   "execution_count": 39,
   "metadata": {},
   "outputs": [],
   "source": [
    "from langchain.agents.agent_toolkits import create_retriever_tool\n",
    "\n",
    "barbie_wikipedia_retrieval_tool = create_retriever_tool(\n",
    "    barbie_ensemble_retriever,\n",
    "    \"wikipedia\",\n",
    "    \"searches and returns documents regarding the plot, history, and cast of the barbie movie\"\n",
    ")\n",
    "\n",
    "barbie_csv_retrieval_tool = create_retriever_tool(\n",
    "    barbie_csv_faiss_retriever,\n",
    "    \"PublicReviews\",\n",
    "    \"Searches and returns documents regarding public regiews of the Barbie movie\"\n",
    ")\n",
    "\n",
    "barbie_retriever_tools = [barbie_wikipedia_retrieval_tool, barbie_csv_retrieval_tool]"
   ]
  },
  {
   "cell_type": "markdown",
   "metadata": {},
   "source": [
    "Now that we've created our tools, we can combined them into an agent!\n",
    "\n",
    "RELEVANT DOCS:\n",
    "- [`create_conversational_retrieval_agent`](https://api.python.langchain.com/en/latest/agents/langchain.agents.agent_toolkits.conversational_retrieval.openai_functions.create_conversational_retrieval_agent.html#langchain.agents.agent_toolkits.conversational_retrieval.openai_functions.create_conversational_retrieval_agent)"
   ]
  },
  {
   "cell_type": "code",
   "execution_count": 45,
   "metadata": {},
   "outputs": [],
   "source": [
    "from langchain.agents.agent_toolkits import create_conversational_retrieval_agent\n",
    "\n",
    "barbie_retriever_agent_executor = create_conversational_retrieval_agent(llm, barbie_retriever_tools, verbose=True)"
   ]
  },
  {
   "cell_type": "code",
   "execution_count": 46,
   "metadata": {},
   "outputs": [
    {
     "name": "stdout",
     "output_type": "stream",
     "text": [
      "\n",
      "\n",
      "\u001b[1m> Entering new AgentExecutor chain...\u001b[0m\n",
      "\u001b[32;1m\u001b[1;3m\n",
      "Invoking: `PublicReviews` with `Barbie movie`\n",
      "\n",
      "\n",
      "\u001b[0m\u001b[33;1m\u001b[1;3m[Document(page_content=\"Review: The big summer blockbuster of 2023 is a wonderful visual spectacle with a great deal of creative physical comedy, centered in and around the universe of Barbie, Mattel's historic toy doll. Unfortunately, the film tries to be and do much more than what the filmmakers ultimately are able to control and reel in. That a movie about Barbie would be guilty of Americanization is no surprise, and in many ways more than befitting, but the Americanization here isn't just about the history of the toy itself and all its cultural impacts - Barbie also views everything through the eyes of Hollywood anno 2023 - which arguably is a very particular and perhaps not that representative outlook. Instead of utilizing the fine foundation laid in the film's first third, director and co-writer Greta Gervig (Lady Bird, Little Women) gets herself lost in a trite, divisive and most likely futile battle of the sexes, which will leave youths - and perhaps particularly Europeans - feeling confused and\", metadata={'source': '/review/rw9199947/?ref_=tt_urv', 'row': 116}), Document(page_content=': 53\\nReview_Date: 29 July 2023\\nAuthor: planktonrules\\nRating: 6\\nReview_Title: Good...not great\\nReview: \"Barbie\" is a movie that is setting all sorts of records, so it\\'s obvious that the film is touching many people. For some, it\\'s the fun of seeing a doll come to life, for others it\\'s the theme of empowerment that make the movie a big hit. As for me, I did like it and thought it was a pretty good movie...but it\\'s not for everyone.\\nReview_Url: /review/rw9199947/?ref_=tt_urv', metadata={'source': '/review/rw9199947/?ref_=tt_urv', 'row': 53}), Document(page_content=\": 104\\nReview_Date: 22 July 2023\\nAuthor: No-Life-101\\nRating: 8\\nReview_Title: Barbie has an existential crisis\\nReview: Barbie is a really fun movie that all ages can enjoy because while it's colourful and entertaining the main storyline can get emotional at times. The comedy in the movie is pretty funny too and got a few laughs from everyone in the cinema, the music is really nice and so are the choreographed dances. What I liked the most about this movie is that it was very doll-like, the food and drink were plastic and fake, the cars didn't have engines and just glided along the floor, and the actors were doll-like in their movements and how they interacted with their environment.\\nReview_Url: /review/rw9199947/?ref_=tt_urv\", metadata={'source': '/review/rw9199947/?ref_=tt_urv', 'row': 104}), Document(page_content=': 97\\nReview_Date: 21 July 2023\\nAuthor: MrDHWong\\nRating: 9\\nReview_Title: A darkly satirical look at gender structure in society\\nReview: \"Barbie\" is a comedy film based on the line of fashion dolls by Mattel. Directed and co-written by Greta Gerwig (\"Lady Bird\", \"Little Women\") and starring Margot Robbie and Ryan Gosling, it takes every opportunity to revel in its amusing premise with a darkly satirical look at gender structure in society.\\nReview_Url: /review/rw9199947/?ref_=tt_urv', metadata={'source': '/review/rw9199947/?ref_=tt_urv', 'row': 97})]\u001b[0m\u001b[32;1m\u001b[1;3mBased on the public reviews of the Barbie movie, opinions are mixed. Some people enjoyed the movie and found it entertaining, while others had reservations or found it confusing. \n",
      "\n",
      "One review mentioned that the film tries to be more than just a movie about Barbie and explores themes of Americanization and Hollywood culture. The reviewer felt that this approach may not be representative or relatable to everyone, particularly Europeans. \n",
      "\n",
      "Another review mentioned that the movie has a fun and colorful atmosphere, with emotional moments and funny comedy. The reviewer appreciated the doll-like aesthetic of the movie, including the plastic food and drink, gliding cars, and doll-like movements of the actors.\n",
      "\n",
      "One review described the movie as a darkly satirical look at gender structure in society. It highlighted the comedic premise of the film and its exploration of gender roles.\n",
      "\n",
      "Overall, it seems that the Barbie movie may have philosophical elements in its exploration of cultural themes and gender structure. However, the extent to which people found it philosophical or enjoyable varied among viewers.\u001b[0m\n",
      "\n",
      "\u001b[1m> Finished chain.\u001b[0m\n"
     ]
    },
    {
     "data": {
      "text/plain": [
       "{'input': 'Did people like Barbie, or did they find it too Philosphical? If they did, can you tell me why the movie is so Philosophical?',\n",
       " 'chat_history': [HumanMessage(content='Did people like Barbie, or did they find it too Philosphical? If they did, can you tell me why the movie is so Philosophical?', additional_kwargs={}, example=False),\n",
       "  AIMessage(content='', additional_kwargs={'function_call': {'name': 'PublicReviews', 'arguments': '{\\n  \"__arg1\": \"Barbie movie\"\\n}'}}, example=False),\n",
       "  FunctionMessage(content='[Document(page_content=\"Review: The big summer blockbuster of 2023 is a wonderful visual spectacle with a great deal of creative physical comedy, centered in and around the universe of Barbie, Mattel\\'s historic toy doll. Unfortunately, the film tries to be and do much more than what the filmmakers ultimately are able to control and reel in. That a movie about Barbie would be guilty of Americanization is no surprise, and in many ways more than befitting, but the Americanization here isn\\'t just about the history of the toy itself and all its cultural impacts - Barbie also views everything through the eyes of Hollywood anno 2023 - which arguably is a very particular and perhaps not that representative outlook. Instead of utilizing the fine foundation laid in the film\\'s first third, director and co-writer Greta Gervig (Lady Bird, Little Women) gets herself lost in a trite, divisive and most likely futile battle of the sexes, which will leave youths - and perhaps particularly Europeans - feeling confused and\", metadata={\\'source\\': \\'/review/rw9199947/?ref_=tt_urv\\', \\'row\\': 116}), Document(page_content=\\': 53\\\\nReview_Date: 29 July 2023\\\\nAuthor: planktonrules\\\\nRating: 6\\\\nReview_Title: Good...not great\\\\nReview: \"Barbie\" is a movie that is setting all sorts of records, so it\\\\\\'s obvious that the film is touching many people. For some, it\\\\\\'s the fun of seeing a doll come to life, for others it\\\\\\'s the theme of empowerment that make the movie a big hit. As for me, I did like it and thought it was a pretty good movie...but it\\\\\\'s not for everyone.\\\\nReview_Url: /review/rw9199947/?ref_=tt_urv\\', metadata={\\'source\\': \\'/review/rw9199947/?ref_=tt_urv\\', \\'row\\': 53}), Document(page_content=\": 104\\\\nReview_Date: 22 July 2023\\\\nAuthor: No-Life-101\\\\nRating: 8\\\\nReview_Title: Barbie has an existential crisis\\\\nReview: Barbie is a really fun movie that all ages can enjoy because while it\\'s colourful and entertaining the main storyline can get emotional at times. The comedy in the movie is pretty funny too and got a few laughs from everyone in the cinema, the music is really nice and so are the choreographed dances. What I liked the most about this movie is that it was very doll-like, the food and drink were plastic and fake, the cars didn\\'t have engines and just glided along the floor, and the actors were doll-like in their movements and how they interacted with their environment.\\\\nReview_Url: /review/rw9199947/?ref_=tt_urv\", metadata={\\'source\\': \\'/review/rw9199947/?ref_=tt_urv\\', \\'row\\': 104}), Document(page_content=\\': 97\\\\nReview_Date: 21 July 2023\\\\nAuthor: MrDHWong\\\\nRating: 9\\\\nReview_Title: A darkly satirical look at gender structure in society\\\\nReview: \"Barbie\" is a comedy film based on the line of fashion dolls by Mattel. Directed and co-written by Greta Gerwig (\"Lady Bird\", \"Little Women\") and starring Margot Robbie and Ryan Gosling, it takes every opportunity to revel in its amusing premise with a darkly satirical look at gender structure in society.\\\\nReview_Url: /review/rw9199947/?ref_=tt_urv\\', metadata={\\'source\\': \\'/review/rw9199947/?ref_=tt_urv\\', \\'row\\': 97})]', additional_kwargs={}, name='PublicReviews'),\n",
       "  AIMessage(content='Based on the public reviews of the Barbie movie, opinions are mixed. Some people enjoyed the movie and found it entertaining, while others had reservations or found it confusing. \\n\\nOne review mentioned that the film tries to be more than just a movie about Barbie and explores themes of Americanization and Hollywood culture. The reviewer felt that this approach may not be representative or relatable to everyone, particularly Europeans. \\n\\nAnother review mentioned that the movie has a fun and colorful atmosphere, with emotional moments and funny comedy. The reviewer appreciated the doll-like aesthetic of the movie, including the plastic food and drink, gliding cars, and doll-like movements of the actors.\\n\\nOne review described the movie as a darkly satirical look at gender structure in society. It highlighted the comedic premise of the film and its exploration of gender roles.\\n\\nOverall, it seems that the Barbie movie may have philosophical elements in its exploration of cultural themes and gender structure. However, the extent to which people found it philosophical or enjoyable varied among viewers.', additional_kwargs={}, example=False)],\n",
       " 'output': 'Based on the public reviews of the Barbie movie, opinions are mixed. Some people enjoyed the movie and found it entertaining, while others had reservations or found it confusing. \\n\\nOne review mentioned that the film tries to be more than just a movie about Barbie and explores themes of Americanization and Hollywood culture. The reviewer felt that this approach may not be representative or relatable to everyone, particularly Europeans. \\n\\nAnother review mentioned that the movie has a fun and colorful atmosphere, with emotional moments and funny comedy. The reviewer appreciated the doll-like aesthetic of the movie, including the plastic food and drink, gliding cars, and doll-like movements of the actors.\\n\\nOne review described the movie as a darkly satirical look at gender structure in society. It highlighted the comedic premise of the film and its exploration of gender roles.\\n\\nOverall, it seems that the Barbie movie may have philosophical elements in its exploration of cultural themes and gender structure. However, the extent to which people found it philosophical or enjoyable varied among viewers.',\n",
       " 'intermediate_steps': [(_FunctionsAgentAction(tool='PublicReviews', tool_input='Barbie movie', log='\\nInvoking: `PublicReviews` with `Barbie movie`\\n\\n\\n', message_log=[AIMessage(content='', additional_kwargs={'function_call': {'name': 'PublicReviews', 'arguments': '{\\n  \"__arg1\": \"Barbie movie\"\\n}'}}, example=False)]),\n",
       "   [Document(page_content=\"Review: The big summer blockbuster of 2023 is a wonderful visual spectacle with a great deal of creative physical comedy, centered in and around the universe of Barbie, Mattel's historic toy doll. Unfortunately, the film tries to be and do much more than what the filmmakers ultimately are able to control and reel in. That a movie about Barbie would be guilty of Americanization is no surprise, and in many ways more than befitting, but the Americanization here isn't just about the history of the toy itself and all its cultural impacts - Barbie also views everything through the eyes of Hollywood anno 2023 - which arguably is a very particular and perhaps not that representative outlook. Instead of utilizing the fine foundation laid in the film's first third, director and co-writer Greta Gervig (Lady Bird, Little Women) gets herself lost in a trite, divisive and most likely futile battle of the sexes, which will leave youths - and perhaps particularly Europeans - feeling confused and\", metadata={'source': '/review/rw9199947/?ref_=tt_urv', 'row': 116}),\n",
       "    Document(page_content=': 53\\nReview_Date: 29 July 2023\\nAuthor: planktonrules\\nRating: 6\\nReview_Title: Good...not great\\nReview: \"Barbie\" is a movie that is setting all sorts of records, so it\\'s obvious that the film is touching many people. For some, it\\'s the fun of seeing a doll come to life, for others it\\'s the theme of empowerment that make the movie a big hit. As for me, I did like it and thought it was a pretty good movie...but it\\'s not for everyone.\\nReview_Url: /review/rw9199947/?ref_=tt_urv', metadata={'source': '/review/rw9199947/?ref_=tt_urv', 'row': 53}),\n",
       "    Document(page_content=\": 104\\nReview_Date: 22 July 2023\\nAuthor: No-Life-101\\nRating: 8\\nReview_Title: Barbie has an existential crisis\\nReview: Barbie is a really fun movie that all ages can enjoy because while it's colourful and entertaining the main storyline can get emotional at times. The comedy in the movie is pretty funny too and got a few laughs from everyone in the cinema, the music is really nice and so are the choreographed dances. What I liked the most about this movie is that it was very doll-like, the food and drink were plastic and fake, the cars didn't have engines and just glided along the floor, and the actors were doll-like in their movements and how they interacted with their environment.\\nReview_Url: /review/rw9199947/?ref_=tt_urv\", metadata={'source': '/review/rw9199947/?ref_=tt_urv', 'row': 104}),\n",
       "    Document(page_content=': 97\\nReview_Date: 21 July 2023\\nAuthor: MrDHWong\\nRating: 9\\nReview_Title: A darkly satirical look at gender structure in society\\nReview: \"Barbie\" is a comedy film based on the line of fashion dolls by Mattel. Directed and co-written by Greta Gerwig (\"Lady Bird\", \"Little Women\") and starring Margot Robbie and Ryan Gosling, it takes every opportunity to revel in its amusing premise with a darkly satirical look at gender structure in society.\\nReview_Url: /review/rw9199947/?ref_=tt_urv', metadata={'source': '/review/rw9199947/?ref_=tt_urv', 'row': 97})])]}"
      ]
     },
     "execution_count": 46,
     "metadata": {},
     "output_type": "execute_result"
    }
   ],
   "source": [
    "barbie_retriever_agent_executor({\"input\" : \"Did people like Barbie, or did they find it too Philosphical? If they did, can you tell me why the movie is so Philosophical?\"})"
   ]
  },
  {
   "cell_type": "code",
   "execution_count": 80,
   "metadata": {},
   "outputs": [
    {
     "name": "stdout",
     "output_type": "stream",
     "text": [
      "\n",
      "\n",
      "\u001b[1m> Entering new AgentExecutor chain...\u001b[0m\n",
      "\u001b[32;1m\u001b[1;3m\n",
      "Invoking: `wikipedia` with `Barbie (film)`\n",
      "\n",
      "\n",
      "\u001b[0m\u001b[36;1m\u001b[1;3m[Document(page_content='Barbie is a 2023 American fantasy comedy film directed by Greta Gerwig from a screenplay she wrote with Noah Baumbach. Based on the Barbie fashion dolls by Mattel, it is the first live-action Barbie film after numerous computer-animated films and specials. The film follows Barbie (Margot Robbie) and Ken (Ryan Gosling) on a journey of self-discovery following an existential crisis. It features an ensemble supporting cast, including America Ferrera, Kate McKinnon, Helen Mirren, Issa Rae, Simu Liu,', metadata={'title': 'Barbie (film)', 'summary': 'Barbie is a 2023 American fantasy comedy film directed by Greta Gerwig from a screenplay she wrote with Noah Baumbach. Based on the Barbie fashion dolls by Mattel, it is the first live-action Barbie film after numerous computer-animated films and specials. The film follows Barbie (Margot Robbie) and Ken (Ryan Gosling) on a journey of self-discovery following an existential crisis. It features an ensemble supporting cast, including America Ferrera, Kate McKinnon, Helen Mirren, Issa Rae, Simu Liu, Michael Cera, Rhea Perlman, and Will Ferrell.\\nA live-action Barbie film was announced in September 2009 by Universal Pictures with Laurence Mark producing. Development began in April 2014, when Sony Pictures acquired the film rights. Following multiple writer and director changes and the casting of Amy Schumer and later Anne Hathaway as Barbie, the rights were transferred to Warner Bros. Pictures in October 2018. Robbie was cast in 2019, after Gal Gadot turned down the role due to scheduling conflicts, and Gerwig was announced as director and co-writer with Baumbach in 2020. The rest of the cast were announced in early 2022. Filming took place primarily at Warner Bros. Studios, Leavesden, in England and on the Venice Beach Skatepark in Los Angeles from March to July 2022.\\nBarbie premiered at the Shrine Auditorium in Los Angeles on July 9, 2023, and was theatrically released in the United States on July 21 by Warner Bros. Pictures. Its simultaneous release with Universal\\'s Oppenheimer led to the \"Barbenheimer\" cultural phenomenon, which encouraged audiences to see both films as a double feature. The film received critical acclaim and has grossed $1.2 billion worldwide, becoming the second highest-grossing film of 2023, as well as the highest-grossing film directed solely by a woman and the 24th highest-grossing film of all-time.', 'source': 'https://en.wikipedia.org/wiki/Barbie_(film)'}), Document(page_content=\"Arriving at Venice Beach, Barbie punches a man for groping her, leading to her and Ken's brief arrest. Alarmed by their presence, Mattel's CEO orders their recapture. Barbie tracks down her owner, a tween girl named Sasha, who criticizes her for encouraging unrealistic beauty standards. Distraught, Barbie discovers that Gloria, a Mattel employee and Sasha's mother, inadvertently catalyzed her existential crisis after Gloria began playing with Sasha's old Barbie toys in a similar state. Mattel\", metadata={'title': 'Barbie (film)', 'summary': 'Barbie is a 2023 American fantasy comedy film directed by Greta Gerwig from a screenplay she wrote with Noah Baumbach. Based on the Barbie fashion dolls by Mattel, it is the first live-action Barbie film after numerous computer-animated films and specials. The film follows Barbie (Margot Robbie) and Ken (Ryan Gosling) on a journey of self-discovery following an existential crisis. It features an ensemble supporting cast, including America Ferrera, Kate McKinnon, Helen Mirren, Issa Rae, Simu Liu, Michael Cera, Rhea Perlman, and Will Ferrell.\\nA live-action Barbie film was announced in September 2009 by Universal Pictures with Laurence Mark producing. Development began in April 2014, when Sony Pictures acquired the film rights. Following multiple writer and director changes and the casting of Amy Schumer and later Anne Hathaway as Barbie, the rights were transferred to Warner Bros. Pictures in October 2018. Robbie was cast in 2019, after Gal Gadot turned down the role due to scheduling conflicts, and Gerwig was announced as director and co-writer with Baumbach in 2020. The rest of the cast were announced in early 2022. Filming took place primarily at Warner Bros. Studios, Leavesden, in England and on the Venice Beach Skatepark in Los Angeles from March to July 2022.\\nBarbie premiered at the Shrine Auditorium in Los Angeles on July 9, 2023, and was theatrically released in the United States on July 21 by Warner Bros. Pictures. Its simultaneous release with Universal\\'s Oppenheimer led to the \"Barbenheimer\" cultural phenomenon, which encouraged audiences to see both films as a double feature. The film received critical acclaim and has grossed $1.2 billion worldwide, becoming the second highest-grossing film of 2023, as well as the highest-grossing film directed solely by a woman and the 24th highest-grossing film of all-time.', 'source': 'https://en.wikipedia.org/wiki/Barbie_(film)'})]\u001b[0m\u001b[32;1m\u001b[1;3mThe plot of the Barbie movie follows Barbie (played by Margot Robbie) and Ken (played by Ryan Gosling) on a journey of self-discovery after experiencing an existential crisis. Barbie and Ken face various challenges and adventures as they navigate through their personal growth. The film explores themes of identity, self-reflection, and the pursuit of happiness. It features an ensemble supporting cast, including America Ferrera, Kate McKinnon, Helen Mirren, Issa Rae, Simu Liu, Michael Cera, Rhea Perlman, and Will Ferrell. The movie received critical acclaim and became a box office success, grossing $1.2 billion worldwide.\u001b[0m\n",
      "\n",
      "\u001b[1m> Finished chain.\u001b[0m\n"
     ]
    },
    {
     "data": {
      "text/plain": [
       "{'input': 'What is a very quick summary of the plot of the Barbie movie?',\n",
       " 'chat_history': [AIMessage(content=\"I apologize for the confusion. It seems that the information I retrieved is about the 2023 live-action Barbie film directed by Greta Gerwig. I couldn't find a specific list of top-rated Barbie movies. However, there have been numerous computer-animated Barbie films and specials released in the past. Some popular and well-received Barbie movies include:\\n\\n1. Barbie as Rapunzel (2002)\\n2. Barbie in the Nutcracker (2001)\\n3. Barbie and the Diamond Castle (2008)\\n4. Barbie: Princess Charm School (2011)\\n5. Barbie: Fairytopia (2005)\\n6. Barbie: Mermaidia (2006)\\n7. Barbie: The Princess and the Popstar (2012)\\n8. Barbie: Mariposa and the Fairy Princess (2013)\\n9. Barbie: Spy Squad (2016)\\n10. Barbie: Dolphin Magic (2017)\\n\\nThese are just a few examples, and there are many more Barbie movies available. The popularity and ratings of these movies may vary depending on personal preferences.\", additional_kwargs={}, example=False),\n",
       "  HumanMessage(content='What is a very quick summary of the plot of the Barbie movie?', additional_kwargs={}, example=False),\n",
       "  AIMessage(content='', additional_kwargs={'function_call': {'name': 'wikipedia', 'arguments': '{\\n  \"__arg1\": \"Barbie (film)\"\\n}'}}, example=False),\n",
       "  FunctionMessage(content='[Document(page_content=\\'Barbie is a 2023 American fantasy comedy film directed by Greta Gerwig from a screenplay she wrote with Noah Baumbach. Based on the Barbie fashion dolls by Mattel, it is the first live-action Barbie film after numerous computer-animated films and specials. The film follows Barbie (Margot Robbie) and Ken (Ryan Gosling) on a journey of self-discovery following an existential crisis. It features an ensemble supporting cast, including America Ferrera, Kate McKinnon, Helen Mirren, Issa Rae, Simu Liu,\\', metadata={\\'title\\': \\'Barbie (film)\\', \\'summary\\': \\'Barbie is a 2023 American fantasy comedy film directed by Greta Gerwig from a screenplay she wrote with Noah Baumbach. Based on the Barbie fashion dolls by Mattel, it is the first live-action Barbie film after numerous computer-animated films and specials. The film follows Barbie (Margot Robbie) and Ken (Ryan Gosling) on a journey of self-discovery following an existential crisis. It features an ensemble supporting cast, including America Ferrera, Kate McKinnon, Helen Mirren, Issa Rae, Simu Liu, Michael Cera, Rhea Perlman, and Will Ferrell.\\\\nA live-action Barbie film was announced in September 2009 by Universal Pictures with Laurence Mark producing. Development began in April 2014, when Sony Pictures acquired the film rights. Following multiple writer and director changes and the casting of Amy Schumer and later Anne Hathaway as Barbie, the rights were transferred to Warner Bros. Pictures in October 2018. Robbie was cast in 2019, after Gal Gadot turned down the role due to scheduling conflicts, and Gerwig was announced as director and co-writer with Baumbach in 2020. The rest of the cast were announced in early 2022. Filming took place primarily at Warner Bros. Studios, Leavesden, in England and on the Venice Beach Skatepark in Los Angeles from March to July 2022.\\\\nBarbie premiered at the Shrine Auditorium in Los Angeles on July 9, 2023, and was theatrically released in the United States on July 21 by Warner Bros. Pictures. Its simultaneous release with Universal\\\\\\'s Oppenheimer led to the \"Barbenheimer\" cultural phenomenon, which encouraged audiences to see both films as a double feature. The film received critical acclaim and has grossed $1.2 billion worldwide, becoming the second highest-grossing film of 2023, as well as the highest-grossing film directed solely by a woman and the 24th highest-grossing film of all-time.\\', \\'source\\': \\'https://en.wikipedia.org/wiki/Barbie_(film)\\'}), Document(page_content=\"Arriving at Venice Beach, Barbie punches a man for groping her, leading to her and Ken\\'s brief arrest. Alarmed by their presence, Mattel\\'s CEO orders their recapture. Barbie tracks down her owner, a tween girl named Sasha, who criticizes her for encouraging unrealistic beauty standards. Distraught, Barbie discovers that Gloria, a Mattel employee and Sasha\\'s mother, inadvertently catalyzed her existential crisis after Gloria began playing with Sasha\\'s old Barbie toys in a similar state. Mattel\", metadata={\\'title\\': \\'Barbie (film)\\', \\'summary\\': \\'Barbie is a 2023 American fantasy comedy film directed by Greta Gerwig from a screenplay she wrote with Noah Baumbach. Based on the Barbie fashion dolls by Mattel, it is the first live-action Barbie film after numerous computer-animated films and specials. The film follows Barbie (Margot Robbie) and Ken (Ryan Gosling) on a journey of self-discovery following an existential crisis. It features an ensemble supporting cast, including America Ferrera, Kate McKinnon, Helen Mirren, Issa Rae, Simu Liu, Michael Cera, Rhea Perlman, and Will Ferrell.\\\\nA live-action Barbie film was announced in September 2009 by Universal Pictures with Laurence Mark producing. Development began in April 2014, when Sony Pictures acquired the film rights. Following multiple writer and director changes and the casting of Amy Schumer and later Anne Hathaway as Barbie, the rights were transferred to Warner Bros. Pictures in October 2018. Robbie was cast in 2019, after Gal Gadot turned down the role due to scheduling conflicts, and Gerwig was announced as director and co-writer with Baumbach in 2020. The rest of the cast were announced in early 2022. Filming took place primarily at Warner Bros. Studios, Leavesden, in England and on the Venice Beach Skatepark in Los Angeles from March to July 2022.\\\\nBarbie premiered at the Shrine Auditorium in Los Angeles on July 9, 2023, and was theatrically released in the United States on July 21 by Warner Bros. Pictures. Its simultaneous release with Universal\\\\\\'s Oppenheimer led to the \"Barbenheimer\" cultural phenomenon, which encouraged audiences to see both films as a double feature. The film received critical acclaim and has grossed $1.2 billion worldwide, becoming the second highest-grossing film of 2023, as well as the highest-grossing film directed solely by a woman and the 24th highest-grossing film of all-time.\\', \\'source\\': \\'https://en.wikipedia.org/wiki/Barbie_(film)\\'})]', additional_kwargs={}, name='wikipedia'),\n",
       "  AIMessage(content='The plot of the Barbie movie follows Barbie (played by Margot Robbie) and Ken (played by Ryan Gosling) on a journey of self-discovery after experiencing an existential crisis. Barbie and Ken face various challenges and adventures as they navigate through their personal growth. The film explores themes of identity, self-reflection, and the pursuit of happiness. It features an ensemble supporting cast, including America Ferrera, Kate McKinnon, Helen Mirren, Issa Rae, Simu Liu, Michael Cera, Rhea Perlman, and Will Ferrell. The movie received critical acclaim and became a box office success, grossing $1.2 billion worldwide.', additional_kwargs={}, example=False)],\n",
       " 'output': 'The plot of the Barbie movie follows Barbie (played by Margot Robbie) and Ken (played by Ryan Gosling) on a journey of self-discovery after experiencing an existential crisis. Barbie and Ken face various challenges and adventures as they navigate through their personal growth. The film explores themes of identity, self-reflection, and the pursuit of happiness. It features an ensemble supporting cast, including America Ferrera, Kate McKinnon, Helen Mirren, Issa Rae, Simu Liu, Michael Cera, Rhea Perlman, and Will Ferrell. The movie received critical acclaim and became a box office success, grossing $1.2 billion worldwide.',\n",
       " 'intermediate_steps': [(_FunctionsAgentAction(tool='wikipedia', tool_input='Barbie (film)', log='\\nInvoking: `wikipedia` with `Barbie (film)`\\n\\n\\n', message_log=[AIMessage(content='', additional_kwargs={'function_call': {'name': 'wikipedia', 'arguments': '{\\n  \"__arg1\": \"Barbie (film)\"\\n}'}}, example=False)]),\n",
       "   [Document(page_content='Barbie is a 2023 American fantasy comedy film directed by Greta Gerwig from a screenplay she wrote with Noah Baumbach. Based on the Barbie fashion dolls by Mattel, it is the first live-action Barbie film after numerous computer-animated films and specials. The film follows Barbie (Margot Robbie) and Ken (Ryan Gosling) on a journey of self-discovery following an existential crisis. It features an ensemble supporting cast, including America Ferrera, Kate McKinnon, Helen Mirren, Issa Rae, Simu Liu,', metadata={'title': 'Barbie (film)', 'summary': 'Barbie is a 2023 American fantasy comedy film directed by Greta Gerwig from a screenplay she wrote with Noah Baumbach. Based on the Barbie fashion dolls by Mattel, it is the first live-action Barbie film after numerous computer-animated films and specials. The film follows Barbie (Margot Robbie) and Ken (Ryan Gosling) on a journey of self-discovery following an existential crisis. It features an ensemble supporting cast, including America Ferrera, Kate McKinnon, Helen Mirren, Issa Rae, Simu Liu, Michael Cera, Rhea Perlman, and Will Ferrell.\\nA live-action Barbie film was announced in September 2009 by Universal Pictures with Laurence Mark producing. Development began in April 2014, when Sony Pictures acquired the film rights. Following multiple writer and director changes and the casting of Amy Schumer and later Anne Hathaway as Barbie, the rights were transferred to Warner Bros. Pictures in October 2018. Robbie was cast in 2019, after Gal Gadot turned down the role due to scheduling conflicts, and Gerwig was announced as director and co-writer with Baumbach in 2020. The rest of the cast were announced in early 2022. Filming took place primarily at Warner Bros. Studios, Leavesden, in England and on the Venice Beach Skatepark in Los Angeles from March to July 2022.\\nBarbie premiered at the Shrine Auditorium in Los Angeles on July 9, 2023, and was theatrically released in the United States on July 21 by Warner Bros. Pictures. Its simultaneous release with Universal\\'s Oppenheimer led to the \"Barbenheimer\" cultural phenomenon, which encouraged audiences to see both films as a double feature. The film received critical acclaim and has grossed $1.2 billion worldwide, becoming the second highest-grossing film of 2023, as well as the highest-grossing film directed solely by a woman and the 24th highest-grossing film of all-time.', 'source': 'https://en.wikipedia.org/wiki/Barbie_(film)'}),\n",
       "    Document(page_content=\"Arriving at Venice Beach, Barbie punches a man for groping her, leading to her and Ken's brief arrest. Alarmed by their presence, Mattel's CEO orders their recapture. Barbie tracks down her owner, a tween girl named Sasha, who criticizes her for encouraging unrealistic beauty standards. Distraught, Barbie discovers that Gloria, a Mattel employee and Sasha's mother, inadvertently catalyzed her existential crisis after Gloria began playing with Sasha's old Barbie toys in a similar state. Mattel\", metadata={'title': 'Barbie (film)', 'summary': 'Barbie is a 2023 American fantasy comedy film directed by Greta Gerwig from a screenplay she wrote with Noah Baumbach. Based on the Barbie fashion dolls by Mattel, it is the first live-action Barbie film after numerous computer-animated films and specials. The film follows Barbie (Margot Robbie) and Ken (Ryan Gosling) on a journey of self-discovery following an existential crisis. It features an ensemble supporting cast, including America Ferrera, Kate McKinnon, Helen Mirren, Issa Rae, Simu Liu, Michael Cera, Rhea Perlman, and Will Ferrell.\\nA live-action Barbie film was announced in September 2009 by Universal Pictures with Laurence Mark producing. Development began in April 2014, when Sony Pictures acquired the film rights. Following multiple writer and director changes and the casting of Amy Schumer and later Anne Hathaway as Barbie, the rights were transferred to Warner Bros. Pictures in October 2018. Robbie was cast in 2019, after Gal Gadot turned down the role due to scheduling conflicts, and Gerwig was announced as director and co-writer with Baumbach in 2020. The rest of the cast were announced in early 2022. Filming took place primarily at Warner Bros. Studios, Leavesden, in England and on the Venice Beach Skatepark in Los Angeles from March to July 2022.\\nBarbie premiered at the Shrine Auditorium in Los Angeles on July 9, 2023, and was theatrically released in the United States on July 21 by Warner Bros. Pictures. Its simultaneous release with Universal\\'s Oppenheimer led to the \"Barbenheimer\" cultural phenomenon, which encouraged audiences to see both films as a double feature. The film received critical acclaim and has grossed $1.2 billion worldwide, becoming the second highest-grossing film of 2023, as well as the highest-grossing film directed solely by a woman and the 24th highest-grossing film of all-time.', 'source': 'https://en.wikipedia.org/wiki/Barbie_(film)'})])]}"
      ]
     },
     "execution_count": 80,
     "metadata": {},
     "output_type": "execute_result"
    }
   ],
   "source": [
    "barbie_retriever_agent_executor({\"input\" : \"What is a very quick summary of the plot of the Barbie movie?\"})"
   ]
  },
  {
   "cell_type": "code",
   "execution_count": 49,
   "metadata": {},
   "outputs": [
    {
     "name": "stdout",
     "output_type": "stream",
     "text": [
      "\n",
      "\n",
      "\u001b[1m> Entering new AgentExecutor chain...\u001b[0m\n",
      "\u001b[32;1m\u001b[1;3mBased on the quick summary of the Barbie movie, it seems to have a similar light-hearted and comedic tone as the Lego Movie. However, since personal preferences can vary, it's difficult to say for certain if your husband would enjoy the Barbie movie. If he enjoyed the Lego Movie and is open to watching other light-hearted and not serious films, there is a chance that he might enjoy the Barbie movie as well. It could be worth giving it a try and seeing if it appeals to his sense of humor and entertainment preferences.\u001b[0m\n",
      "\n",
      "\u001b[1m> Finished chain.\u001b[0m\n"
     ]
    },
    {
     "data": {
      "text/plain": [
       "{'input': 'Should i take my husband to see this movie based on a quick summary? My husban likes lego movie.',\n",
       " 'chat_history': [AIMessage(content='Based on the public reviews of the Barbie movie, opinions are mixed. Some people enjoyed the movie and found it entertaining, while others had reservations or found it confusing. \\n\\nOne review mentioned that the film tries to be more than just a movie about Barbie and explores themes of Americanization and Hollywood culture. The reviewer felt that this approach may not be representative or relatable to everyone, particularly Europeans. \\n\\nAnother review mentioned that the movie has a fun and colorful atmosphere, with emotional moments and funny comedy. The reviewer appreciated the doll-like aesthetic of the movie, including the plastic food and drink, gliding cars, and doll-like movements of the actors.\\n\\nOne review described the movie as a darkly satirical look at gender structure in society. It highlighted the comedic premise of the film and its exploration of gender roles.\\n\\nOverall, it seems that the Barbie movie may have philosophical elements in its exploration of cultural themes and gender structure. However, the extent to which people found it philosophical or enjoyable varied among viewers.', additional_kwargs={}, example=False),\n",
       "  HumanMessage(content='What is a very quick summary of the plot of the Barbie movie?', additional_kwargs={}, example=False),\n",
       "  AIMessage(content='', additional_kwargs={'function_call': {'name': 'wikipedia', 'arguments': '{\\n  \"__arg1\": \"Barbie movie\"\\n}'}}, example=False),\n",
       "  FunctionMessage(content='[Document(page_content=\\'Barbie is a 2023 American fantasy comedy film directed by Greta Gerwig from a screenplay she wrote with Noah Baumbach. Based on the Barbie fashion dolls by Mattel, it is the first live-action Barbie film after numerous computer-animated films and specials. The film follows Barbie (Margot Robbie) and Ken (Ryan Gosling) on a journey of self-discovery following an existential crisis. It features an ensemble supporting cast, including America Ferrera, Kate McKinnon, Helen Mirren, Issa Rae, Simu Liu,\\', metadata={\\'title\\': \\'Barbie (film)\\', \\'summary\\': \\'Barbie is a 2023 American fantasy comedy film directed by Greta Gerwig from a screenplay she wrote with Noah Baumbach. Based on the Barbie fashion dolls by Mattel, it is the first live-action Barbie film after numerous computer-animated films and specials. The film follows Barbie (Margot Robbie) and Ken (Ryan Gosling) on a journey of self-discovery following an existential crisis. It features an ensemble supporting cast, including America Ferrera, Kate McKinnon, Helen Mirren, Issa Rae, Simu Liu, Michael Cera, Rhea Perlman, and Will Ferrell.\\\\nA live-action Barbie film was announced in September 2009 by Universal Pictures with Laurence Mark producing. Development began in April 2014, when Sony Pictures acquired the film rights. Following multiple writer and director changes and the casting of Amy Schumer and later Anne Hathaway as Barbie, the rights were transferred to Warner Bros. Pictures in October 2018. Robbie was cast in 2019, after Gal Gadot turned down the role due to scheduling conflicts, and Gerwig was announced as director and co-writer with Baumbach in 2020. The rest of the cast were announced in early 2022. Filming took place primarily at Warner Bros. Studios, Leavesden, in England and on the Venice Beach Skatepark in Los Angeles from March to July 2022.\\\\nBarbie premiered at the Shrine Auditorium in Los Angeles on July 9, 2023, and was theatrically released in the United States on July 21 by Warner Bros. Pictures. Its simultaneous release with Universal\\\\\\'s Oppenheimer led to the \"Barbenheimer\" cultural phenomenon, which encouraged audiences to see both films as a double feature. The film received critical acclaim and has grossed $1.2 billion worldwide, becoming the second highest-grossing film of 2023, as well as the highest-grossing film directed solely by a woman and the 24th highest-grossing film of all-time.\\', \\'source\\': \\'https://en.wikipedia.org/wiki/Barbie_(film)\\'}), Document(page_content=\\'fictional Barbieland. While many reviews of the film interpreted this as a critique of the song, director Greta Gerwig said that she was a fan of Matchbox Twenty and \"I never put anything in a movie I don’t love.\"\\', metadata={\\'title\\': \\'Barbie (film)\\', \\'summary\\': \\'Barbie is a 2023 American fantasy comedy film directed by Greta Gerwig from a screenplay she wrote with Noah Baumbach. Based on the Barbie fashion dolls by Mattel, it is the first live-action Barbie film after numerous computer-animated films and specials. The film follows Barbie (Margot Robbie) and Ken (Ryan Gosling) on a journey of self-discovery following an existential crisis. It features an ensemble supporting cast, including America Ferrera, Kate McKinnon, Helen Mirren, Issa Rae, Simu Liu, Michael Cera, Rhea Perlman, and Will Ferrell.\\\\nA live-action Barbie film was announced in September 2009 by Universal Pictures with Laurence Mark producing. Development began in April 2014, when Sony Pictures acquired the film rights. Following multiple writer and director changes and the casting of Amy Schumer and later Anne Hathaway as Barbie, the rights were transferred to Warner Bros. Pictures in October 2018. Robbie was cast in 2019, after Gal Gadot turned down the role due to scheduling conflicts, and Gerwig was announced as director and co-writer with Baumbach in 2020. The rest of the cast were announced in early 2022. Filming took place primarily at Warner Bros. Studios, Leavesden, in England and on the Venice Beach Skatepark in Los Angeles from March to July 2022.\\\\nBarbie premiered at the Shrine Auditorium in Los Angeles on July 9, 2023, and was theatrically released in the United States on July 21 by Warner Bros. Pictures. Its simultaneous release with Universal\\\\\\'s Oppenheimer led to the \"Barbenheimer\" cultural phenomenon, which encouraged audiences to see both films as a double feature. The film received critical acclaim and has grossed $1.2 billion worldwide, becoming the second highest-grossing film of 2023, as well as the highest-grossing film directed solely by a woman and the 24th highest-grossing film of all-time.\\', \\'source\\': \\'https://en.wikipedia.org/wiki/Barbie_(film)\\'})]', additional_kwargs={}, name='wikipedia'),\n",
       "  AIMessage(content='The Barbie movie is a 2023 American fantasy comedy film directed by Greta Gerwig. It is the first live-action Barbie film based on the Barbie fashion dolls by Mattel. The movie follows Barbie (played by Margot Robbie) and Ken (played by Ryan Gosling) on a journey of self-discovery following an existential crisis. The film features an ensemble supporting cast, including America Ferrera, Kate McKinnon, Helen Mirren, Issa Rae, Simu Liu, Michael Cera, Rhea Perlman, and Will Ferrell. The plot explores themes of identity and self-exploration within the context of the Barbie universe.', additional_kwargs={}, example=False),\n",
       "  HumanMessage(content='What is a very quick summary of the plot of the Barbie movie? I like not serious movies, will this be a good movie for me to watch ?', additional_kwargs={}, example=False),\n",
       "  AIMessage(content='The Barbie movie is a fantasy comedy film that follows Barbie and Ken on a journey of self-discovery after experiencing an existential crisis. The movie explores themes of identity and self-exploration within the Barbie universe. It features a star-studded cast and has a light-hearted and not serious tone. If you enjoy not serious movies, the Barbie movie could be a good choice for you to watch.', additional_kwargs={}, example=False),\n",
       "  HumanMessage(content='Should i take my husband to see this movie based on a quick summary? My husban likes lego movie.', additional_kwargs={}, example=False),\n",
       "  AIMessage(content=\"Based on the quick summary of the Barbie movie, it seems to have a similar light-hearted and comedic tone as the Lego Movie. However, since personal preferences can vary, it's difficult to say for certain if your husband would enjoy the Barbie movie. If he enjoyed the Lego Movie and is open to watching other light-hearted and not serious films, there is a chance that he might enjoy the Barbie movie as well. It could be worth giving it a try and seeing if it appeals to his sense of humor and entertainment preferences.\", additional_kwargs={}, example=False)],\n",
       " 'output': \"Based on the quick summary of the Barbie movie, it seems to have a similar light-hearted and comedic tone as the Lego Movie. However, since personal preferences can vary, it's difficult to say for certain if your husband would enjoy the Barbie movie. If he enjoyed the Lego Movie and is open to watching other light-hearted and not serious films, there is a chance that he might enjoy the Barbie movie as well. It could be worth giving it a try and seeing if it appeals to his sense of humor and entertainment preferences.\",\n",
       " 'intermediate_steps': []}"
      ]
     },
     "execution_count": 49,
     "metadata": {},
     "output_type": "execute_result"
    }
   ],
   "source": [
    "barbie_retriever_agent_executor({\"input\" : \"Should i take my husband to see this movie based on a quick summary? My husban likes lego movie.\"})"
   ]
  },
  {
   "cell_type": "markdown",
   "metadata": {},
   "source": [
    "### Oppenheimer Retrieval System\n",
    "\n",
    "We're going to repourpose some of what we created previously, but this time we'll explore a different multi-source retrieval system."
   ]
  },
  {
   "cell_type": "code",
   "execution_count": 81,
   "metadata": {},
   "outputs": [],
   "source": [
    "\n",
    "\n",
    "oppenheimer_wikipedia_docs = WikipediaLoader(\n",
    "    query=\"Oppenheimer (film)\", \n",
    "    load_max_docs=1,  \n",
    "    doc_content_chars_max=1_000_000\n",
    "    ).load()\n",
    "\n",
    "oppenheimer_csv_docs = CSVLoader(\n",
    "    file_path='./oppenheimer_data/oppenheimer.csv',\n",
    "    source_column='Review_Url'\n",
    "    ).load()"
   ]
  },
  {
   "cell_type": "code",
   "execution_count": 82,
   "metadata": {},
   "outputs": [],
   "source": [
    "chunked_opp_wikipedia_docs =wikipedia_text_splitter.transform_documents(oppenheimer_wikipedia_docs) \n",
    "chunked_opp_csv_docs = csv_text_splitter.transform_documents(oppenheimer_csv_docs)"
   ]
  },
  {
   "cell_type": "code",
   "execution_count": 83,
   "metadata": {},
   "outputs": [],
   "source": [
    "# public review Opp retriever\n",
    "opp_csv_faiss_retriever = FAISS.from_documents(chunked_opp_csv_docs,embedder).as_retriever() \n",
    "# set up BM25 retriever\n",
    "opp_wikipedia_bm25_retriever = BM25Retriever.from_documents(chunked_opp_wikipedia_docs)\n",
    "opp_wikipedia_bm25_retriever.k = 1\n",
    "\n",
    "# set up FAISS vector store\n",
    "opp_wikipedia_faiss_store = FAISS.from_documents(chunked_opp_wikipedia_docs, embedder)\n",
    "opp_wikipedia_faiss_retriever = opp_wikipedia_faiss_store.as_retriever(search_kwargs={\"k\": 1})\n",
    "\n",
    "# set up ensemble retriever\n",
    "opp_ensemble_retriever = EnsembleRetriever(\n",
    "    retrievers=[opp_wikipedia_bm25_retriever,opp_wikipedia_faiss_retriever], weight=[0.25,0.75]\n",
    " ) "
   ]
  },
  {
   "cell_type": "markdown",
   "metadata": {},
   "source": [
    "#### Multi-source chain\n",
    "\n",
    "We're going to allow the LLM to decide which information is most -> least valuable.\n",
    "\n",
    "The way we'll do this is with LangChain's rather powerful \"Expression Language\"!\n",
    "\n",
    "> HINT: You can leverage [this](https://python.langchain.com/docs/use_cases/question_answering/how_to/multiple_retrieval) resource if you get stuck - but experiment with different prompts/formats."
   ]
  },
  {
   "cell_type": "code",
   "execution_count": 86,
   "metadata": {},
   "outputs": [],
   "source": [
    "from langchain.prompts import ChatPromptTemplate\n",
    "\n",
    "system_message = \"\"\"Use the information from the below two sources to answer any questions.\n",
    "\n",
    "Source 1: public user reviews about the Oppenheimer movie\n",
    "<source1>\n",
    "{source1}\n",
    "</source1>\n",
    "\n",
    "Source 2: the wikipedia page for the Oppenheimer movie including the plot summary, cast, and production information\n",
    "<source2>\n",
    "{source2}\n",
    "</source2>\n",
    "\"\"\"\n",
    "\n",
    "prompt = ChatPromptTemplate.from_messages([(\"system\", system_message), (\"human\", \"{question}\")])\n"
   ]
  },
  {
   "cell_type": "code",
   "execution_count": 87,
   "metadata": {},
   "outputs": [],
   "source": [
    "oppenheimer_multisource_chain = {\n",
    "    \"source1\": (lambda x: x[\"question\"]) | opp_ensemble_retriever,\n",
    "    \"source2\": (lambda x: x[\"question\"]) | opp_csv_faiss_retriever,\n",
    "    \"question\": lambda x: x[\"question\"],\n",
    "} | prompt | llm"
   ]
  },
  {
   "cell_type": "code",
   "execution_count": 88,
   "metadata": {},
   "outputs": [
    {
     "data": {
      "text/plain": [
       "AIMessage(content=\"People generally thought highly of the Oppenheimer movie. Critics praised the screenplay, performances of the cast (especially Cillian Murphy and Robert Downey Jr.), and the visuals. It was frequently cited as one of the best films of 2023. On the review aggregator website Rotten Tomatoes, 93% of 451 critics' reviews were positive, with an average rating of 8.6/10. The movie received critical acclaim, with particular praise for the cast performances, screenplay, and visuals. However, some criticism was aimed towards the writing of the female characters. Overall, the movie was considered compelling, engaging, and simple to understand, and it sparked an interest in history.\", additional_kwargs={}, example=False)"
      ]
     },
     "execution_count": 88,
     "metadata": {},
     "output_type": "execute_result"
    }
   ],
   "source": [
    "oppenheimer_multisource_chain.invoke({\"question\" : \"What did people think of the Oppenheimer movie?\"})"
   ]
  },
  {
   "cell_type": "code",
   "execution_count": null,
   "metadata": {},
   "outputs": [],
   "source": []
  },
  {
   "cell_type": "markdown",
   "metadata": {},
   "source": [
    "# Agent Creation\n",
    "\n",
    "Now we can finally start building our Agent!\n",
    "\n",
    "The first thing we'll need to do is provide our Agent a Toolbelt. (list of tools). Much like Batman, our LLM-powered Agent can use these tools as it sees fit. \n",
    "\n",
    "While the examples we're constructing in this notebook are straightforward for brevity and simplicities sake - there is no limit to what you can build with Agents, as we'll see as we progress through the program.\n",
    "\n",
    "So, let's begin by setting up our Tools!\n",
    "\n",
    "You'll notice that we have to set up a function to allow our `OppenheimerInfo` tool to interface with the Agent - this is due to it have a specific required input. Creating custom tools is a pattern that you'll want to grow acustomed to as you use LangChain more and more."
   ]
  },
  {
   "cell_type": "code",
   "execution_count": 89,
   "metadata": {},
   "outputs": [],
   "source": [
    "from langchain.agents import Tool\n",
    "\n",
    "## barbie_retriever_agent_executor({\"input\" : \"Did people like Barbie\"})\n",
    "## oppenheimer_multisource_chain.invoke({\"question\" : \"What did people think of the Oppenheimer movie?\"})\n",
    "\n",
    "def query_oppenheimer(input): # because we use multi-query, \n",
    "    return oppenheimer_multisource_chain.invoke({\"question\" : input})\n",
    "\n",
    "tools = [  ## this is actually 4 soures, but this pattern gives structure, the description helps it to decide which tool to use\n",
    "    Tool(\n",
    "        name = \"BarbieInfo\",#\n",
    "        func=barbie_retriever_agent_executor.invoke,\n",
    "        description=\"useful for when you need to answer questions about Barbie. Input should be a fully formed question.\"\n",
    "    ),\n",
    "    Tool(\n",
    "        name = \"OppenheimerInfo\", \n",
    "        func=query_oppenheimer, \n",
    "        description=\"useful for when you need to answer questions about Oppenheimer. Input should be a fully formed question.\"\n",
    "    ),\n",
    "]"
   ]
  },
  {
   "cell_type": "markdown",
   "metadata": {},
   "source": [
    "Now that we've set up our Agents toolbelt, let's set up the LLM that will be powering it!\n",
    "\n",
    "I would suggest playing around with these prompts - and experiments to find what works best for you.\n",
    "\n",
    "RELEVANT DOCS:\n",
    "- [`ZeroShotAgent`](https://api.python.langchain.com/en/latest/agents/langchain.agents.mrkl.base.ZeroShotAgent.html#langchain-agents-mrkl-base-zeroshotagent)"
   ]
  },
  {
   "cell_type": "code",
   "execution_count": 90,
   "metadata": {},
   "outputs": [],
   "source": [
    "from langchain.agents import ZeroShotAgent, AgentExecutor\n",
    "\n",
    "prefix = \"\"\"Have a conversation with a human, answering the following questions as best you can. You have access to the following tools:\"\"\"\n",
    "suffix = \"\"\"Begin!\"\n",
    "\n",
    "Question: {input}\n",
    "{agent_scratchpad}\"\"\"\n",
    "\n",
    "prompt = ZeroShotAgent.create_prompt(\n",
    "    tools, \n",
    "    prefix=prefix, \n",
    "    suffix=suffix, \n",
    "    input_variables=[\"input\", \"agent_scratchpad\"]\n",
    ")"
   ]
  },
  {
   "cell_type": "code",
   "execution_count": 91,
   "metadata": {},
   "outputs": [],
   "source": [
    "from langchain import LLMChain\n",
    "\n",
    "llm_chain = LLMChain(llm=llm, prompt=prompt)"
   ]
  },
  {
   "cell_type": "markdown",
   "metadata": {},
   "source": [
    "All that's left to do now is create our `ZeroShotAgent` and our `AgentExecutor`, which are the \"reasoner\" and \"actor\" halfs of the `ReAct` method of Agent implementation.\n",
    "\n",
    "Read all about the `ReAct` framework [here](https://react-lm.github.io/)"
   ]
  },
  {
   "cell_type": "code",
   "execution_count": 92,
   "metadata": {},
   "outputs": [],
   "source": [
    "barbenheimer_agent = ZeroShotAgent(\n",
    "    llm_chain=llm_chain, \n",
    "    tools=tools, \n",
    "    verbose=True)\n",
    "\n",
    "barbenheimer_agent_chain = AgentExecutor.from_agent_and_tools(\n",
    "    agent=barbenheimer_agent, \n",
    "    tools=tools, \n",
    "    verbose=True)"
   ]
  },
  {
   "cell_type": "markdown",
   "metadata": {},
   "source": [
    "## Conclusion\n",
    "\n",
    "All that is left to do now, is feed inputs to your Agent and watch it work!\n",
    "\n",
    "Remember to use the `{\"input\" : \"YOUR QUERY HERE\"}` format when prompting the Agent."
   ]
  },
  {
   "cell_type": "code",
   "execution_count": 93,
   "metadata": {},
   "outputs": [
    {
     "name": "stdout",
     "output_type": "stream",
     "text": [
      "\n",
      "\n",
      "\u001b[1m> Entering new AgentExecutor chain...\u001b[0m\n",
      "\u001b[32;1m\u001b[1;3mThought: I need to find information about the Barbie movie.\n",
      "Action: BarbieInfo\n",
      "Action Input: What did people like about the Barbie movie?\u001b[0m\n",
      "\n",
      "\u001b[1m> Entering new AgentExecutor chain...\u001b[0m\n",
      "\u001b[32;1m\u001b[1;3m\n",
      "Invoking: `PublicReviews` with `Barbie (film)`\n",
      "\n",
      "\n",
      "\u001b[0m\u001b[33;1m\u001b[1;3m[Document(page_content=': 97\\nReview_Date: 21 July 2023\\nAuthor: MrDHWong\\nRating: 9\\nReview_Title: A darkly satirical look at gender structure in society\\nReview: \"Barbie\" is a comedy film based on the line of fashion dolls by Mattel. Directed and co-written by Greta Gerwig (\"Lady Bird\", \"Little Women\") and starring Margot Robbie and Ryan Gosling, it takes every opportunity to revel in its amusing premise with a darkly satirical look at gender structure in society.\\nReview_Url: /review/rw9199947/?ref_=tt_urv', metadata={'source': '/review/rw9199947/?ref_=tt_urv', 'row': 97}), Document(page_content=\"Review: The big summer blockbuster of 2023 is a wonderful visual spectacle with a great deal of creative physical comedy, centered in and around the universe of Barbie, Mattel's historic toy doll. Unfortunately, the film tries to be and do much more than what the filmmakers ultimately are able to control and reel in. That a movie about Barbie would be guilty of Americanization is no surprise, and in many ways more than befitting, but the Americanization here isn't just about the history of the toy itself and all its cultural impacts - Barbie also views everything through the eyes of Hollywood anno 2023 - which arguably is a very particular and perhaps not that representative outlook. Instead of utilizing the fine foundation laid in the film's first third, director and co-writer Greta Gervig (Lady Bird, Little Women) gets herself lost in a trite, divisive and most likely futile battle of the sexes, which will leave youths - and perhaps particularly Europeans - feeling confused and\", metadata={'source': '/review/rw9199947/?ref_=tt_urv', 'row': 116}), Document(page_content=\"particularly Europeans - feeling confused and conflicted. The filmmakers' supposed toying with stereotypes ultimately becomes more of a playing into them, especially towards the end when Gerwig staggers along desperately looking for closure and something meaningful to say. Alas, Barbie has ended up as a rather sad symptom of our times, when it could have been the wonderfully funny piece of femininity-appraising escapism it started out as. There are nonetheless several highlights here, such as the delightfully absurd opening sequence (a fine nod to Kubrick's 2001), the initial introduction of Barbie and Ken's days in Barbieland, and - of course - their first encounter with the real world.\", metadata={'source': '/review/rw9199947/?ref_=tt_urv', 'row': 116}), Document(page_content=': 53\\nReview_Date: 29 July 2023\\nAuthor: planktonrules\\nRating: 6\\nReview_Title: Good...not great\\nReview: \"Barbie\" is a movie that is setting all sorts of records, so it\\'s obvious that the film is touching many people. For some, it\\'s the fun of seeing a doll come to life, for others it\\'s the theme of empowerment that make the movie a big hit. As for me, I did like it and thought it was a pretty good movie...but it\\'s not for everyone.\\nReview_Url: /review/rw9199947/?ref_=tt_urv', metadata={'source': '/review/rw9199947/?ref_=tt_urv', 'row': 53})]\u001b[0m\u001b[32;1m\u001b[1;3mPeople liked several aspects of the Barbie movie. Here are some highlights from the reviews:\n",
      "\n",
      "1. A darkly satirical look at gender structure in society: The film was praised for its satirical approach to exploring gender roles and societal expectations. It delves into the concept of Barbie as a cultural icon and examines the impact of gender norms.\n",
      "\n",
      "2. Visual spectacle and creative physical comedy: The movie was commended for its stunning visuals and creative use of physical comedy. It provided a visually appealing and entertaining experience for the audience.\n",
      "\n",
      "3. Delightfully absurd opening sequence and introduction of Barbie and Ken's world: The film's opening sequence and the initial introduction of Barbie and Ken's life in Barbieland were highlighted as enjoyable and engaging moments.\n",
      "\n",
      "4. Theme of empowerment: Some viewers appreciated the movie's theme of empowerment, which resonated with them. It showcased Barbie's journey of self-discovery and encouraged viewers to embrace their own individuality and strengths.\n",
      "\n",
      "5. Fun and entertaining: Overall, the Barbie movie was considered a fun and entertaining watch. It provided a lighthearted and enjoyable experience for many viewers.\n",
      "\n",
      "It's important to note that these are just a few selected reviews, and opinions may vary among different viewers.\u001b[0m\n",
      "\n",
      "\u001b[1m> Finished chain.\u001b[0m\n",
      "\n",
      "Observation: \u001b[36;1m\u001b[1;3m{'input': 'What did people like about the Barbie movie?', 'chat_history': [AIMessage(content='The plot of the Barbie movie follows Barbie (played by Margot Robbie) and Ken (played by Ryan Gosling) on a journey of self-discovery after experiencing an existential crisis. Barbie and Ken face various challenges and adventures as they navigate through their personal growth. The film explores themes of identity, self-reflection, and the pursuit of happiness. It features an ensemble supporting cast, including America Ferrera, Kate McKinnon, Helen Mirren, Issa Rae, Simu Liu, Michael Cera, Rhea Perlman, and Will Ferrell. The movie received critical acclaim and became a box office success, grossing $1.2 billion worldwide.', additional_kwargs={}, example=False), HumanMessage(content='What did people like about the Barbie movie?', additional_kwargs={}, example=False), AIMessage(content='', additional_kwargs={'function_call': {'name': 'PublicReviews', 'arguments': '{\\n  \"__arg1\": \"Barbie (film)\"\\n}'}}, example=False), FunctionMessage(content='[Document(page_content=\\': 97\\\\nReview_Date: 21 July 2023\\\\nAuthor: MrDHWong\\\\nRating: 9\\\\nReview_Title: A darkly satirical look at gender structure in society\\\\nReview: \"Barbie\" is a comedy film based on the line of fashion dolls by Mattel. Directed and co-written by Greta Gerwig (\"Lady Bird\", \"Little Women\") and starring Margot Robbie and Ryan Gosling, it takes every opportunity to revel in its amusing premise with a darkly satirical look at gender structure in society.\\\\nReview_Url: /review/rw9199947/?ref_=tt_urv\\', metadata={\\'source\\': \\'/review/rw9199947/?ref_=tt_urv\\', \\'row\\': 97}), Document(page_content=\"Review: The big summer blockbuster of 2023 is a wonderful visual spectacle with a great deal of creative physical comedy, centered in and around the universe of Barbie, Mattel\\'s historic toy doll. Unfortunately, the film tries to be and do much more than what the filmmakers ultimately are able to control and reel in. That a movie about Barbie would be guilty of Americanization is no surprise, and in many ways more than befitting, but the Americanization here isn\\'t just about the history of the toy itself and all its cultural impacts - Barbie also views everything through the eyes of Hollywood anno 2023 - which arguably is a very particular and perhaps not that representative outlook. Instead of utilizing the fine foundation laid in the film\\'s first third, director and co-writer Greta Gervig (Lady Bird, Little Women) gets herself lost in a trite, divisive and most likely futile battle of the sexes, which will leave youths - and perhaps particularly Europeans - feeling confused and\", metadata={\\'source\\': \\'/review/rw9199947/?ref_=tt_urv\\', \\'row\\': 116}), Document(page_content=\"particularly Europeans - feeling confused and conflicted. The filmmakers\\' supposed toying with stereotypes ultimately becomes more of a playing into them, especially towards the end when Gerwig staggers along desperately looking for closure and something meaningful to say. Alas, Barbie has ended up as a rather sad symptom of our times, when it could have been the wonderfully funny piece of femininity-appraising escapism it started out as. There are nonetheless several highlights here, such as the delightfully absurd opening sequence (a fine nod to Kubrick\\'s 2001), the initial introduction of Barbie and Ken\\'s days in Barbieland, and - of course - their first encounter with the real world.\", metadata={\\'source\\': \\'/review/rw9199947/?ref_=tt_urv\\', \\'row\\': 116}), Document(page_content=\\': 53\\\\nReview_Date: 29 July 2023\\\\nAuthor: planktonrules\\\\nRating: 6\\\\nReview_Title: Good...not great\\\\nReview: \"Barbie\" is a movie that is setting all sorts of records, so it\\\\\\'s obvious that the film is touching many people. For some, it\\\\\\'s the fun of seeing a doll come to life, for others it\\\\\\'s the theme of empowerment that make the movie a big hit. As for me, I did like it and thought it was a pretty good movie...but it\\\\\\'s not for everyone.\\\\nReview_Url: /review/rw9199947/?ref_=tt_urv\\', metadata={\\'source\\': \\'/review/rw9199947/?ref_=tt_urv\\', \\'row\\': 53})]', additional_kwargs={}, name='PublicReviews'), AIMessage(content=\"People liked several aspects of the Barbie movie. Here are some highlights from the reviews:\\n\\n1. A darkly satirical look at gender structure in society: The film was praised for its satirical approach to exploring gender roles and societal expectations. It delves into the concept of Barbie as a cultural icon and examines the impact of gender norms.\\n\\n2. Visual spectacle and creative physical comedy: The movie was commended for its stunning visuals and creative use of physical comedy. It provided a visually appealing and entertaining experience for the audience.\\n\\n3. Delightfully absurd opening sequence and introduction of Barbie and Ken's world: The film's opening sequence and the initial introduction of Barbie and Ken's life in Barbieland were highlighted as enjoyable and engaging moments.\\n\\n4. Theme of empowerment: Some viewers appreciated the movie's theme of empowerment, which resonated with them. It showcased Barbie's journey of self-discovery and encouraged viewers to embrace their own individuality and strengths.\\n\\n5. Fun and entertaining: Overall, the Barbie movie was considered a fun and entertaining watch. It provided a lighthearted and enjoyable experience for many viewers.\\n\\nIt's important to note that these are just a few selected reviews, and opinions may vary among different viewers.\", additional_kwargs={}, example=False)], 'output': \"People liked several aspects of the Barbie movie. Here are some highlights from the reviews:\\n\\n1. A darkly satirical look at gender structure in society: The film was praised for its satirical approach to exploring gender roles and societal expectations. It delves into the concept of Barbie as a cultural icon and examines the impact of gender norms.\\n\\n2. Visual spectacle and creative physical comedy: The movie was commended for its stunning visuals and creative use of physical comedy. It provided a visually appealing and entertaining experience for the audience.\\n\\n3. Delightfully absurd opening sequence and introduction of Barbie and Ken's world: The film's opening sequence and the initial introduction of Barbie and Ken's life in Barbieland were highlighted as enjoyable and engaging moments.\\n\\n4. Theme of empowerment: Some viewers appreciated the movie's theme of empowerment, which resonated with them. It showcased Barbie's journey of self-discovery and encouraged viewers to embrace their own individuality and strengths.\\n\\n5. Fun and entertaining: Overall, the Barbie movie was considered a fun and entertaining watch. It provided a lighthearted and enjoyable experience for many viewers.\\n\\nIt's important to note that these are just a few selected reviews, and opinions may vary among different viewers.\", 'intermediate_steps': [(_FunctionsAgentAction(tool='PublicReviews', tool_input='Barbie (film)', log='\\nInvoking: `PublicReviews` with `Barbie (film)`\\n\\n\\n', message_log=[AIMessage(content='', additional_kwargs={'function_call': {'name': 'PublicReviews', 'arguments': '{\\n  \"__arg1\": \"Barbie (film)\"\\n}'}}, example=False)]), [Document(page_content=': 97\\nReview_Date: 21 July 2023\\nAuthor: MrDHWong\\nRating: 9\\nReview_Title: A darkly satirical look at gender structure in society\\nReview: \"Barbie\" is a comedy film based on the line of fashion dolls by Mattel. Directed and co-written by Greta Gerwig (\"Lady Bird\", \"Little Women\") and starring Margot Robbie and Ryan Gosling, it takes every opportunity to revel in its amusing premise with a darkly satirical look at gender structure in society.\\nReview_Url: /review/rw9199947/?ref_=tt_urv', metadata={'source': '/review/rw9199947/?ref_=tt_urv', 'row': 97}), Document(page_content=\"Review: The big summer blockbuster of 2023 is a wonderful visual spectacle with a great deal of creative physical comedy, centered in and around the universe of Barbie, Mattel's historic toy doll. Unfortunately, the film tries to be and do much more than what the filmmakers ultimately are able to control and reel in. That a movie about Barbie would be guilty of Americanization is no surprise, and in many ways more than befitting, but the Americanization here isn't just about the history of the toy itself and all its cultural impacts - Barbie also views everything through the eyes of Hollywood anno 2023 - which arguably is a very particular and perhaps not that representative outlook. Instead of utilizing the fine foundation laid in the film's first third, director and co-writer Greta Gervig (Lady Bird, Little Women) gets herself lost in a trite, divisive and most likely futile battle of the sexes, which will leave youths - and perhaps particularly Europeans - feeling confused and\", metadata={'source': '/review/rw9199947/?ref_=tt_urv', 'row': 116}), Document(page_content=\"particularly Europeans - feeling confused and conflicted. The filmmakers' supposed toying with stereotypes ultimately becomes more of a playing into them, especially towards the end when Gerwig staggers along desperately looking for closure and something meaningful to say. Alas, Barbie has ended up as a rather sad symptom of our times, when it could have been the wonderfully funny piece of femininity-appraising escapism it started out as. There are nonetheless several highlights here, such as the delightfully absurd opening sequence (a fine nod to Kubrick's 2001), the initial introduction of Barbie and Ken's days in Barbieland, and - of course - their first encounter with the real world.\", metadata={'source': '/review/rw9199947/?ref_=tt_urv', 'row': 116}), Document(page_content=': 53\\nReview_Date: 29 July 2023\\nAuthor: planktonrules\\nRating: 6\\nReview_Title: Good...not great\\nReview: \"Barbie\" is a movie that is setting all sorts of records, so it\\'s obvious that the film is touching many people. For some, it\\'s the fun of seeing a doll come to life, for others it\\'s the theme of empowerment that make the movie a big hit. As for me, I did like it and thought it was a pretty good movie...but it\\'s not for everyone.\\nReview_Url: /review/rw9199947/?ref_=tt_urv', metadata={'source': '/review/rw9199947/?ref_=tt_urv', 'row': 53})])]}\u001b[0m\n",
      "Thought:\u001b[32;1m\u001b[1;3mBased on the reviews, people liked several aspects of the Barbie movie. Some highlights include:\n",
      "\n",
      "1. A darkly satirical look at gender structure in society: The film was praised for its satirical approach to exploring gender roles and societal expectations. It delves into the concept of Barbie as a cultural icon and examines the impact of gender norms.\n",
      "\n",
      "2. Visual spectacle and creative physical comedy: The movie was commended for its stunning visuals and creative use of physical comedy. It provided a visually appealing and entertaining experience for the audience.\n",
      "\n",
      "3. Delightfully absurd opening sequence and introduction of Barbie and Ken's world: The film's opening sequence and the initial introduction of Barbie and Ken's life in Barbieland were highlighted as enjoyable and engaging moments.\n",
      "\n",
      "4. Theme of empowerment: Some viewers appreciated the movie's theme of empowerment, which resonated with them. It showcased Barbie's journey of self-discovery and encouraged viewers to embrace their own individuality and strengths.\n",
      "\n",
      "5. Fun and entertaining: Overall, the Barbie movie was considered a fun and entertaining watch. It provided a lighthearted and enjoyable experience for many viewers.\n",
      "\n",
      "It's important to note that these are just a few selected reviews, and opinions may vary among different viewers.\n",
      "\n",
      "Final Answer: People liked the Barbie movie for its satirical approach to gender structure, visual spectacle, creative physical comedy, delightfully absurd opening sequence, theme of empowerment, and overall fun and entertaining nature.\u001b[0m\n",
      "\n",
      "\u001b[1m> Finished chain.\u001b[0m\n"
     ]
    },
    {
     "data": {
      "text/plain": [
       "{'input': 'What did people like about the Barbie movie?',\n",
       " 'output': 'People liked the Barbie movie for its satirical approach to gender structure, visual spectacle, creative physical comedy, delightfully absurd opening sequence, theme of empowerment, and overall fun and entertaining nature.'}"
      ]
     },
     "execution_count": 93,
     "metadata": {},
     "output_type": "execute_result"
    }
   ],
   "source": [
    "barbenheimer_agent_chain.invoke({\"input\" : \"What did people like about the Barbie movie?\"})"
   ]
  },
  {
   "cell_type": "code",
   "execution_count": 78,
   "metadata": {},
   "outputs": [
    {
     "name": "stdout",
     "output_type": "stream",
     "text": [
      "\n",
      "\n",
      "\u001b[1m> Entering new AgentExecutor chain...\u001b[0m\n",
      "\u001b[32;1m\u001b[1;3mThought: I need to find out what people liked about the Oppenheimer movie.\n",
      "Action: OppenheimerInfo\n",
      "Action Input: \"What did people like about the Oppenheimer movie?\"\u001b[0m\n",
      "Observation: \u001b[33;1m\u001b[1;3mcontent=\"People liked the screenplay, the performances of the cast (particularly those of Murphy and Downey), and the visuals of the Oppenheimer movie. They also praised the accuracy of the film and its ability to make a complicated man's story compelling and engaging. The cinematography was also praised, and viewers enjoyed the three-hour runtime.\" additional_kwargs={} example=False\u001b[0m\n",
      "Thought:\u001b[32;1m\u001b[1;3mI now know what people liked about the Oppenheimer movie.\n",
      "Final Answer: People liked the screenplay, the performances of the cast, the visuals, the accuracy, the cinematography, and the three-hour runtime of the Oppenheimer movie.\u001b[0m\n",
      "\n",
      "\u001b[1m> Finished chain.\u001b[0m\n"
     ]
    },
    {
     "data": {
      "text/plain": [
       "'People liked the screenplay, the performances of the cast, the visuals, the accuracy, the cinematography, and the three-hour runtime of the Oppenheimer movie.'"
      ]
     },
     "execution_count": 78,
     "metadata": {},
     "output_type": "execute_result"
    }
   ],
   "source": [
    "barbenheimer_agent_chain.run({\"input\" : \"What did people like about the Oppenheimer movie?\"})"
   ]
  },
  {
   "cell_type": "code",
   "execution_count": 95,
   "metadata": {},
   "outputs": [
    {
     "name": "stdout",
     "output_type": "stream",
     "text": [
      "\n",
      "\n",
      "\u001b[1m> Entering new AgentExecutor chain...\u001b[0m\n",
      "\u001b[32;1m\u001b[1;3mThought: I need to find information about the five main themes of the Oppenheimer movie.\n",
      "Action: OppenheimerInfo\n",
      "Action Input: What are the five main themes of the Oppenheimer movie?\u001b[0m\n",
      "Observation: \u001b[33;1m\u001b[1;3mcontent=\"Based on the information provided, the five main themes of the Oppenheimer movie are:\\n\\n1. Fear and foreboding about the horror of full-on nuclear conflict\\n2. Humanity's capacity for greatness and terribleness\\n3. The ethical and moral dilemmas surrounding the creation of the atomic bomb\\n4. The influence of the red scare and McCarthyism on J. Robert Oppenheimer's life\\n5. The pressure and internal conflict faced by Oppenheimer as he directed the Manhattan Project.\" additional_kwargs={} example=False\u001b[0m\n",
      "Thought:\u001b[32;1m\u001b[1;3mI now know the final answer\n",
      "Final Answer: The five main themes of the Oppenheimer movie are fear and foreboding about the horror of full-on nuclear conflict, humanity's capacity for greatness and terribleness, the ethical and moral dilemmas surrounding the creation of the atomic bomb, the influence of the red scare and McCarthyism on J. Robert Oppenheimer's life, and the pressure and internal conflict faced by Oppenheimer as he directed the Manhattan Project.\u001b[0m\n",
      "\n",
      "\u001b[1m> Finished chain.\u001b[0m\n"
     ]
    },
    {
     "data": {
      "text/plain": [
       "\"The five main themes of the Oppenheimer movie are fear and foreboding about the horror of full-on nuclear conflict, humanity's capacity for greatness and terribleness, the ethical and moral dilemmas surrounding the creation of the atomic bomb, the influence of the red scare and McCarthyism on J. Robert Oppenheimer's life, and the pressure and internal conflict faced by Oppenheimer as he directed the Manhattan Project.\""
      ]
     },
     "execution_count": 95,
     "metadata": {},
     "output_type": "execute_result"
    }
   ],
   "source": [
    "barbenheimer_agent_chain.run({\"input\" : \"what are the five main themes of Oppenheimer movie?\"})"
   ]
  },
  {
   "cell_type": "code",
   "execution_count": 96,
   "metadata": {},
   "outputs": [
    {
     "name": "stdout",
     "output_type": "stream",
     "text": [
      "\n",
      "\n",
      "\u001b[1m> Entering new AgentExecutor chain...\u001b[0m\n",
      "\u001b[32;1m\u001b[1;3mThought: I need to find information about both Barbie and Oppenheimer to determine if their movies share similar themes or ideas.\n",
      "Action: BarbieInfo\n",
      "Action Input: Did Barbie movies have any specific themes or ideas?\u001b[0m\n",
      "\n",
      "\u001b[1m> Entering new AgentExecutor chain...\u001b[0m\n",
      "\u001b[32;1m\u001b[1;3m\n",
      "Invoking: `wikipedia` with `Barbie (film series)`\n",
      "\n",
      "\n",
      "\u001b[0m\u001b[36;1m\u001b[1;3m[Document(page_content='Barbie is a 2023 American fantasy comedy film directed by Greta Gerwig from a screenplay she wrote with Noah Baumbach. Based on the Barbie fashion dolls by Mattel, it is the first live-action Barbie film after numerous computer-animated films and specials. The film follows Barbie (Margot Robbie) and Ken (Ryan Gosling) on a journey of self-discovery following an existential crisis. It features an ensemble supporting cast, including America Ferrera, Kate McKinnon, Helen Mirren, Issa Rae, Simu Liu,', metadata={'title': 'Barbie (film)', 'summary': 'Barbie is a 2023 American fantasy comedy film directed by Greta Gerwig from a screenplay she wrote with Noah Baumbach. Based on the Barbie fashion dolls by Mattel, it is the first live-action Barbie film after numerous computer-animated films and specials. The film follows Barbie (Margot Robbie) and Ken (Ryan Gosling) on a journey of self-discovery following an existential crisis. It features an ensemble supporting cast, including America Ferrera, Kate McKinnon, Helen Mirren, Issa Rae, Simu Liu, Michael Cera, Rhea Perlman, and Will Ferrell.\\nA live-action Barbie film was announced in September 2009 by Universal Pictures with Laurence Mark producing. Development began in April 2014, when Sony Pictures acquired the film rights. Following multiple writer and director changes and the casting of Amy Schumer and later Anne Hathaway as Barbie, the rights were transferred to Warner Bros. Pictures in October 2018. Robbie was cast in 2019, after Gal Gadot turned down the role due to scheduling conflicts, and Gerwig was announced as director and co-writer with Baumbach in 2020. The rest of the cast were announced in early 2022. Filming took place primarily at Warner Bros. Studios, Leavesden, in England and on the Venice Beach Skatepark in Los Angeles from March to July 2022.\\nBarbie premiered at the Shrine Auditorium in Los Angeles on July 9, 2023, and was theatrically released in the United States on July 21 by Warner Bros. Pictures. Its simultaneous release with Universal\\'s Oppenheimer led to the \"Barbenheimer\" cultural phenomenon, which encouraged audiences to see both films as a double feature. The film received critical acclaim and has grossed $1.2 billion worldwide, becoming the second highest-grossing film of 2023, as well as the highest-grossing film directed solely by a woman and the 24th highest-grossing film of all-time.', 'source': 'https://en.wikipedia.org/wiki/Barbie_(film)'}), Document(page_content=\"Arriving at Venice Beach, Barbie punches a man for groping her, leading to her and Ken's brief arrest. Alarmed by their presence, Mattel's CEO orders their recapture. Barbie tracks down her owner, a tween girl named Sasha, who criticizes her for encouraging unrealistic beauty standards. Distraught, Barbie discovers that Gloria, a Mattel employee and Sasha's mother, inadvertently catalyzed her existential crisis after Gloria began playing with Sasha's old Barbie toys in a similar state. Mattel\", metadata={'title': 'Barbie (film)', 'summary': 'Barbie is a 2023 American fantasy comedy film directed by Greta Gerwig from a screenplay she wrote with Noah Baumbach. Based on the Barbie fashion dolls by Mattel, it is the first live-action Barbie film after numerous computer-animated films and specials. The film follows Barbie (Margot Robbie) and Ken (Ryan Gosling) on a journey of self-discovery following an existential crisis. It features an ensemble supporting cast, including America Ferrera, Kate McKinnon, Helen Mirren, Issa Rae, Simu Liu, Michael Cera, Rhea Perlman, and Will Ferrell.\\nA live-action Barbie film was announced in September 2009 by Universal Pictures with Laurence Mark producing. Development began in April 2014, when Sony Pictures acquired the film rights. Following multiple writer and director changes and the casting of Amy Schumer and later Anne Hathaway as Barbie, the rights were transferred to Warner Bros. Pictures in October 2018. Robbie was cast in 2019, after Gal Gadot turned down the role due to scheduling conflicts, and Gerwig was announced as director and co-writer with Baumbach in 2020. The rest of the cast were announced in early 2022. Filming took place primarily at Warner Bros. Studios, Leavesden, in England and on the Venice Beach Skatepark in Los Angeles from March to July 2022.\\nBarbie premiered at the Shrine Auditorium in Los Angeles on July 9, 2023, and was theatrically released in the United States on July 21 by Warner Bros. Pictures. Its simultaneous release with Universal\\'s Oppenheimer led to the \"Barbenheimer\" cultural phenomenon, which encouraged audiences to see both films as a double feature. The film received critical acclaim and has grossed $1.2 billion worldwide, becoming the second highest-grossing film of 2023, as well as the highest-grossing film directed solely by a woman and the 24th highest-grossing film of all-time.', 'source': 'https://en.wikipedia.org/wiki/Barbie_(film)'})]\u001b[0m\u001b[32;1m\u001b[1;3mThe specific themes and ideas of the Barbie movie series can vary from film to film. However, based on the information available, here are some common themes and ideas that have been explored in Barbie movies:\n",
      "\n",
      "1. Friendship and teamwork: Many Barbie movies emphasize the importance of friendship and working together as a team. The characters often overcome challenges by supporting and helping each other.\n",
      "\n",
      "2. Self-acceptance and embracing individuality: Barbie movies often promote the idea of self-acceptance and embracing one's unique qualities. The characters learn to be confident in who they are and celebrate their individuality.\n",
      "\n",
      "3. Empowerment and pursuing dreams: Barbie movies often feature strong and determined female characters who pursue their dreams and overcome obstacles. These films encourage viewers, especially young girls, to believe in themselves and follow their passions.\n",
      "\n",
      "4. Environmental awareness and conservation: Some Barbie movies address environmental issues and promote the importance of taking care of the planet. These films raise awareness about topics such as pollution, deforestation, and animal conservation.\n",
      "\n",
      "5. Fairy tale and fantasy elements: Many Barbie movies are set in magical worlds and incorporate fairy tale elements. These films transport viewers to enchanting realms and often include themes of love, bravery, and the power of imagination.\n",
      "\n",
      "It's important to note that these themes and ideas are not exhaustive and may vary in different Barbie movies. Each film may have its own unique storyline and messages.\u001b[0m\n",
      "\n",
      "\u001b[1m> Finished chain.\u001b[0m\n",
      "\n",
      "Observation: \u001b[36;1m\u001b[1;3m{'input': 'Did Barbie movies have any specific themes or ideas?', 'chat_history': [AIMessage(content=\"The Barbie movie explores several themes and ideas. Here are some key aspects:\\n\\n1. Self-discovery and existential crisis: The film follows Barbie and Ken on a journey of self-discovery after experiencing an existential crisis. They question their identities and purpose, leading to personal growth and transformation.\\n\\n2. Unrealistic beauty standards: Barbie's owner, Sasha, criticizes her for encouraging unrealistic beauty standards. This theme highlights the impact of societal expectations and challenges the notion of idealized beauty.\\n\\n3. Empowerment and individuality: The movie emphasizes the importance of embracing one's individuality and strengths. Barbie's journey encourages viewers to be confident in who they are and to celebrate their unique qualities.\\n\\n4. Gender structure in society: The film takes a satirical look at gender structure in society. It explores the concept of Barbie as a cultural icon and examines the impact of gender norms and stereotypes.\\n\\nThese themes and ideas contribute to the overall narrative and message of the Barbie movie, providing a thought-provoking and entertaining experience for the audience.\", additional_kwargs={}, example=False), HumanMessage(content='Did Barbie movies have any specific themes or ideas?', additional_kwargs={}, example=False), AIMessage(content='', additional_kwargs={'function_call': {'name': 'wikipedia', 'arguments': '{\\n  \"__arg1\": \"Barbie (film series)\"\\n}'}}, example=False), FunctionMessage(content='[Document(page_content=\\'Barbie is a 2023 American fantasy comedy film directed by Greta Gerwig from a screenplay she wrote with Noah Baumbach. Based on the Barbie fashion dolls by Mattel, it is the first live-action Barbie film after numerous computer-animated films and specials. The film follows Barbie (Margot Robbie) and Ken (Ryan Gosling) on a journey of self-discovery following an existential crisis. It features an ensemble supporting cast, including America Ferrera, Kate McKinnon, Helen Mirren, Issa Rae, Simu Liu,\\', metadata={\\'title\\': \\'Barbie (film)\\', \\'summary\\': \\'Barbie is a 2023 American fantasy comedy film directed by Greta Gerwig from a screenplay she wrote with Noah Baumbach. Based on the Barbie fashion dolls by Mattel, it is the first live-action Barbie film after numerous computer-animated films and specials. The film follows Barbie (Margot Robbie) and Ken (Ryan Gosling) on a journey of self-discovery following an existential crisis. It features an ensemble supporting cast, including America Ferrera, Kate McKinnon, Helen Mirren, Issa Rae, Simu Liu, Michael Cera, Rhea Perlman, and Will Ferrell.\\\\nA live-action Barbie film was announced in September 2009 by Universal Pictures with Laurence Mark producing. Development began in April 2014, when Sony Pictures acquired the film rights. Following multiple writer and director changes and the casting of Amy Schumer and later Anne Hathaway as Barbie, the rights were transferred to Warner Bros. Pictures in October 2018. Robbie was cast in 2019, after Gal Gadot turned down the role due to scheduling conflicts, and Gerwig was announced as director and co-writer with Baumbach in 2020. The rest of the cast were announced in early 2022. Filming took place primarily at Warner Bros. Studios, Leavesden, in England and on the Venice Beach Skatepark in Los Angeles from March to July 2022.\\\\nBarbie premiered at the Shrine Auditorium in Los Angeles on July 9, 2023, and was theatrically released in the United States on July 21 by Warner Bros. Pictures. Its simultaneous release with Universal\\\\\\'s Oppenheimer led to the \"Barbenheimer\" cultural phenomenon, which encouraged audiences to see both films as a double feature. The film received critical acclaim and has grossed $1.2 billion worldwide, becoming the second highest-grossing film of 2023, as well as the highest-grossing film directed solely by a woman and the 24th highest-grossing film of all-time.\\', \\'source\\': \\'https://en.wikipedia.org/wiki/Barbie_(film)\\'}), Document(page_content=\"Arriving at Venice Beach, Barbie punches a man for groping her, leading to her and Ken\\'s brief arrest. Alarmed by their presence, Mattel\\'s CEO orders their recapture. Barbie tracks down her owner, a tween girl named Sasha, who criticizes her for encouraging unrealistic beauty standards. Distraught, Barbie discovers that Gloria, a Mattel employee and Sasha\\'s mother, inadvertently catalyzed her existential crisis after Gloria began playing with Sasha\\'s old Barbie toys in a similar state. Mattel\", metadata={\\'title\\': \\'Barbie (film)\\', \\'summary\\': \\'Barbie is a 2023 American fantasy comedy film directed by Greta Gerwig from a screenplay she wrote with Noah Baumbach. Based on the Barbie fashion dolls by Mattel, it is the first live-action Barbie film after numerous computer-animated films and specials. The film follows Barbie (Margot Robbie) and Ken (Ryan Gosling) on a journey of self-discovery following an existential crisis. It features an ensemble supporting cast, including America Ferrera, Kate McKinnon, Helen Mirren, Issa Rae, Simu Liu, Michael Cera, Rhea Perlman, and Will Ferrell.\\\\nA live-action Barbie film was announced in September 2009 by Universal Pictures with Laurence Mark producing. Development began in April 2014, when Sony Pictures acquired the film rights. Following multiple writer and director changes and the casting of Amy Schumer and later Anne Hathaway as Barbie, the rights were transferred to Warner Bros. Pictures in October 2018. Robbie was cast in 2019, after Gal Gadot turned down the role due to scheduling conflicts, and Gerwig was announced as director and co-writer with Baumbach in 2020. The rest of the cast were announced in early 2022. Filming took place primarily at Warner Bros. Studios, Leavesden, in England and on the Venice Beach Skatepark in Los Angeles from March to July 2022.\\\\nBarbie premiered at the Shrine Auditorium in Los Angeles on July 9, 2023, and was theatrically released in the United States on July 21 by Warner Bros. Pictures. Its simultaneous release with Universal\\\\\\'s Oppenheimer led to the \"Barbenheimer\" cultural phenomenon, which encouraged audiences to see both films as a double feature. The film received critical acclaim and has grossed $1.2 billion worldwide, becoming the second highest-grossing film of 2023, as well as the highest-grossing film directed solely by a woman and the 24th highest-grossing film of all-time.\\', \\'source\\': \\'https://en.wikipedia.org/wiki/Barbie_(film)\\'})]', additional_kwargs={}, name='wikipedia'), AIMessage(content=\"The specific themes and ideas of the Barbie movie series can vary from film to film. However, based on the information available, here are some common themes and ideas that have been explored in Barbie movies:\\n\\n1. Friendship and teamwork: Many Barbie movies emphasize the importance of friendship and working together as a team. The characters often overcome challenges by supporting and helping each other.\\n\\n2. Self-acceptance and embracing individuality: Barbie movies often promote the idea of self-acceptance and embracing one's unique qualities. The characters learn to be confident in who they are and celebrate their individuality.\\n\\n3. Empowerment and pursuing dreams: Barbie movies often feature strong and determined female characters who pursue their dreams and overcome obstacles. These films encourage viewers, especially young girls, to believe in themselves and follow their passions.\\n\\n4. Environmental awareness and conservation: Some Barbie movies address environmental issues and promote the importance of taking care of the planet. These films raise awareness about topics such as pollution, deforestation, and animal conservation.\\n\\n5. Fairy tale and fantasy elements: Many Barbie movies are set in magical worlds and incorporate fairy tale elements. These films transport viewers to enchanting realms and often include themes of love, bravery, and the power of imagination.\\n\\nIt's important to note that these themes and ideas are not exhaustive and may vary in different Barbie movies. Each film may have its own unique storyline and messages.\", additional_kwargs={}, example=False)], 'output': \"The specific themes and ideas of the Barbie movie series can vary from film to film. However, based on the information available, here are some common themes and ideas that have been explored in Barbie movies:\\n\\n1. Friendship and teamwork: Many Barbie movies emphasize the importance of friendship and working together as a team. The characters often overcome challenges by supporting and helping each other.\\n\\n2. Self-acceptance and embracing individuality: Barbie movies often promote the idea of self-acceptance and embracing one's unique qualities. The characters learn to be confident in who they are and celebrate their individuality.\\n\\n3. Empowerment and pursuing dreams: Barbie movies often feature strong and determined female characters who pursue their dreams and overcome obstacles. These films encourage viewers, especially young girls, to believe in themselves and follow their passions.\\n\\n4. Environmental awareness and conservation: Some Barbie movies address environmental issues and promote the importance of taking care of the planet. These films raise awareness about topics such as pollution, deforestation, and animal conservation.\\n\\n5. Fairy tale and fantasy elements: Many Barbie movies are set in magical worlds and incorporate fairy tale elements. These films transport viewers to enchanting realms and often include themes of love, bravery, and the power of imagination.\\n\\nIt's important to note that these themes and ideas are not exhaustive and may vary in different Barbie movies. Each film may have its own unique storyline and messages.\", 'intermediate_steps': [(_FunctionsAgentAction(tool='wikipedia', tool_input='Barbie (film series)', log='\\nInvoking: `wikipedia` with `Barbie (film series)`\\n\\n\\n', message_log=[AIMessage(content='', additional_kwargs={'function_call': {'name': 'wikipedia', 'arguments': '{\\n  \"__arg1\": \"Barbie (film series)\"\\n}'}}, example=False)]), [Document(page_content='Barbie is a 2023 American fantasy comedy film directed by Greta Gerwig from a screenplay she wrote with Noah Baumbach. Based on the Barbie fashion dolls by Mattel, it is the first live-action Barbie film after numerous computer-animated films and specials. The film follows Barbie (Margot Robbie) and Ken (Ryan Gosling) on a journey of self-discovery following an existential crisis. It features an ensemble supporting cast, including America Ferrera, Kate McKinnon, Helen Mirren, Issa Rae, Simu Liu,', metadata={'title': 'Barbie (film)', 'summary': 'Barbie is a 2023 American fantasy comedy film directed by Greta Gerwig from a screenplay she wrote with Noah Baumbach. Based on the Barbie fashion dolls by Mattel, it is the first live-action Barbie film after numerous computer-animated films and specials. The film follows Barbie (Margot Robbie) and Ken (Ryan Gosling) on a journey of self-discovery following an existential crisis. It features an ensemble supporting cast, including America Ferrera, Kate McKinnon, Helen Mirren, Issa Rae, Simu Liu, Michael Cera, Rhea Perlman, and Will Ferrell.\\nA live-action Barbie film was announced in September 2009 by Universal Pictures with Laurence Mark producing. Development began in April 2014, when Sony Pictures acquired the film rights. Following multiple writer and director changes and the casting of Amy Schumer and later Anne Hathaway as Barbie, the rights were transferred to Warner Bros. Pictures in October 2018. Robbie was cast in 2019, after Gal Gadot turned down the role due to scheduling conflicts, and Gerwig was announced as director and co-writer with Baumbach in 2020. The rest of the cast were announced in early 2022. Filming took place primarily at Warner Bros. Studios, Leavesden, in England and on the Venice Beach Skatepark in Los Angeles from March to July 2022.\\nBarbie premiered at the Shrine Auditorium in Los Angeles on July 9, 2023, and was theatrically released in the United States on July 21 by Warner Bros. Pictures. Its simultaneous release with Universal\\'s Oppenheimer led to the \"Barbenheimer\" cultural phenomenon, which encouraged audiences to see both films as a double feature. The film received critical acclaim and has grossed $1.2 billion worldwide, becoming the second highest-grossing film of 2023, as well as the highest-grossing film directed solely by a woman and the 24th highest-grossing film of all-time.', 'source': 'https://en.wikipedia.org/wiki/Barbie_(film)'}), Document(page_content=\"Arriving at Venice Beach, Barbie punches a man for groping her, leading to her and Ken's brief arrest. Alarmed by their presence, Mattel's CEO orders their recapture. Barbie tracks down her owner, a tween girl named Sasha, who criticizes her for encouraging unrealistic beauty standards. Distraught, Barbie discovers that Gloria, a Mattel employee and Sasha's mother, inadvertently catalyzed her existential crisis after Gloria began playing with Sasha's old Barbie toys in a similar state. Mattel\", metadata={'title': 'Barbie (film)', 'summary': 'Barbie is a 2023 American fantasy comedy film directed by Greta Gerwig from a screenplay she wrote with Noah Baumbach. Based on the Barbie fashion dolls by Mattel, it is the first live-action Barbie film after numerous computer-animated films and specials. The film follows Barbie (Margot Robbie) and Ken (Ryan Gosling) on a journey of self-discovery following an existential crisis. It features an ensemble supporting cast, including America Ferrera, Kate McKinnon, Helen Mirren, Issa Rae, Simu Liu, Michael Cera, Rhea Perlman, and Will Ferrell.\\nA live-action Barbie film was announced in September 2009 by Universal Pictures with Laurence Mark producing. Development began in April 2014, when Sony Pictures acquired the film rights. Following multiple writer and director changes and the casting of Amy Schumer and later Anne Hathaway as Barbie, the rights were transferred to Warner Bros. Pictures in October 2018. Robbie was cast in 2019, after Gal Gadot turned down the role due to scheduling conflicts, and Gerwig was announced as director and co-writer with Baumbach in 2020. The rest of the cast were announced in early 2022. Filming took place primarily at Warner Bros. Studios, Leavesden, in England and on the Venice Beach Skatepark in Los Angeles from March to July 2022.\\nBarbie premiered at the Shrine Auditorium in Los Angeles on July 9, 2023, and was theatrically released in the United States on July 21 by Warner Bros. Pictures. Its simultaneous release with Universal\\'s Oppenheimer led to the \"Barbenheimer\" cultural phenomenon, which encouraged audiences to see both films as a double feature. The film received critical acclaim and has grossed $1.2 billion worldwide, becoming the second highest-grossing film of 2023, as well as the highest-grossing film directed solely by a woman and the 24th highest-grossing film of all-time.', 'source': 'https://en.wikipedia.org/wiki/Barbie_(film)'})])]}\u001b[0m\n",
      "Thought:\u001b[32;1m\u001b[1;3mBased on the information I found, Barbie movies explore themes such as self-discovery and existential crisis, unrealistic beauty standards, empowerment and individuality, and gender structure in society. Now I need to find information about Oppenheimer's movies to see if they share similar themes or ideas.\n",
      "Action: OppenheimerInfo\n",
      "Action Input: Did Oppenheimer's movies have any specific themes or ideas?\u001b[0m\n",
      "Observation: \u001b[33;1m\u001b[1;3mcontent=\"Yes, the Oppenheimer movie explores several themes and ideas. According to the information provided, the movie delves into Oppenheimer's internal conflict and guilt over his role in the atomic bombings of Hiroshima and Nagasaki. It aims to portray Oppenheimer as feeling genuine remorse for his actions, despite never publicly apologizing. The film also touches on the themes of the red scare and McCarthyism, highlighting the paranoia and shadow that followed Oppenheimer throughout his life. Additionally, the movie raises questions about the ethical implications of scientific advancements and the pressure faced by individuals in positions of power.\" additional_kwargs={} example=False\u001b[0m\n",
      "Thought:\u001b[32;1m\u001b[1;3mBased on the information I found, Oppenheimer's movie explores themes such as Oppenheimer's internal conflict and guilt over his role in the atomic bombings of Hiroshima and Nagasaki, the red scare and McCarthyism, and the ethical implications of scientific advancements. \n",
      "Thought: Now I can compare the themes and ideas of Barbie and Oppenheimer's movies to see if they share any similarities.\n",
      "Final Answer: Based on the information available, the movies Barbie and Oppenheimer explore different themes and ideas. Barbie movies focus on self-discovery, unrealistic beauty standards, empowerment, and gender structure in society, while Oppenheimer's movie delves into Oppenheimer's internal conflict, the red scare and McCarthyism, and the ethical implications of scientific advancements.\u001b[0m\n",
      "\n",
      "\u001b[1m> Finished chain.\u001b[0m\n"
     ]
    },
    {
     "data": {
      "text/plain": [
       "\"Based on the information available, the movies Barbie and Oppenheimer explore different themes and ideas. Barbie movies focus on self-discovery, unrealistic beauty standards, empowerment, and gender structure in society, while Oppenheimer's movie delves into Oppenheimer's internal conflict, the red scare and McCarthyism, and the ethical implications of scientific advancements.\""
      ]
     },
     "execution_count": 96,
     "metadata": {},
     "output_type": "execute_result"
    }
   ],
   "source": [
    "barbenheimer_agent_chain.run({\"input\" : \"Did the movies Barbie and Oppenheimer share similar themes or ideas?\"})"
   ]
  },
  {
   "cell_type": "markdown",
   "metadata": {},
   "source": [
    "## Next Steps\n",
    "\n",
    "It's time to build a Chainlit (or Gradio) application and host it on Hugging Face Spaces! :ship:"
   ]
  }
 ],
 "metadata": {
  "kernelspec": {
   "display_name": "Python 3.11.4 ('raqa_llm')",
   "language": "python",
   "name": "python3"
  },
  "language_info": {
   "codemirror_mode": {
    "name": "ipython",
    "version": 3
   },
   "file_extension": ".py",
   "mimetype": "text/x-python",
   "name": "python",
   "nbconvert_exporter": "python",
   "pygments_lexer": "ipython3",
   "version": "3.11.4"
  },
  "orig_nbformat": 4,
  "vscode": {
   "interpreter": {
    "hash": "be5acfcc025169f2a5d2f1f42c6f0bfaa3f26bc4a79ece99f8de0b1efed5ee59"
   }
  }
 },
 "nbformat": 4,
 "nbformat_minor": 2
}
