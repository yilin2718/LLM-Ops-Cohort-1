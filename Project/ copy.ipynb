{
 "cells": [
  {
   "cell_type": "markdown",
   "metadata": {},
   "source": [
    "# Questioning ADHD and  Through the Use of Agents\n",
    "\n",
    "In the following notebook we will build an application that queries both the Barbie and Oppenheimer movies Wikipedia pages, as well as their reviews. \n",
    "\n",
    "The main focus of this notebook is to showcase a brief introduction to Agents.\n",
    "\n",
    "## Build 🏗️\n",
    "\n",
    "There are 3 main tasks in this notebook:\n",
    "\n",
    "1. Contruct a Barbie retriever\n",
    "2. Construct an Oppenheimer retriever\n",
    "3. Combine the two and allow users to query both resources from a single input through the use of Agents\n",
    "\n",
    "## Ship 🚢\n",
    "\n",
    "Based on Tuesday's session - construct a Chainlit (or Gradio) application that allows users to interface with the application.\n",
    "\n",
    "## Share 🚀\n",
    "\n",
    "Make a social media post about your final application."
   ]
  },
  {
   "cell_type": "markdown",
   "metadata": {},
   "source": [
    "### Dependencies\n",
    "\n",
    "As always, let's start with some dependencies!"
   ]
  },
  {
   "cell_type": "code",
   "execution_count": 2,
   "metadata": {},
   "outputs": [
    {
     "name": "stdout",
     "output_type": "stream",
     "text": [
      "\u001b[31mERROR: pip's dependency resolver does not currently take into account all the packages that are installed. This behaviour is the source of the following dependency conflicts.\n",
      "llama-index 0.8.6 requires langchain<=0.0.266,>=0.0.262, but you have langchain 0.0.283 which is incompatible.\u001b[0m\u001b[31m\n",
      "\u001b[0m"
     ]
    }
   ],
   "source": [
    "!pip install -q -U langchain openai"
   ]
  },
  {
   "cell_type": "code",
   "execution_count": 3,
   "metadata": {},
   "outputs": [],
   "source": [
    "import getpass\n",
    "import os\n",
    "openai_api_key = getpass.getpass(\"Enter your OpenAI API Key: \")\n",
    "os.environ[\"OPENAI_API_KEY\"] = openai_api_key"
   ]
  },
  {
   "cell_type": "markdown",
   "metadata": {},
   "source": [
    "### LLM \n",
    "\n",
    "We will be leveraging OpenAI's `gpt-3.5-turbo` throughout the notebook, and we can keep it consistent throughout!"
   ]
  },
  {
   "cell_type": "code",
   "execution_count": 4,
   "metadata": {},
   "outputs": [],
   "source": [
    "from langchain.chat_models import ChatOpenAI\n",
    "llm = ChatOpenAI(model=\"gpt-3.5-turbo\", temperature = 0)"
   ]
  },
  {
   "cell_type": "markdown",
   "metadata": {},
   "source": [
    "### Data Collection and Transformation\n",
    "\n",
    "We'll be leveraging the `WikipediaLoader` tool to collect information from Wikipedia. \n",
    "\n",
    "Be sure to set the `doc_content_chars_max` parameter so that you capture the *entire* Wikipedia article content."
   ]
  },
  {
   "cell_type": "code",
   "execution_count": 5,
   "metadata": {},
   "outputs": [],
   "source": [
    "!pip install -q -U wikipedia"
   ]
  },
  {
   "cell_type": "markdown",
   "metadata": {},
   "source": []
  },
  {
   "cell_type": "code",
   "execution_count": 6,
   "metadata": {},
   "outputs": [],
   "source": [
    "from langchain.document_loaders import WikipediaLoader, CSVLoader\n",
    "\n",
    "adhd_wikipedia_docs = WikipediaLoader(\n",
    "    query=\"Attention deficit hyperactivity disorder\", \n",
    "    load_max_docs=1, # YOUR CODE HERE, \n",
    "    doc_content_chars_max=1_000_000### YOUR CODE HERE\n",
    "    ).load()\n",
    "\n",
    "adhd_csv_docs = CSVLoader(\n",
    "    file_path='adhd-twitter.csv',### YOUR CODE HERE, \n",
    "    source_column='url'### YOUR CODE HERE\n",
    "    ).load()"
   ]
  },
  {
   "cell_type": "markdown",
   "metadata": {},
   "source": [
    "Since we'll be using same format source documentation separated by topic, we can save ourselves some extra effort and set up our splitters once. \n",
    "\n",
    "We're going to leverage the `RecursiveCharacterTextSplitter` again, this time paying close attention to the format our Wikipedia articles and reviews are in so we can be sure to chunk them appropritately. \n",
    "\n",
    "> HINT: You can pass a list of separators when you intialize your `RecursiveTextSplitter`! They are acted on in order of element 0 -> element len(list).\n",
    "\n",
    "RELEVANT DOCS:\n",
    "- [`RecursiveCharacterTextSplitter`](https://api.python.langchain.com/en/latest/text_splitter/langchain.text_splitter.RecursiveCharacterTextSplitter.html#langchain.text_splitter.RecursiveCharacterTextSplitter)"
   ]
  },
  {
   "cell_type": "code",
   "execution_count": 8,
   "metadata": {},
   "outputs": [],
   "source": [
    "from langchain.text_splitter import RecursiveCharacterTextSplitter\n",
    "\n",
    "wikipedia_text_splitter = RecursiveCharacterTextSplitter(\n",
    "    chunk_size =500, ### YOUR CODE HERE,\n",
    "    chunk_overlap =0, ### YOUR CODE HERE,\n",
    "    length_function =len, ### YOUR CODE HERE,\n",
    "    is_separator_regex= False,\n",
    "    separators =[\"\\n==\",\"\\n\",\" \"], ### YOUR CODE HERE # keep headings, then paragraphs, then sentences\n",
    ")\n",
    "\n",
    "csv_text_splitter = RecursiveCharacterTextSplitter(\n",
    "    chunk_size =1000, ### YOUR CODE HERE,\n",
    "    chunk_overlap =50, ### YOUR CODE HERE,\n",
    "    length_function =len, ### YOUR CODE HERE,\n",
    "    is_separator_regex= False,\n",
    "    separators =[\"\\n\", \" \"] ### YOUR CODE HERE # keep paragraphs, then sentences\n",
    ")\n",
    "\n",
    "chunked_adhd_wikipedia_docs =wikipedia_text_splitter.transform_documents(adhd_wikipedia_docs) ### YOUR CODE HERE\n",
    "chunked_adhd_csv_docs =csv_text_splitter.transform_documents(adhd_csv_docs) ### YOUR CODE HERE"
   ]
  },
  {
   "cell_type": "markdown",
   "metadata": {},
   "source": [
    "#### Retrieval and Embedding Strategy\n",
    "\n",
    "We've already discussed the useful application of `CacheBackedEmbeddings`, so let's do it again!\n",
    "\n",
    "RELEVANT DOCS:\n",
    "- [`CacheBackedEmbeddings`](https://api.python.langchain.com/en/latest/embeddings/langchain.embeddings.cache.CacheBackedEmbeddings.html#langchain-embeddings-cache-cachebackedembeddings)"
   ]
  },
  {
   "cell_type": "code",
   "execution_count": 9,
   "metadata": {},
   "outputs": [],
   "source": [
    "!pip install -q -U rank_bm25 tiktoken faiss-cpu"
   ]
  },
  {
   "cell_type": "code",
   "execution_count": 10,
   "metadata": {},
   "outputs": [],
   "source": [
    "from langchain.retrievers import BM25Retriever, EnsembleRetriever\n",
    "from langchain.vectorstores import FAISS\n",
    "from langchain.embeddings.openai import OpenAIEmbeddings\n",
    "from langchain.embeddings import CacheBackedEmbeddings\n",
    "from langchain.storage import LocalFileStore\n",
    "\n",
    "# set up cached embeddings store\n",
    "store =LocalFileStore(\"./shared_cache/\")### YOUR CODE HERE\n",
    "\n",
    "core_embeddings_model =OpenAIEmbeddings()#### YOUR CODE HERE\n",
    "\n",
    "#core_embeddings_model = OpenAIEmbeddings(openai_api_key=openai_api_key) ### YOUR CODE HERE\n",
    "\n",
    "embedder = CacheBackedEmbeddings.from_bytes_store(\n",
    "core_embeddings_model, store, namespace=core_embeddings_model.model\n",
    ")"
   ]
  },
  {
   "cell_type": "markdown",
   "metadata": {},
   "source": [
    "We'll implement a `FAISS` vectorstore, and create a retriever from it."
   ]
  },
  {
   "cell_type": "code",
   "execution_count": 19,
   "metadata": {},
   "outputs": [],
   "source": [
    "adhd_csv_faiss_retriever =FAISS.from_documents(chunked_adhd_csv_docs,embedder).as_retriever() ### YOUR CODE HERE\n"
   ]
  },
  {
   "cell_type": "markdown",
   "metadata": {},
   "source": [
    "There are a number of excellent options to retrieve documents - we'll be looking at an additional example today, which is called the `EnsembleRetriever`.\n",
    "\n",
    "The method this is using is outlined in [this paper](https://plg.uwaterloo.ca/~gvcormac/cormacksigir09-rrf.pdf).\n",
    "\n",
    "The brief explanation is:\n",
    "\n",
    "1. We collect results from two different retrieval methods over the same corpus\n",
    "2. We apply a reranking algorithm to rerank our source documents to be the *most relevant* without losing specific or potentially low-ranked information rich documents\n",
    "3. We feed the top-k results into the LLM with our query as context.\n",
    "\n",
    "> HINT: Your weight list should be of type `List[float]` and the `sum(List[float])` should be `1`."
   ]
  },
  {
   "cell_type": "code",
   "execution_count": 14,
   "metadata": {},
   "outputs": [],
   "source": [
    "# set up BM25 retriever / bag of words\n",
    "adhd_wikipedia_bm25_retriever = BM25Retriever.from_documents(\n",
    "    chunked_adhd_wikipedia_docs\n",
    "    ### YOUR CODE HERE\n",
    ")\n",
    "adhd_wikipedia_bm25_retriever.k = 1 # return 1 document\n",
    "\n",
    "# set up FAISS vector store\n",
    "adhd_wikipedia_faiss_store = FAISS.from_documents(\n",
    "    chunked_adhd_wikipedia_docs,\n",
    "    embedder\n",
    ")\n",
    "adhd_wikipedia_faiss_retriever = adhd_wikipedia_faiss_store.as_retriever(search_kwargs={\"k\": 1})\n",
    "\n",
    "# set up ensemble retriever\n",
    "adhd_ensemble_retriever = EnsembleRetriever(\n",
    "    retrievers=[adhd_wikipedia_bm25_retriever, adhd_wikipedia_faiss_retriever],\n",
    "    weights= [0.25,0.75]### YOUR CODE HERE # should sum to 1\n",
    ")"
   ]
  },
  {
   "cell_type": "markdown",
   "metadata": {},
   "source": [
    "#### Retrieval Agent\n",
    "\n",
    "We can create a simple conversational retrieval Agent by using the built-ins provided by LangChain!\n",
    "\n",
    "> HINT: Be sure to provide good natural language descriptions of what the tool should be used for to get the best results.\n",
    "\n",
    "RELEVANT DOCS:\n",
    "- [`create_retriever_tool`](https://api.python.langchain.com/en/latest/agents/langchain.agents.agent_toolkits.conversational_retrieval.tool.create_retriever_tool.html#langchain.agents.agent_toolkits.conversational_retrieval.tool.create_retriever_tool)"
   ]
  },
  {
   "cell_type": "code",
   "execution_count": 15,
   "metadata": {},
   "outputs": [],
   "source": [
    "from langchain.agents.agent_toolkits import create_retriever_tool\n",
    "\n",
    "adhd_wikipedia_retrieval_tool = create_retriever_tool(\n",
    "    adhd_ensemble_retriever,\n",
    "    \"wikipedia\",\n",
    "    \"searches and returns documents regarding the ADHD condition\"\n",
    ")\n",
    "\n",
    "adhd_csv_retrieval_tool = create_retriever_tool(\n",
    "    adhd_csv_faiss_retriever,\n",
    "    \"PublicReviews\",\n",
    "    \"Searches and returns documents regarding patient personal experience of the adhd\"\n",
    ")\n",
    "\n",
    "adhd_retriever_tools = [adhd_wikipedia_retrieval_tool, adhd_csv_retrieval_tool]"
   ]
  },
  {
   "cell_type": "code",
   "execution_count": 23,
   "metadata": {},
   "outputs": [],
   "source": [
    "\n",
    "# from langchain.prompts.chat import (\n",
    "#     ChatPromptTemplate,\n",
    "#     SystemMessagePromptTemplate,\n",
    "#     HumanMessagePromptTemplate,\n",
    "# )\n",
    "# system_template = \"\"\"\n",
    "# Use the following pieces of context to answer the user's question.\n",
    "# Please respond as if you were a a researcher on patient's experience. \n",
    "# If you don't know the answer, just say that you don't know, don't try to make up an answer.\n",
    "# You can make inferences based on the context as long as it still faithfully represents the feedback.\n",
    "# Example of your response should be:\n",
    "# ```\n",
    "# The answer is foo\n",
    "# ```\n",
    "# Begin!\n",
    "# ----------------\n",
    "# {context}\"\"\"\n",
    "# messages = [\n",
    "#     SystemMessagePromptTemplate.from_template(system_template),\n",
    "#     HumanMessagePromptTemplate.from_template(\"{question}\"),\n",
    "# ]\n",
    "# prompt = ChatPromptTemplate(messages=messages)\n",
    "# chain_type_kwargs = {\"prompt\": prompt}"
   ]
  },
  {
   "cell_type": "markdown",
   "metadata": {},
   "source": [
    "Now that we've created our tools, we can combined them into an agent!\n",
    "\n",
    "RELEVANT DOCS:\n",
    "- [`create_conversational_retrieval_agent`](https://api.python.langchain.com/en/latest/agents/langchain.agents.agent_toolkits.conversational_retrieval.openai_functions.create_conversational_retrieval_agent.html#langchain.agents.agent_toolkits.conversational_retrieval.openai_functions.create_conversational_retrieval_agent)"
   ]
  },
  {
   "cell_type": "code",
   "execution_count": 69,
   "metadata": {},
   "outputs": [],
   "source": [
    "from langchain.agents.agent_toolkits import create_conversational_retrieval_agent\n",
    "\n",
    "# adhd_retriever_agent_executor = create_conversational_retrieval_agent(llm, adhd_retriever_tools, verbose=True, chain_type_kwargs = {\"prompt\": prompt})\n",
    "adhd_retriever_agent_executor = create_conversational_retrieval_agent(llm, adhd_retriever_tools, verbose=True)"
   ]
  },
  {
   "cell_type": "code",
   "execution_count": 70,
   "metadata": {},
   "outputs": [
    {
     "name": "stdout",
     "output_type": "stream",
     "text": [
      "\n",
      "\n",
      "\u001b[1m> Entering new AgentExecutor chain...\u001b[0m\n",
      "\u001b[32;1m\u001b[1;3m\n",
      "Invoking: `PublicReviews` with `ADHD and school`\n",
      "\n",
      "\n",
      "\u001b[0m\u001b[33;1m\u001b[1;3m[Document(page_content='\\ufeff\"fullname\": ADHD posting🏳️\\u200d⚧️ ( School :c )\\nid: 1698395060751192474\\nimages/0: \\nisQuote: false\\nisRetweet: false\\nlikes: 2\\nquotes: 0\\nreplies: 2\\nretweets: 0\\ntext: I am awake\\ntimestamp: 2023-09-03T17:58:00.000Z\\nurl: https://twitter.com/PaisensADHD/status/1698395060751192474\\nusername: @PaisensADHD\\nverified: false', metadata={'source': 'https://twitter.com/PaisensADHD/status/1698395060751192474', 'row': 805}), Document(page_content='\\ufeff\"fullname\": Frif 🟪\\nid: 1698433179252560372\\nimages/0: \\nisQuote: false\\nisRetweet: false\\nlikes: 20\\nquotes: 0\\nreplies: 1\\nretweets: 2\\ntext: If you perform extremely well on major grades like tests and projects, but daily work and especially homework brings your grades down, you probably have ADHD.\\n\\nIf you\\'re able to, talk to a doctor about it. Living without some kind of treatment for that is like hard mode.\\ntimestamp: 2023-09-03T20:29:00.000Z\\nurl: https://twitter.com/Frifuloid/status/1698433179252560372\\nusername: @Frifuloid\\nverified: false', metadata={'source': 'https://twitter.com/Frifuloid/status/1698433179252560372', 'row': 276}), Document(page_content='\\ufeff\"fullname\": ADHD posting🏳️\\u200d⚧️ ( School :c )\\nid: 1698408087940677886\\nimages/0: \\nisQuote: false\\nisRetweet: false\\nlikes: 0\\nquotes: 0\\nreplies: 1\\nretweets: 0\\ntext: It was 10:50ish when i posted it\\ntimestamp: 2023-09-03T18:50:00.000Z\\nurl: https://twitter.com/PaisensADHD/status/1698408087940677886\\nusername: @PaisensADHD\\nverified: false', metadata={'source': 'https://twitter.com/PaisensADHD/status/1698408087940677886', 'row': 639}), Document(page_content='\\ufeff\"fullname\": ADHD posting🏳️\\u200d⚧️ ( School :c )\\nid: 1698427733519577111\\nimages/0: \\nisQuote: false\\nisRetweet: false\\nlikes: 1\\nquotes: 0\\nreplies: 1\\nretweets: 0\\ntext: I’d have to disagree\\ntimestamp: 2023-09-03T20:08:00.000Z\\nurl: https://twitter.com/PaisensADHD/status/1698427733519577111\\nusername: @PaisensADHD\\nverified: false', metadata={'source': 'https://twitter.com/PaisensADHD/status/1698427733519577111', 'row': 353})]\u001b[0m\u001b[32;1m\u001b[1;3mHere are some personal experiences shared by individuals with ADHD and school:\n",
      "\n",
      "1. User @PaisensADHD tweeted, \"I am awake.\" You can find more information [here](https://twitter.com/PaisensADHD/status/1698395060751192474).\n",
      "\n",
      "2. User @Frifuloid tweeted, \"If you perform extremely well on major grades like tests and projects, but daily work and especially homework brings your grades down, you probably have ADHD. If you're able to, talk to a doctor about it. Living without some kind of treatment for that is like hard mode.\" You can find more information [here](https://twitter.com/Frifuloid/status/1698433179252560372).\n",
      "\n",
      "3. User @PaisensADHD tweeted, \"It was 10:50ish when I posted it.\" You can find more information [here](https://twitter.com/PaisensADHD/status/1698408087940677886).\n",
      "\n",
      "4. User @PaisensADHD tweeted, \"I'd have to disagree.\" You can find more information [here](https://twitter.com/PaisensADHD/status/1698427733519577111).\n",
      "\n",
      "Please note that these are personal experiences shared on Twitter and may not represent the experiences of all individuals with ADHD and school.\u001b[0m\n",
      "\n",
      "\u001b[1m> Finished chain.\u001b[0m\n"
     ]
    }
   ],
   "source": [
    "res=adhd_retriever_agent_executor({\"input\" : \"experience for people with adhd and school?\"})\n"
   ]
  },
  {
   "cell_type": "code",
   "execution_count": null,
   "metadata": {},
   "outputs": [],
   "source": [
    "res"
   ]
  },
  {
   "cell_type": "code",
   "execution_count": 62,
   "metadata": {},
   "outputs": [
    {
     "name": "stdout",
     "output_type": "stream",
     "text": [
      "\n",
      "\n",
      "\u001b[1m> Entering new AgentExecutor chain...\u001b[0m\n",
      "\u001b[32;1m\u001b[1;3m\n",
      "Invoking: `PublicReviews` with `ADHD school experience`\n",
      "\n",
      "\n",
      "\u001b[0m\u001b[33;1m\u001b[1;3m[Document(page_content='\\ufeff\"fullname\": unfettered by neuronormativity\\nid: 1698429799126225390\\nimages/0: \\nisQuote: false\\nisRetweet: false\\nlikes: 0\\nquotes: 0\\nreplies: 2\\nretweets: 0\\ntext: h/t at Lauren Ancona, put me on the path to understanding what happened to me by sharing her story of ADHD dx +subsequent years of medication to be able to maintain in an office/work situation.\\nI resisted mood medication because I was a therapist myself.+\\ntimestamp: 2023-09-03T20:16:00.000Z\\nurl: https://twitter.com/cyn_mccrackan/status/1698429799126225390\\nusername: @cyn_mccrackan\\nverified: false', metadata={'source': 'https://twitter.com/cyn_mccrackan/status/1698429799126225390', 'row': 326}), Document(page_content='\\ufeff\"fullname\": ADHD posting🏳️\\u200d⚧️ ( School :c )\\nid: 1698426129668002006\\nimages/0: \\nisQuote: false\\nisRetweet: false\\nlikes: 1\\nquotes: 0\\nreplies: 0\\nretweets: 0\\ntext: I had a She-ra phase and don’t regret it\\ntimestamp: 2023-09-03T20:01:00.000Z\\nurl: https://twitter.com/PaisensADHD/status/1698426129668002006\\nusername: @PaisensADHD\\nverified: false', metadata={'source': 'https://twitter.com/PaisensADHD/status/1698426129668002006', 'row': 371}), Document(page_content='\\ufeff\"fullname\": ADHD posting🏳️\\u200d⚧️ ( School :c )\\nid: 1698395060751192474\\nimages/0: \\nisQuote: false\\nisRetweet: false\\nlikes: 2\\nquotes: 0\\nreplies: 2\\nretweets: 0\\ntext: I am awake\\ntimestamp: 2023-09-03T17:58:00.000Z\\nurl: https://twitter.com/PaisensADHD/status/1698395060751192474\\nusername: @PaisensADHD\\nverified: false', metadata={'source': 'https://twitter.com/PaisensADHD/status/1698395060751192474', 'row': 805}), Document(page_content='\\ufeff\"fullname\": ADHD posting🏳️\\u200d⚧️ ( School :c )\\nid: 1698427733519577111\\nimages/0: \\nisQuote: false\\nisRetweet: false\\nlikes: 1\\nquotes: 0\\nreplies: 1\\nretweets: 0\\ntext: I’d have to disagree\\ntimestamp: 2023-09-03T20:08:00.000Z\\nurl: https://twitter.com/PaisensADHD/status/1698427733519577111\\nusername: @PaisensADHD\\nverified: false', metadata={'source': 'https://twitter.com/PaisensADHD/status/1698427733519577111', 'row': 353})]\u001b[0m\u001b[32;1m\u001b[1;3mHere are some personal experiences shared by individuals with ADHD regarding their school experience:\n",
      "\n",
      "1. User @cyn_mccrackan on Twitter shared their experience of being diagnosed with ADHD and the subsequent years of medication to be able to maintain in an office/work situation. They mentioned initially resisting mood medication because they were a therapist themselves. [Source](https://twitter.com/cyn_mccrackan/status/1698429799126225390)\n",
      "\n",
      "2. User @PaisensADHD on Twitter mentioned having a She-ra phase during school and not regretting it. This suggests that they embraced their interests and individuality despite the challenges of ADHD. [Source](https://twitter.com/PaisensADHD/status/1698426129668002006)\n",
      "\n",
      "3. User @PaisensADHD also tweeted about being awake during school. This could indicate difficulties with focus and attention that are common in individuals with ADHD. [Source](https://twitter.com/PaisensADHD/status/1698395060751192474)\n",
      "\n",
      "4. In another tweet, @PaisensADHD disagreed with a statement, which could reflect the tendency of individuals with ADHD to have different perspectives and opinions. [Source](https://twitter.com/PaisensADHD/status/1698427733519577111)\n",
      "\n",
      "These personal experiences highlight the diverse challenges and experiences that individuals with ADHD may face in the school environment. It is important to remember that each person's experience with ADHD can vary, and support and accommodations can greatly contribute to their success in school.\u001b[0m\n",
      "\n",
      "\u001b[1m> Finished chain.\u001b[0m\n"
     ]
    }
   ],
   "source": [
    "res=adhd_retriever_agent_executor.invoke({\"input\" : \"experience for people with adhd and school?\"})\n"
   ]
  },
  {
   "cell_type": "code",
   "execution_count": 71,
   "metadata": {},
   "outputs": [
    {
     "data": {
      "text/plain": [
       "'Here are some personal experiences shared by individuals with ADHD and school:\\n\\n1. User @PaisensADHD tweeted, \"I am awake.\" You can find more information [here](https://twitter.com/PaisensADHD/status/1698395060751192474).\\n\\n2. User @Frifuloid tweeted, \"If you perform extremely well on major grades like tests and projects, but daily work and especially homework brings your grades down, you probably have ADHD. If you\\'re able to, talk to a doctor about it. Living without some kind of treatment for that is like hard mode.\" You can find more information [here](https://twitter.com/Frifuloid/status/1698433179252560372).\\n\\n3. User @PaisensADHD tweeted, \"It was 10:50ish when I posted it.\" You can find more information [here](https://twitter.com/PaisensADHD/status/1698408087940677886).\\n\\n4. User @PaisensADHD tweeted, \"I\\'d have to disagree.\" You can find more information [here](https://twitter.com/PaisensADHD/status/1698427733519577111).\\n\\nPlease note that these are personal experiences shared on Twitter and may not represent the experiences of all individuals with ADHD and school.'"
      ]
     },
     "execution_count": 71,
     "metadata": {},
     "output_type": "execute_result"
    }
   ],
   "source": [
    "res['output']"
   ]
  },
  {
   "cell_type": "code",
   "execution_count": 72,
   "metadata": {},
   "outputs": [
    {
     "data": {
      "text/plain": [
       "'Here are some personal experiences shared by individuals with ADHD and school:\\n\\n1. User @PaisensADHD tweeted, \"I am awake.\" You can find more information [here](https://twitter.com/PaisensADHD/status/1698395060751192474).\\n\\n2. User @Frifuloid tweeted, \"If you perform extremely well on major grades like tests and projects, but daily work and especially homework brings your grades down, you probably have ADHD. If you\\'re able to, talk to a doctor about it. Living without some kind of treatment for that is like hard mode.\" You can find more information [here](https://twitter.com/Frifuloid/status/1698433179252560372).\\n\\n3. User @PaisensADHD tweeted, \"It was 10:50ish when I posted it.\" You can find more information [here](https://twitter.com/PaisensADHD/status/1698408087940677886).\\n\\n4. User @PaisensADHD tweeted, \"I\\'d have to disagree.\" You can find more information [here](https://twitter.com/PaisensADHD/status/1698427733519577111).\\n\\nPlease note that these are personal experiences shared on Twitter and may not represent the experiences of all individuals with ADHD and school.'"
      ]
     },
     "execution_count": 72,
     "metadata": {},
     "output_type": "execute_result"
    }
   ],
   "source": [
    "res['output']"
   ]
  },
  {
   "cell_type": "code",
   "execution_count": 66,
   "metadata": {},
   "outputs": [
    {
     "data": {
      "text/plain": [
       "dict_keys(['input', 'chat_history', 'output', 'intermediate_steps'])"
      ]
     },
     "execution_count": 66,
     "metadata": {},
     "output_type": "execute_result"
    }
   ],
   "source": [
    "res.keys()"
   ]
  },
  {
   "cell_type": "code",
   "execution_count": null,
   "metadata": {},
   "outputs": [],
   "source": []
  },
  {
   "cell_type": "code",
   "execution_count": 73,
   "metadata": {},
   "outputs": [
    {
     "data": {
      "text/plain": [
       "list"
      ]
     },
     "execution_count": 73,
     "metadata": {},
     "output_type": "execute_result"
    }
   ],
   "source": [
    "type(res['intermediate_steps'][0][1])"
   ]
  },
  {
   "cell_type": "code",
   "execution_count": 74,
   "metadata": {},
   "outputs": [
    {
     "name": "stdout",
     "output_type": "stream",
     "text": [
      "\n",
      "\n",
      "\u001b[1m> Entering new AgentExecutor chain...\u001b[0m\n",
      "\u001b[32;1m\u001b[1;3m\n",
      "Invoking: `PublicReviews` with `ADHD teenager in school`\n",
      "\n",
      "\n",
      "\u001b[0m\u001b[33;1m\u001b[1;3m[Document(page_content='\\ufeff\"fullname\": unfettered by neuronormativity\\nid: 1698429799126225390\\nimages/0: \\nisQuote: false\\nisRetweet: false\\nlikes: 0\\nquotes: 0\\nreplies: 2\\nretweets: 0\\ntext: h/t at Lauren Ancona, put me on the path to understanding what happened to me by sharing her story of ADHD dx +subsequent years of medication to be able to maintain in an office/work situation.\\nI resisted mood medication because I was a therapist myself.+\\ntimestamp: 2023-09-03T20:16:00.000Z\\nurl: https://twitter.com/cyn_mccrackan/status/1698429799126225390\\nusername: @cyn_mccrackan\\nverified: false', metadata={'source': 'https://twitter.com/cyn_mccrackan/status/1698429799126225390', 'row': 326}), Document(page_content='\\ufeff\"fullname\": my therapist say i got ADHD 😔\\nid: 1698423799920676972\\nimages/0: \\nisQuote: false\\nisRetweet: false\\nlikes: 3\\nquotes: 0\\nreplies: 0\\nretweets: 0\\ntext: U stay in ur room, I stay in my room, we chit chat everyone in a while rinse and repeat\\ntimestamp: 2023-09-03T19:52:00.000Z\\nurl: https://twitter.com/crablegluver/status/1698423799920676972\\nusername: @crablegluver\\nverified: false', metadata={'source': 'https://twitter.com/crablegluver/status/1698423799920676972', 'row': 406}), Document(page_content='\\ufeff\"fullname\": ADHD posting🏳️\\u200d⚧️ ( School :c )\\nid: 1698395060751192474\\nimages/0: \\nisQuote: false\\nisRetweet: false\\nlikes: 2\\nquotes: 0\\nreplies: 2\\nretweets: 0\\ntext: I am awake\\ntimestamp: 2023-09-03T17:58:00.000Z\\nurl: https://twitter.com/PaisensADHD/status/1698395060751192474\\nusername: @PaisensADHD\\nverified: false', metadata={'source': 'https://twitter.com/PaisensADHD/status/1698395060751192474', 'row': 805}), Document(page_content='\\ufeff\"fullname\": BeiwyrTheDragon\\nid: 1698431731810939129\\nimages/0: \\nisQuote: false\\nisRetweet: false\\nlikes: 0\\nquotes: 0\\nreplies: 1\\nretweets: 0\\ntext: I was diagnosed with adult ADHD 30+years ago (meaning it doesn\\'t go away). \\nWhat\\'s unhealthy about it? Most things you can learn to control (the hyperactive/impulsivity aspect especially). Sure memory can be somewhat of an issue but post it notes are good for help on that.\\ntimestamp: 2023-09-03T20:24:00.000Z\\nurl: https://twitter.com/beiwyr42/status/1698431731810939129\\nusername: @beiwyr42\\nverified: false', metadata={'source': 'https://twitter.com/beiwyr42/status/1698431731810939129', 'row': 298})]\u001b[0m\u001b[32;1m\u001b[1;3mHere are some personal experiences shared by individuals regarding ADHD teenagers in school:\n",
      "\n",
      "1. User @cyn_mccrackan tweeted, \"Put me on the path to understanding what happened to me by sharing her story of ADHD diagnosis + subsequent years of medication to be able to maintain in an office/work situation. I resisted mood medication because I was a therapist myself.\" You can find more information [here](https://twitter.com/cyn_mccrackan/status/1698429799126225390).\n",
      "\n",
      "2. User @crablegluver tweeted, \"U stay in ur room, I stay in my room, we chit chat everyone in a while rinse and repeat.\" You can find more information [here](https://twitter.com/crablegluver/status/1698423799920676972).\n",
      "\n",
      "3. User @PaisensADHD tweeted, \"I am awake.\" You can find more information [here](https://twitter.com/PaisensADHD/status/1698395060751192474).\n",
      "\n",
      "4. User @beiwyr42 tweeted, \"I was diagnosed with adult ADHD 30+ years ago (meaning it doesn't go away). What's unhealthy about it? Most things you can learn to control (the hyperactive/impulsivity aspect especially). Sure memory can be somewhat of an issue but post-it notes are good for help on that.\" You can find more information [here](https://twitter.com/beiwyr42/status/1698431731810939129).\n",
      "\n",
      "Please note that these are personal experiences shared on Twitter and may not represent the experiences of all ADHD teenagers in school.\u001b[0m\n",
      "\n",
      "\u001b[1m> Finished chain.\u001b[0m\n"
     ]
    },
    {
     "data": {
      "text/plain": [
       "{'input': 'What is the experience of an adhd teenager in school?',\n",
       " 'chat_history': [AIMessage(content='Here are some personal experiences shared by individuals with ADHD and school:\\n\\n1. User @PaisensADHD tweeted, \"I am awake.\" You can find more information [here](https://twitter.com/PaisensADHD/status/1698395060751192474).\\n\\n2. User @Frifuloid tweeted, \"If you perform extremely well on major grades like tests and projects, but daily work and especially homework brings your grades down, you probably have ADHD. If you\\'re able to, talk to a doctor about it. Living without some kind of treatment for that is like hard mode.\" You can find more information [here](https://twitter.com/Frifuloid/status/1698433179252560372).\\n\\n3. User @PaisensADHD tweeted, \"It was 10:50ish when I posted it.\" You can find more information [here](https://twitter.com/PaisensADHD/status/1698408087940677886).\\n\\n4. User @PaisensADHD tweeted, \"I\\'d have to disagree.\" You can find more information [here](https://twitter.com/PaisensADHD/status/1698427733519577111).\\n\\nPlease note that these are personal experiences shared on Twitter and may not represent the experiences of all individuals with ADHD and school.', additional_kwargs={}, example=False),\n",
       "  HumanMessage(content='What is the experience of an adhd teenager in school?', additional_kwargs={}, example=False),\n",
       "  AIMessage(content='', additional_kwargs={'function_call': {'name': 'PublicReviews', 'arguments': '{\\n  \"__arg1\": \"ADHD teenager in school\"\\n}'}}, example=False),\n",
       "  FunctionMessage(content='[Document(page_content=\\'\\\\ufeff\"fullname\": unfettered by neuronormativity\\\\nid: 1698429799126225390\\\\nimages/0: \\\\nisQuote: false\\\\nisRetweet: false\\\\nlikes: 0\\\\nquotes: 0\\\\nreplies: 2\\\\nretweets: 0\\\\ntext: h/t at Lauren Ancona, put me on the path to understanding what happened to me by sharing her story of ADHD dx +subsequent years of medication to be able to maintain in an office/work situation.\\\\nI resisted mood medication because I was a therapist myself.+\\\\ntimestamp: 2023-09-03T20:16:00.000Z\\\\nurl: https://twitter.com/cyn_mccrackan/status/1698429799126225390\\\\nusername: @cyn_mccrackan\\\\nverified: false\\', metadata={\\'source\\': \\'https://twitter.com/cyn_mccrackan/status/1698429799126225390\\', \\'row\\': 326}), Document(page_content=\\'\\\\ufeff\"fullname\": my therapist say i got ADHD 😔\\\\nid: 1698423799920676972\\\\nimages/0: \\\\nisQuote: false\\\\nisRetweet: false\\\\nlikes: 3\\\\nquotes: 0\\\\nreplies: 0\\\\nretweets: 0\\\\ntext: U stay in ur room, I stay in my room, we chit chat everyone in a while rinse and repeat\\\\ntimestamp: 2023-09-03T19:52:00.000Z\\\\nurl: https://twitter.com/crablegluver/status/1698423799920676972\\\\nusername: @crablegluver\\\\nverified: false\\', metadata={\\'source\\': \\'https://twitter.com/crablegluver/status/1698423799920676972\\', \\'row\\': 406}), Document(page_content=\\'\\\\ufeff\"fullname\": ADHD posting🏳️\\\\u200d⚧️ ( School :c )\\\\nid: 1698395060751192474\\\\nimages/0: \\\\nisQuote: false\\\\nisRetweet: false\\\\nlikes: 2\\\\nquotes: 0\\\\nreplies: 2\\\\nretweets: 0\\\\ntext: I am awake\\\\ntimestamp: 2023-09-03T17:58:00.000Z\\\\nurl: https://twitter.com/PaisensADHD/status/1698395060751192474\\\\nusername: @PaisensADHD\\\\nverified: false\\', metadata={\\'source\\': \\'https://twitter.com/PaisensADHD/status/1698395060751192474\\', \\'row\\': 805}), Document(page_content=\\'\\\\ufeff\"fullname\": BeiwyrTheDragon\\\\nid: 1698431731810939129\\\\nimages/0: \\\\nisQuote: false\\\\nisRetweet: false\\\\nlikes: 0\\\\nquotes: 0\\\\nreplies: 1\\\\nretweets: 0\\\\ntext: I was diagnosed with adult ADHD 30+years ago (meaning it doesn\\\\\\'t go away). \\\\nWhat\\\\\\'s unhealthy about it? Most things you can learn to control (the hyperactive/impulsivity aspect especially). Sure memory can be somewhat of an issue but post it notes are good for help on that.\\\\ntimestamp: 2023-09-03T20:24:00.000Z\\\\nurl: https://twitter.com/beiwyr42/status/1698431731810939129\\\\nusername: @beiwyr42\\\\nverified: false\\', metadata={\\'source\\': \\'https://twitter.com/beiwyr42/status/1698431731810939129\\', \\'row\\': 298})]', additional_kwargs={}, name='PublicReviews'),\n",
       "  AIMessage(content='Here are some personal experiences shared by individuals regarding ADHD teenagers in school:\\n\\n1. User @cyn_mccrackan tweeted, \"Put me on the path to understanding what happened to me by sharing her story of ADHD diagnosis + subsequent years of medication to be able to maintain in an office/work situation. I resisted mood medication because I was a therapist myself.\" You can find more information [here](https://twitter.com/cyn_mccrackan/status/1698429799126225390).\\n\\n2. User @crablegluver tweeted, \"U stay in ur room, I stay in my room, we chit chat everyone in a while rinse and repeat.\" You can find more information [here](https://twitter.com/crablegluver/status/1698423799920676972).\\n\\n3. User @PaisensADHD tweeted, \"I am awake.\" You can find more information [here](https://twitter.com/PaisensADHD/status/1698395060751192474).\\n\\n4. User @beiwyr42 tweeted, \"I was diagnosed with adult ADHD 30+ years ago (meaning it doesn\\'t go away). What\\'s unhealthy about it? Most things you can learn to control (the hyperactive/impulsivity aspect especially). Sure memory can be somewhat of an issue but post-it notes are good for help on that.\" You can find more information [here](https://twitter.com/beiwyr42/status/1698431731810939129).\\n\\nPlease note that these are personal experiences shared on Twitter and may not represent the experiences of all ADHD teenagers in school.', additional_kwargs={}, example=False)],\n",
       " 'output': 'Here are some personal experiences shared by individuals regarding ADHD teenagers in school:\\n\\n1. User @cyn_mccrackan tweeted, \"Put me on the path to understanding what happened to me by sharing her story of ADHD diagnosis + subsequent years of medication to be able to maintain in an office/work situation. I resisted mood medication because I was a therapist myself.\" You can find more information [here](https://twitter.com/cyn_mccrackan/status/1698429799126225390).\\n\\n2. User @crablegluver tweeted, \"U stay in ur room, I stay in my room, we chit chat everyone in a while rinse and repeat.\" You can find more information [here](https://twitter.com/crablegluver/status/1698423799920676972).\\n\\n3. User @PaisensADHD tweeted, \"I am awake.\" You can find more information [here](https://twitter.com/PaisensADHD/status/1698395060751192474).\\n\\n4. User @beiwyr42 tweeted, \"I was diagnosed with adult ADHD 30+ years ago (meaning it doesn\\'t go away). What\\'s unhealthy about it? Most things you can learn to control (the hyperactive/impulsivity aspect especially). Sure memory can be somewhat of an issue but post-it notes are good for help on that.\" You can find more information [here](https://twitter.com/beiwyr42/status/1698431731810939129).\\n\\nPlease note that these are personal experiences shared on Twitter and may not represent the experiences of all ADHD teenagers in school.',\n",
       " 'intermediate_steps': [(_FunctionsAgentAction(tool='PublicReviews', tool_input='ADHD teenager in school', log='\\nInvoking: `PublicReviews` with `ADHD teenager in school`\\n\\n\\n', message_log=[AIMessage(content='', additional_kwargs={'function_call': {'name': 'PublicReviews', 'arguments': '{\\n  \"__arg1\": \"ADHD teenager in school\"\\n}'}}, example=False)]),\n",
       "   [Document(page_content='\\ufeff\"fullname\": unfettered by neuronormativity\\nid: 1698429799126225390\\nimages/0: \\nisQuote: false\\nisRetweet: false\\nlikes: 0\\nquotes: 0\\nreplies: 2\\nretweets: 0\\ntext: h/t at Lauren Ancona, put me on the path to understanding what happened to me by sharing her story of ADHD dx +subsequent years of medication to be able to maintain in an office/work situation.\\nI resisted mood medication because I was a therapist myself.+\\ntimestamp: 2023-09-03T20:16:00.000Z\\nurl: https://twitter.com/cyn_mccrackan/status/1698429799126225390\\nusername: @cyn_mccrackan\\nverified: false', metadata={'source': 'https://twitter.com/cyn_mccrackan/status/1698429799126225390', 'row': 326}),\n",
       "    Document(page_content='\\ufeff\"fullname\": my therapist say i got ADHD 😔\\nid: 1698423799920676972\\nimages/0: \\nisQuote: false\\nisRetweet: false\\nlikes: 3\\nquotes: 0\\nreplies: 0\\nretweets: 0\\ntext: U stay in ur room, I stay in my room, we chit chat everyone in a while rinse and repeat\\ntimestamp: 2023-09-03T19:52:00.000Z\\nurl: https://twitter.com/crablegluver/status/1698423799920676972\\nusername: @crablegluver\\nverified: false', metadata={'source': 'https://twitter.com/crablegluver/status/1698423799920676972', 'row': 406}),\n",
       "    Document(page_content='\\ufeff\"fullname\": ADHD posting🏳️\\u200d⚧️ ( School :c )\\nid: 1698395060751192474\\nimages/0: \\nisQuote: false\\nisRetweet: false\\nlikes: 2\\nquotes: 0\\nreplies: 2\\nretweets: 0\\ntext: I am awake\\ntimestamp: 2023-09-03T17:58:00.000Z\\nurl: https://twitter.com/PaisensADHD/status/1698395060751192474\\nusername: @PaisensADHD\\nverified: false', metadata={'source': 'https://twitter.com/PaisensADHD/status/1698395060751192474', 'row': 805}),\n",
       "    Document(page_content='\\ufeff\"fullname\": BeiwyrTheDragon\\nid: 1698431731810939129\\nimages/0: \\nisQuote: false\\nisRetweet: false\\nlikes: 0\\nquotes: 0\\nreplies: 1\\nretweets: 0\\ntext: I was diagnosed with adult ADHD 30+years ago (meaning it doesn\\'t go away). \\nWhat\\'s unhealthy about it? Most things you can learn to control (the hyperactive/impulsivity aspect especially). Sure memory can be somewhat of an issue but post it notes are good for help on that.\\ntimestamp: 2023-09-03T20:24:00.000Z\\nurl: https://twitter.com/beiwyr42/status/1698431731810939129\\nusername: @beiwyr42\\nverified: false', metadata={'source': 'https://twitter.com/beiwyr42/status/1698431731810939129', 'row': 298})])]}"
      ]
     },
     "execution_count": 74,
     "metadata": {},
     "output_type": "execute_result"
    }
   ],
   "source": [
    "adhd_retriever_agent_executor({\"input\" : \"What is the experience of an adhd teenager in school?\"})"
   ]
  },
  {
   "cell_type": "code",
   "execution_count": 18,
   "metadata": {},
   "outputs": [
    {
     "name": "stdout",
     "output_type": "stream",
     "text": [
      "\n",
      "\n",
      "\u001b[1m> Entering new AgentExecutor chain...\u001b[0m\n",
      "\u001b[32;1m\u001b[1;3m\n",
      "Invoking: `PublicReviews` with `female with ADHD`\n",
      "\n",
      "\n",
      "\u001b[0m\u001b[33;1m\u001b[1;3m[Document(page_content='\\ufeff\"fullname\": lizzy\\nid: 1698435620023017861\\nimages/0: \\nisQuote: false\\nisRetweet: false\\nlikes: 1\\nquotes: 0\\nreplies: 0\\nretweets: 0\\ntext: there’s like different types of adhd like type?? and it will definitely be helpful to look up symptoms in WOMEN bc it changes a lot from guys, a big thing for me is off my meds i’m annoying?? like i’ve always like had that made apparent to me but def look at the symptoms\\ntimestamp: 2023-09-03T20:39:00.000Z\\nurl: https://twitter.com/lamictalspo/status/1698435620023017861\\nusername: @lamictalspo\\nverified: false', metadata={'source': 'https://twitter.com/lamictalspo/status/1698435620023017861', 'row': 249}), Document(page_content='\\ufeff\"fullname\": Alli Covington ❤️❤️❤️\\nid: 1698396781539897828\\nimages/0: \\nisQuote: false\\nisRetweet: false\\nlikes: 0\\nquotes: 0\\nreplies: 0\\nretweets: 0\\ntext: I feel this. I was diagnosed in the 90’s too, and dumped the meds for diet and exercise, which handles the vast majority of it for me. I think of my adhd brain as an advantage in business. I can multi-task like a mofo, have the energy to do more than most, and I think founders have a lot of this. In fact, I’d bet you’d find that a higher percentage of founders have adhd than in the rest of the population\\ntimestamp: 2023-09-03T18:05:00.000Z\\nurl: https://twitter.com/allicovington/status/1698396781539897828\\nusername: @allicovington\\nverified: true', metadata={'source': 'https://twitter.com/allicovington/status/1698396781539897828', 'row': 785}), Document(page_content='\\ufeff\"fullname\": unfettered by neuronormativity\\nid: 1698429799126225390\\nimages/0: \\nisQuote: false\\nisRetweet: false\\nlikes: 0\\nquotes: 0\\nreplies: 2\\nretweets: 0\\ntext: h/t at Lauren Ancona, put me on the path to understanding what happened to me by sharing her story of ADHD dx +subsequent years of medication to be able to maintain in an office/work situation.\\nI resisted mood medication because I was a therapist myself.+\\ntimestamp: 2023-09-03T20:16:00.000Z\\nurl: https://twitter.com/cyn_mccrackan/status/1698429799126225390\\nusername: @cyn_mccrackan\\nverified: false', metadata={'source': 'https://twitter.com/cyn_mccrackan/status/1698429799126225390', 'row': 326}), Document(page_content='\\ufeff\"fullname\": Geidy Mendez\\nid: 1698430233827836102\\nimages/0: \\nisQuote: false\\nisRetweet: false\\nlikes: 1\\nquotes: 0\\nreplies: 1\\nretweets: 0\\ntext: I thought I was just depressed which is what made me so unmotivated this whole summer just to find out it was my ADHD working overtime … we love a dedicated girly but damn she kicked my ass\\ntimestamp: 2023-09-03T20:18:00.000Z\\nurl: https://twitter.com/GeidyMendez4/status/1698430233827836102\\nusername: @GeidyMendez4\\nverified: false', metadata={'source': 'https://twitter.com/GeidyMendez4/status/1698430233827836102', 'row': 318})]\u001b[0m\u001b[32;1m\u001b[1;3mHere are some statements from patients about being female and having ADHD:\n",
      "\n",
      "1. Lizzy (@lamictalspo) mentioned on Twitter that there are different types of ADHD, and it is helpful to look up symptoms specific to women because they can differ from symptoms in men. Lizzy also mentioned that when she is off her medication, she feels annoying, which has been made apparent to her.\n",
      "\n",
      "2. Alli Covington (@allicovington) shared on Twitter that she was diagnosed with ADHD in the 90s and chose to manage it through diet and exercise instead of medication. She considers her ADHD brain as an advantage in business, as she can multitask and has high energy levels. Alli also suggested that a higher percentage of founders may have ADHD compared to the general population.\n",
      "\n",
      "3. Cyn McCrackan (@cyn_mccrackan) mentioned on Twitter that she resisted mood medication because she was a therapist herself. However, after hearing Lauren Ancona's story of being diagnosed with ADHD and using medication to maintain in an office/work situation, Cyn started to understand her own experience better.\n",
      "\n",
      "4. Geidy Mendez (@GeidyMendez4) shared on Twitter that she initially thought she was just depressed, which made her unmotivated during the summer. However, she later discovered that her ADHD was working overtime and causing her difficulties. She expressed both admiration for her dedicated self and the challenges her ADHD presented.\n",
      "\n",
      "These statements provide personal insights into the experiences of females with ADHD. It is important to note that these are individual experiences and may not represent the experiences of all females with ADHD.\u001b[0m\n",
      "\n",
      "\u001b[1m> Finished chain.\u001b[0m\n"
     ]
    },
    {
     "data": {
      "text/plain": [
       "{'input': 'What does patients say about being female and has adhd?',\n",
       " 'chat_history': [AIMessage(content='The official symptoms of ADHD (Attention Deficit Hyperactivity Disorder) include excessive amounts of inattention, hyperactivity, and impulsivity that are pervasive, impairing in multiple contexts, and otherwise age-inappropriate. These symptoms arise from executive dysfunction, and emotional dysregulation is often considered a core symptom. In children, problems paying attention may result in poor school performance. ADHD is associated with other neurodevelopmental and mental disorders as well as some non-psychiatric disorders, which can cause additional impairment. It affects about 5-7% of children and 1-2% of adults. The condition can be difficult to distinguish from other conditions and high levels of activity within the range of normal behavior. ADHD has a negative impact on patient health-related quality of life and may increase the risk of other psychiatric conditions such as anxiety and depression.\\n\\nPlease note that this is a brief summary of the symptoms. For a more comprehensive understanding, it is recommended to consult a healthcare professional or refer to reliable sources such as medical literature or official guidelines.', additional_kwargs={}, example=False),\n",
       "  HumanMessage(content='What does patients say about being female and has adhd?', additional_kwargs={}, example=False),\n",
       "  AIMessage(content='', additional_kwargs={'function_call': {'name': 'PublicReviews', 'arguments': '{\\n  \"__arg1\": \"female with ADHD\"\\n}'}}, example=False),\n",
       "  FunctionMessage(content='[Document(page_content=\\'\\\\ufeff\"fullname\": lizzy\\\\nid: 1698435620023017861\\\\nimages/0: \\\\nisQuote: false\\\\nisRetweet: false\\\\nlikes: 1\\\\nquotes: 0\\\\nreplies: 0\\\\nretweets: 0\\\\ntext: there’s like different types of adhd like type?? and it will definitely be helpful to look up symptoms in WOMEN bc it changes a lot from guys, a big thing for me is off my meds i’m annoying?? like i’ve always like had that made apparent to me but def look at the symptoms\\\\ntimestamp: 2023-09-03T20:39:00.000Z\\\\nurl: https://twitter.com/lamictalspo/status/1698435620023017861\\\\nusername: @lamictalspo\\\\nverified: false\\', metadata={\\'source\\': \\'https://twitter.com/lamictalspo/status/1698435620023017861\\', \\'row\\': 249}), Document(page_content=\\'\\\\ufeff\"fullname\": Alli Covington ❤️❤️❤️\\\\nid: 1698396781539897828\\\\nimages/0: \\\\nisQuote: false\\\\nisRetweet: false\\\\nlikes: 0\\\\nquotes: 0\\\\nreplies: 0\\\\nretweets: 0\\\\ntext: I feel this. I was diagnosed in the 90’s too, and dumped the meds for diet and exercise, which handles the vast majority of it for me. I think of my adhd brain as an advantage in business. I can multi-task like a mofo, have the energy to do more than most, and I think founders have a lot of this. In fact, I’d bet you’d find that a higher percentage of founders have adhd than in the rest of the population\\\\ntimestamp: 2023-09-03T18:05:00.000Z\\\\nurl: https://twitter.com/allicovington/status/1698396781539897828\\\\nusername: @allicovington\\\\nverified: true\\', metadata={\\'source\\': \\'https://twitter.com/allicovington/status/1698396781539897828\\', \\'row\\': 785}), Document(page_content=\\'\\\\ufeff\"fullname\": unfettered by neuronormativity\\\\nid: 1698429799126225390\\\\nimages/0: \\\\nisQuote: false\\\\nisRetweet: false\\\\nlikes: 0\\\\nquotes: 0\\\\nreplies: 2\\\\nretweets: 0\\\\ntext: h/t at Lauren Ancona, put me on the path to understanding what happened to me by sharing her story of ADHD dx +subsequent years of medication to be able to maintain in an office/work situation.\\\\nI resisted mood medication because I was a therapist myself.+\\\\ntimestamp: 2023-09-03T20:16:00.000Z\\\\nurl: https://twitter.com/cyn_mccrackan/status/1698429799126225390\\\\nusername: @cyn_mccrackan\\\\nverified: false\\', metadata={\\'source\\': \\'https://twitter.com/cyn_mccrackan/status/1698429799126225390\\', \\'row\\': 326}), Document(page_content=\\'\\\\ufeff\"fullname\": Geidy Mendez\\\\nid: 1698430233827836102\\\\nimages/0: \\\\nisQuote: false\\\\nisRetweet: false\\\\nlikes: 1\\\\nquotes: 0\\\\nreplies: 1\\\\nretweets: 0\\\\ntext: I thought I was just depressed which is what made me so unmotivated this whole summer just to find out it was my ADHD working overtime … we love a dedicated girly but damn she kicked my ass\\\\ntimestamp: 2023-09-03T20:18:00.000Z\\\\nurl: https://twitter.com/GeidyMendez4/status/1698430233827836102\\\\nusername: @GeidyMendez4\\\\nverified: false\\', metadata={\\'source\\': \\'https://twitter.com/GeidyMendez4/status/1698430233827836102\\', \\'row\\': 318})]', additional_kwargs={}, name='PublicReviews'),\n",
       "  AIMessage(content=\"Here are some statements from patients about being female and having ADHD:\\n\\n1. Lizzy (@lamictalspo) mentioned on Twitter that there are different types of ADHD, and it is helpful to look up symptoms specific to women because they can differ from symptoms in men. Lizzy also mentioned that when she is off her medication, she feels annoying, which has been made apparent to her.\\n\\n2. Alli Covington (@allicovington) shared on Twitter that she was diagnosed with ADHD in the 90s and chose to manage it through diet and exercise instead of medication. She considers her ADHD brain as an advantage in business, as she can multitask and has high energy levels. Alli also suggested that a higher percentage of founders may have ADHD compared to the general population.\\n\\n3. Cyn McCrackan (@cyn_mccrackan) mentioned on Twitter that she resisted mood medication because she was a therapist herself. However, after hearing Lauren Ancona's story of being diagnosed with ADHD and using medication to maintain in an office/work situation, Cyn started to understand her own experience better.\\n\\n4. Geidy Mendez (@GeidyMendez4) shared on Twitter that she initially thought she was just depressed, which made her unmotivated during the summer. However, she later discovered that her ADHD was working overtime and causing her difficulties. She expressed both admiration for her dedicated self and the challenges her ADHD presented.\\n\\nThese statements provide personal insights into the experiences of females with ADHD. It is important to note that these are individual experiences and may not represent the experiences of all females with ADHD.\", additional_kwargs={}, example=False)],\n",
       " 'output': \"Here are some statements from patients about being female and having ADHD:\\n\\n1. Lizzy (@lamictalspo) mentioned on Twitter that there are different types of ADHD, and it is helpful to look up symptoms specific to women because they can differ from symptoms in men. Lizzy also mentioned that when she is off her medication, she feels annoying, which has been made apparent to her.\\n\\n2. Alli Covington (@allicovington) shared on Twitter that she was diagnosed with ADHD in the 90s and chose to manage it through diet and exercise instead of medication. She considers her ADHD brain as an advantage in business, as she can multitask and has high energy levels. Alli also suggested that a higher percentage of founders may have ADHD compared to the general population.\\n\\n3. Cyn McCrackan (@cyn_mccrackan) mentioned on Twitter that she resisted mood medication because she was a therapist herself. However, after hearing Lauren Ancona's story of being diagnosed with ADHD and using medication to maintain in an office/work situation, Cyn started to understand her own experience better.\\n\\n4. Geidy Mendez (@GeidyMendez4) shared on Twitter that she initially thought she was just depressed, which made her unmotivated during the summer. However, she later discovered that her ADHD was working overtime and causing her difficulties. She expressed both admiration for her dedicated self and the challenges her ADHD presented.\\n\\nThese statements provide personal insights into the experiences of females with ADHD. It is important to note that these are individual experiences and may not represent the experiences of all females with ADHD.\",\n",
       " 'intermediate_steps': [(_FunctionsAgentAction(tool='PublicReviews', tool_input='female with ADHD', log='\\nInvoking: `PublicReviews` with `female with ADHD`\\n\\n\\n', message_log=[AIMessage(content='', additional_kwargs={'function_call': {'name': 'PublicReviews', 'arguments': '{\\n  \"__arg1\": \"female with ADHD\"\\n}'}}, example=False)]),\n",
       "   [Document(page_content='\\ufeff\"fullname\": lizzy\\nid: 1698435620023017861\\nimages/0: \\nisQuote: false\\nisRetweet: false\\nlikes: 1\\nquotes: 0\\nreplies: 0\\nretweets: 0\\ntext: there’s like different types of adhd like type?? and it will definitely be helpful to look up symptoms in WOMEN bc it changes a lot from guys, a big thing for me is off my meds i’m annoying?? like i’ve always like had that made apparent to me but def look at the symptoms\\ntimestamp: 2023-09-03T20:39:00.000Z\\nurl: https://twitter.com/lamictalspo/status/1698435620023017861\\nusername: @lamictalspo\\nverified: false', metadata={'source': 'https://twitter.com/lamictalspo/status/1698435620023017861', 'row': 249}),\n",
       "    Document(page_content='\\ufeff\"fullname\": Alli Covington ❤️❤️❤️\\nid: 1698396781539897828\\nimages/0: \\nisQuote: false\\nisRetweet: false\\nlikes: 0\\nquotes: 0\\nreplies: 0\\nretweets: 0\\ntext: I feel this. I was diagnosed in the 90’s too, and dumped the meds for diet and exercise, which handles the vast majority of it for me. I think of my adhd brain as an advantage in business. I can multi-task like a mofo, have the energy to do more than most, and I think founders have a lot of this. In fact, I’d bet you’d find that a higher percentage of founders have adhd than in the rest of the population\\ntimestamp: 2023-09-03T18:05:00.000Z\\nurl: https://twitter.com/allicovington/status/1698396781539897828\\nusername: @allicovington\\nverified: true', metadata={'source': 'https://twitter.com/allicovington/status/1698396781539897828', 'row': 785}),\n",
       "    Document(page_content='\\ufeff\"fullname\": unfettered by neuronormativity\\nid: 1698429799126225390\\nimages/0: \\nisQuote: false\\nisRetweet: false\\nlikes: 0\\nquotes: 0\\nreplies: 2\\nretweets: 0\\ntext: h/t at Lauren Ancona, put me on the path to understanding what happened to me by sharing her story of ADHD dx +subsequent years of medication to be able to maintain in an office/work situation.\\nI resisted mood medication because I was a therapist myself.+\\ntimestamp: 2023-09-03T20:16:00.000Z\\nurl: https://twitter.com/cyn_mccrackan/status/1698429799126225390\\nusername: @cyn_mccrackan\\nverified: false', metadata={'source': 'https://twitter.com/cyn_mccrackan/status/1698429799126225390', 'row': 326}),\n",
       "    Document(page_content='\\ufeff\"fullname\": Geidy Mendez\\nid: 1698430233827836102\\nimages/0: \\nisQuote: false\\nisRetweet: false\\nlikes: 1\\nquotes: 0\\nreplies: 1\\nretweets: 0\\ntext: I thought I was just depressed which is what made me so unmotivated this whole summer just to find out it was my ADHD working overtime … we love a dedicated girly but damn she kicked my ass\\ntimestamp: 2023-09-03T20:18:00.000Z\\nurl: https://twitter.com/GeidyMendez4/status/1698430233827836102\\nusername: @GeidyMendez4\\nverified: false', metadata={'source': 'https://twitter.com/GeidyMendez4/status/1698430233827836102', 'row': 318})])]}"
      ]
     },
     "execution_count": 18,
     "metadata": {},
     "output_type": "execute_result"
    }
   ],
   "source": [
    "adhd_retriever_agent_executor({\"input\" : \"What does patients say about being female and has adhd?\"})"
   ]
  },
  {
   "cell_type": "code",
   "execution_count": 21,
   "metadata": {},
   "outputs": [
    {
     "name": "stdout",
     "output_type": "stream",
     "text": [
      "\n",
      "\n",
      "\u001b[1m> Entering new AgentExecutor chain...\u001b[0m\n",
      "\u001b[32;1m\u001b[1;3m\n",
      "Invoking: `wikipedia` with `ADHD`\n",
      "\n",
      "\n",
      "\u001b[0m\u001b[36;1m\u001b[1;3m[Document(page_content='Attention deficit hyperactivity disorder (ADHD) is a neurodevelopmental disorder characterised by excessive amounts of inattention, hyperactivity, and impulsivity that are pervasive, impairing in multiple contexts, and otherwise age-inappropriate.ADHD symptoms arise from executive dysfunction, and emotional dysregulation is often considered a core symptom. In children, problems paying attention may result in poor school performance. ADHD is associated with other neurodevelopmental and mental', metadata={'title': 'Attention deficit hyperactivity disorder', 'summary': 'Attention deficit hyperactivity disorder (ADHD) is a neurodevelopmental disorder characterised by excessive amounts of inattention, hyperactivity, and impulsivity that are pervasive, impairing in multiple contexts, and otherwise age-inappropriate.ADHD symptoms arise from executive dysfunction, and emotional dysregulation is often considered a core symptom. In children, problems paying attention may result in poor school performance. ADHD is associated with other neurodevelopmental and mental disorders as well as some non-psychiatric disorders, which can cause additional impairment, especially in modern society. Although people with ADHD struggle to focus on tasks they are not particularly interested in completing, they are often able to maintain an unusually prolonged and intense level of attention for tasks they do find interesting or rewarding; this is known as hyperfocus.\\nThe precise causes of ADHD are unknown in the majority of cases. Genetic factors play an important role; ADHD tends to run in families and has a heritability rate of 74%. Toxins and infections during pregnancy as well as brain damage may be environmental risks.\\nIt affects about 5–7% of children when diagnosed via the DSM-IV criteria, and 1–2% when diagnosed via the ICD-10 criteria. Rates are similar between countries and differences in rates depend mostly on how it is diagnosed. ADHD is diagnosed approximately twice as often in boys than in girls, and 1.6 times more often in men than in women, although the disorder is overlooked in girls or diagnosed in later life because their symptoms sometimes differ from diagnostic criteria. About 30–50% of people diagnosed in childhood continue to have ADHD in adulthood, with 2.58% of adults estimated to have ADHD which began in childhood. In adults, hyperactivity is usually replaced by inner restlessness, and adults often develop coping skills to compensate for their impairments. The condition can be difficult to tell apart from other conditions, as well as from high levels of activity within the range of normal behaviour. ADHD has a negative impact on patient health-related quality of life that may be further exacerbated by, or may increase the risk of, other psychiatric conditions such as anxiety and depression.ADHD management recommendations vary and usually involve some combination of medications, counseling, and lifestyle changes. The British guideline emphasises environmental modifications and education about ADHD for individuals and carers as the first response. If symptoms persist, parent-training, medication, or psychotherapy (especially cognitive behavioural therapy) can be recommended based on age. Canadian and American guidelines recommend medications and behavioural therapy together, except in preschool-aged children for whom the first-line treatment is behavioural therapy alone. Stimulant medications are the most effective pharmaceutical treatment, although there may be side effects and any improvements will be reverted if medication is ceased.ADHD, its diagnosis, and its treatment have been considered controversial since the 1970s. These controversies have involved doctors, teachers, policymakers, parents, and the media. Topics have included causes of ADHD and the use of stimulant medications in its treatment. ADHD is now a well-validated clinical diagnosis in children and adults, and the debate in the scientific community mainly centers on how it is diagnosed and treated. ADHD was officially known as attention deficit disorder (ADD) from 1980 to 1987; prior to the 1980s, it was known as hyperkinetic reaction of childhood. Symptoms similar to those of ADHD have been described in medical literature dating back to the 18th century.\\n\\n', 'source': 'https://en.wikipedia.org/wiki/Attention_deficit_hyperactivity_disorder'}), Document(page_content='undergoing ADHD treatment are seldom included in studies evaluating the efficacy of ADHD treatments.', metadata={'title': 'Attention deficit hyperactivity disorder', 'summary': 'Attention deficit hyperactivity disorder (ADHD) is a neurodevelopmental disorder characterised by excessive amounts of inattention, hyperactivity, and impulsivity that are pervasive, impairing in multiple contexts, and otherwise age-inappropriate.ADHD symptoms arise from executive dysfunction, and emotional dysregulation is often considered a core symptom. In children, problems paying attention may result in poor school performance. ADHD is associated with other neurodevelopmental and mental disorders as well as some non-psychiatric disorders, which can cause additional impairment, especially in modern society. Although people with ADHD struggle to focus on tasks they are not particularly interested in completing, they are often able to maintain an unusually prolonged and intense level of attention for tasks they do find interesting or rewarding; this is known as hyperfocus.\\nThe precise causes of ADHD are unknown in the majority of cases. Genetic factors play an important role; ADHD tends to run in families and has a heritability rate of 74%. Toxins and infections during pregnancy as well as brain damage may be environmental risks.\\nIt affects about 5–7% of children when diagnosed via the DSM-IV criteria, and 1–2% when diagnosed via the ICD-10 criteria. Rates are similar between countries and differences in rates depend mostly on how it is diagnosed. ADHD is diagnosed approximately twice as often in boys than in girls, and 1.6 times more often in men than in women, although the disorder is overlooked in girls or diagnosed in later life because their symptoms sometimes differ from diagnostic criteria. About 30–50% of people diagnosed in childhood continue to have ADHD in adulthood, with 2.58% of adults estimated to have ADHD which began in childhood. In adults, hyperactivity is usually replaced by inner restlessness, and adults often develop coping skills to compensate for their impairments. The condition can be difficult to tell apart from other conditions, as well as from high levels of activity within the range of normal behaviour. ADHD has a negative impact on patient health-related quality of life that may be further exacerbated by, or may increase the risk of, other psychiatric conditions such as anxiety and depression.ADHD management recommendations vary and usually involve some combination of medications, counseling, and lifestyle changes. The British guideline emphasises environmental modifications and education about ADHD for individuals and carers as the first response. If symptoms persist, parent-training, medication, or psychotherapy (especially cognitive behavioural therapy) can be recommended based on age. Canadian and American guidelines recommend medications and behavioural therapy together, except in preschool-aged children for whom the first-line treatment is behavioural therapy alone. Stimulant medications are the most effective pharmaceutical treatment, although there may be side effects and any improvements will be reverted if medication is ceased.ADHD, its diagnosis, and its treatment have been considered controversial since the 1970s. These controversies have involved doctors, teachers, policymakers, parents, and the media. Topics have included causes of ADHD and the use of stimulant medications in its treatment. ADHD is now a well-validated clinical diagnosis in children and adults, and the debate in the scientific community mainly centers on how it is diagnosed and treated. ADHD was officially known as attention deficit disorder (ADD) from 1980 to 1987; prior to the 1980s, it was known as hyperkinetic reaction of childhood. Symptoms similar to those of ADHD have been described in medical literature dating back to the 18th century.\\n\\n', 'source': 'https://en.wikipedia.org/wiki/Attention_deficit_hyperactivity_disorder'})]\u001b[0m\u001b[32;1m\u001b[1;3mAttention deficit hyperactivity disorder (ADHD) is a neurodevelopmental disorder characterized by excessive amounts of inattention, hyperactivity, and impulsivity that are pervasive, impairing in multiple contexts, and otherwise age-inappropriate. ADHD symptoms arise from executive dysfunction, and emotional dysregulation is often considered a core symptom. In children, problems paying attention may result in poor school performance. ADHD is associated with other neurodevelopmental and mental disorders as well as some non-psychiatric disorders, which can cause additional impairment, especially in modern society.\n",
      "\n",
      "The precise causes of ADHD are unknown in the majority of cases, but genetic factors play an important role. ADHD tends to run in families and has a heritability rate of 74%. Environmental factors such as toxins and infections during pregnancy, as well as brain damage, may also contribute to the development of ADHD.\n",
      "\n",
      "ADHD affects about 5-7% of children when diagnosed via the DSM-IV criteria, and 1-2% when diagnosed via the ICD-10 criteria. It is diagnosed approximately twice as often in boys than in girls, and 1.6 times more often in men than in women. However, ADHD in girls is sometimes overlooked or diagnosed later in life because their symptoms may differ from diagnostic criteria. About 30-50% of people diagnosed with ADHD in childhood continue to have ADHD in adulthood.\n",
      "\n",
      "ADHD management recommendations vary but usually involve a combination of medications, counseling, and lifestyle changes. Stimulant medications are often prescribed and are considered the most effective pharmaceutical treatment. However, there may be side effects, and any improvements gained from medication may be reverted if the medication is ceased. Other treatment options include parent-training, psychotherapy (especially cognitive-behavioral therapy), and environmental modifications.\n",
      "\n",
      "ADHD, its diagnosis, and its treatment have been the subject of controversy. The debate in the scientific community mainly centers on how ADHD is diagnosed and treated. ADHD is now a well-validated clinical diagnosis in children and adults. It was officially known as attention deficit disorder (ADD) from 1980 to 1987 and was previously referred to as hyperkinetic reaction of childhood. Symptoms similar to those of ADHD have been described in medical literature dating back to the 18th century.\n",
      "\n",
      "Please note that this is a brief summary of ADHD, and there is much more information available on the topic.\u001b[0m\n",
      "\n",
      "\u001b[1m> Finished chain.\u001b[0m\n"
     ]
    },
    {
     "data": {
      "text/plain": [
       "{'input': 'what is adhd?',\n",
       " 'chat_history': [AIMessage(content='Attention deficit hyperactivity disorder (ADHD) is a neurodevelopmental disorder characterized by excessive amounts of inattention, hyperactivity, and impulsivity that are pervasive, impairing in multiple contexts, and otherwise age-inappropriate. ADHD symptoms arise from executive dysfunction, and emotional dysregulation is often considered a core symptom. In children, problems paying attention may result in poor school performance. ADHD is associated with other neurodevelopmental and mental disorders as well as some non-psychiatric disorders, which can cause additional impairment, especially in modern society.\\n\\nThe precise causes of ADHD are unknown in the majority of cases, but genetic factors play an important role. ADHD tends to run in families and has a heritability rate of 74%. Environmental factors such as toxins and infections during pregnancy, as well as brain damage, may also contribute to the development of ADHD.\\n\\nADHD affects about 5-7% of children when diagnosed via the DSM-IV criteria, and 1-2% when diagnosed via the ICD-10 criteria. It is diagnosed approximately twice as often in boys than in girls, and 1.6 times more often in men than in women. However, ADHD in girls is sometimes overlooked or diagnosed later in life because their symptoms may differ from diagnostic criteria. About 30-50% of people diagnosed with ADHD in childhood continue to have ADHD in adulthood.\\n\\nADHD management recommendations vary but usually involve a combination of medications, counseling, and lifestyle changes. Stimulant medications are often prescribed and are considered the most effective pharmaceutical treatment. However, there may be side effects, and any improvements gained from medication may be reverted if the medication is ceased. Other treatment options include parent-training, psychotherapy (especially cognitive-behavioral therapy), and environmental modifications.\\n\\nADHD, its diagnosis, and its treatment have been the subject of controversy. The debate in the scientific community mainly centers on how ADHD is diagnosed and treated. ADHD is now a well-validated clinical diagnosis in children and adults. It was officially known as attention deficit disorder (ADD) from 1980 to 1987 and was previously referred to as hyperkinetic reaction of childhood. Symptoms similar to those of ADHD have been described in medical literature dating back to the 18th century.\\n\\nPlease note that this is a brief summary of ADHD, and there is much more information available on the topic.', additional_kwargs={}, example=False)],\n",
       " 'output': 'Attention deficit hyperactivity disorder (ADHD) is a neurodevelopmental disorder characterized by excessive amounts of inattention, hyperactivity, and impulsivity that are pervasive, impairing in multiple contexts, and otherwise age-inappropriate. ADHD symptoms arise from executive dysfunction, and emotional dysregulation is often considered a core symptom. In children, problems paying attention may result in poor school performance. ADHD is associated with other neurodevelopmental and mental disorders as well as some non-psychiatric disorders, which can cause additional impairment, especially in modern society.\\n\\nThe precise causes of ADHD are unknown in the majority of cases, but genetic factors play an important role. ADHD tends to run in families and has a heritability rate of 74%. Environmental factors such as toxins and infections during pregnancy, as well as brain damage, may also contribute to the development of ADHD.\\n\\nADHD affects about 5-7% of children when diagnosed via the DSM-IV criteria, and 1-2% when diagnosed via the ICD-10 criteria. It is diagnosed approximately twice as often in boys than in girls, and 1.6 times more often in men than in women. However, ADHD in girls is sometimes overlooked or diagnosed later in life because their symptoms may differ from diagnostic criteria. About 30-50% of people diagnosed with ADHD in childhood continue to have ADHD in adulthood.\\n\\nADHD management recommendations vary but usually involve a combination of medications, counseling, and lifestyle changes. Stimulant medications are often prescribed and are considered the most effective pharmaceutical treatment. However, there may be side effects, and any improvements gained from medication may be reverted if the medication is ceased. Other treatment options include parent-training, psychotherapy (especially cognitive-behavioral therapy), and environmental modifications.\\n\\nADHD, its diagnosis, and its treatment have been the subject of controversy. The debate in the scientific community mainly centers on how ADHD is diagnosed and treated. ADHD is now a well-validated clinical diagnosis in children and adults. It was officially known as attention deficit disorder (ADD) from 1980 to 1987 and was previously referred to as hyperkinetic reaction of childhood. Symptoms similar to those of ADHD have been described in medical literature dating back to the 18th century.\\n\\nPlease note that this is a brief summary of ADHD, and there is much more information available on the topic.',\n",
       " 'intermediate_steps': [(_FunctionsAgentAction(tool='wikipedia', tool_input='ADHD', log='\\nInvoking: `wikipedia` with `ADHD`\\n\\n\\n', message_log=[AIMessage(content='', additional_kwargs={'function_call': {'name': 'wikipedia', 'arguments': '{\\n  \"__arg1\": \"ADHD\"\\n}'}}, example=False)]),\n",
       "   [Document(page_content='Attention deficit hyperactivity disorder (ADHD) is a neurodevelopmental disorder characterised by excessive amounts of inattention, hyperactivity, and impulsivity that are pervasive, impairing in multiple contexts, and otherwise age-inappropriate.ADHD symptoms arise from executive dysfunction, and emotional dysregulation is often considered a core symptom. In children, problems paying attention may result in poor school performance. ADHD is associated with other neurodevelopmental and mental', metadata={'title': 'Attention deficit hyperactivity disorder', 'summary': 'Attention deficit hyperactivity disorder (ADHD) is a neurodevelopmental disorder characterised by excessive amounts of inattention, hyperactivity, and impulsivity that are pervasive, impairing in multiple contexts, and otherwise age-inappropriate.ADHD symptoms arise from executive dysfunction, and emotional dysregulation is often considered a core symptom. In children, problems paying attention may result in poor school performance. ADHD is associated with other neurodevelopmental and mental disorders as well as some non-psychiatric disorders, which can cause additional impairment, especially in modern society. Although people with ADHD struggle to focus on tasks they are not particularly interested in completing, they are often able to maintain an unusually prolonged and intense level of attention for tasks they do find interesting or rewarding; this is known as hyperfocus.\\nThe precise causes of ADHD are unknown in the majority of cases. Genetic factors play an important role; ADHD tends to run in families and has a heritability rate of 74%. Toxins and infections during pregnancy as well as brain damage may be environmental risks.\\nIt affects about 5–7% of children when diagnosed via the DSM-IV criteria, and 1–2% when diagnosed via the ICD-10 criteria. Rates are similar between countries and differences in rates depend mostly on how it is diagnosed. ADHD is diagnosed approximately twice as often in boys than in girls, and 1.6 times more often in men than in women, although the disorder is overlooked in girls or diagnosed in later life because their symptoms sometimes differ from diagnostic criteria. About 30–50% of people diagnosed in childhood continue to have ADHD in adulthood, with 2.58% of adults estimated to have ADHD which began in childhood. In adults, hyperactivity is usually replaced by inner restlessness, and adults often develop coping skills to compensate for their impairments. The condition can be difficult to tell apart from other conditions, as well as from high levels of activity within the range of normal behaviour. ADHD has a negative impact on patient health-related quality of life that may be further exacerbated by, or may increase the risk of, other psychiatric conditions such as anxiety and depression.ADHD management recommendations vary and usually involve some combination of medications, counseling, and lifestyle changes. The British guideline emphasises environmental modifications and education about ADHD for individuals and carers as the first response. If symptoms persist, parent-training, medication, or psychotherapy (especially cognitive behavioural therapy) can be recommended based on age. Canadian and American guidelines recommend medications and behavioural therapy together, except in preschool-aged children for whom the first-line treatment is behavioural therapy alone. Stimulant medications are the most effective pharmaceutical treatment, although there may be side effects and any improvements will be reverted if medication is ceased.ADHD, its diagnosis, and its treatment have been considered controversial since the 1970s. These controversies have involved doctors, teachers, policymakers, parents, and the media. Topics have included causes of ADHD and the use of stimulant medications in its treatment. ADHD is now a well-validated clinical diagnosis in children and adults, and the debate in the scientific community mainly centers on how it is diagnosed and treated. ADHD was officially known as attention deficit disorder (ADD) from 1980 to 1987; prior to the 1980s, it was known as hyperkinetic reaction of childhood. Symptoms similar to those of ADHD have been described in medical literature dating back to the 18th century.\\n\\n', 'source': 'https://en.wikipedia.org/wiki/Attention_deficit_hyperactivity_disorder'}),\n",
       "    Document(page_content='undergoing ADHD treatment are seldom included in studies evaluating the efficacy of ADHD treatments.', metadata={'title': 'Attention deficit hyperactivity disorder', 'summary': 'Attention deficit hyperactivity disorder (ADHD) is a neurodevelopmental disorder characterised by excessive amounts of inattention, hyperactivity, and impulsivity that are pervasive, impairing in multiple contexts, and otherwise age-inappropriate.ADHD symptoms arise from executive dysfunction, and emotional dysregulation is often considered a core symptom. In children, problems paying attention may result in poor school performance. ADHD is associated with other neurodevelopmental and mental disorders as well as some non-psychiatric disorders, which can cause additional impairment, especially in modern society. Although people with ADHD struggle to focus on tasks they are not particularly interested in completing, they are often able to maintain an unusually prolonged and intense level of attention for tasks they do find interesting or rewarding; this is known as hyperfocus.\\nThe precise causes of ADHD are unknown in the majority of cases. Genetic factors play an important role; ADHD tends to run in families and has a heritability rate of 74%. Toxins and infections during pregnancy as well as brain damage may be environmental risks.\\nIt affects about 5–7% of children when diagnosed via the DSM-IV criteria, and 1–2% when diagnosed via the ICD-10 criteria. Rates are similar between countries and differences in rates depend mostly on how it is diagnosed. ADHD is diagnosed approximately twice as often in boys than in girls, and 1.6 times more often in men than in women, although the disorder is overlooked in girls or diagnosed in later life because their symptoms sometimes differ from diagnostic criteria. About 30–50% of people diagnosed in childhood continue to have ADHD in adulthood, with 2.58% of adults estimated to have ADHD which began in childhood. In adults, hyperactivity is usually replaced by inner restlessness, and adults often develop coping skills to compensate for their impairments. The condition can be difficult to tell apart from other conditions, as well as from high levels of activity within the range of normal behaviour. ADHD has a negative impact on patient health-related quality of life that may be further exacerbated by, or may increase the risk of, other psychiatric conditions such as anxiety and depression.ADHD management recommendations vary and usually involve some combination of medications, counseling, and lifestyle changes. The British guideline emphasises environmental modifications and education about ADHD for individuals and carers as the first response. If symptoms persist, parent-training, medication, or psychotherapy (especially cognitive behavioural therapy) can be recommended based on age. Canadian and American guidelines recommend medications and behavioural therapy together, except in preschool-aged children for whom the first-line treatment is behavioural therapy alone. Stimulant medications are the most effective pharmaceutical treatment, although there may be side effects and any improvements will be reverted if medication is ceased.ADHD, its diagnosis, and its treatment have been considered controversial since the 1970s. These controversies have involved doctors, teachers, policymakers, parents, and the media. Topics have included causes of ADHD and the use of stimulant medications in its treatment. ADHD is now a well-validated clinical diagnosis in children and adults, and the debate in the scientific community mainly centers on how it is diagnosed and treated. ADHD was officially known as attention deficit disorder (ADD) from 1980 to 1987; prior to the 1980s, it was known as hyperkinetic reaction of childhood. Symptoms similar to those of ADHD have been described in medical literature dating back to the 18th century.\\n\\n', 'source': 'https://en.wikipedia.org/wiki/Attention_deficit_hyperactivity_disorder'})])]}"
      ]
     },
     "execution_count": 21,
     "metadata": {},
     "output_type": "execute_result"
    }
   ],
   "source": [
    "res = adhd_retriever_agent_executor({\"input\" : \"what is adhd?\"})\n",
    "res"
   ]
  },
  {
   "cell_type": "markdown",
   "metadata": {},
   "source": [
    "### Oppenheimer Retrieval System\n",
    "\n",
    "We're going to repourpose some of what we created previously, but this time we'll explore a different multi-source retrieval system."
   ]
  },
  {
   "cell_type": "code",
   "execution_count": 81,
   "metadata": {},
   "outputs": [],
   "source": [
    "\n",
    "\n",
    "depression_wikipedia_docs = WikipediaLoader(\n",
    "    query=\"Oppenheimer (film)\", \n",
    "    load_max_docs=1,  \n",
    "    doc_content_chars_max=1_000_000\n",
    "    ).load()\n",
    "\n",
    "depression_csv_docs = CSVLoader(\n",
    "    file_path='./oppenheimer_data/oppenheimer.csv',\n",
    "    source_column='Review_Url'\n",
    "    ).load()"
   ]
  },
  {
   "cell_type": "code",
   "execution_count": 82,
   "metadata": {},
   "outputs": [],
   "source": [
    "chunked_opp_wikipedia_docs =wikipedia_text_splitter.transform_documents(oppenheimer_wikipedia_docs) \n",
    "chunked_opp_csv_docs = csv_text_splitter.transform_documents(oppenheimer_csv_docs)"
   ]
  },
  {
   "cell_type": "code",
   "execution_count": 83,
   "metadata": {},
   "outputs": [],
   "source": [
    "# public review Opp retriever\n",
    "opp_csv_faiss_retriever = FAISS.from_documents(chunked_opp_csv_docs,embedder).as_retriever() \n",
    "# set up BM25 retriever\n",
    "opp_wikipedia_bm25_retriever = BM25Retriever.from_documents(chunked_opp_wikipedia_docs)\n",
    "opp_wikipedia_bm25_retriever.k = 1\n",
    "\n",
    "# set up FAISS vector store\n",
    "opp_wikipedia_faiss_store = FAISS.from_documents(chunked_opp_wikipedia_docs, embedder)\n",
    "opp_wikipedia_faiss_retriever = opp_wikipedia_faiss_store.as_retriever(search_kwargs={\"k\": 1})\n",
    "\n",
    "# set up ensemble retriever\n",
    "opp_ensemble_retriever = EnsembleRetriever(\n",
    "    retrievers=[opp_wikipedia_bm25_retriever,opp_wikipedia_faiss_retriever], weight=[0.25,0.75]\n",
    " ) "
   ]
  },
  {
   "cell_type": "markdown",
   "metadata": {},
   "source": [
    "#### Multi-source chain\n",
    "\n",
    "We're going to allow the LLM to decide which information is most -> least valuable.\n",
    "\n",
    "The way we'll do this is with LangChain's rather powerful \"Expression Language\"!\n",
    "\n",
    "> HINT: You can leverage [this](https://python.langchain.com/docs/use_cases/question_answering/how_to/multiple_retrieval) resource if you get stuck - but experiment with different prompts/formats."
   ]
  },
  {
   "cell_type": "code",
   "execution_count": 86,
   "metadata": {},
   "outputs": [],
   "source": [
    "from langchain.prompts import ChatPromptTemplate\n",
    "\n",
    "system_message = \"\"\"Use the information from the below two sources to answer any questions.\n",
    "\n",
    "Source 1: public user reviews about the Oppenheimer movie\n",
    "<source1>\n",
    "{source1}\n",
    "</source1>\n",
    "\n",
    "Source 2: the wikipedia page for the Oppenheimer movie including the plot summary, cast, and production information\n",
    "<source2>\n",
    "{source2}\n",
    "</source2>\n",
    "\"\"\"\n",
    "\n",
    "prompt = ChatPromptTemplate.from_messages([(\"system\", system_message), (\"human\", \"{question}\")])\n"
   ]
  },
  {
   "cell_type": "code",
   "execution_count": 87,
   "metadata": {},
   "outputs": [],
   "source": [
    "oppenheimer_multisource_chain = {\n",
    "    \"source1\": (lambda x: x[\"question\"]) | opp_ensemble_retriever,\n",
    "    \"source2\": (lambda x: x[\"question\"]) | opp_csv_faiss_retriever,\n",
    "    \"question\": lambda x: x[\"question\"],\n",
    "} | prompt | llm"
   ]
  },
  {
   "cell_type": "code",
   "execution_count": 88,
   "metadata": {},
   "outputs": [
    {
     "data": {
      "text/plain": [
       "AIMessage(content=\"People generally thought highly of the Oppenheimer movie. Critics praised the screenplay, performances of the cast (especially Cillian Murphy and Robert Downey Jr.), and the visuals. It was frequently cited as one of the best films of 2023. On the review aggregator website Rotten Tomatoes, 93% of 451 critics' reviews were positive, with an average rating of 8.6/10. The movie received critical acclaim, with particular praise for the cast performances, screenplay, and visuals. However, some criticism was aimed towards the writing of the female characters. Overall, the movie was considered compelling, engaging, and simple to understand, and it sparked an interest in history.\", additional_kwargs={}, example=False)"
      ]
     },
     "execution_count": 88,
     "metadata": {},
     "output_type": "execute_result"
    }
   ],
   "source": [
    "oppenheimer_multisource_chain.invoke({\"question\" : \"What did people think of the Oppenheimer movie?\"})"
   ]
  },
  {
   "cell_type": "code",
   "execution_count": null,
   "metadata": {},
   "outputs": [],
   "source": []
  },
  {
   "cell_type": "markdown",
   "metadata": {},
   "source": [
    "# Agent Creation\n",
    "\n",
    "Now we can finally start building our Agent!\n",
    "\n",
    "The first thing we'll need to do is provide our Agent a Toolbelt. (list of tools). Much like Batman, our LLM-powered Agent can use these tools as it sees fit. \n",
    "\n",
    "While the examples we're constructing in this notebook are straightforward for brevity and simplicities sake - there is no limit to what you can build with Agents, as we'll see as we progress through the program.\n",
    "\n",
    "So, let's begin by setting up our Tools!\n",
    "\n",
    "You'll notice that we have to set up a function to allow our `OppenheimerInfo` tool to interface with the Agent - this is due to it have a specific required input. Creating custom tools is a pattern that you'll want to grow acustomed to as you use LangChain more and more."
   ]
  },
  {
   "cell_type": "code",
   "execution_count": 89,
   "metadata": {},
   "outputs": [],
   "source": [
    "from langchain.agents import Tool\n",
    "\n",
    "## barbie_retriever_agent_executor({\"input\" : \"Did people like Barbie\"})\n",
    "## oppenheimer_multisource_chain.invoke({\"question\" : \"What did people think of the Oppenheimer movie?\"})\n",
    "\n",
    "def query_oppenheimer(input): # because we use multi-query, \n",
    "    return oppenheimer_multisource_chain.invoke({\"question\" : input})\n",
    "\n",
    "tools = [  ## this is actually 4 soures, but this pattern gives structure, the description helps it to decide which tool to use\n",
    "    Tool(\n",
    "        name = \"BarbieInfo\",#\n",
    "        func=barbie_retriever_agent_executor.invoke,\n",
    "        description=\"useful for when you need to answer questions about Barbie. Input should be a fully formed question.\"\n",
    "    ),\n",
    "    Tool(\n",
    "        name = \"OppenheimerInfo\", \n",
    "        func=query_oppenheimer, \n",
    "        description=\"useful for when you need to answer questions about Oppenheimer. Input should be a fully formed question.\"\n",
    "    ),\n",
    "]"
   ]
  },
  {
   "cell_type": "markdown",
   "metadata": {},
   "source": [
    "Now that we've set up our Agents toolbelt, let's set up the LLM that will be powering it!\n",
    "\n",
    "I would suggest playing around with these prompts - and experiments to find what works best for you.\n",
    "\n",
    "RELEVANT DOCS:\n",
    "- [`ZeroShotAgent`](https://api.python.langchain.com/en/latest/agents/langchain.agents.mrkl.base.ZeroShotAgent.html#langchain-agents-mrkl-base-zeroshotagent)"
   ]
  },
  {
   "cell_type": "code",
   "execution_count": 90,
   "metadata": {},
   "outputs": [],
   "source": [
    "from langchain.agents import ZeroShotAgent, AgentExecutor\n",
    "\n",
    "prefix = \"\"\"Have a conversation with a human, answering the following questions as best you can. You have access to the following tools:\"\"\"\n",
    "suffix = \"\"\"Begin!\"\n",
    "\n",
    "Question: {input}\n",
    "{agent_scratchpad}\"\"\"\n",
    "\n",
    "prompt = ZeroShotAgent.create_prompt(\n",
    "    tools, \n",
    "    prefix=prefix, \n",
    "    suffix=suffix, \n",
    "    input_variables=[\"input\", \"agent_scratchpad\"]\n",
    ")"
   ]
  },
  {
   "cell_type": "code",
   "execution_count": 91,
   "metadata": {},
   "outputs": [],
   "source": [
    "from langchain import LLMChain\n",
    "\n",
    "llm_chain = LLMChain(llm=llm, prompt=prompt)"
   ]
  },
  {
   "cell_type": "markdown",
   "metadata": {},
   "source": [
    "All that's left to do now is create our `ZeroShotAgent` and our `AgentExecutor`, which are the \"reasoner\" and \"actor\" halfs of the `ReAct` method of Agent implementation.\n",
    "\n",
    "Read all about the `ReAct` framework [here](https://react-lm.github.io/)"
   ]
  },
  {
   "cell_type": "code",
   "execution_count": 92,
   "metadata": {},
   "outputs": [],
   "source": [
    "barbenheimer_agent = ZeroShotAgent(\n",
    "    llm_chain=llm_chain, \n",
    "    tools=tools, \n",
    "    verbose=True)\n",
    "\n",
    "barbenheimer_agent_chain = AgentExecutor.from_agent_and_tools(\n",
    "    agent=barbenheimer_agent, \n",
    "    tools=tools, \n",
    "    verbose=True)"
   ]
  },
  {
   "cell_type": "markdown",
   "metadata": {},
   "source": [
    "## Conclusion\n",
    "\n",
    "All that is left to do now, is feed inputs to your Agent and watch it work!\n",
    "\n",
    "Remember to use the `{\"input\" : \"YOUR QUERY HERE\"}` format when prompting the Agent."
   ]
  },
  {
   "cell_type": "code",
   "execution_count": 93,
   "metadata": {},
   "outputs": [
    {
     "name": "stdout",
     "output_type": "stream",
     "text": [
      "\n",
      "\n",
      "\u001b[1m> Entering new AgentExecutor chain...\u001b[0m\n",
      "\u001b[32;1m\u001b[1;3mThought: I need to find information about the Barbie movie.\n",
      "Action: BarbieInfo\n",
      "Action Input: What did people like about the Barbie movie?\u001b[0m\n",
      "\n",
      "\u001b[1m> Entering new AgentExecutor chain...\u001b[0m\n",
      "\u001b[32;1m\u001b[1;3m\n",
      "Invoking: `PublicReviews` with `Barbie (film)`\n",
      "\n",
      "\n",
      "\u001b[0m\u001b[33;1m\u001b[1;3m[Document(page_content=': 97\\nReview_Date: 21 July 2023\\nAuthor: MrDHWong\\nRating: 9\\nReview_Title: A darkly satirical look at gender structure in society\\nReview: \"Barbie\" is a comedy film based on the line of fashion dolls by Mattel. Directed and co-written by Greta Gerwig (\"Lady Bird\", \"Little Women\") and starring Margot Robbie and Ryan Gosling, it takes every opportunity to revel in its amusing premise with a darkly satirical look at gender structure in society.\\nReview_Url: /review/rw9199947/?ref_=tt_urv', metadata={'source': '/review/rw9199947/?ref_=tt_urv', 'row': 97}), Document(page_content=\"Review: The big summer blockbuster of 2023 is a wonderful visual spectacle with a great deal of creative physical comedy, centered in and around the universe of Barbie, Mattel's historic toy doll. Unfortunately, the film tries to be and do much more than what the filmmakers ultimately are able to control and reel in. That a movie about Barbie would be guilty of Americanization is no surprise, and in many ways more than befitting, but the Americanization here isn't just about the history of the toy itself and all its cultural impacts - Barbie also views everything through the eyes of Hollywood anno 2023 - which arguably is a very particular and perhaps not that representative outlook. Instead of utilizing the fine foundation laid in the film's first third, director and co-writer Greta Gervig (Lady Bird, Little Women) gets herself lost in a trite, divisive and most likely futile battle of the sexes, which will leave youths - and perhaps particularly Europeans - feeling confused and\", metadata={'source': '/review/rw9199947/?ref_=tt_urv', 'row': 116}), Document(page_content=\"particularly Europeans - feeling confused and conflicted. The filmmakers' supposed toying with stereotypes ultimately becomes more of a playing into them, especially towards the end when Gerwig staggers along desperately looking for closure and something meaningful to say. Alas, Barbie has ended up as a rather sad symptom of our times, when it could have been the wonderfully funny piece of femininity-appraising escapism it started out as. There are nonetheless several highlights here, such as the delightfully absurd opening sequence (a fine nod to Kubrick's 2001), the initial introduction of Barbie and Ken's days in Barbieland, and - of course - their first encounter with the real world.\", metadata={'source': '/review/rw9199947/?ref_=tt_urv', 'row': 116}), Document(page_content=': 53\\nReview_Date: 29 July 2023\\nAuthor: planktonrules\\nRating: 6\\nReview_Title: Good...not great\\nReview: \"Barbie\" is a movie that is setting all sorts of records, so it\\'s obvious that the film is touching many people. For some, it\\'s the fun of seeing a doll come to life, for others it\\'s the theme of empowerment that make the movie a big hit. As for me, I did like it and thought it was a pretty good movie...but it\\'s not for everyone.\\nReview_Url: /review/rw9199947/?ref_=tt_urv', metadata={'source': '/review/rw9199947/?ref_=tt_urv', 'row': 53})]\u001b[0m\u001b[32;1m\u001b[1;3mPeople liked several aspects of the Barbie movie. Here are some highlights from the reviews:\n",
      "\n",
      "1. A darkly satirical look at gender structure in society: The film was praised for its satirical approach to exploring gender roles and societal expectations. It delves into the concept of Barbie as a cultural icon and examines the impact of gender norms.\n",
      "\n",
      "2. Visual spectacle and creative physical comedy: The movie was commended for its stunning visuals and creative use of physical comedy. It provided a visually appealing and entertaining experience for the audience.\n",
      "\n",
      "3. Delightfully absurd opening sequence and introduction of Barbie and Ken's world: The film's opening sequence and the initial introduction of Barbie and Ken's life in Barbieland were highlighted as enjoyable and engaging moments.\n",
      "\n",
      "4. Theme of empowerment: Some viewers appreciated the movie's theme of empowerment, which resonated with them. It showcased Barbie's journey of self-discovery and encouraged viewers to embrace their own individuality and strengths.\n",
      "\n",
      "5. Fun and entertaining: Overall, the Barbie movie was considered a fun and entertaining watch. It provided a lighthearted and enjoyable experience for many viewers.\n",
      "\n",
      "It's important to note that these are just a few selected reviews, and opinions may vary among different viewers.\u001b[0m\n",
      "\n",
      "\u001b[1m> Finished chain.\u001b[0m\n",
      "\n",
      "Observation: \u001b[36;1m\u001b[1;3m{'input': 'What did people like about the Barbie movie?', 'chat_history': [AIMessage(content='The plot of the Barbie movie follows Barbie (played by Margot Robbie) and Ken (played by Ryan Gosling) on a journey of self-discovery after experiencing an existential crisis. Barbie and Ken face various challenges and adventures as they navigate through their personal growth. The film explores themes of identity, self-reflection, and the pursuit of happiness. It features an ensemble supporting cast, including America Ferrera, Kate McKinnon, Helen Mirren, Issa Rae, Simu Liu, Michael Cera, Rhea Perlman, and Will Ferrell. The movie received critical acclaim and became a box office success, grossing $1.2 billion worldwide.', additional_kwargs={}, example=False), HumanMessage(content='What did people like about the Barbie movie?', additional_kwargs={}, example=False), AIMessage(content='', additional_kwargs={'function_call': {'name': 'PublicReviews', 'arguments': '{\\n  \"__arg1\": \"Barbie (film)\"\\n}'}}, example=False), FunctionMessage(content='[Document(page_content=\\': 97\\\\nReview_Date: 21 July 2023\\\\nAuthor: MrDHWong\\\\nRating: 9\\\\nReview_Title: A darkly satirical look at gender structure in society\\\\nReview: \"Barbie\" is a comedy film based on the line of fashion dolls by Mattel. Directed and co-written by Greta Gerwig (\"Lady Bird\", \"Little Women\") and starring Margot Robbie and Ryan Gosling, it takes every opportunity to revel in its amusing premise with a darkly satirical look at gender structure in society.\\\\nReview_Url: /review/rw9199947/?ref_=tt_urv\\', metadata={\\'source\\': \\'/review/rw9199947/?ref_=tt_urv\\', \\'row\\': 97}), Document(page_content=\"Review: The big summer blockbuster of 2023 is a wonderful visual spectacle with a great deal of creative physical comedy, centered in and around the universe of Barbie, Mattel\\'s historic toy doll. Unfortunately, the film tries to be and do much more than what the filmmakers ultimately are able to control and reel in. That a movie about Barbie would be guilty of Americanization is no surprise, and in many ways more than befitting, but the Americanization here isn\\'t just about the history of the toy itself and all its cultural impacts - Barbie also views everything through the eyes of Hollywood anno 2023 - which arguably is a very particular and perhaps not that representative outlook. Instead of utilizing the fine foundation laid in the film\\'s first third, director and co-writer Greta Gervig (Lady Bird, Little Women) gets herself lost in a trite, divisive and most likely futile battle of the sexes, which will leave youths - and perhaps particularly Europeans - feeling confused and\", metadata={\\'source\\': \\'/review/rw9199947/?ref_=tt_urv\\', \\'row\\': 116}), Document(page_content=\"particularly Europeans - feeling confused and conflicted. The filmmakers\\' supposed toying with stereotypes ultimately becomes more of a playing into them, especially towards the end when Gerwig staggers along desperately looking for closure and something meaningful to say. Alas, Barbie has ended up as a rather sad symptom of our times, when it could have been the wonderfully funny piece of femininity-appraising escapism it started out as. There are nonetheless several highlights here, such as the delightfully absurd opening sequence (a fine nod to Kubrick\\'s 2001), the initial introduction of Barbie and Ken\\'s days in Barbieland, and - of course - their first encounter with the real world.\", metadata={\\'source\\': \\'/review/rw9199947/?ref_=tt_urv\\', \\'row\\': 116}), Document(page_content=\\': 53\\\\nReview_Date: 29 July 2023\\\\nAuthor: planktonrules\\\\nRating: 6\\\\nReview_Title: Good...not great\\\\nReview: \"Barbie\" is a movie that is setting all sorts of records, so it\\\\\\'s obvious that the film is touching many people. For some, it\\\\\\'s the fun of seeing a doll come to life, for others it\\\\\\'s the theme of empowerment that make the movie a big hit. As for me, I did like it and thought it was a pretty good movie...but it\\\\\\'s not for everyone.\\\\nReview_Url: /review/rw9199947/?ref_=tt_urv\\', metadata={\\'source\\': \\'/review/rw9199947/?ref_=tt_urv\\', \\'row\\': 53})]', additional_kwargs={}, name='PublicReviews'), AIMessage(content=\"People liked several aspects of the Barbie movie. Here are some highlights from the reviews:\\n\\n1. A darkly satirical look at gender structure in society: The film was praised for its satirical approach to exploring gender roles and societal expectations. It delves into the concept of Barbie as a cultural icon and examines the impact of gender norms.\\n\\n2. Visual spectacle and creative physical comedy: The movie was commended for its stunning visuals and creative use of physical comedy. It provided a visually appealing and entertaining experience for the audience.\\n\\n3. Delightfully absurd opening sequence and introduction of Barbie and Ken's world: The film's opening sequence and the initial introduction of Barbie and Ken's life in Barbieland were highlighted as enjoyable and engaging moments.\\n\\n4. Theme of empowerment: Some viewers appreciated the movie's theme of empowerment, which resonated with them. It showcased Barbie's journey of self-discovery and encouraged viewers to embrace their own individuality and strengths.\\n\\n5. Fun and entertaining: Overall, the Barbie movie was considered a fun and entertaining watch. It provided a lighthearted and enjoyable experience for many viewers.\\n\\nIt's important to note that these are just a few selected reviews, and opinions may vary among different viewers.\", additional_kwargs={}, example=False)], 'output': \"People liked several aspects of the Barbie movie. Here are some highlights from the reviews:\\n\\n1. A darkly satirical look at gender structure in society: The film was praised for its satirical approach to exploring gender roles and societal expectations. It delves into the concept of Barbie as a cultural icon and examines the impact of gender norms.\\n\\n2. Visual spectacle and creative physical comedy: The movie was commended for its stunning visuals and creative use of physical comedy. It provided a visually appealing and entertaining experience for the audience.\\n\\n3. Delightfully absurd opening sequence and introduction of Barbie and Ken's world: The film's opening sequence and the initial introduction of Barbie and Ken's life in Barbieland were highlighted as enjoyable and engaging moments.\\n\\n4. Theme of empowerment: Some viewers appreciated the movie's theme of empowerment, which resonated with them. It showcased Barbie's journey of self-discovery and encouraged viewers to embrace their own individuality and strengths.\\n\\n5. Fun and entertaining: Overall, the Barbie movie was considered a fun and entertaining watch. It provided a lighthearted and enjoyable experience for many viewers.\\n\\nIt's important to note that these are just a few selected reviews, and opinions may vary among different viewers.\", 'intermediate_steps': [(_FunctionsAgentAction(tool='PublicReviews', tool_input='Barbie (film)', log='\\nInvoking: `PublicReviews` with `Barbie (film)`\\n\\n\\n', message_log=[AIMessage(content='', additional_kwargs={'function_call': {'name': 'PublicReviews', 'arguments': '{\\n  \"__arg1\": \"Barbie (film)\"\\n}'}}, example=False)]), [Document(page_content=': 97\\nReview_Date: 21 July 2023\\nAuthor: MrDHWong\\nRating: 9\\nReview_Title: A darkly satirical look at gender structure in society\\nReview: \"Barbie\" is a comedy film based on the line of fashion dolls by Mattel. Directed and co-written by Greta Gerwig (\"Lady Bird\", \"Little Women\") and starring Margot Robbie and Ryan Gosling, it takes every opportunity to revel in its amusing premise with a darkly satirical look at gender structure in society.\\nReview_Url: /review/rw9199947/?ref_=tt_urv', metadata={'source': '/review/rw9199947/?ref_=tt_urv', 'row': 97}), Document(page_content=\"Review: The big summer blockbuster of 2023 is a wonderful visual spectacle with a great deal of creative physical comedy, centered in and around the universe of Barbie, Mattel's historic toy doll. Unfortunately, the film tries to be and do much more than what the filmmakers ultimately are able to control and reel in. That a movie about Barbie would be guilty of Americanization is no surprise, and in many ways more than befitting, but the Americanization here isn't just about the history of the toy itself and all its cultural impacts - Barbie also views everything through the eyes of Hollywood anno 2023 - which arguably is a very particular and perhaps not that representative outlook. Instead of utilizing the fine foundation laid in the film's first third, director and co-writer Greta Gervig (Lady Bird, Little Women) gets herself lost in a trite, divisive and most likely futile battle of the sexes, which will leave youths - and perhaps particularly Europeans - feeling confused and\", metadata={'source': '/review/rw9199947/?ref_=tt_urv', 'row': 116}), Document(page_content=\"particularly Europeans - feeling confused and conflicted. The filmmakers' supposed toying with stereotypes ultimately becomes more of a playing into them, especially towards the end when Gerwig staggers along desperately looking for closure and something meaningful to say. Alas, Barbie has ended up as a rather sad symptom of our times, when it could have been the wonderfully funny piece of femininity-appraising escapism it started out as. There are nonetheless several highlights here, such as the delightfully absurd opening sequence (a fine nod to Kubrick's 2001), the initial introduction of Barbie and Ken's days in Barbieland, and - of course - their first encounter with the real world.\", metadata={'source': '/review/rw9199947/?ref_=tt_urv', 'row': 116}), Document(page_content=': 53\\nReview_Date: 29 July 2023\\nAuthor: planktonrules\\nRating: 6\\nReview_Title: Good...not great\\nReview: \"Barbie\" is a movie that is setting all sorts of records, so it\\'s obvious that the film is touching many people. For some, it\\'s the fun of seeing a doll come to life, for others it\\'s the theme of empowerment that make the movie a big hit. As for me, I did like it and thought it was a pretty good movie...but it\\'s not for everyone.\\nReview_Url: /review/rw9199947/?ref_=tt_urv', metadata={'source': '/review/rw9199947/?ref_=tt_urv', 'row': 53})])]}\u001b[0m\n",
      "Thought:\u001b[32;1m\u001b[1;3mBased on the reviews, people liked several aspects of the Barbie movie. Some highlights include:\n",
      "\n",
      "1. A darkly satirical look at gender structure in society: The film was praised for its satirical approach to exploring gender roles and societal expectations. It delves into the concept of Barbie as a cultural icon and examines the impact of gender norms.\n",
      "\n",
      "2. Visual spectacle and creative physical comedy: The movie was commended for its stunning visuals and creative use of physical comedy. It provided a visually appealing and entertaining experience for the audience.\n",
      "\n",
      "3. Delightfully absurd opening sequence and introduction of Barbie and Ken's world: The film's opening sequence and the initial introduction of Barbie and Ken's life in Barbieland were highlighted as enjoyable and engaging moments.\n",
      "\n",
      "4. Theme of empowerment: Some viewers appreciated the movie's theme of empowerment, which resonated with them. It showcased Barbie's journey of self-discovery and encouraged viewers to embrace their own individuality and strengths.\n",
      "\n",
      "5. Fun and entertaining: Overall, the Barbie movie was considered a fun and entertaining watch. It provided a lighthearted and enjoyable experience for many viewers.\n",
      "\n",
      "It's important to note that these are just a few selected reviews, and opinions may vary among different viewers.\n",
      "\n",
      "Final Answer: People liked the Barbie movie for its satirical approach to gender structure, visual spectacle, creative physical comedy, delightfully absurd opening sequence, theme of empowerment, and overall fun and entertaining nature.\u001b[0m\n",
      "\n",
      "\u001b[1m> Finished chain.\u001b[0m\n"
     ]
    },
    {
     "data": {
      "text/plain": [
       "{'input': 'What did people like about the Barbie movie?',\n",
       " 'output': 'People liked the Barbie movie for its satirical approach to gender structure, visual spectacle, creative physical comedy, delightfully absurd opening sequence, theme of empowerment, and overall fun and entertaining nature.'}"
      ]
     },
     "execution_count": 93,
     "metadata": {},
     "output_type": "execute_result"
    }
   ],
   "source": [
    "barbenheimer_agent_chain.invoke({\"input\" : \"What did people like about the Barbie movie?\"})"
   ]
  },
  {
   "cell_type": "code",
   "execution_count": 78,
   "metadata": {},
   "outputs": [
    {
     "name": "stdout",
     "output_type": "stream",
     "text": [
      "\n",
      "\n",
      "\u001b[1m> Entering new AgentExecutor chain...\u001b[0m\n",
      "\u001b[32;1m\u001b[1;3mThought: I need to find out what people liked about the Oppenheimer movie.\n",
      "Action: OppenheimerInfo\n",
      "Action Input: \"What did people like about the Oppenheimer movie?\"\u001b[0m\n",
      "Observation: \u001b[33;1m\u001b[1;3mcontent=\"People liked the screenplay, the performances of the cast (particularly those of Murphy and Downey), and the visuals of the Oppenheimer movie. They also praised the accuracy of the film and its ability to make a complicated man's story compelling and engaging. The cinematography was also praised, and viewers enjoyed the three-hour runtime.\" additional_kwargs={} example=False\u001b[0m\n",
      "Thought:\u001b[32;1m\u001b[1;3mI now know what people liked about the Oppenheimer movie.\n",
      "Final Answer: People liked the screenplay, the performances of the cast, the visuals, the accuracy, the cinematography, and the three-hour runtime of the Oppenheimer movie.\u001b[0m\n",
      "\n",
      "\u001b[1m> Finished chain.\u001b[0m\n"
     ]
    },
    {
     "data": {
      "text/plain": [
       "'People liked the screenplay, the performances of the cast, the visuals, the accuracy, the cinematography, and the three-hour runtime of the Oppenheimer movie.'"
      ]
     },
     "execution_count": 78,
     "metadata": {},
     "output_type": "execute_result"
    }
   ],
   "source": [
    "barbenheimer_agent_chain.run({\"input\" : \"What did people like about the Oppenheimer movie?\"})"
   ]
  },
  {
   "cell_type": "code",
   "execution_count": 95,
   "metadata": {},
   "outputs": [
    {
     "name": "stdout",
     "output_type": "stream",
     "text": [
      "\n",
      "\n",
      "\u001b[1m> Entering new AgentExecutor chain...\u001b[0m\n",
      "\u001b[32;1m\u001b[1;3mThought: I need to find information about the five main themes of the Oppenheimer movie.\n",
      "Action: OppenheimerInfo\n",
      "Action Input: What are the five main themes of the Oppenheimer movie?\u001b[0m\n",
      "Observation: \u001b[33;1m\u001b[1;3mcontent=\"Based on the information provided, the five main themes of the Oppenheimer movie are:\\n\\n1. Fear and foreboding about the horror of full-on nuclear conflict\\n2. Humanity's capacity for greatness and terribleness\\n3. The ethical and moral dilemmas surrounding the creation of the atomic bomb\\n4. The influence of the red scare and McCarthyism on J. Robert Oppenheimer's life\\n5. The pressure and internal conflict faced by Oppenheimer as he directed the Manhattan Project.\" additional_kwargs={} example=False\u001b[0m\n",
      "Thought:\u001b[32;1m\u001b[1;3mI now know the final answer\n",
      "Final Answer: The five main themes of the Oppenheimer movie are fear and foreboding about the horror of full-on nuclear conflict, humanity's capacity for greatness and terribleness, the ethical and moral dilemmas surrounding the creation of the atomic bomb, the influence of the red scare and McCarthyism on J. Robert Oppenheimer's life, and the pressure and internal conflict faced by Oppenheimer as he directed the Manhattan Project.\u001b[0m\n",
      "\n",
      "\u001b[1m> Finished chain.\u001b[0m\n"
     ]
    },
    {
     "data": {
      "text/plain": [
       "\"The five main themes of the Oppenheimer movie are fear and foreboding about the horror of full-on nuclear conflict, humanity's capacity for greatness and terribleness, the ethical and moral dilemmas surrounding the creation of the atomic bomb, the influence of the red scare and McCarthyism on J. Robert Oppenheimer's life, and the pressure and internal conflict faced by Oppenheimer as he directed the Manhattan Project.\""
      ]
     },
     "execution_count": 95,
     "metadata": {},
     "output_type": "execute_result"
    }
   ],
   "source": [
    "barbenheimer_agent_chain.run({\"input\" : \"what are the five main themes of Oppenheimer movie?\"})"
   ]
  },
  {
   "cell_type": "code",
   "execution_count": 96,
   "metadata": {},
   "outputs": [
    {
     "name": "stdout",
     "output_type": "stream",
     "text": [
      "\n",
      "\n",
      "\u001b[1m> Entering new AgentExecutor chain...\u001b[0m\n",
      "\u001b[32;1m\u001b[1;3mThought: I need to find information about both Barbie and Oppenheimer to determine if their movies share similar themes or ideas.\n",
      "Action: BarbieInfo\n",
      "Action Input: Did Barbie movies have any specific themes or ideas?\u001b[0m\n",
      "\n",
      "\u001b[1m> Entering new AgentExecutor chain...\u001b[0m\n",
      "\u001b[32;1m\u001b[1;3m\n",
      "Invoking: `wikipedia` with `Barbie (film series)`\n",
      "\n",
      "\n",
      "\u001b[0m\u001b[36;1m\u001b[1;3m[Document(page_content='Barbie is a 2023 American fantasy comedy film directed by Greta Gerwig from a screenplay she wrote with Noah Baumbach. Based on the Barbie fashion dolls by Mattel, it is the first live-action Barbie film after numerous computer-animated films and specials. The film follows Barbie (Margot Robbie) and Ken (Ryan Gosling) on a journey of self-discovery following an existential crisis. It features an ensemble supporting cast, including America Ferrera, Kate McKinnon, Helen Mirren, Issa Rae, Simu Liu,', metadata={'title': 'Barbie (film)', 'summary': 'Barbie is a 2023 American fantasy comedy film directed by Greta Gerwig from a screenplay she wrote with Noah Baumbach. Based on the Barbie fashion dolls by Mattel, it is the first live-action Barbie film after numerous computer-animated films and specials. The film follows Barbie (Margot Robbie) and Ken (Ryan Gosling) on a journey of self-discovery following an existential crisis. It features an ensemble supporting cast, including America Ferrera, Kate McKinnon, Helen Mirren, Issa Rae, Simu Liu, Michael Cera, Rhea Perlman, and Will Ferrell.\\nA live-action Barbie film was announced in September 2009 by Universal Pictures with Laurence Mark producing. Development began in April 2014, when Sony Pictures acquired the film rights. Following multiple writer and director changes and the casting of Amy Schumer and later Anne Hathaway as Barbie, the rights were transferred to Warner Bros. Pictures in October 2018. Robbie was cast in 2019, after Gal Gadot turned down the role due to scheduling conflicts, and Gerwig was announced as director and co-writer with Baumbach in 2020. The rest of the cast were announced in early 2022. Filming took place primarily at Warner Bros. Studios, Leavesden, in England and on the Venice Beach Skatepark in Los Angeles from March to July 2022.\\nBarbie premiered at the Shrine Auditorium in Los Angeles on July 9, 2023, and was theatrically released in the United States on July 21 by Warner Bros. Pictures. Its simultaneous release with Universal\\'s Oppenheimer led to the \"Barbenheimer\" cultural phenomenon, which encouraged audiences to see both films as a double feature. The film received critical acclaim and has grossed $1.2 billion worldwide, becoming the second highest-grossing film of 2023, as well as the highest-grossing film directed solely by a woman and the 24th highest-grossing film of all-time.', 'source': 'https://en.wikipedia.org/wiki/Barbie_(film)'}), Document(page_content=\"Arriving at Venice Beach, Barbie punches a man for groping her, leading to her and Ken's brief arrest. Alarmed by their presence, Mattel's CEO orders their recapture. Barbie tracks down her owner, a tween girl named Sasha, who criticizes her for encouraging unrealistic beauty standards. Distraught, Barbie discovers that Gloria, a Mattel employee and Sasha's mother, inadvertently catalyzed her existential crisis after Gloria began playing with Sasha's old Barbie toys in a similar state. Mattel\", metadata={'title': 'Barbie (film)', 'summary': 'Barbie is a 2023 American fantasy comedy film directed by Greta Gerwig from a screenplay she wrote with Noah Baumbach. Based on the Barbie fashion dolls by Mattel, it is the first live-action Barbie film after numerous computer-animated films and specials. The film follows Barbie (Margot Robbie) and Ken (Ryan Gosling) on a journey of self-discovery following an existential crisis. It features an ensemble supporting cast, including America Ferrera, Kate McKinnon, Helen Mirren, Issa Rae, Simu Liu, Michael Cera, Rhea Perlman, and Will Ferrell.\\nA live-action Barbie film was announced in September 2009 by Universal Pictures with Laurence Mark producing. Development began in April 2014, when Sony Pictures acquired the film rights. Following multiple writer and director changes and the casting of Amy Schumer and later Anne Hathaway as Barbie, the rights were transferred to Warner Bros. Pictures in October 2018. Robbie was cast in 2019, after Gal Gadot turned down the role due to scheduling conflicts, and Gerwig was announced as director and co-writer with Baumbach in 2020. The rest of the cast were announced in early 2022. Filming took place primarily at Warner Bros. Studios, Leavesden, in England and on the Venice Beach Skatepark in Los Angeles from March to July 2022.\\nBarbie premiered at the Shrine Auditorium in Los Angeles on July 9, 2023, and was theatrically released in the United States on July 21 by Warner Bros. Pictures. Its simultaneous release with Universal\\'s Oppenheimer led to the \"Barbenheimer\" cultural phenomenon, which encouraged audiences to see both films as a double feature. The film received critical acclaim and has grossed $1.2 billion worldwide, becoming the second highest-grossing film of 2023, as well as the highest-grossing film directed solely by a woman and the 24th highest-grossing film of all-time.', 'source': 'https://en.wikipedia.org/wiki/Barbie_(film)'})]\u001b[0m\u001b[32;1m\u001b[1;3mThe specific themes and ideas of the Barbie movie series can vary from film to film. However, based on the information available, here are some common themes and ideas that have been explored in Barbie movies:\n",
      "\n",
      "1. Friendship and teamwork: Many Barbie movies emphasize the importance of friendship and working together as a team. The characters often overcome challenges by supporting and helping each other.\n",
      "\n",
      "2. Self-acceptance and embracing individuality: Barbie movies often promote the idea of self-acceptance and embracing one's unique qualities. The characters learn to be confident in who they are and celebrate their individuality.\n",
      "\n",
      "3. Empowerment and pursuing dreams: Barbie movies often feature strong and determined female characters who pursue their dreams and overcome obstacles. These films encourage viewers, especially young girls, to believe in themselves and follow their passions.\n",
      "\n",
      "4. Environmental awareness and conservation: Some Barbie movies address environmental issues and promote the importance of taking care of the planet. These films raise awareness about topics such as pollution, deforestation, and animal conservation.\n",
      "\n",
      "5. Fairy tale and fantasy elements: Many Barbie movies are set in magical worlds and incorporate fairy tale elements. These films transport viewers to enchanting realms and often include themes of love, bravery, and the power of imagination.\n",
      "\n",
      "It's important to note that these themes and ideas are not exhaustive and may vary in different Barbie movies. Each film may have its own unique storyline and messages.\u001b[0m\n",
      "\n",
      "\u001b[1m> Finished chain.\u001b[0m\n",
      "\n",
      "Observation: \u001b[36;1m\u001b[1;3m{'input': 'Did Barbie movies have any specific themes or ideas?', 'chat_history': [AIMessage(content=\"The Barbie movie explores several themes and ideas. Here are some key aspects:\\n\\n1. Self-discovery and existential crisis: The film follows Barbie and Ken on a journey of self-discovery after experiencing an existential crisis. They question their identities and purpose, leading to personal growth and transformation.\\n\\n2. Unrealistic beauty standards: Barbie's owner, Sasha, criticizes her for encouraging unrealistic beauty standards. This theme highlights the impact of societal expectations and challenges the notion of idealized beauty.\\n\\n3. Empowerment and individuality: The movie emphasizes the importance of embracing one's individuality and strengths. Barbie's journey encourages viewers to be confident in who they are and to celebrate their unique qualities.\\n\\n4. Gender structure in society: The film takes a satirical look at gender structure in society. It explores the concept of Barbie as a cultural icon and examines the impact of gender norms and stereotypes.\\n\\nThese themes and ideas contribute to the overall narrative and message of the Barbie movie, providing a thought-provoking and entertaining experience for the audience.\", additional_kwargs={}, example=False), HumanMessage(content='Did Barbie movies have any specific themes or ideas?', additional_kwargs={}, example=False), AIMessage(content='', additional_kwargs={'function_call': {'name': 'wikipedia', 'arguments': '{\\n  \"__arg1\": \"Barbie (film series)\"\\n}'}}, example=False), FunctionMessage(content='[Document(page_content=\\'Barbie is a 2023 American fantasy comedy film directed by Greta Gerwig from a screenplay she wrote with Noah Baumbach. Based on the Barbie fashion dolls by Mattel, it is the first live-action Barbie film after numerous computer-animated films and specials. The film follows Barbie (Margot Robbie) and Ken (Ryan Gosling) on a journey of self-discovery following an existential crisis. It features an ensemble supporting cast, including America Ferrera, Kate McKinnon, Helen Mirren, Issa Rae, Simu Liu,\\', metadata={\\'title\\': \\'Barbie (film)\\', \\'summary\\': \\'Barbie is a 2023 American fantasy comedy film directed by Greta Gerwig from a screenplay she wrote with Noah Baumbach. Based on the Barbie fashion dolls by Mattel, it is the first live-action Barbie film after numerous computer-animated films and specials. The film follows Barbie (Margot Robbie) and Ken (Ryan Gosling) on a journey of self-discovery following an existential crisis. It features an ensemble supporting cast, including America Ferrera, Kate McKinnon, Helen Mirren, Issa Rae, Simu Liu, Michael Cera, Rhea Perlman, and Will Ferrell.\\\\nA live-action Barbie film was announced in September 2009 by Universal Pictures with Laurence Mark producing. Development began in April 2014, when Sony Pictures acquired the film rights. Following multiple writer and director changes and the casting of Amy Schumer and later Anne Hathaway as Barbie, the rights were transferred to Warner Bros. Pictures in October 2018. Robbie was cast in 2019, after Gal Gadot turned down the role due to scheduling conflicts, and Gerwig was announced as director and co-writer with Baumbach in 2020. The rest of the cast were announced in early 2022. Filming took place primarily at Warner Bros. Studios, Leavesden, in England and on the Venice Beach Skatepark in Los Angeles from March to July 2022.\\\\nBarbie premiered at the Shrine Auditorium in Los Angeles on July 9, 2023, and was theatrically released in the United States on July 21 by Warner Bros. Pictures. Its simultaneous release with Universal\\\\\\'s Oppenheimer led to the \"Barbenheimer\" cultural phenomenon, which encouraged audiences to see both films as a double feature. The film received critical acclaim and has grossed $1.2 billion worldwide, becoming the second highest-grossing film of 2023, as well as the highest-grossing film directed solely by a woman and the 24th highest-grossing film of all-time.\\', \\'source\\': \\'https://en.wikipedia.org/wiki/Barbie_(film)\\'}), Document(page_content=\"Arriving at Venice Beach, Barbie punches a man for groping her, leading to her and Ken\\'s brief arrest. Alarmed by their presence, Mattel\\'s CEO orders their recapture. Barbie tracks down her owner, a tween girl named Sasha, who criticizes her for encouraging unrealistic beauty standards. Distraught, Barbie discovers that Gloria, a Mattel employee and Sasha\\'s mother, inadvertently catalyzed her existential crisis after Gloria began playing with Sasha\\'s old Barbie toys in a similar state. Mattel\", metadata={\\'title\\': \\'Barbie (film)\\', \\'summary\\': \\'Barbie is a 2023 American fantasy comedy film directed by Greta Gerwig from a screenplay she wrote with Noah Baumbach. Based on the Barbie fashion dolls by Mattel, it is the first live-action Barbie film after numerous computer-animated films and specials. The film follows Barbie (Margot Robbie) and Ken (Ryan Gosling) on a journey of self-discovery following an existential crisis. It features an ensemble supporting cast, including America Ferrera, Kate McKinnon, Helen Mirren, Issa Rae, Simu Liu, Michael Cera, Rhea Perlman, and Will Ferrell.\\\\nA live-action Barbie film was announced in September 2009 by Universal Pictures with Laurence Mark producing. Development began in April 2014, when Sony Pictures acquired the film rights. Following multiple writer and director changes and the casting of Amy Schumer and later Anne Hathaway as Barbie, the rights were transferred to Warner Bros. Pictures in October 2018. Robbie was cast in 2019, after Gal Gadot turned down the role due to scheduling conflicts, and Gerwig was announced as director and co-writer with Baumbach in 2020. The rest of the cast were announced in early 2022. Filming took place primarily at Warner Bros. Studios, Leavesden, in England and on the Venice Beach Skatepark in Los Angeles from March to July 2022.\\\\nBarbie premiered at the Shrine Auditorium in Los Angeles on July 9, 2023, and was theatrically released in the United States on July 21 by Warner Bros. Pictures. Its simultaneous release with Universal\\\\\\'s Oppenheimer led to the \"Barbenheimer\" cultural phenomenon, which encouraged audiences to see both films as a double feature. The film received critical acclaim and has grossed $1.2 billion worldwide, becoming the second highest-grossing film of 2023, as well as the highest-grossing film directed solely by a woman and the 24th highest-grossing film of all-time.\\', \\'source\\': \\'https://en.wikipedia.org/wiki/Barbie_(film)\\'})]', additional_kwargs={}, name='wikipedia'), AIMessage(content=\"The specific themes and ideas of the Barbie movie series can vary from film to film. However, based on the information available, here are some common themes and ideas that have been explored in Barbie movies:\\n\\n1. Friendship and teamwork: Many Barbie movies emphasize the importance of friendship and working together as a team. The characters often overcome challenges by supporting and helping each other.\\n\\n2. Self-acceptance and embracing individuality: Barbie movies often promote the idea of self-acceptance and embracing one's unique qualities. The characters learn to be confident in who they are and celebrate their individuality.\\n\\n3. Empowerment and pursuing dreams: Barbie movies often feature strong and determined female characters who pursue their dreams and overcome obstacles. These films encourage viewers, especially young girls, to believe in themselves and follow their passions.\\n\\n4. Environmental awareness and conservation: Some Barbie movies address environmental issues and promote the importance of taking care of the planet. These films raise awareness about topics such as pollution, deforestation, and animal conservation.\\n\\n5. Fairy tale and fantasy elements: Many Barbie movies are set in magical worlds and incorporate fairy tale elements. These films transport viewers to enchanting realms and often include themes of love, bravery, and the power of imagination.\\n\\nIt's important to note that these themes and ideas are not exhaustive and may vary in different Barbie movies. Each film may have its own unique storyline and messages.\", additional_kwargs={}, example=False)], 'output': \"The specific themes and ideas of the Barbie movie series can vary from film to film. However, based on the information available, here are some common themes and ideas that have been explored in Barbie movies:\\n\\n1. Friendship and teamwork: Many Barbie movies emphasize the importance of friendship and working together as a team. The characters often overcome challenges by supporting and helping each other.\\n\\n2. Self-acceptance and embracing individuality: Barbie movies often promote the idea of self-acceptance and embracing one's unique qualities. The characters learn to be confident in who they are and celebrate their individuality.\\n\\n3. Empowerment and pursuing dreams: Barbie movies often feature strong and determined female characters who pursue their dreams and overcome obstacles. These films encourage viewers, especially young girls, to believe in themselves and follow their passions.\\n\\n4. Environmental awareness and conservation: Some Barbie movies address environmental issues and promote the importance of taking care of the planet. These films raise awareness about topics such as pollution, deforestation, and animal conservation.\\n\\n5. Fairy tale and fantasy elements: Many Barbie movies are set in magical worlds and incorporate fairy tale elements. These films transport viewers to enchanting realms and often include themes of love, bravery, and the power of imagination.\\n\\nIt's important to note that these themes and ideas are not exhaustive and may vary in different Barbie movies. Each film may have its own unique storyline and messages.\", 'intermediate_steps': [(_FunctionsAgentAction(tool='wikipedia', tool_input='Barbie (film series)', log='\\nInvoking: `wikipedia` with `Barbie (film series)`\\n\\n\\n', message_log=[AIMessage(content='', additional_kwargs={'function_call': {'name': 'wikipedia', 'arguments': '{\\n  \"__arg1\": \"Barbie (film series)\"\\n}'}}, example=False)]), [Document(page_content='Barbie is a 2023 American fantasy comedy film directed by Greta Gerwig from a screenplay she wrote with Noah Baumbach. Based on the Barbie fashion dolls by Mattel, it is the first live-action Barbie film after numerous computer-animated films and specials. The film follows Barbie (Margot Robbie) and Ken (Ryan Gosling) on a journey of self-discovery following an existential crisis. It features an ensemble supporting cast, including America Ferrera, Kate McKinnon, Helen Mirren, Issa Rae, Simu Liu,', metadata={'title': 'Barbie (film)', 'summary': 'Barbie is a 2023 American fantasy comedy film directed by Greta Gerwig from a screenplay she wrote with Noah Baumbach. Based on the Barbie fashion dolls by Mattel, it is the first live-action Barbie film after numerous computer-animated films and specials. The film follows Barbie (Margot Robbie) and Ken (Ryan Gosling) on a journey of self-discovery following an existential crisis. It features an ensemble supporting cast, including America Ferrera, Kate McKinnon, Helen Mirren, Issa Rae, Simu Liu, Michael Cera, Rhea Perlman, and Will Ferrell.\\nA live-action Barbie film was announced in September 2009 by Universal Pictures with Laurence Mark producing. Development began in April 2014, when Sony Pictures acquired the film rights. Following multiple writer and director changes and the casting of Amy Schumer and later Anne Hathaway as Barbie, the rights were transferred to Warner Bros. Pictures in October 2018. Robbie was cast in 2019, after Gal Gadot turned down the role due to scheduling conflicts, and Gerwig was announced as director and co-writer with Baumbach in 2020. The rest of the cast were announced in early 2022. Filming took place primarily at Warner Bros. Studios, Leavesden, in England and on the Venice Beach Skatepark in Los Angeles from March to July 2022.\\nBarbie premiered at the Shrine Auditorium in Los Angeles on July 9, 2023, and was theatrically released in the United States on July 21 by Warner Bros. Pictures. Its simultaneous release with Universal\\'s Oppenheimer led to the \"Barbenheimer\" cultural phenomenon, which encouraged audiences to see both films as a double feature. The film received critical acclaim and has grossed $1.2 billion worldwide, becoming the second highest-grossing film of 2023, as well as the highest-grossing film directed solely by a woman and the 24th highest-grossing film of all-time.', 'source': 'https://en.wikipedia.org/wiki/Barbie_(film)'}), Document(page_content=\"Arriving at Venice Beach, Barbie punches a man for groping her, leading to her and Ken's brief arrest. Alarmed by their presence, Mattel's CEO orders their recapture. Barbie tracks down her owner, a tween girl named Sasha, who criticizes her for encouraging unrealistic beauty standards. Distraught, Barbie discovers that Gloria, a Mattel employee and Sasha's mother, inadvertently catalyzed her existential crisis after Gloria began playing with Sasha's old Barbie toys in a similar state. Mattel\", metadata={'title': 'Barbie (film)', 'summary': 'Barbie is a 2023 American fantasy comedy film directed by Greta Gerwig from a screenplay she wrote with Noah Baumbach. Based on the Barbie fashion dolls by Mattel, it is the first live-action Barbie film after numerous computer-animated films and specials. The film follows Barbie (Margot Robbie) and Ken (Ryan Gosling) on a journey of self-discovery following an existential crisis. It features an ensemble supporting cast, including America Ferrera, Kate McKinnon, Helen Mirren, Issa Rae, Simu Liu, Michael Cera, Rhea Perlman, and Will Ferrell.\\nA live-action Barbie film was announced in September 2009 by Universal Pictures with Laurence Mark producing. Development began in April 2014, when Sony Pictures acquired the film rights. Following multiple writer and director changes and the casting of Amy Schumer and later Anne Hathaway as Barbie, the rights were transferred to Warner Bros. Pictures in October 2018. Robbie was cast in 2019, after Gal Gadot turned down the role due to scheduling conflicts, and Gerwig was announced as director and co-writer with Baumbach in 2020. The rest of the cast were announced in early 2022. Filming took place primarily at Warner Bros. Studios, Leavesden, in England and on the Venice Beach Skatepark in Los Angeles from March to July 2022.\\nBarbie premiered at the Shrine Auditorium in Los Angeles on July 9, 2023, and was theatrically released in the United States on July 21 by Warner Bros. Pictures. Its simultaneous release with Universal\\'s Oppenheimer led to the \"Barbenheimer\" cultural phenomenon, which encouraged audiences to see both films as a double feature. The film received critical acclaim and has grossed $1.2 billion worldwide, becoming the second highest-grossing film of 2023, as well as the highest-grossing film directed solely by a woman and the 24th highest-grossing film of all-time.', 'source': 'https://en.wikipedia.org/wiki/Barbie_(film)'})])]}\u001b[0m\n",
      "Thought:\u001b[32;1m\u001b[1;3mBased on the information I found, Barbie movies explore themes such as self-discovery and existential crisis, unrealistic beauty standards, empowerment and individuality, and gender structure in society. Now I need to find information about Oppenheimer's movies to see if they share similar themes or ideas.\n",
      "Action: OppenheimerInfo\n",
      "Action Input: Did Oppenheimer's movies have any specific themes or ideas?\u001b[0m\n",
      "Observation: \u001b[33;1m\u001b[1;3mcontent=\"Yes, the Oppenheimer movie explores several themes and ideas. According to the information provided, the movie delves into Oppenheimer's internal conflict and guilt over his role in the atomic bombings of Hiroshima and Nagasaki. It aims to portray Oppenheimer as feeling genuine remorse for his actions, despite never publicly apologizing. The film also touches on the themes of the red scare and McCarthyism, highlighting the paranoia and shadow that followed Oppenheimer throughout his life. Additionally, the movie raises questions about the ethical implications of scientific advancements and the pressure faced by individuals in positions of power.\" additional_kwargs={} example=False\u001b[0m\n",
      "Thought:\u001b[32;1m\u001b[1;3mBased on the information I found, Oppenheimer's movie explores themes such as Oppenheimer's internal conflict and guilt over his role in the atomic bombings of Hiroshima and Nagasaki, the red scare and McCarthyism, and the ethical implications of scientific advancements. \n",
      "Thought: Now I can compare the themes and ideas of Barbie and Oppenheimer's movies to see if they share any similarities.\n",
      "Final Answer: Based on the information available, the movies Barbie and Oppenheimer explore different themes and ideas. Barbie movies focus on self-discovery, unrealistic beauty standards, empowerment, and gender structure in society, while Oppenheimer's movie delves into Oppenheimer's internal conflict, the red scare and McCarthyism, and the ethical implications of scientific advancements.\u001b[0m\n",
      "\n",
      "\u001b[1m> Finished chain.\u001b[0m\n"
     ]
    },
    {
     "data": {
      "text/plain": [
       "\"Based on the information available, the movies Barbie and Oppenheimer explore different themes and ideas. Barbie movies focus on self-discovery, unrealistic beauty standards, empowerment, and gender structure in society, while Oppenheimer's movie delves into Oppenheimer's internal conflict, the red scare and McCarthyism, and the ethical implications of scientific advancements.\""
      ]
     },
     "execution_count": 96,
     "metadata": {},
     "output_type": "execute_result"
    }
   ],
   "source": [
    "barbenheimer_agent_chain.run({\"input\" : \"Did the movies Barbie and Oppenheimer share similar themes or ideas?\"})"
   ]
  },
  {
   "cell_type": "markdown",
   "metadata": {},
   "source": [
    "## Next Steps\n",
    "\n",
    "It's time to build a Chainlit (or Gradio) application and host it on Hugging Face Spaces! :ship:"
   ]
  }
 ],
 "metadata": {
  "kernelspec": {
   "display_name": "Python 3.11.4 ('raqa_llm')",
   "language": "python",
   "name": "python3"
  },
  "language_info": {
   "codemirror_mode": {
    "name": "ipython",
    "version": 3
   },
   "file_extension": ".py",
   "mimetype": "text/x-python",
   "name": "python",
   "nbconvert_exporter": "python",
   "pygments_lexer": "ipython3",
   "version": "3.11.4"
  },
  "orig_nbformat": 4,
  "vscode": {
   "interpreter": {
    "hash": "be5acfcc025169f2a5d2f1f42c6f0bfaa3f26bc4a79ece99f8de0b1efed5ee59"
   }
  }
 },
 "nbformat": 4,
 "nbformat_minor": 2
}
