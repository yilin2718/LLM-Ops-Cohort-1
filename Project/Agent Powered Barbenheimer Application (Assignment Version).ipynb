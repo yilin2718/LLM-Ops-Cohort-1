{
 "cells": [
  {
   "cell_type": "markdown",
   "metadata": {},
   "source": [
    "# Questioning ADHD and  Through the Use of Agents\n",
    "\n",
    "In the following notebook we will build an application that queries both the Barbie and Oppenheimer movies Wikipedia pages, as well as their reviews. \n",
    "\n",
    "The main focus of this notebook is to showcase a brief introduction to Agents.\n",
    "\n",
    "## Build 🏗️\n",
    "\n",
    "There are 3 main tasks in this notebook:\n",
    "\n",
    "1. Contruct a Barbie retriever\n",
    "2. Construct an Oppenheimer retriever\n",
    "3. Combine the two and allow users to query both resources from a single input through the use of Agents\n",
    "\n",
    "## Ship 🚢\n",
    "\n",
    "Based on Tuesday's session - construct a Chainlit (or Gradio) application that allows users to interface with the application.\n",
    "\n",
    "## Share 🚀\n",
    "\n",
    "Make a social media post about your final application."
   ]
  },
  {
   "cell_type": "markdown",
   "metadata": {},
   "source": [
    "### Dependencies\n",
    "\n",
    "As always, let's start with some dependencies!"
   ]
  },
  {
   "cell_type": "code",
   "execution_count": 2,
   "metadata": {},
   "outputs": [
    {
     "name": "stdout",
     "output_type": "stream",
     "text": [
      "\u001b[31mERROR: pip's dependency resolver does not currently take into account all the packages that are installed. This behaviour is the source of the following dependency conflicts.\n",
      "llama-index 0.8.6 requires langchain<=0.0.266,>=0.0.262, but you have langchain 0.0.283 which is incompatible.\u001b[0m\u001b[31m\n",
      "\u001b[0m"
     ]
    }
   ],
   "source": [
    "!pip install -q -U langchain openai"
   ]
  },
  {
   "cell_type": "code",
   "execution_count": 3,
   "metadata": {},
   "outputs": [],
   "source": [
    "import getpass\n",
    "import os\n",
    "openai_api_key = getpass.getpass(\"Enter your OpenAI API Key: \")\n",
    "os.environ[\"OPENAI_API_KEY\"] = openai_api_key"
   ]
  },
  {
   "cell_type": "markdown",
   "metadata": {},
   "source": [
    "### LLM \n",
    "\n",
    "We will be leveraging OpenAI's `gpt-3.5-turbo` throughout the notebook, and we can keep it consistent throughout!"
   ]
  },
  {
   "cell_type": "code",
   "execution_count": 4,
   "metadata": {},
   "outputs": [],
   "source": [
    "from langchain.chat_models import ChatOpenAI\n",
    "llm = ChatOpenAI(model=\"gpt-3.5-turbo\", temperature = 0)"
   ]
  },
  {
   "cell_type": "markdown",
   "metadata": {},
   "source": [
    "### Data Collection and Transformation\n",
    "\n",
    "We'll be leveraging the `WikipediaLoader` tool to collect information from Wikipedia. \n",
    "\n",
    "Be sure to set the `doc_content_chars_max` parameter so that you capture the *entire* Wikipedia article content."
   ]
  },
  {
   "cell_type": "code",
   "execution_count": 5,
   "metadata": {},
   "outputs": [],
   "source": [
    "!pip install -q -U wikipedia"
   ]
  },
  {
   "cell_type": "markdown",
   "metadata": {},
   "source": []
  },
  {
   "cell_type": "code",
   "execution_count": 6,
   "metadata": {},
   "outputs": [],
   "source": [
    "from langchain.document_loaders import WikipediaLoader, CSVLoader\n",
    "\n",
    "adhd_wikipedia_docs = WikipediaLoader(\n",
    "    query=\"Attention deficit hyperactivity disorder\", \n",
    "    load_max_docs=1, # YOUR CODE HERE, \n",
    "    doc_content_chars_max=1_000_000### YOUR CODE HERE\n",
    "    ).load()\n",
    "\n",
    "adhd_csv_docs = CSVLoader(\n",
    "    file_path='adhd-twitter.csv',### YOUR CODE HERE, \n",
    "    source_column='url'### YOUR CODE HERE\n",
    "    ).load()"
   ]
  },
  {
   "cell_type": "markdown",
   "metadata": {},
   "source": [
    "Since we'll be using same format source documentation separated by topic, we can save ourselves some extra effort and set up our splitters once. \n",
    "\n",
    "We're going to leverage the `RecursiveCharacterTextSplitter` again, this time paying close attention to the format our Wikipedia articles and reviews are in so we can be sure to chunk them appropritately. \n",
    "\n",
    "> HINT: You can pass a list of separators when you intialize your `RecursiveTextSplitter`! They are acted on in order of element 0 -> element len(list).\n",
    "\n",
    "RELEVANT DOCS:\n",
    "- [`RecursiveCharacterTextSplitter`](https://api.python.langchain.com/en/latest/text_splitter/langchain.text_splitter.RecursiveCharacterTextSplitter.html#langchain.text_splitter.RecursiveCharacterTextSplitter)"
   ]
  },
  {
   "cell_type": "code",
   "execution_count": 8,
   "metadata": {},
   "outputs": [],
   "source": [
    "from langchain.text_splitter import RecursiveCharacterTextSplitter\n",
    "\n",
    "wikipedia_text_splitter = RecursiveCharacterTextSplitter(\n",
    "    chunk_size =500, ### YOUR CODE HERE,\n",
    "    chunk_overlap =0, ### YOUR CODE HERE,\n",
    "    length_function =len, ### YOUR CODE HERE,\n",
    "    is_separator_regex= False,\n",
    "    separators =[\"\\n==\",\"\\n\",\" \"], ### YOUR CODE HERE # keep headings, then paragraphs, then sentences\n",
    ")\n",
    "\n",
    "csv_text_splitter = RecursiveCharacterTextSplitter(\n",
    "    chunk_size =1000, ### YOUR CODE HERE,\n",
    "    chunk_overlap =50, ### YOUR CODE HERE,\n",
    "    length_function =len, ### YOUR CODE HERE,\n",
    "    is_separator_regex= False,\n",
    "    separators =[\"\\n\", \" \"] ### YOUR CODE HERE # keep paragraphs, then sentences\n",
    ")\n",
    "\n",
    "chunked_adhd_wikipedia_docs =wikipedia_text_splitter.transform_documents(adhd_wikipedia_docs) ### YOUR CODE HERE\n",
    "chunked_adhd_csv_docs =csv_text_splitter.transform_documents(adhd_csv_docs) ### YOUR CODE HERE"
   ]
  },
  {
   "cell_type": "markdown",
   "metadata": {},
   "source": [
    "#### Retrieval and Embedding Strategy\n",
    "\n",
    "We've already discussed the useful application of `CacheBackedEmbeddings`, so let's do it again!\n",
    "\n",
    "RELEVANT DOCS:\n",
    "- [`CacheBackedEmbeddings`](https://api.python.langchain.com/en/latest/embeddings/langchain.embeddings.cache.CacheBackedEmbeddings.html#langchain-embeddings-cache-cachebackedembeddings)"
   ]
  },
  {
   "cell_type": "code",
   "execution_count": 9,
   "metadata": {},
   "outputs": [],
   "source": [
    "!pip install -q -U rank_bm25 tiktoken faiss-cpu"
   ]
  },
  {
   "cell_type": "code",
   "execution_count": 10,
   "metadata": {},
   "outputs": [],
   "source": [
    "from langchain.retrievers import BM25Retriever, EnsembleRetriever\n",
    "from langchain.vectorstores import FAISS\n",
    "from langchain.embeddings.openai import OpenAIEmbeddings\n",
    "from langchain.embeddings import CacheBackedEmbeddings\n",
    "from langchain.storage import LocalFileStore\n",
    "\n",
    "# set up cached embeddings store\n",
    "store =LocalFileStore(\"./shared_cache/\")### YOUR CODE HERE\n",
    "\n",
    "core_embeddings_model =OpenAIEmbeddings()#### YOUR CODE HERE\n",
    "\n",
    "#core_embeddings_model = OpenAIEmbeddings(openai_api_key=openai_api_key) ### YOUR CODE HERE\n",
    "\n",
    "embedder = CacheBackedEmbeddings.from_bytes_store(\n",
    "core_embeddings_model, store, namespace=core_embeddings_model.model\n",
    ")"
   ]
  },
  {
   "cell_type": "markdown",
   "metadata": {},
   "source": [
    "We'll implement a `FAISS` vectorstore, and create a retriever from it."
   ]
  },
  {
   "cell_type": "code",
   "execution_count": 19,
   "metadata": {},
   "outputs": [],
   "source": [
    "adhd_csv_faiss_retriever =FAISS.from_documents(chunked_adhd_csv_docs,embedder).as_retriever() ### YOUR CODE HERE\n"
   ]
  },
  {
   "cell_type": "markdown",
   "metadata": {},
   "source": [
    "There are a number of excellent options to retrieve documents - we'll be looking at an additional example today, which is called the `EnsembleRetriever`.\n",
    "\n",
    "The method this is using is outlined in [this paper](https://plg.uwaterloo.ca/~gvcormac/cormacksigir09-rrf.pdf).\n",
    "\n",
    "The brief explanation is:\n",
    "\n",
    "1. We collect results from two different retrieval methods over the same corpus\n",
    "2. We apply a reranking algorithm to rerank our source documents to be the *most relevant* without losing specific or potentially low-ranked information rich documents\n",
    "3. We feed the top-k results into the LLM with our query as context.\n",
    "\n",
    "> HINT: Your weight list should be of type `List[float]` and the `sum(List[float])` should be `1`."
   ]
  },
  {
   "cell_type": "code",
   "execution_count": 14,
   "metadata": {},
   "outputs": [],
   "source": [
    "# set up BM25 retriever / bag of words\n",
    "adhd_wikipedia_bm25_retriever = BM25Retriever.from_documents(\n",
    "    chunked_adhd_wikipedia_docs\n",
    "    ### YOUR CODE HERE\n",
    ")\n",
    "adhd_wikipedia_bm25_retriever.k = 1 # return 1 document\n",
    "\n",
    "# set up FAISS vector store\n",
    "adhd_wikipedia_faiss_store = FAISS.from_documents(\n",
    "    chunked_adhd_wikipedia_docs,\n",
    "    embedder\n",
    ")\n",
    "adhd_wikipedia_faiss_retriever = adhd_wikipedia_faiss_store.as_retriever(search_kwargs={\"k\": 1})\n",
    "\n",
    "# set up ensemble retriever\n",
    "adhd_ensemble_retriever = EnsembleRetriever(\n",
    "    retrievers=[adhd_wikipedia_bm25_retriever, adhd_wikipedia_faiss_retriever],\n",
    "    weights= [0.25,0.75]### YOUR CODE HERE # should sum to 1\n",
    ")"
   ]
  },
  {
   "cell_type": "markdown",
   "metadata": {},
   "source": [
    "#### Retrieval Agent\n",
    "\n",
    "We can create a simple conversational retrieval Agent by using the built-ins provided by LangChain!\n",
    "\n",
    "> HINT: Be sure to provide good natural language descriptions of what the tool should be used for to get the best results.\n",
    "\n",
    "RELEVANT DOCS:\n",
    "- [`create_retriever_tool`](https://api.python.langchain.com/en/latest/agents/langchain.agents.agent_toolkits.conversational_retrieval.tool.create_retriever_tool.html#langchain.agents.agent_toolkits.conversational_retrieval.tool.create_retriever_tool)"
   ]
  },
  {
   "cell_type": "code",
   "execution_count": 15,
   "metadata": {},
   "outputs": [],
   "source": [
    "from langchain.agents.agent_toolkits import create_retriever_tool\n",
    "\n",
    "adhd_wikipedia_retrieval_tool = create_retriever_tool(\n",
    "    adhd_ensemble_retriever,\n",
    "    \"wikipedia\",\n",
    "    \"searches and returns documents regarding the ADHD condition\"\n",
    ")\n",
    "\n",
    "adhd_csv_retrieval_tool = create_retriever_tool(\n",
    "    adhd_csv_faiss_retriever,\n",
    "    \"PublicReviews\",\n",
    "    \"Searches and returns documents regarding patient personal experience of the adhd\"\n",
    ")\n",
    "\n",
    "adhd_retriever_tools = [adhd_wikipedia_retrieval_tool, adhd_csv_retrieval_tool]"
   ]
  },
  {
   "cell_type": "code",
   "execution_count": 23,
   "metadata": {},
   "outputs": [],
   "source": [
    "\n",
    "from langchain.prompts.chat import (\n",
    "    ChatPromptTemplate,\n",
    "    SystemMessagePromptTemplate,\n",
    "    HumanMessagePromptTemplate,\n",
    ")\n",
    "system_template = \"\"\"\n",
    "Use the following pieces of context to answer the user's question.\n",
    "Please respond as if you were a a researcher on patient's experience. \n",
    "If you don't know the answer, just say that you don't know, don't try to make up an answer.\n",
    "You can make inferences based on the context as long as it still faithfully represents the feedback.\n",
    "Example of your response should be:\n",
    "```\n",
    "The answer is foo\n",
    "```\n",
    "Begin!\n",
    "----------------\n",
    "{context}\"\"\"\n",
    "messages = [\n",
    "    SystemMessagePromptTemplate.from_template(system_template),\n",
    "    HumanMessagePromptTemplate.from_template(\"{question}\"),\n",
    "]\n",
    "prompt = ChatPromptTemplate(messages=messages)\n",
    "chain_type_kwargs = {\"prompt\": prompt}"
   ]
  },
  {
   "cell_type": "markdown",
   "metadata": {},
   "source": [
    "Now that we've created our tools, we can combined them into an agent!\n",
    "\n",
    "RELEVANT DOCS:\n",
    "- [`create_conversational_retrieval_agent`](https://api.python.langchain.com/en/latest/agents/langchain.agents.agent_toolkits.conversational_retrieval.openai_functions.create_conversational_retrieval_agent.html#langchain.agents.agent_toolkits.conversational_retrieval.openai_functions.create_conversational_retrieval_agent)"
   ]
  },
  {
   "cell_type": "code",
   "execution_count": 69,
   "metadata": {},
   "outputs": [],
   "source": [
    "from langchain.agents.agent_toolkits import create_conversational_retrieval_agent\n",
    "\n",
    "adhd_retriever_agent_executor = create_conversational_retrieval_agent(llm, adhd_retriever_tools, verbose=True, chain_type_kwargs = {\"prompt\": prompt})\n",
    "adhd_retriever_agent_executor = create_conversational_retrieval_agent(llm, adhd_retriever_tools, verbose=True)"
   ]
  },
  {
   "cell_type": "code",
   "execution_count": 70,
   "metadata": {},
   "outputs": [
    {
     "name": "stdout",
     "output_type": "stream",
     "text": [
      "\n",
      "\n",
      "\u001b[1m> Entering new AgentExecutor chain...\u001b[0m\n",
      "\u001b[32;1m\u001b[1;3m\n",
      "Invoking: `PublicReviews` with `ADHD and school`\n",
      "\n",
      "\n",
      "\u001b[0m\u001b[33;1m\u001b[1;3m[Document(page_content='\\ufeff\"fullname\": ADHD posting🏳️\\u200d⚧️ ( School :c )\\nid: 1698395060751192474\\nimages/0: \\nisQuote: false\\nisRetweet: false\\nlikes: 2\\nquotes: 0\\nreplies: 2\\nretweets: 0\\ntext: I am awake\\ntimestamp: 2023-09-03T17:58:00.000Z\\nurl: https://twitter.com/PaisensADHD/status/1698395060751192474\\nusername: @PaisensADHD\\nverified: false', metadata={'source': 'https://twitter.com/PaisensADHD/status/1698395060751192474', 'row': 805}), Document(page_content='\\ufeff\"fullname\": Frif 🟪\\nid: 1698433179252560372\\nimages/0: \\nisQuote: false\\nisRetweet: false\\nlikes: 20\\nquotes: 0\\nreplies: 1\\nretweets: 2\\ntext: If you perform extremely well on major grades like tests and projects, but daily work and especially homework brings your grades down, you probably have ADHD.\\n\\nIf you\\'re able to, talk to a doctor about it. Living without some kind of treatment for that is like hard mode.\\ntimestamp: 2023-09-03T20:29:00.000Z\\nurl: https://twitter.com/Frifuloid/status/1698433179252560372\\nusername: @Frifuloid\\nverified: false', metadata={'source': 'https://twitter.com/Frifuloid/status/1698433179252560372', 'row': 276}), Document(page_content='\\ufeff\"fullname\": ADHD posting🏳️\\u200d⚧️ ( School :c )\\nid: 1698408087940677886\\nimages/0: \\nisQuote: false\\nisRetweet: false\\nlikes: 0\\nquotes: 0\\nreplies: 1\\nretweets: 0\\ntext: It was 10:50ish when i posted it\\ntimestamp: 2023-09-03T18:50:00.000Z\\nurl: https://twitter.com/PaisensADHD/status/1698408087940677886\\nusername: @PaisensADHD\\nverified: false', metadata={'source': 'https://twitter.com/PaisensADHD/status/1698408087940677886', 'row': 639}), Document(page_content='\\ufeff\"fullname\": ADHD posting🏳️\\u200d⚧️ ( School :c )\\nid: 1698427733519577111\\nimages/0: \\nisQuote: false\\nisRetweet: false\\nlikes: 1\\nquotes: 0\\nreplies: 1\\nretweets: 0\\ntext: I’d have to disagree\\ntimestamp: 2023-09-03T20:08:00.000Z\\nurl: https://twitter.com/PaisensADHD/status/1698427733519577111\\nusername: @PaisensADHD\\nverified: false', metadata={'source': 'https://twitter.com/PaisensADHD/status/1698427733519577111', 'row': 353})]\u001b[0m\u001b[32;1m\u001b[1;3mHere are some personal experiences shared by individuals with ADHD and school:\n",
      "\n",
      "1. User @PaisensADHD tweeted, \"I am awake.\" You can find more information [here](https://twitter.com/PaisensADHD/status/1698395060751192474).\n",
      "\n",
      "2. User @Frifuloid tweeted, \"If you perform extremely well on major grades like tests and projects, but daily work and especially homework brings your grades down, you probably have ADHD. If you're able to, talk to a doctor about it. Living without some kind of treatment for that is like hard mode.\" You can find more information [here](https://twitter.com/Frifuloid/status/1698433179252560372).\n",
      "\n",
      "3. User @PaisensADHD tweeted, \"It was 10:50ish when I posted it.\" You can find more information [here](https://twitter.com/PaisensADHD/status/1698408087940677886).\n",
      "\n",
      "4. User @PaisensADHD tweeted, \"I'd have to disagree.\" You can find more information [here](https://twitter.com/PaisensADHD/status/1698427733519577111).\n",
      "\n",
      "Please note that these are personal experiences shared on Twitter and may not represent the experiences of all individuals with ADHD and school.\u001b[0m\n",
      "\n",
      "\u001b[1m> Finished chain.\u001b[0m\n"
     ]
    }
   ],
   "source": [
    "res=adhd_retriever_agent_executor({\"input\" : \"experience for people with adhd and school?\"})\n"
   ]
  },
  {
   "cell_type": "code",
   "execution_count": null,
   "metadata": {},
   "outputs": [],
   "source": [
    "res"
   ]
  },
  {
   "cell_type": "code",
   "execution_count": 62,
   "metadata": {},
   "outputs": [
    {
     "name": "stdout",
     "output_type": "stream",
     "text": [
      "\n",
      "\n",
      "\u001b[1m> Entering new AgentExecutor chain...\u001b[0m\n",
      "\u001b[32;1m\u001b[1;3m\n",
      "Invoking: `PublicReviews` with `ADHD school experience`\n",
      "\n",
      "\n",
      "\u001b[0m\u001b[33;1m\u001b[1;3m[Document(page_content='\\ufeff\"fullname\": unfettered by neuronormativity\\nid: 1698429799126225390\\nimages/0: \\nisQuote: false\\nisRetweet: false\\nlikes: 0\\nquotes: 0\\nreplies: 2\\nretweets: 0\\ntext: h/t at Lauren Ancona, put me on the path to understanding what happened to me by sharing her story of ADHD dx +subsequent years of medication to be able to maintain in an office/work situation.\\nI resisted mood medication because I was a therapist myself.+\\ntimestamp: 2023-09-03T20:16:00.000Z\\nurl: https://twitter.com/cyn_mccrackan/status/1698429799126225390\\nusername: @cyn_mccrackan\\nverified: false', metadata={'source': 'https://twitter.com/cyn_mccrackan/status/1698429799126225390', 'row': 326}), Document(page_content='\\ufeff\"fullname\": ADHD posting🏳️\\u200d⚧️ ( School :c )\\nid: 1698426129668002006\\nimages/0: \\nisQuote: false\\nisRetweet: false\\nlikes: 1\\nquotes: 0\\nreplies: 0\\nretweets: 0\\ntext: I had a She-ra phase and don’t regret it\\ntimestamp: 2023-09-03T20:01:00.000Z\\nurl: https://twitter.com/PaisensADHD/status/1698426129668002006\\nusername: @PaisensADHD\\nverified: false', metadata={'source': 'https://twitter.com/PaisensADHD/status/1698426129668002006', 'row': 371}), Document(page_content='\\ufeff\"fullname\": ADHD posting🏳️\\u200d⚧️ ( School :c )\\nid: 1698395060751192474\\nimages/0: \\nisQuote: false\\nisRetweet: false\\nlikes: 2\\nquotes: 0\\nreplies: 2\\nretweets: 0\\ntext: I am awake\\ntimestamp: 2023-09-03T17:58:00.000Z\\nurl: https://twitter.com/PaisensADHD/status/1698395060751192474\\nusername: @PaisensADHD\\nverified: false', metadata={'source': 'https://twitter.com/PaisensADHD/status/1698395060751192474', 'row': 805}), Document(page_content='\\ufeff\"fullname\": ADHD posting🏳️\\u200d⚧️ ( School :c )\\nid: 1698427733519577111\\nimages/0: \\nisQuote: false\\nisRetweet: false\\nlikes: 1\\nquotes: 0\\nreplies: 1\\nretweets: 0\\ntext: I’d have to disagree\\ntimestamp: 2023-09-03T20:08:00.000Z\\nurl: https://twitter.com/PaisensADHD/status/1698427733519577111\\nusername: @PaisensADHD\\nverified: false', metadata={'source': 'https://twitter.com/PaisensADHD/status/1698427733519577111', 'row': 353})]\u001b[0m\u001b[32;1m\u001b[1;3mHere are some personal experiences shared by individuals with ADHD regarding their school experience:\n",
      "\n",
      "1. User @cyn_mccrackan on Twitter shared their experience of being diagnosed with ADHD and the subsequent years of medication to be able to maintain in an office/work situation. They mentioned initially resisting mood medication because they were a therapist themselves. [Source](https://twitter.com/cyn_mccrackan/status/1698429799126225390)\n",
      "\n",
      "2. User @PaisensADHD on Twitter mentioned having a She-ra phase during school and not regretting it. This suggests that they embraced their interests and individuality despite the challenges of ADHD. [Source](https://twitter.com/PaisensADHD/status/1698426129668002006)\n",
      "\n",
      "3. User @PaisensADHD also tweeted about being awake during school. This could indicate difficulties with focus and attention that are common in individuals with ADHD. [Source](https://twitter.com/PaisensADHD/status/1698395060751192474)\n",
      "\n",
      "4. In another tweet, @PaisensADHD disagreed with a statement, which could reflect the tendency of individuals with ADHD to have different perspectives and opinions. [Source](https://twitter.com/PaisensADHD/status/1698427733519577111)\n",
      "\n",
      "These personal experiences highlight the diverse challenges and experiences that individuals with ADHD may face in the school environment. It is important to remember that each person's experience with ADHD can vary, and support and accommodations can greatly contribute to their success in school.\u001b[0m\n",
      "\n",
      "\u001b[1m> Finished chain.\u001b[0m\n"
     ]
    }
   ],
   "source": [
    "res=adhd_retriever_agent_executor.invoke({\"input\" : \"experience for people with adhd and school?\"})\n"
   ]
  },
  {
   "cell_type": "code",
   "execution_count": 71,
   "metadata": {},
   "outputs": [
    {
     "data": {
      "text/plain": [
       "'Here are some personal experiences shared by individuals with ADHD and school:\\n\\n1. User @PaisensADHD tweeted, \"I am awake.\" You can find more information [here](https://twitter.com/PaisensADHD/status/1698395060751192474).\\n\\n2. User @Frifuloid tweeted, \"If you perform extremely well on major grades like tests and projects, but daily work and especially homework brings your grades down, you probably have ADHD. If you\\'re able to, talk to a doctor about it. Living without some kind of treatment for that is like hard mode.\" You can find more information [here](https://twitter.com/Frifuloid/status/1698433179252560372).\\n\\n3. User @PaisensADHD tweeted, \"It was 10:50ish when I posted it.\" You can find more information [here](https://twitter.com/PaisensADHD/status/1698408087940677886).\\n\\n4. User @PaisensADHD tweeted, \"I\\'d have to disagree.\" You can find more information [here](https://twitter.com/PaisensADHD/status/1698427733519577111).\\n\\nPlease note that these are personal experiences shared on Twitter and may not represent the experiences of all individuals with ADHD and school.'"
      ]
     },
     "execution_count": 71,
     "metadata": {},
     "output_type": "execute_result"
    }
   ],
   "source": [
    "res['output']"
   ]
  },
  {
   "cell_type": "code",
   "execution_count": 72,
   "metadata": {},
   "outputs": [
    {
     "data": {
      "text/plain": [
       "'Here are some personal experiences shared by individuals with ADHD and school:\\n\\n1. User @PaisensADHD tweeted, \"I am awake.\" You can find more information [here](https://twitter.com/PaisensADHD/status/1698395060751192474).\\n\\n2. User @Frifuloid tweeted, \"If you perform extremely well on major grades like tests and projects, but daily work and especially homework brings your grades down, you probably have ADHD. If you\\'re able to, talk to a doctor about it. Living without some kind of treatment for that is like hard mode.\" You can find more information [here](https://twitter.com/Frifuloid/status/1698433179252560372).\\n\\n3. User @PaisensADHD tweeted, \"It was 10:50ish when I posted it.\" You can find more information [here](https://twitter.com/PaisensADHD/status/1698408087940677886).\\n\\n4. User @PaisensADHD tweeted, \"I\\'d have to disagree.\" You can find more information [here](https://twitter.com/PaisensADHD/status/1698427733519577111).\\n\\nPlease note that these are personal experiences shared on Twitter and may not represent the experiences of all individuals with ADHD and school.'"
      ]
     },
     "execution_count": 72,
     "metadata": {},
     "output_type": "execute_result"
    }
   ],
   "source": [
    "res['output']"
   ]
  },
  {
   "cell_type": "code",
   "execution_count": 105,
   "metadata": {},
   "outputs": [
    {
     "data": {
      "text/plain": [
       "dict_keys(['input', 'output'])"
      ]
     },
     "execution_count": 105,
     "metadata": {},
     "output_type": "execute_result"
    }
   ],
   "source": [
    "res.keys()"
   ]
  },
  {
   "cell_type": "code",
   "execution_count": 106,
   "metadata": {},
   "outputs": [
    {
     "data": {
      "text/plain": [
       "{'input': 'What is it like to be a women and has depression?',\n",
       " 'output': \"It is important to note that everyone's experience with depression is unique, but some common symptoms of depression in women include pervasive low mood, loss of interest or pleasure, fatigue, changes in appetite and sleep, feelings of worthlessness or guilt, difficulty concentrating, physical symptoms, irritability or restlessness, and thoughts of death or suicide. Women with depression may also experience low self-esteem, changes in sleeping and eating habits, and may be more likely to experience postpartum depression after giving birth. It is recommended to seek professional help for an accurate diagnosis and appropriate treatment if experiencing these symptoms.\"}"
      ]
     },
     "execution_count": 106,
     "metadata": {},
     "output_type": "execute_result"
    }
   ],
   "source": [
    "res"
   ]
  },
  {
   "cell_type": "code",
   "execution_count": 73,
   "metadata": {},
   "outputs": [
    {
     "data": {
      "text/plain": [
       "list"
      ]
     },
     "execution_count": 73,
     "metadata": {},
     "output_type": "execute_result"
    }
   ],
   "source": [
    "type(res['intermediate_steps'][0][1])"
   ]
  },
  {
   "cell_type": "code",
   "execution_count": 74,
   "metadata": {},
   "outputs": [
    {
     "name": "stdout",
     "output_type": "stream",
     "text": [
      "\n",
      "\n",
      "\u001b[1m> Entering new AgentExecutor chain...\u001b[0m\n",
      "\u001b[32;1m\u001b[1;3m\n",
      "Invoking: `PublicReviews` with `ADHD teenager in school`\n",
      "\n",
      "\n",
      "\u001b[0m\u001b[33;1m\u001b[1;3m[Document(page_content='\\ufeff\"fullname\": unfettered by neuronormativity\\nid: 1698429799126225390\\nimages/0: \\nisQuote: false\\nisRetweet: false\\nlikes: 0\\nquotes: 0\\nreplies: 2\\nretweets: 0\\ntext: h/t at Lauren Ancona, put me on the path to understanding what happened to me by sharing her story of ADHD dx +subsequent years of medication to be able to maintain in an office/work situation.\\nI resisted mood medication because I was a therapist myself.+\\ntimestamp: 2023-09-03T20:16:00.000Z\\nurl: https://twitter.com/cyn_mccrackan/status/1698429799126225390\\nusername: @cyn_mccrackan\\nverified: false', metadata={'source': 'https://twitter.com/cyn_mccrackan/status/1698429799126225390', 'row': 326}), Document(page_content='\\ufeff\"fullname\": my therapist say i got ADHD 😔\\nid: 1698423799920676972\\nimages/0: \\nisQuote: false\\nisRetweet: false\\nlikes: 3\\nquotes: 0\\nreplies: 0\\nretweets: 0\\ntext: U stay in ur room, I stay in my room, we chit chat everyone in a while rinse and repeat\\ntimestamp: 2023-09-03T19:52:00.000Z\\nurl: https://twitter.com/crablegluver/status/1698423799920676972\\nusername: @crablegluver\\nverified: false', metadata={'source': 'https://twitter.com/crablegluver/status/1698423799920676972', 'row': 406}), Document(page_content='\\ufeff\"fullname\": ADHD posting🏳️\\u200d⚧️ ( School :c )\\nid: 1698395060751192474\\nimages/0: \\nisQuote: false\\nisRetweet: false\\nlikes: 2\\nquotes: 0\\nreplies: 2\\nretweets: 0\\ntext: I am awake\\ntimestamp: 2023-09-03T17:58:00.000Z\\nurl: https://twitter.com/PaisensADHD/status/1698395060751192474\\nusername: @PaisensADHD\\nverified: false', metadata={'source': 'https://twitter.com/PaisensADHD/status/1698395060751192474', 'row': 805}), Document(page_content='\\ufeff\"fullname\": BeiwyrTheDragon\\nid: 1698431731810939129\\nimages/0: \\nisQuote: false\\nisRetweet: false\\nlikes: 0\\nquotes: 0\\nreplies: 1\\nretweets: 0\\ntext: I was diagnosed with adult ADHD 30+years ago (meaning it doesn\\'t go away). \\nWhat\\'s unhealthy about it? Most things you can learn to control (the hyperactive/impulsivity aspect especially). Sure memory can be somewhat of an issue but post it notes are good for help on that.\\ntimestamp: 2023-09-03T20:24:00.000Z\\nurl: https://twitter.com/beiwyr42/status/1698431731810939129\\nusername: @beiwyr42\\nverified: false', metadata={'source': 'https://twitter.com/beiwyr42/status/1698431731810939129', 'row': 298})]\u001b[0m\u001b[32;1m\u001b[1;3mHere are some personal experiences shared by individuals regarding ADHD teenagers in school:\n",
      "\n",
      "1. User @cyn_mccrackan tweeted, \"Put me on the path to understanding what happened to me by sharing her story of ADHD diagnosis + subsequent years of medication to be able to maintain in an office/work situation. I resisted mood medication because I was a therapist myself.\" You can find more information [here](https://twitter.com/cyn_mccrackan/status/1698429799126225390).\n",
      "\n",
      "2. User @crablegluver tweeted, \"U stay in ur room, I stay in my room, we chit chat everyone in a while rinse and repeat.\" You can find more information [here](https://twitter.com/crablegluver/status/1698423799920676972).\n",
      "\n",
      "3. User @PaisensADHD tweeted, \"I am awake.\" You can find more information [here](https://twitter.com/PaisensADHD/status/1698395060751192474).\n",
      "\n",
      "4. User @beiwyr42 tweeted, \"I was diagnosed with adult ADHD 30+ years ago (meaning it doesn't go away). What's unhealthy about it? Most things you can learn to control (the hyperactive/impulsivity aspect especially). Sure memory can be somewhat of an issue but post-it notes are good for help on that.\" You can find more information [here](https://twitter.com/beiwyr42/status/1698431731810939129).\n",
      "\n",
      "Please note that these are personal experiences shared on Twitter and may not represent the experiences of all ADHD teenagers in school.\u001b[0m\n",
      "\n",
      "\u001b[1m> Finished chain.\u001b[0m\n"
     ]
    },
    {
     "data": {
      "text/plain": [
       "{'input': 'What is the experience of an adhd teenager in school?',\n",
       " 'chat_history': [AIMessage(content='Here are some personal experiences shared by individuals with ADHD and school:\\n\\n1. User @PaisensADHD tweeted, \"I am awake.\" You can find more information [here](https://twitter.com/PaisensADHD/status/1698395060751192474).\\n\\n2. User @Frifuloid tweeted, \"If you perform extremely well on major grades like tests and projects, but daily work and especially homework brings your grades down, you probably have ADHD. If you\\'re able to, talk to a doctor about it. Living without some kind of treatment for that is like hard mode.\" You can find more information [here](https://twitter.com/Frifuloid/status/1698433179252560372).\\n\\n3. User @PaisensADHD tweeted, \"It was 10:50ish when I posted it.\" You can find more information [here](https://twitter.com/PaisensADHD/status/1698408087940677886).\\n\\n4. User @PaisensADHD tweeted, \"I\\'d have to disagree.\" You can find more information [here](https://twitter.com/PaisensADHD/status/1698427733519577111).\\n\\nPlease note that these are personal experiences shared on Twitter and may not represent the experiences of all individuals with ADHD and school.', additional_kwargs={}, example=False),\n",
       "  HumanMessage(content='What is the experience of an adhd teenager in school?', additional_kwargs={}, example=False),\n",
       "  AIMessage(content='', additional_kwargs={'function_call': {'name': 'PublicReviews', 'arguments': '{\\n  \"__arg1\": \"ADHD teenager in school\"\\n}'}}, example=False),\n",
       "  FunctionMessage(content='[Document(page_content=\\'\\\\ufeff\"fullname\": unfettered by neuronormativity\\\\nid: 1698429799126225390\\\\nimages/0: \\\\nisQuote: false\\\\nisRetweet: false\\\\nlikes: 0\\\\nquotes: 0\\\\nreplies: 2\\\\nretweets: 0\\\\ntext: h/t at Lauren Ancona, put me on the path to understanding what happened to me by sharing her story of ADHD dx +subsequent years of medication to be able to maintain in an office/work situation.\\\\nI resisted mood medication because I was a therapist myself.+\\\\ntimestamp: 2023-09-03T20:16:00.000Z\\\\nurl: https://twitter.com/cyn_mccrackan/status/1698429799126225390\\\\nusername: @cyn_mccrackan\\\\nverified: false\\', metadata={\\'source\\': \\'https://twitter.com/cyn_mccrackan/status/1698429799126225390\\', \\'row\\': 326}), Document(page_content=\\'\\\\ufeff\"fullname\": my therapist say i got ADHD 😔\\\\nid: 1698423799920676972\\\\nimages/0: \\\\nisQuote: false\\\\nisRetweet: false\\\\nlikes: 3\\\\nquotes: 0\\\\nreplies: 0\\\\nretweets: 0\\\\ntext: U stay in ur room, I stay in my room, we chit chat everyone in a while rinse and repeat\\\\ntimestamp: 2023-09-03T19:52:00.000Z\\\\nurl: https://twitter.com/crablegluver/status/1698423799920676972\\\\nusername: @crablegluver\\\\nverified: false\\', metadata={\\'source\\': \\'https://twitter.com/crablegluver/status/1698423799920676972\\', \\'row\\': 406}), Document(page_content=\\'\\\\ufeff\"fullname\": ADHD posting🏳️\\\\u200d⚧️ ( School :c )\\\\nid: 1698395060751192474\\\\nimages/0: \\\\nisQuote: false\\\\nisRetweet: false\\\\nlikes: 2\\\\nquotes: 0\\\\nreplies: 2\\\\nretweets: 0\\\\ntext: I am awake\\\\ntimestamp: 2023-09-03T17:58:00.000Z\\\\nurl: https://twitter.com/PaisensADHD/status/1698395060751192474\\\\nusername: @PaisensADHD\\\\nverified: false\\', metadata={\\'source\\': \\'https://twitter.com/PaisensADHD/status/1698395060751192474\\', \\'row\\': 805}), Document(page_content=\\'\\\\ufeff\"fullname\": BeiwyrTheDragon\\\\nid: 1698431731810939129\\\\nimages/0: \\\\nisQuote: false\\\\nisRetweet: false\\\\nlikes: 0\\\\nquotes: 0\\\\nreplies: 1\\\\nretweets: 0\\\\ntext: I was diagnosed with adult ADHD 30+years ago (meaning it doesn\\\\\\'t go away). \\\\nWhat\\\\\\'s unhealthy about it? Most things you can learn to control (the hyperactive/impulsivity aspect especially). Sure memory can be somewhat of an issue but post it notes are good for help on that.\\\\ntimestamp: 2023-09-03T20:24:00.000Z\\\\nurl: https://twitter.com/beiwyr42/status/1698431731810939129\\\\nusername: @beiwyr42\\\\nverified: false\\', metadata={\\'source\\': \\'https://twitter.com/beiwyr42/status/1698431731810939129\\', \\'row\\': 298})]', additional_kwargs={}, name='PublicReviews'),\n",
       "  AIMessage(content='Here are some personal experiences shared by individuals regarding ADHD teenagers in school:\\n\\n1. User @cyn_mccrackan tweeted, \"Put me on the path to understanding what happened to me by sharing her story of ADHD diagnosis + subsequent years of medication to be able to maintain in an office/work situation. I resisted mood medication because I was a therapist myself.\" You can find more information [here](https://twitter.com/cyn_mccrackan/status/1698429799126225390).\\n\\n2. User @crablegluver tweeted, \"U stay in ur room, I stay in my room, we chit chat everyone in a while rinse and repeat.\" You can find more information [here](https://twitter.com/crablegluver/status/1698423799920676972).\\n\\n3. User @PaisensADHD tweeted, \"I am awake.\" You can find more information [here](https://twitter.com/PaisensADHD/status/1698395060751192474).\\n\\n4. User @beiwyr42 tweeted, \"I was diagnosed with adult ADHD 30+ years ago (meaning it doesn\\'t go away). What\\'s unhealthy about it? Most things you can learn to control (the hyperactive/impulsivity aspect especially). Sure memory can be somewhat of an issue but post-it notes are good for help on that.\" You can find more information [here](https://twitter.com/beiwyr42/status/1698431731810939129).\\n\\nPlease note that these are personal experiences shared on Twitter and may not represent the experiences of all ADHD teenagers in school.', additional_kwargs={}, example=False)],\n",
       " 'output': 'Here are some personal experiences shared by individuals regarding ADHD teenagers in school:\\n\\n1. User @cyn_mccrackan tweeted, \"Put me on the path to understanding what happened to me by sharing her story of ADHD diagnosis + subsequent years of medication to be able to maintain in an office/work situation. I resisted mood medication because I was a therapist myself.\" You can find more information [here](https://twitter.com/cyn_mccrackan/status/1698429799126225390).\\n\\n2. User @crablegluver tweeted, \"U stay in ur room, I stay in my room, we chit chat everyone in a while rinse and repeat.\" You can find more information [here](https://twitter.com/crablegluver/status/1698423799920676972).\\n\\n3. User @PaisensADHD tweeted, \"I am awake.\" You can find more information [here](https://twitter.com/PaisensADHD/status/1698395060751192474).\\n\\n4. User @beiwyr42 tweeted, \"I was diagnosed with adult ADHD 30+ years ago (meaning it doesn\\'t go away). What\\'s unhealthy about it? Most things you can learn to control (the hyperactive/impulsivity aspect especially). Sure memory can be somewhat of an issue but post-it notes are good for help on that.\" You can find more information [here](https://twitter.com/beiwyr42/status/1698431731810939129).\\n\\nPlease note that these are personal experiences shared on Twitter and may not represent the experiences of all ADHD teenagers in school.',\n",
       " 'intermediate_steps': [(_FunctionsAgentAction(tool='PublicReviews', tool_input='ADHD teenager in school', log='\\nInvoking: `PublicReviews` with `ADHD teenager in school`\\n\\n\\n', message_log=[AIMessage(content='', additional_kwargs={'function_call': {'name': 'PublicReviews', 'arguments': '{\\n  \"__arg1\": \"ADHD teenager in school\"\\n}'}}, example=False)]),\n",
       "   [Document(page_content='\\ufeff\"fullname\": unfettered by neuronormativity\\nid: 1698429799126225390\\nimages/0: \\nisQuote: false\\nisRetweet: false\\nlikes: 0\\nquotes: 0\\nreplies: 2\\nretweets: 0\\ntext: h/t at Lauren Ancona, put me on the path to understanding what happened to me by sharing her story of ADHD dx +subsequent years of medication to be able to maintain in an office/work situation.\\nI resisted mood medication because I was a therapist myself.+\\ntimestamp: 2023-09-03T20:16:00.000Z\\nurl: https://twitter.com/cyn_mccrackan/status/1698429799126225390\\nusername: @cyn_mccrackan\\nverified: false', metadata={'source': 'https://twitter.com/cyn_mccrackan/status/1698429799126225390', 'row': 326}),\n",
       "    Document(page_content='\\ufeff\"fullname\": my therapist say i got ADHD 😔\\nid: 1698423799920676972\\nimages/0: \\nisQuote: false\\nisRetweet: false\\nlikes: 3\\nquotes: 0\\nreplies: 0\\nretweets: 0\\ntext: U stay in ur room, I stay in my room, we chit chat everyone in a while rinse and repeat\\ntimestamp: 2023-09-03T19:52:00.000Z\\nurl: https://twitter.com/crablegluver/status/1698423799920676972\\nusername: @crablegluver\\nverified: false', metadata={'source': 'https://twitter.com/crablegluver/status/1698423799920676972', 'row': 406}),\n",
       "    Document(page_content='\\ufeff\"fullname\": ADHD posting🏳️\\u200d⚧️ ( School :c )\\nid: 1698395060751192474\\nimages/0: \\nisQuote: false\\nisRetweet: false\\nlikes: 2\\nquotes: 0\\nreplies: 2\\nretweets: 0\\ntext: I am awake\\ntimestamp: 2023-09-03T17:58:00.000Z\\nurl: https://twitter.com/PaisensADHD/status/1698395060751192474\\nusername: @PaisensADHD\\nverified: false', metadata={'source': 'https://twitter.com/PaisensADHD/status/1698395060751192474', 'row': 805}),\n",
       "    Document(page_content='\\ufeff\"fullname\": BeiwyrTheDragon\\nid: 1698431731810939129\\nimages/0: \\nisQuote: false\\nisRetweet: false\\nlikes: 0\\nquotes: 0\\nreplies: 1\\nretweets: 0\\ntext: I was diagnosed with adult ADHD 30+years ago (meaning it doesn\\'t go away). \\nWhat\\'s unhealthy about it? Most things you can learn to control (the hyperactive/impulsivity aspect especially). Sure memory can be somewhat of an issue but post it notes are good for help on that.\\ntimestamp: 2023-09-03T20:24:00.000Z\\nurl: https://twitter.com/beiwyr42/status/1698431731810939129\\nusername: @beiwyr42\\nverified: false', metadata={'source': 'https://twitter.com/beiwyr42/status/1698431731810939129', 'row': 298})])]}"
      ]
     },
     "execution_count": 74,
     "metadata": {},
     "output_type": "execute_result"
    }
   ],
   "source": [
    "adhd_retriever_agent_executor({\"input\" : \"What is the experience of an adhd teenager in school?\"})"
   ]
  },
  {
   "cell_type": "code",
   "execution_count": 18,
   "metadata": {},
   "outputs": [
    {
     "name": "stdout",
     "output_type": "stream",
     "text": [
      "\n",
      "\n",
      "\u001b[1m> Entering new AgentExecutor chain...\u001b[0m\n",
      "\u001b[32;1m\u001b[1;3m\n",
      "Invoking: `PublicReviews` with `female with ADHD`\n",
      "\n",
      "\n",
      "\u001b[0m\u001b[33;1m\u001b[1;3m[Document(page_content='\\ufeff\"fullname\": lizzy\\nid: 1698435620023017861\\nimages/0: \\nisQuote: false\\nisRetweet: false\\nlikes: 1\\nquotes: 0\\nreplies: 0\\nretweets: 0\\ntext: there’s like different types of adhd like type?? and it will definitely be helpful to look up symptoms in WOMEN bc it changes a lot from guys, a big thing for me is off my meds i’m annoying?? like i’ve always like had that made apparent to me but def look at the symptoms\\ntimestamp: 2023-09-03T20:39:00.000Z\\nurl: https://twitter.com/lamictalspo/status/1698435620023017861\\nusername: @lamictalspo\\nverified: false', metadata={'source': 'https://twitter.com/lamictalspo/status/1698435620023017861', 'row': 249}), Document(page_content='\\ufeff\"fullname\": Alli Covington ❤️❤️❤️\\nid: 1698396781539897828\\nimages/0: \\nisQuote: false\\nisRetweet: false\\nlikes: 0\\nquotes: 0\\nreplies: 0\\nretweets: 0\\ntext: I feel this. I was diagnosed in the 90’s too, and dumped the meds for diet and exercise, which handles the vast majority of it for me. I think of my adhd brain as an advantage in business. I can multi-task like a mofo, have the energy to do more than most, and I think founders have a lot of this. In fact, I’d bet you’d find that a higher percentage of founders have adhd than in the rest of the population\\ntimestamp: 2023-09-03T18:05:00.000Z\\nurl: https://twitter.com/allicovington/status/1698396781539897828\\nusername: @allicovington\\nverified: true', metadata={'source': 'https://twitter.com/allicovington/status/1698396781539897828', 'row': 785}), Document(page_content='\\ufeff\"fullname\": unfettered by neuronormativity\\nid: 1698429799126225390\\nimages/0: \\nisQuote: false\\nisRetweet: false\\nlikes: 0\\nquotes: 0\\nreplies: 2\\nretweets: 0\\ntext: h/t at Lauren Ancona, put me on the path to understanding what happened to me by sharing her story of ADHD dx +subsequent years of medication to be able to maintain in an office/work situation.\\nI resisted mood medication because I was a therapist myself.+\\ntimestamp: 2023-09-03T20:16:00.000Z\\nurl: https://twitter.com/cyn_mccrackan/status/1698429799126225390\\nusername: @cyn_mccrackan\\nverified: false', metadata={'source': 'https://twitter.com/cyn_mccrackan/status/1698429799126225390', 'row': 326}), Document(page_content='\\ufeff\"fullname\": Geidy Mendez\\nid: 1698430233827836102\\nimages/0: \\nisQuote: false\\nisRetweet: false\\nlikes: 1\\nquotes: 0\\nreplies: 1\\nretweets: 0\\ntext: I thought I was just depressed which is what made me so unmotivated this whole summer just to find out it was my ADHD working overtime … we love a dedicated girly but damn she kicked my ass\\ntimestamp: 2023-09-03T20:18:00.000Z\\nurl: https://twitter.com/GeidyMendez4/status/1698430233827836102\\nusername: @GeidyMendez4\\nverified: false', metadata={'source': 'https://twitter.com/GeidyMendez4/status/1698430233827836102', 'row': 318})]\u001b[0m\u001b[32;1m\u001b[1;3mHere are some statements from patients about being female and having ADHD:\n",
      "\n",
      "1. Lizzy (@lamictalspo) mentioned on Twitter that there are different types of ADHD, and it is helpful to look up symptoms specific to women because they can differ from symptoms in men. Lizzy also mentioned that when she is off her medication, she feels annoying, which has been made apparent to her.\n",
      "\n",
      "2. Alli Covington (@allicovington) shared on Twitter that she was diagnosed with ADHD in the 90s and chose to manage it through diet and exercise instead of medication. She considers her ADHD brain as an advantage in business, as she can multitask and has high energy levels. Alli also suggested that a higher percentage of founders may have ADHD compared to the general population.\n",
      "\n",
      "3. Cyn McCrackan (@cyn_mccrackan) mentioned on Twitter that she resisted mood medication because she was a therapist herself. However, after hearing Lauren Ancona's story of being diagnosed with ADHD and using medication to maintain in an office/work situation, Cyn started to understand her own experience better.\n",
      "\n",
      "4. Geidy Mendez (@GeidyMendez4) shared on Twitter that she initially thought she was just depressed, which made her unmotivated during the summer. However, she later discovered that her ADHD was working overtime and causing her difficulties. She expressed both admiration for her dedicated self and the challenges her ADHD presented.\n",
      "\n",
      "These statements provide personal insights into the experiences of females with ADHD. It is important to note that these are individual experiences and may not represent the experiences of all females with ADHD.\u001b[0m\n",
      "\n",
      "\u001b[1m> Finished chain.\u001b[0m\n"
     ]
    },
    {
     "data": {
      "text/plain": [
       "{'input': 'What does patients say about being female and has adhd?',\n",
       " 'chat_history': [AIMessage(content='The official symptoms of ADHD (Attention Deficit Hyperactivity Disorder) include excessive amounts of inattention, hyperactivity, and impulsivity that are pervasive, impairing in multiple contexts, and otherwise age-inappropriate. These symptoms arise from executive dysfunction, and emotional dysregulation is often considered a core symptom. In children, problems paying attention may result in poor school performance. ADHD is associated with other neurodevelopmental and mental disorders as well as some non-psychiatric disorders, which can cause additional impairment. It affects about 5-7% of children and 1-2% of adults. The condition can be difficult to distinguish from other conditions and high levels of activity within the range of normal behavior. ADHD has a negative impact on patient health-related quality of life and may increase the risk of other psychiatric conditions such as anxiety and depression.\\n\\nPlease note that this is a brief summary of the symptoms. For a more comprehensive understanding, it is recommended to consult a healthcare professional or refer to reliable sources such as medical literature or official guidelines.', additional_kwargs={}, example=False),\n",
       "  HumanMessage(content='What does patients say about being female and has adhd?', additional_kwargs={}, example=False),\n",
       "  AIMessage(content='', additional_kwargs={'function_call': {'name': 'PublicReviews', 'arguments': '{\\n  \"__arg1\": \"female with ADHD\"\\n}'}}, example=False),\n",
       "  FunctionMessage(content='[Document(page_content=\\'\\\\ufeff\"fullname\": lizzy\\\\nid: 1698435620023017861\\\\nimages/0: \\\\nisQuote: false\\\\nisRetweet: false\\\\nlikes: 1\\\\nquotes: 0\\\\nreplies: 0\\\\nretweets: 0\\\\ntext: there’s like different types of adhd like type?? and it will definitely be helpful to look up symptoms in WOMEN bc it changes a lot from guys, a big thing for me is off my meds i’m annoying?? like i’ve always like had that made apparent to me but def look at the symptoms\\\\ntimestamp: 2023-09-03T20:39:00.000Z\\\\nurl: https://twitter.com/lamictalspo/status/1698435620023017861\\\\nusername: @lamictalspo\\\\nverified: false\\', metadata={\\'source\\': \\'https://twitter.com/lamictalspo/status/1698435620023017861\\', \\'row\\': 249}), Document(page_content=\\'\\\\ufeff\"fullname\": Alli Covington ❤️❤️❤️\\\\nid: 1698396781539897828\\\\nimages/0: \\\\nisQuote: false\\\\nisRetweet: false\\\\nlikes: 0\\\\nquotes: 0\\\\nreplies: 0\\\\nretweets: 0\\\\ntext: I feel this. I was diagnosed in the 90’s too, and dumped the meds for diet and exercise, which handles the vast majority of it for me. I think of my adhd brain as an advantage in business. I can multi-task like a mofo, have the energy to do more than most, and I think founders have a lot of this. In fact, I’d bet you’d find that a higher percentage of founders have adhd than in the rest of the population\\\\ntimestamp: 2023-09-03T18:05:00.000Z\\\\nurl: https://twitter.com/allicovington/status/1698396781539897828\\\\nusername: @allicovington\\\\nverified: true\\', metadata={\\'source\\': \\'https://twitter.com/allicovington/status/1698396781539897828\\', \\'row\\': 785}), Document(page_content=\\'\\\\ufeff\"fullname\": unfettered by neuronormativity\\\\nid: 1698429799126225390\\\\nimages/0: \\\\nisQuote: false\\\\nisRetweet: false\\\\nlikes: 0\\\\nquotes: 0\\\\nreplies: 2\\\\nretweets: 0\\\\ntext: h/t at Lauren Ancona, put me on the path to understanding what happened to me by sharing her story of ADHD dx +subsequent years of medication to be able to maintain in an office/work situation.\\\\nI resisted mood medication because I was a therapist myself.+\\\\ntimestamp: 2023-09-03T20:16:00.000Z\\\\nurl: https://twitter.com/cyn_mccrackan/status/1698429799126225390\\\\nusername: @cyn_mccrackan\\\\nverified: false\\', metadata={\\'source\\': \\'https://twitter.com/cyn_mccrackan/status/1698429799126225390\\', \\'row\\': 326}), Document(page_content=\\'\\\\ufeff\"fullname\": Geidy Mendez\\\\nid: 1698430233827836102\\\\nimages/0: \\\\nisQuote: false\\\\nisRetweet: false\\\\nlikes: 1\\\\nquotes: 0\\\\nreplies: 1\\\\nretweets: 0\\\\ntext: I thought I was just depressed which is what made me so unmotivated this whole summer just to find out it was my ADHD working overtime … we love a dedicated girly but damn she kicked my ass\\\\ntimestamp: 2023-09-03T20:18:00.000Z\\\\nurl: https://twitter.com/GeidyMendez4/status/1698430233827836102\\\\nusername: @GeidyMendez4\\\\nverified: false\\', metadata={\\'source\\': \\'https://twitter.com/GeidyMendez4/status/1698430233827836102\\', \\'row\\': 318})]', additional_kwargs={}, name='PublicReviews'),\n",
       "  AIMessage(content=\"Here are some statements from patients about being female and having ADHD:\\n\\n1. Lizzy (@lamictalspo) mentioned on Twitter that there are different types of ADHD, and it is helpful to look up symptoms specific to women because they can differ from symptoms in men. Lizzy also mentioned that when she is off her medication, she feels annoying, which has been made apparent to her.\\n\\n2. Alli Covington (@allicovington) shared on Twitter that she was diagnosed with ADHD in the 90s and chose to manage it through diet and exercise instead of medication. She considers her ADHD brain as an advantage in business, as she can multitask and has high energy levels. Alli also suggested that a higher percentage of founders may have ADHD compared to the general population.\\n\\n3. Cyn McCrackan (@cyn_mccrackan) mentioned on Twitter that she resisted mood medication because she was a therapist herself. However, after hearing Lauren Ancona's story of being diagnosed with ADHD and using medication to maintain in an office/work situation, Cyn started to understand her own experience better.\\n\\n4. Geidy Mendez (@GeidyMendez4) shared on Twitter that she initially thought she was just depressed, which made her unmotivated during the summer. However, she later discovered that her ADHD was working overtime and causing her difficulties. She expressed both admiration for her dedicated self and the challenges her ADHD presented.\\n\\nThese statements provide personal insights into the experiences of females with ADHD. It is important to note that these are individual experiences and may not represent the experiences of all females with ADHD.\", additional_kwargs={}, example=False)],\n",
       " 'output': \"Here are some statements from patients about being female and having ADHD:\\n\\n1. Lizzy (@lamictalspo) mentioned on Twitter that there are different types of ADHD, and it is helpful to look up symptoms specific to women because they can differ from symptoms in men. Lizzy also mentioned that when she is off her medication, she feels annoying, which has been made apparent to her.\\n\\n2. Alli Covington (@allicovington) shared on Twitter that she was diagnosed with ADHD in the 90s and chose to manage it through diet and exercise instead of medication. She considers her ADHD brain as an advantage in business, as she can multitask and has high energy levels. Alli also suggested that a higher percentage of founders may have ADHD compared to the general population.\\n\\n3. Cyn McCrackan (@cyn_mccrackan) mentioned on Twitter that she resisted mood medication because she was a therapist herself. However, after hearing Lauren Ancona's story of being diagnosed with ADHD and using medication to maintain in an office/work situation, Cyn started to understand her own experience better.\\n\\n4. Geidy Mendez (@GeidyMendez4) shared on Twitter that she initially thought she was just depressed, which made her unmotivated during the summer. However, she later discovered that her ADHD was working overtime and causing her difficulties. She expressed both admiration for her dedicated self and the challenges her ADHD presented.\\n\\nThese statements provide personal insights into the experiences of females with ADHD. It is important to note that these are individual experiences and may not represent the experiences of all females with ADHD.\",\n",
       " 'intermediate_steps': [(_FunctionsAgentAction(tool='PublicReviews', tool_input='female with ADHD', log='\\nInvoking: `PublicReviews` with `female with ADHD`\\n\\n\\n', message_log=[AIMessage(content='', additional_kwargs={'function_call': {'name': 'PublicReviews', 'arguments': '{\\n  \"__arg1\": \"female with ADHD\"\\n}'}}, example=False)]),\n",
       "   [Document(page_content='\\ufeff\"fullname\": lizzy\\nid: 1698435620023017861\\nimages/0: \\nisQuote: false\\nisRetweet: false\\nlikes: 1\\nquotes: 0\\nreplies: 0\\nretweets: 0\\ntext: there’s like different types of adhd like type?? and it will definitely be helpful to look up symptoms in WOMEN bc it changes a lot from guys, a big thing for me is off my meds i’m annoying?? like i’ve always like had that made apparent to me but def look at the symptoms\\ntimestamp: 2023-09-03T20:39:00.000Z\\nurl: https://twitter.com/lamictalspo/status/1698435620023017861\\nusername: @lamictalspo\\nverified: false', metadata={'source': 'https://twitter.com/lamictalspo/status/1698435620023017861', 'row': 249}),\n",
       "    Document(page_content='\\ufeff\"fullname\": Alli Covington ❤️❤️❤️\\nid: 1698396781539897828\\nimages/0: \\nisQuote: false\\nisRetweet: false\\nlikes: 0\\nquotes: 0\\nreplies: 0\\nretweets: 0\\ntext: I feel this. I was diagnosed in the 90’s too, and dumped the meds for diet and exercise, which handles the vast majority of it for me. I think of my adhd brain as an advantage in business. I can multi-task like a mofo, have the energy to do more than most, and I think founders have a lot of this. In fact, I’d bet you’d find that a higher percentage of founders have adhd than in the rest of the population\\ntimestamp: 2023-09-03T18:05:00.000Z\\nurl: https://twitter.com/allicovington/status/1698396781539897828\\nusername: @allicovington\\nverified: true', metadata={'source': 'https://twitter.com/allicovington/status/1698396781539897828', 'row': 785}),\n",
       "    Document(page_content='\\ufeff\"fullname\": unfettered by neuronormativity\\nid: 1698429799126225390\\nimages/0: \\nisQuote: false\\nisRetweet: false\\nlikes: 0\\nquotes: 0\\nreplies: 2\\nretweets: 0\\ntext: h/t at Lauren Ancona, put me on the path to understanding what happened to me by sharing her story of ADHD dx +subsequent years of medication to be able to maintain in an office/work situation.\\nI resisted mood medication because I was a therapist myself.+\\ntimestamp: 2023-09-03T20:16:00.000Z\\nurl: https://twitter.com/cyn_mccrackan/status/1698429799126225390\\nusername: @cyn_mccrackan\\nverified: false', metadata={'source': 'https://twitter.com/cyn_mccrackan/status/1698429799126225390', 'row': 326}),\n",
       "    Document(page_content='\\ufeff\"fullname\": Geidy Mendez\\nid: 1698430233827836102\\nimages/0: \\nisQuote: false\\nisRetweet: false\\nlikes: 1\\nquotes: 0\\nreplies: 1\\nretweets: 0\\ntext: I thought I was just depressed which is what made me so unmotivated this whole summer just to find out it was my ADHD working overtime … we love a dedicated girly but damn she kicked my ass\\ntimestamp: 2023-09-03T20:18:00.000Z\\nurl: https://twitter.com/GeidyMendez4/status/1698430233827836102\\nusername: @GeidyMendez4\\nverified: false', metadata={'source': 'https://twitter.com/GeidyMendez4/status/1698430233827836102', 'row': 318})])]}"
      ]
     },
     "execution_count": 18,
     "metadata": {},
     "output_type": "execute_result"
    }
   ],
   "source": [
    "adhd_retriever_agent_executor({\"input\" : \"What does patients say about being female and has adhd?\"})"
   ]
  },
  {
   "cell_type": "code",
   "execution_count": 21,
   "metadata": {},
   "outputs": [
    {
     "name": "stdout",
     "output_type": "stream",
     "text": [
      "\n",
      "\n",
      "\u001b[1m> Entering new AgentExecutor chain...\u001b[0m\n",
      "\u001b[32;1m\u001b[1;3m\n",
      "Invoking: `wikipedia` with `ADHD`\n",
      "\n",
      "\n",
      "\u001b[0m\u001b[36;1m\u001b[1;3m[Document(page_content='Attention deficit hyperactivity disorder (ADHD) is a neurodevelopmental disorder characterised by excessive amounts of inattention, hyperactivity, and impulsivity that are pervasive, impairing in multiple contexts, and otherwise age-inappropriate.ADHD symptoms arise from executive dysfunction, and emotional dysregulation is often considered a core symptom. In children, problems paying attention may result in poor school performance. ADHD is associated with other neurodevelopmental and mental', metadata={'title': 'Attention deficit hyperactivity disorder', 'summary': 'Attention deficit hyperactivity disorder (ADHD) is a neurodevelopmental disorder characterised by excessive amounts of inattention, hyperactivity, and impulsivity that are pervasive, impairing in multiple contexts, and otherwise age-inappropriate.ADHD symptoms arise from executive dysfunction, and emotional dysregulation is often considered a core symptom. In children, problems paying attention may result in poor school performance. ADHD is associated with other neurodevelopmental and mental disorders as well as some non-psychiatric disorders, which can cause additional impairment, especially in modern society. Although people with ADHD struggle to focus on tasks they are not particularly interested in completing, they are often able to maintain an unusually prolonged and intense level of attention for tasks they do find interesting or rewarding; this is known as hyperfocus.\\nThe precise causes of ADHD are unknown in the majority of cases. Genetic factors play an important role; ADHD tends to run in families and has a heritability rate of 74%. Toxins and infections during pregnancy as well as brain damage may be environmental risks.\\nIt affects about 5–7% of children when diagnosed via the DSM-IV criteria, and 1–2% when diagnosed via the ICD-10 criteria. Rates are similar between countries and differences in rates depend mostly on how it is diagnosed. ADHD is diagnosed approximately twice as often in boys than in girls, and 1.6 times more often in men than in women, although the disorder is overlooked in girls or diagnosed in later life because their symptoms sometimes differ from diagnostic criteria. About 30–50% of people diagnosed in childhood continue to have ADHD in adulthood, with 2.58% of adults estimated to have ADHD which began in childhood. In adults, hyperactivity is usually replaced by inner restlessness, and adults often develop coping skills to compensate for their impairments. The condition can be difficult to tell apart from other conditions, as well as from high levels of activity within the range of normal behaviour. ADHD has a negative impact on patient health-related quality of life that may be further exacerbated by, or may increase the risk of, other psychiatric conditions such as anxiety and depression.ADHD management recommendations vary and usually involve some combination of medications, counseling, and lifestyle changes. The British guideline emphasises environmental modifications and education about ADHD for individuals and carers as the first response. If symptoms persist, parent-training, medication, or psychotherapy (especially cognitive behavioural therapy) can be recommended based on age. Canadian and American guidelines recommend medications and behavioural therapy together, except in preschool-aged children for whom the first-line treatment is behavioural therapy alone. Stimulant medications are the most effective pharmaceutical treatment, although there may be side effects and any improvements will be reverted if medication is ceased.ADHD, its diagnosis, and its treatment have been considered controversial since the 1970s. These controversies have involved doctors, teachers, policymakers, parents, and the media. Topics have included causes of ADHD and the use of stimulant medications in its treatment. ADHD is now a well-validated clinical diagnosis in children and adults, and the debate in the scientific community mainly centers on how it is diagnosed and treated. ADHD was officially known as attention deficit disorder (ADD) from 1980 to 1987; prior to the 1980s, it was known as hyperkinetic reaction of childhood. Symptoms similar to those of ADHD have been described in medical literature dating back to the 18th century.\\n\\n', 'source': 'https://en.wikipedia.org/wiki/Attention_deficit_hyperactivity_disorder'}), Document(page_content='undergoing ADHD treatment are seldom included in studies evaluating the efficacy of ADHD treatments.', metadata={'title': 'Attention deficit hyperactivity disorder', 'summary': 'Attention deficit hyperactivity disorder (ADHD) is a neurodevelopmental disorder characterised by excessive amounts of inattention, hyperactivity, and impulsivity that are pervasive, impairing in multiple contexts, and otherwise age-inappropriate.ADHD symptoms arise from executive dysfunction, and emotional dysregulation is often considered a core symptom. In children, problems paying attention may result in poor school performance. ADHD is associated with other neurodevelopmental and mental disorders as well as some non-psychiatric disorders, which can cause additional impairment, especially in modern society. Although people with ADHD struggle to focus on tasks they are not particularly interested in completing, they are often able to maintain an unusually prolonged and intense level of attention for tasks they do find interesting or rewarding; this is known as hyperfocus.\\nThe precise causes of ADHD are unknown in the majority of cases. Genetic factors play an important role; ADHD tends to run in families and has a heritability rate of 74%. Toxins and infections during pregnancy as well as brain damage may be environmental risks.\\nIt affects about 5–7% of children when diagnosed via the DSM-IV criteria, and 1–2% when diagnosed via the ICD-10 criteria. Rates are similar between countries and differences in rates depend mostly on how it is diagnosed. ADHD is diagnosed approximately twice as often in boys than in girls, and 1.6 times more often in men than in women, although the disorder is overlooked in girls or diagnosed in later life because their symptoms sometimes differ from diagnostic criteria. About 30–50% of people diagnosed in childhood continue to have ADHD in adulthood, with 2.58% of adults estimated to have ADHD which began in childhood. In adults, hyperactivity is usually replaced by inner restlessness, and adults often develop coping skills to compensate for their impairments. The condition can be difficult to tell apart from other conditions, as well as from high levels of activity within the range of normal behaviour. ADHD has a negative impact on patient health-related quality of life that may be further exacerbated by, or may increase the risk of, other psychiatric conditions such as anxiety and depression.ADHD management recommendations vary and usually involve some combination of medications, counseling, and lifestyle changes. The British guideline emphasises environmental modifications and education about ADHD for individuals and carers as the first response. If symptoms persist, parent-training, medication, or psychotherapy (especially cognitive behavioural therapy) can be recommended based on age. Canadian and American guidelines recommend medications and behavioural therapy together, except in preschool-aged children for whom the first-line treatment is behavioural therapy alone. Stimulant medications are the most effective pharmaceutical treatment, although there may be side effects and any improvements will be reverted if medication is ceased.ADHD, its diagnosis, and its treatment have been considered controversial since the 1970s. These controversies have involved doctors, teachers, policymakers, parents, and the media. Topics have included causes of ADHD and the use of stimulant medications in its treatment. ADHD is now a well-validated clinical diagnosis in children and adults, and the debate in the scientific community mainly centers on how it is diagnosed and treated. ADHD was officially known as attention deficit disorder (ADD) from 1980 to 1987; prior to the 1980s, it was known as hyperkinetic reaction of childhood. Symptoms similar to those of ADHD have been described in medical literature dating back to the 18th century.\\n\\n', 'source': 'https://en.wikipedia.org/wiki/Attention_deficit_hyperactivity_disorder'})]\u001b[0m\u001b[32;1m\u001b[1;3mAttention deficit hyperactivity disorder (ADHD) is a neurodevelopmental disorder characterized by excessive amounts of inattention, hyperactivity, and impulsivity that are pervasive, impairing in multiple contexts, and otherwise age-inappropriate. ADHD symptoms arise from executive dysfunction, and emotional dysregulation is often considered a core symptom. In children, problems paying attention may result in poor school performance. ADHD is associated with other neurodevelopmental and mental disorders as well as some non-psychiatric disorders, which can cause additional impairment, especially in modern society.\n",
      "\n",
      "The precise causes of ADHD are unknown in the majority of cases, but genetic factors play an important role. ADHD tends to run in families and has a heritability rate of 74%. Environmental factors such as toxins and infections during pregnancy, as well as brain damage, may also contribute to the development of ADHD.\n",
      "\n",
      "ADHD affects about 5-7% of children when diagnosed via the DSM-IV criteria, and 1-2% when diagnosed via the ICD-10 criteria. It is diagnosed approximately twice as often in boys than in girls, and 1.6 times more often in men than in women. However, ADHD in girls is sometimes overlooked or diagnosed later in life because their symptoms may differ from diagnostic criteria. About 30-50% of people diagnosed with ADHD in childhood continue to have ADHD in adulthood.\n",
      "\n",
      "ADHD management recommendations vary but usually involve a combination of medications, counseling, and lifestyle changes. Stimulant medications are often prescribed and are considered the most effective pharmaceutical treatment. However, there may be side effects, and any improvements gained from medication may be reverted if the medication is ceased. Other treatment options include parent-training, psychotherapy (especially cognitive-behavioral therapy), and environmental modifications.\n",
      "\n",
      "ADHD, its diagnosis, and its treatment have been the subject of controversy. The debate in the scientific community mainly centers on how ADHD is diagnosed and treated. ADHD is now a well-validated clinical diagnosis in children and adults. It was officially known as attention deficit disorder (ADD) from 1980 to 1987 and was previously referred to as hyperkinetic reaction of childhood. Symptoms similar to those of ADHD have been described in medical literature dating back to the 18th century.\n",
      "\n",
      "Please note that this is a brief summary of ADHD, and there is much more information available on the topic.\u001b[0m\n",
      "\n",
      "\u001b[1m> Finished chain.\u001b[0m\n"
     ]
    },
    {
     "data": {
      "text/plain": [
       "{'input': 'what is adhd?',\n",
       " 'chat_history': [AIMessage(content='Attention deficit hyperactivity disorder (ADHD) is a neurodevelopmental disorder characterized by excessive amounts of inattention, hyperactivity, and impulsivity that are pervasive, impairing in multiple contexts, and otherwise age-inappropriate. ADHD symptoms arise from executive dysfunction, and emotional dysregulation is often considered a core symptom. In children, problems paying attention may result in poor school performance. ADHD is associated with other neurodevelopmental and mental disorders as well as some non-psychiatric disorders, which can cause additional impairment, especially in modern society.\\n\\nThe precise causes of ADHD are unknown in the majority of cases, but genetic factors play an important role. ADHD tends to run in families and has a heritability rate of 74%. Environmental factors such as toxins and infections during pregnancy, as well as brain damage, may also contribute to the development of ADHD.\\n\\nADHD affects about 5-7% of children when diagnosed via the DSM-IV criteria, and 1-2% when diagnosed via the ICD-10 criteria. It is diagnosed approximately twice as often in boys than in girls, and 1.6 times more often in men than in women. However, ADHD in girls is sometimes overlooked or diagnosed later in life because their symptoms may differ from diagnostic criteria. About 30-50% of people diagnosed with ADHD in childhood continue to have ADHD in adulthood.\\n\\nADHD management recommendations vary but usually involve a combination of medications, counseling, and lifestyle changes. Stimulant medications are often prescribed and are considered the most effective pharmaceutical treatment. However, there may be side effects, and any improvements gained from medication may be reverted if the medication is ceased. Other treatment options include parent-training, psychotherapy (especially cognitive-behavioral therapy), and environmental modifications.\\n\\nADHD, its diagnosis, and its treatment have been the subject of controversy. The debate in the scientific community mainly centers on how ADHD is diagnosed and treated. ADHD is now a well-validated clinical diagnosis in children and adults. It was officially known as attention deficit disorder (ADD) from 1980 to 1987 and was previously referred to as hyperkinetic reaction of childhood. Symptoms similar to those of ADHD have been described in medical literature dating back to the 18th century.\\n\\nPlease note that this is a brief summary of ADHD, and there is much more information available on the topic.', additional_kwargs={}, example=False)],\n",
       " 'output': 'Attention deficit hyperactivity disorder (ADHD) is a neurodevelopmental disorder characterized by excessive amounts of inattention, hyperactivity, and impulsivity that are pervasive, impairing in multiple contexts, and otherwise age-inappropriate. ADHD symptoms arise from executive dysfunction, and emotional dysregulation is often considered a core symptom. In children, problems paying attention may result in poor school performance. ADHD is associated with other neurodevelopmental and mental disorders as well as some non-psychiatric disorders, which can cause additional impairment, especially in modern society.\\n\\nThe precise causes of ADHD are unknown in the majority of cases, but genetic factors play an important role. ADHD tends to run in families and has a heritability rate of 74%. Environmental factors such as toxins and infections during pregnancy, as well as brain damage, may also contribute to the development of ADHD.\\n\\nADHD affects about 5-7% of children when diagnosed via the DSM-IV criteria, and 1-2% when diagnosed via the ICD-10 criteria. It is diagnosed approximately twice as often in boys than in girls, and 1.6 times more often in men than in women. However, ADHD in girls is sometimes overlooked or diagnosed later in life because their symptoms may differ from diagnostic criteria. About 30-50% of people diagnosed with ADHD in childhood continue to have ADHD in adulthood.\\n\\nADHD management recommendations vary but usually involve a combination of medications, counseling, and lifestyle changes. Stimulant medications are often prescribed and are considered the most effective pharmaceutical treatment. However, there may be side effects, and any improvements gained from medication may be reverted if the medication is ceased. Other treatment options include parent-training, psychotherapy (especially cognitive-behavioral therapy), and environmental modifications.\\n\\nADHD, its diagnosis, and its treatment have been the subject of controversy. The debate in the scientific community mainly centers on how ADHD is diagnosed and treated. ADHD is now a well-validated clinical diagnosis in children and adults. It was officially known as attention deficit disorder (ADD) from 1980 to 1987 and was previously referred to as hyperkinetic reaction of childhood. Symptoms similar to those of ADHD have been described in medical literature dating back to the 18th century.\\n\\nPlease note that this is a brief summary of ADHD, and there is much more information available on the topic.',\n",
       " 'intermediate_steps': [(_FunctionsAgentAction(tool='wikipedia', tool_input='ADHD', log='\\nInvoking: `wikipedia` with `ADHD`\\n\\n\\n', message_log=[AIMessage(content='', additional_kwargs={'function_call': {'name': 'wikipedia', 'arguments': '{\\n  \"__arg1\": \"ADHD\"\\n}'}}, example=False)]),\n",
       "   [Document(page_content='Attention deficit hyperactivity disorder (ADHD) is a neurodevelopmental disorder characterised by excessive amounts of inattention, hyperactivity, and impulsivity that are pervasive, impairing in multiple contexts, and otherwise age-inappropriate.ADHD symptoms arise from executive dysfunction, and emotional dysregulation is often considered a core symptom. In children, problems paying attention may result in poor school performance. ADHD is associated with other neurodevelopmental and mental', metadata={'title': 'Attention deficit hyperactivity disorder', 'summary': 'Attention deficit hyperactivity disorder (ADHD) is a neurodevelopmental disorder characterised by excessive amounts of inattention, hyperactivity, and impulsivity that are pervasive, impairing in multiple contexts, and otherwise age-inappropriate.ADHD symptoms arise from executive dysfunction, and emotional dysregulation is often considered a core symptom. In children, problems paying attention may result in poor school performance. ADHD is associated with other neurodevelopmental and mental disorders as well as some non-psychiatric disorders, which can cause additional impairment, especially in modern society. Although people with ADHD struggle to focus on tasks they are not particularly interested in completing, they are often able to maintain an unusually prolonged and intense level of attention for tasks they do find interesting or rewarding; this is known as hyperfocus.\\nThe precise causes of ADHD are unknown in the majority of cases. Genetic factors play an important role; ADHD tends to run in families and has a heritability rate of 74%. Toxins and infections during pregnancy as well as brain damage may be environmental risks.\\nIt affects about 5–7% of children when diagnosed via the DSM-IV criteria, and 1–2% when diagnosed via the ICD-10 criteria. Rates are similar between countries and differences in rates depend mostly on how it is diagnosed. ADHD is diagnosed approximately twice as often in boys than in girls, and 1.6 times more often in men than in women, although the disorder is overlooked in girls or diagnosed in later life because their symptoms sometimes differ from diagnostic criteria. About 30–50% of people diagnosed in childhood continue to have ADHD in adulthood, with 2.58% of adults estimated to have ADHD which began in childhood. In adults, hyperactivity is usually replaced by inner restlessness, and adults often develop coping skills to compensate for their impairments. The condition can be difficult to tell apart from other conditions, as well as from high levels of activity within the range of normal behaviour. ADHD has a negative impact on patient health-related quality of life that may be further exacerbated by, or may increase the risk of, other psychiatric conditions such as anxiety and depression.ADHD management recommendations vary and usually involve some combination of medications, counseling, and lifestyle changes. The British guideline emphasises environmental modifications and education about ADHD for individuals and carers as the first response. If symptoms persist, parent-training, medication, or psychotherapy (especially cognitive behavioural therapy) can be recommended based on age. Canadian and American guidelines recommend medications and behavioural therapy together, except in preschool-aged children for whom the first-line treatment is behavioural therapy alone. Stimulant medications are the most effective pharmaceutical treatment, although there may be side effects and any improvements will be reverted if medication is ceased.ADHD, its diagnosis, and its treatment have been considered controversial since the 1970s. These controversies have involved doctors, teachers, policymakers, parents, and the media. Topics have included causes of ADHD and the use of stimulant medications in its treatment. ADHD is now a well-validated clinical diagnosis in children and adults, and the debate in the scientific community mainly centers on how it is diagnosed and treated. ADHD was officially known as attention deficit disorder (ADD) from 1980 to 1987; prior to the 1980s, it was known as hyperkinetic reaction of childhood. Symptoms similar to those of ADHD have been described in medical literature dating back to the 18th century.\\n\\n', 'source': 'https://en.wikipedia.org/wiki/Attention_deficit_hyperactivity_disorder'}),\n",
       "    Document(page_content='undergoing ADHD treatment are seldom included in studies evaluating the efficacy of ADHD treatments.', metadata={'title': 'Attention deficit hyperactivity disorder', 'summary': 'Attention deficit hyperactivity disorder (ADHD) is a neurodevelopmental disorder characterised by excessive amounts of inattention, hyperactivity, and impulsivity that are pervasive, impairing in multiple contexts, and otherwise age-inappropriate.ADHD symptoms arise from executive dysfunction, and emotional dysregulation is often considered a core symptom. In children, problems paying attention may result in poor school performance. ADHD is associated with other neurodevelopmental and mental disorders as well as some non-psychiatric disorders, which can cause additional impairment, especially in modern society. Although people with ADHD struggle to focus on tasks they are not particularly interested in completing, they are often able to maintain an unusually prolonged and intense level of attention for tasks they do find interesting or rewarding; this is known as hyperfocus.\\nThe precise causes of ADHD are unknown in the majority of cases. Genetic factors play an important role; ADHD tends to run in families and has a heritability rate of 74%. Toxins and infections during pregnancy as well as brain damage may be environmental risks.\\nIt affects about 5–7% of children when diagnosed via the DSM-IV criteria, and 1–2% when diagnosed via the ICD-10 criteria. Rates are similar between countries and differences in rates depend mostly on how it is diagnosed. ADHD is diagnosed approximately twice as often in boys than in girls, and 1.6 times more often in men than in women, although the disorder is overlooked in girls or diagnosed in later life because their symptoms sometimes differ from diagnostic criteria. About 30–50% of people diagnosed in childhood continue to have ADHD in adulthood, with 2.58% of adults estimated to have ADHD which began in childhood. In adults, hyperactivity is usually replaced by inner restlessness, and adults often develop coping skills to compensate for their impairments. The condition can be difficult to tell apart from other conditions, as well as from high levels of activity within the range of normal behaviour. ADHD has a negative impact on patient health-related quality of life that may be further exacerbated by, or may increase the risk of, other psychiatric conditions such as anxiety and depression.ADHD management recommendations vary and usually involve some combination of medications, counseling, and lifestyle changes. The British guideline emphasises environmental modifications and education about ADHD for individuals and carers as the first response. If symptoms persist, parent-training, medication, or psychotherapy (especially cognitive behavioural therapy) can be recommended based on age. Canadian and American guidelines recommend medications and behavioural therapy together, except in preschool-aged children for whom the first-line treatment is behavioural therapy alone. Stimulant medications are the most effective pharmaceutical treatment, although there may be side effects and any improvements will be reverted if medication is ceased.ADHD, its diagnosis, and its treatment have been considered controversial since the 1970s. These controversies have involved doctors, teachers, policymakers, parents, and the media. Topics have included causes of ADHD and the use of stimulant medications in its treatment. ADHD is now a well-validated clinical diagnosis in children and adults, and the debate in the scientific community mainly centers on how it is diagnosed and treated. ADHD was officially known as attention deficit disorder (ADD) from 1980 to 1987; prior to the 1980s, it was known as hyperkinetic reaction of childhood. Symptoms similar to those of ADHD have been described in medical literature dating back to the 18th century.\\n\\n', 'source': 'https://en.wikipedia.org/wiki/Attention_deficit_hyperactivity_disorder'})])]}"
      ]
     },
     "execution_count": 21,
     "metadata": {},
     "output_type": "execute_result"
    }
   ],
   "source": [
    "res = adhd_retriever_agent_executor({\"input\" : \"what is adhd?\"})\n",
    "res"
   ]
  },
  {
   "cell_type": "markdown",
   "metadata": {},
   "source": [
    "### Oppenheimer Retrieval System\n",
    "\n",
    "We're going to repourpose some of what we created previously, but this time we'll explore a different multi-source retrieval system."
   ]
  },
  {
   "cell_type": "code",
   "execution_count": 75,
   "metadata": {},
   "outputs": [],
   "source": [
    "\n",
    "\n",
    "depression_wikipedia_docs = WikipediaLoader(\n",
    "    query=\"Major depressive disorder\", \n",
    "    load_max_docs=1,  \n",
    "    doc_content_chars_max=1_000_000\n",
    "    ).load()\n",
    "\n",
    "depression_csv_docs = CSVLoader(\n",
    "    file_path='Mental-Health-Twitter 3.csv',\n",
    "    source_column='post_id'\n",
    "    ).load()"
   ]
  },
  {
   "cell_type": "code",
   "execution_count": 80,
   "metadata": {},
   "outputs": [],
   "source": [
    "chunked_depression_wikipedia_docs =wikipedia_text_splitter.transform_documents(depression_wikipedia_docs) \n",
    "chunked_depression_csv_docs = csv_text_splitter.transform_documents(depression_csv_docs)"
   ]
  },
  {
   "cell_type": "code",
   "execution_count": 81,
   "metadata": {},
   "outputs": [],
   "source": [
    "# public review Opp retriever\n",
    "depression_csv_faiss_retriever = FAISS.from_documents(chunked_depression_csv_docs,embedder).as_retriever() \n",
    "# set up BM25 retriever\n",
    "depression_wikipedia_bm25_retriever = BM25Retriever.from_documents(chunked_depression_wikipedia_docs)\n",
    "depression_wikipedia_bm25_retriever.k = 1\n",
    "\n",
    "# set up FAISS vector store\n",
    "depression_wikipedia_faiss_store = FAISS.from_documents(chunked_depression_wikipedia_docs, embedder)\n",
    "depression_wikipedia_faiss_retriever = depression_wikipedia_faiss_store.as_retriever(search_kwargs={\"k\": 1})\n",
    "\n",
    "# set up ensemble retriever\n",
    "depression_ensemble_retriever = EnsembleRetriever(\n",
    "    retrievers=[depression_wikipedia_bm25_retriever,depression_wikipedia_faiss_retriever], weight=[0.25,0.75]\n",
    " ) "
   ]
  },
  {
   "cell_type": "markdown",
   "metadata": {},
   "source": [
    "#### Multi-source chain\n",
    "\n",
    "We're going to allow the LLM to decide which information is most -> least valuable.\n",
    "\n",
    "The way we'll do this is with LangChain's rather powerful \"Expression Language\"!\n",
    "\n",
    "> HINT: You can leverage [this](https://python.langchain.com/docs/use_cases/question_answering/how_to/multiple_retrieval) resource if you get stuck - but experiment with different prompts/formats."
   ]
  },
  {
   "cell_type": "code",
   "execution_count": 82,
   "metadata": {},
   "outputs": [],
   "source": [
    "from langchain.prompts import ChatPromptTemplate\n",
    "\n",
    "system_message = \"\"\"Use the information from the below two sources to answer any questions.\n",
    "\n",
    "Source 1: Twitter user talk about their depression.\n",
    "<source1>\n",
    "{source1}\n",
    "</source1>\n",
    "\n",
    "Source 2: the wikipedia page for the depressive mood disorder including the scientific information about this depression.\n",
    "<source2>\n",
    "{source2}\n",
    "</source2>\n",
    "\"\"\"\n",
    "\n",
    "prompt = ChatPromptTemplate.from_messages([(\"system\", system_message), (\"human\", \"{question}\")])\n"
   ]
  },
  {
   "cell_type": "code",
   "execution_count": 83,
   "metadata": {},
   "outputs": [],
   "source": [
    "depression_multisource_chain = {\n",
    "    \"source1\": (lambda x: x[\"question\"]) | depression_ensemble_retriever,\n",
    "    \"source2\": (lambda x: x[\"question\"]) | depression_csv_faiss_retriever,\n",
    "    \"question\": lambda x: x[\"question\"],\n",
    "} | prompt | llm"
   ]
  },
  {
   "cell_type": "code",
   "execution_count": 86,
   "metadata": {},
   "outputs": [
    {
     "data": {
      "text/plain": [
       "AIMessage(content='Yes, depression is very common. According to the information from Source 1, major depressive disorder affected approximately 163 million people in 2017, which is about 2% of the global population. The percentage of people who are affected at one point in their life varies from 7% in Japan to 21% in France. In the United States, 8.4% of adults (21 million individuals) have at least one episode within a year-long period.', additional_kwargs={}, example=False)"
      ]
     },
     "execution_count": 86,
     "metadata": {},
     "output_type": "execute_result"
    }
   ],
   "source": [
    "depression_multisource_chain.invoke({\"question\" : \"Is depression very common?\"})"
   ]
  },
  {
   "cell_type": "code",
   "execution_count": null,
   "metadata": {},
   "outputs": [],
   "source": []
  },
  {
   "cell_type": "markdown",
   "metadata": {},
   "source": [
    "# Agent Creation\n",
    "\n",
    "Now we can finally start building our Agent!\n",
    "\n",
    "The first thing we'll need to do is provide our Agent a Toolbelt. (list of tools). Much like Batman, our LLM-powered Agent can use these tools as it sees fit. \n",
    "\n",
    "While the examples we're constructing in this notebook are straightforward for brevity and simplicities sake - there is no limit to what you can build with Agents, as we'll see as we progress through the program.\n",
    "\n",
    "So, let's begin by setting up our Tools!\n",
    "\n",
    "You'll notice that we have to set up a function to allow our `OppenheimerInfo` tool to interface with the Agent - this is due to it have a specific required input. Creating custom tools is a pattern that you'll want to grow acustomed to as you use LangChain more and more."
   ]
  },
  {
   "cell_type": "code",
   "execution_count": 87,
   "metadata": {},
   "outputs": [],
   "source": [
    "from langchain.agents import Tool\n",
    "\n",
    "## barbie_retriever_agent_executor({\"input\" : \"Did people like Barbie\"})\n",
    "## oppenheimer_multisource_chain.invoke({\"question\" : \"What did people think of the Oppenheimer movie?\"})\n",
    "\n",
    "def query_depression(input): # because we use multi-query, \n",
    "    return depression_multisource_chain.invoke({\"question\" : input})\n",
    "\n",
    "tools = [  ## this is actually 4 soures, but this pattern gives structure, the description helps it to decide which tool to use\n",
    "    Tool(\n",
    "        name = \"AdhdInfo\",#\n",
    "        func=adhd_retriever_agent_executor.invoke,\n",
    "        description=\"useful for when you need to answer questions about Adhd. Input should be a fully formed question.\"\n",
    "    ),\n",
    "    Tool(\n",
    "        name = \"DepressionInfo\", \n",
    "        func=query_depression, \n",
    "        description=\"useful for when you need to answer questions about Depression. Input should be a fully formed question.\"\n",
    "    ),\n",
    "]"
   ]
  },
  {
   "cell_type": "markdown",
   "metadata": {},
   "source": [
    "Now that we've set up our Agents toolbelt, let's set up the LLM that will be powering it!\n",
    "\n",
    "I would suggest playing around with these prompts - and experiments to find what works best for you.\n",
    "\n",
    "RELEVANT DOCS:\n",
    "- [`ZeroShotAgent`](https://api.python.langchain.com/en/latest/agents/langchain.agents.mrkl.base.ZeroShotAgent.html#langchain-agents-mrkl-base-zeroshotagent)"
   ]
  },
  {
   "cell_type": "code",
   "execution_count": 88,
   "metadata": {},
   "outputs": [],
   "source": [
    "from langchain.agents import ZeroShotAgent, AgentExecutor\n",
    "\n",
    "prefix = \"\"\"Have a conversation with a human, answering the following questions as best you can. You have access to the following tools:\"\"\"\n",
    "suffix = \"\"\"Begin!\"\n",
    "\n",
    "Question: {input}\n",
    "{agent_scratchpad}\"\"\"\n",
    "\n",
    "prompt = ZeroShotAgent.create_prompt(\n",
    "    tools, \n",
    "    prefix=prefix, \n",
    "    suffix=suffix, \n",
    "    input_variables=[\"input\", \"agent_scratchpad\"]\n",
    ")"
   ]
  },
  {
   "cell_type": "code",
   "execution_count": 89,
   "metadata": {},
   "outputs": [],
   "source": [
    "from langchain import LLMChain\n",
    "\n",
    "llm_chain = LLMChain(llm=llm, prompt=prompt)"
   ]
  },
  {
   "cell_type": "markdown",
   "metadata": {},
   "source": [
    "All that's left to do now is create our `ZeroShotAgent` and our `AgentExecutor`, which are the \"reasoner\" and \"actor\" halfs of the `ReAct` method of Agent implementation.\n",
    "\n",
    "Read all about the `ReAct` framework [here](https://react-lm.github.io/)"
   ]
  },
  {
   "cell_type": "code",
   "execution_count": 91,
   "metadata": {},
   "outputs": [],
   "source": [
    "adhdDepression_agent = ZeroShotAgent(\n",
    "    llm_chain=llm_chain, \n",
    "    tools=tools, \n",
    "    verbose=True)\n",
    "\n",
    "adhdDepression_agent_chain = AgentExecutor.from_agent_and_tools(\n",
    "    agent=adhdDepression_agent, \n",
    "    tools=tools, \n",
    "    verbose=True)"
   ]
  },
  {
   "cell_type": "markdown",
   "metadata": {},
   "source": [
    "## Conclusion\n",
    "\n",
    "All that is left to do now, is feed inputs to your Agent and watch it work!\n",
    "\n",
    "Remember to use the `{\"input\" : \"YOUR QUERY HERE\"}` format when prompting the Agent."
   ]
  },
  {
   "cell_type": "code",
   "execution_count": 103,
   "metadata": {},
   "outputs": [
    {
     "name": "stdout",
     "output_type": "stream",
     "text": [
      "\n",
      "\n",
      "\u001b[1m> Entering new AgentExecutor chain...\u001b[0m\n",
      "\u001b[32;1m\u001b[1;3mThought: I need to gather information about depression in women.\n",
      "Action: DepressionInfo\n",
      "Action Input: \"What are the symptoms of depression in women?\"\u001b[0m\n",
      "Observation: \u001b[33;1m\u001b[1;3mcontent=\"The symptoms of depression in women can vary, but some common symptoms include:\\n\\n1. Pervasive low mood: Feeling sad, empty, or hopeless most of the time.\\n2. Loss of interest or pleasure: Losing interest in activities or hobbies that were once enjoyable.\\n3. Fatigue or low energy: Feeling tired and lacking energy, even after getting enough rest.\\n4. Changes in appetite: Significant weight loss or gain, or changes in appetite.\\n5. Sleep disturbances: Difficulty falling asleep, staying asleep, or sleeping too much.\\n6. Feelings of worthlessness or guilt: Feeling excessive guilt or a sense of worthlessness.\\n7. Difficulty concentrating or making decisions: Trouble focusing, making decisions, or remembering things.\\n8. Physical symptoms: Experiencing physical symptoms such as headaches, stomachaches, or body aches.\\n9. Irritability or restlessness: Feeling irritable, agitated, or restless.\\n10. Thoughts of death or suicide: Having thoughts of death, dying, or suicide.\\n\\nIt's important to note that these symptoms can vary in severity and duration. If you or someone you know is experiencing these symptoms, it is recommended to seek professional help for an accurate diagnosis and appropriate treatment.\" additional_kwargs={} example=False\u001b[0m\n",
      "Thought:\u001b[32;1m\u001b[1;3mI now have information about the symptoms of depression in women. I need to gather more information about what it's like to be a woman with depression.\n",
      "Action: DepressionInfo\n",
      "Action Input: \"What are some common experiences of women with depression?\"\u001b[0m\n",
      "Observation: \u001b[33;1m\u001b[1;3mcontent='Some common experiences of women with depression include pervasive low mood, low self-esteem, loss of interest or pleasure in normally enjoyable activities, and symptoms such as changes in sleeping and eating habits. Women may also experience higher rates of major depressive disorder compared to men, with the most common time of onset being in their 20s. Additionally, women may be more likely to experience postpartum depression after giving birth and may have different symptoms compared to men during menopause.' additional_kwargs={} example=False\u001b[0m\n",
      "Thought:\u001b[32;1m\u001b[1;3mI now have information about the symptoms of depression in women and some common experiences of women with depression. I can now provide an answer to the original question.\n",
      "Final Answer: It is important to note that everyone's experience with depression is unique, but some common symptoms of depression in women include pervasive low mood, loss of interest or pleasure, fatigue, changes in appetite and sleep, feelings of worthlessness or guilt, difficulty concentrating, physical symptoms, irritability or restlessness, and thoughts of death or suicide. Women with depression may also experience low self-esteem, changes in sleeping and eating habits, and may be more likely to experience postpartum depression after giving birth. It is recommended to seek professional help for an accurate diagnosis and appropriate treatment if experiencing these symptoms.\u001b[0m\n",
      "\n",
      "\u001b[1m> Finished chain.\u001b[0m\n"
     ]
    }
   ],
   "source": [
    "res=adhdDepression_agent_chain.invoke({\"input\" : \"What is it like to be a women and has depression?\"})"
   ]
  },
  {
   "cell_type": "code",
   "execution_count": 104,
   "metadata": {},
   "outputs": [
    {
     "data": {
      "text/plain": [
       "dict"
      ]
     },
     "execution_count": 104,
     "metadata": {},
     "output_type": "execute_result"
    }
   ],
   "source": [
    "type(res)\n"
   ]
  },
  {
   "cell_type": "code",
   "execution_count": 93,
   "metadata": {},
   "outputs": [
    {
     "name": "stdout",
     "output_type": "stream",
     "text": [
      "\n",
      "\n",
      "\u001b[1m> Entering new AgentExecutor chain...\u001b[0m\n",
      "\u001b[32;1m\u001b[1;3mThought: I need to find out what people dislike about having ADHD.\n",
      "Action: AdhdInfo\n",
      "Action Input: \"What do people dislike about having ADHD?\"\u001b[0m\n",
      "\n",
      "\u001b[1m> Entering new AgentExecutor chain...\u001b[0m\n",
      "\u001b[32;1m\u001b[1;3m\n",
      "Invoking: `PublicReviews` with `dislike having ADHD`\n",
      "\n",
      "\n",
      "\u001b[0m\u001b[33;1m\u001b[1;3m[Document(page_content='\\ufeff\"fullname\": unfettered by neuronormativity\\nid: 1698429799126225390\\nimages/0: \\nisQuote: false\\nisRetweet: false\\nlikes: 0\\nquotes: 0\\nreplies: 2\\nretweets: 0\\ntext: h/t at Lauren Ancona, put me on the path to understanding what happened to me by sharing her story of ADHD dx +subsequent years of medication to be able to maintain in an office/work situation.\\nI resisted mood medication because I was a therapist myself.+\\ntimestamp: 2023-09-03T20:16:00.000Z\\nurl: https://twitter.com/cyn_mccrackan/status/1698429799126225390\\nusername: @cyn_mccrackan\\nverified: false', metadata={'source': 'https://twitter.com/cyn_mccrackan/status/1698429799126225390', 'row': 326}), Document(page_content='\\ufeff\"fullname\": my therapist say i got ADHD 😔\\nid: 1698404895517188423\\nimages/0: \\nisQuote: false\\nisRetweet: false\\nlikes: 1\\nquotes: 0\\nreplies: 0\\nretweets: 0\\ntext: soooooo bad u get it!!!\\ntimestamp: 2023-09-03T18:37:00.000Z\\nurl: https://twitter.com/crablegluver/status/1698404895517188423\\nusername: @crablegluver\\nverified: false', metadata={'source': 'https://twitter.com/crablegluver/status/1698404895517188423', 'row': 674}), Document(page_content='\\ufeff\"fullname\": Miss ADHD UK\\nid: 1698453991724638649\\nimages/0: \\nisQuote: false\\nisRetweet: false\\nlikes: 0\\nquotes: 0\\nreplies: 0\\nretweets: 0\\ntext: Would be great to hear your take on Learning to manage dopamine. I’m assuming you mean thing like managing or detoxing social media etc? Also, the rest of the list are literally my dieticians recommendations minus fruit fast, personally my health required little to no sugar atm\\ntimestamp: 2023-09-03T21:52:00.000Z\\nurl: https://twitter.com/mentallynotill/status/1698453991724638649\\nusername: @mentallynotill\\nverified: false', metadata={'source': 'https://twitter.com/mentallynotill/status/1698453991724638649', 'row': 53}), Document(page_content='\\ufeff\"fullname\": Addiction Atheism\\nid: 1698431040925118512\\nimages/0: \\nisQuote: false\\nisRetweet: false\\nlikes: 0\\nquotes: 0\\nreplies: 0\\nretweets: 0\\ntext: I find it rather odd when people say \"I\\'m ADHD\" as opposed to \"I have ADHD\".\\ntimestamp: 2023-09-03T20:21:00.000Z\\nurl: https://twitter.com/AnAddictAtheist/status/1698431040925118512\\nusername: @AnAddictAtheist\\nverified: true', metadata={'source': 'https://twitter.com/AnAddictAtheist/status/1698431040925118512', 'row': 305})]\u001b[0m\u001b[32;1m\u001b[1;3mHere are some things that people dislike about having ADHD:\n",
      "\n",
      "1. User @cyn_mccrackan tweeted, \"Put me on the path to understanding what happened to me by sharing her story of ADHD diagnosis + subsequent years of medication to be able to maintain in an office/work situation. I resisted mood medication because I was a therapist myself.\" You can find more information [here](https://twitter.com/cyn_mccrackan/status/1698429799126225390).\n",
      "\n",
      "2. User @crablegluver tweeted, \"Soooooo bad u get it!!!\" You can find more information [here](https://twitter.com/crablegluver/status/1698404895517188423).\n",
      "\n",
      "3. User @mentallynotill tweeted, \"Would be great to hear your take on Learning to manage dopamine. I’m assuming you mean things like managing or detoxing social media etc? Also, the rest of the list are literally my dieticians recommendations minus fruit fast, personally my health required little to no sugar atm.\" You can find more information [here](https://twitter.com/mentallynotill/status/1698453991724638649).\n",
      "\n",
      "4. User @AnAddictAtheist tweeted, \"I find it rather odd when people say 'I'm ADHD' as opposed to 'I have ADHD'.\" You can find more information [here](https://twitter.com/AnAddictAtheist/status/1698431040925118512).\n",
      "\n",
      "Please note that these are personal experiences shared on Twitter and may not represent the experiences of all individuals with ADHD.\u001b[0m\n",
      "\n",
      "\u001b[1m> Finished chain.\u001b[0m\n",
      "\n",
      "Observation: \u001b[36;1m\u001b[1;3m{'input': 'What do people dislike about having ADHD?', 'chat_history': [AIMessage(content='Here are some personal experiences shared by individuals regarding ADHD teenagers in school:\\n\\n1. User @cyn_mccrackan tweeted, \"Put me on the path to understanding what happened to me by sharing her story of ADHD diagnosis + subsequent years of medication to be able to maintain in an office/work situation. I resisted mood medication because I was a therapist myself.\" You can find more information [here](https://twitter.com/cyn_mccrackan/status/1698429799126225390).\\n\\n2. User @crablegluver tweeted, \"U stay in ur room, I stay in my room, we chit chat everyone in a while rinse and repeat.\" You can find more information [here](https://twitter.com/crablegluver/status/1698423799920676972).\\n\\n3. User @PaisensADHD tweeted, \"I am awake.\" You can find more information [here](https://twitter.com/PaisensADHD/status/1698395060751192474).\\n\\n4. User @beiwyr42 tweeted, \"I was diagnosed with adult ADHD 30+ years ago (meaning it doesn\\'t go away). What\\'s unhealthy about it? Most things you can learn to control (the hyperactive/impulsivity aspect especially). Sure memory can be somewhat of an issue but post-it notes are good for help on that.\" You can find more information [here](https://twitter.com/beiwyr42/status/1698431731810939129).\\n\\nPlease note that these are personal experiences shared on Twitter and may not represent the experiences of all ADHD teenagers in school.', additional_kwargs={}, example=False), HumanMessage(content='What do people dislike about having ADHD?', additional_kwargs={}, example=False), AIMessage(content='', additional_kwargs={'function_call': {'name': 'PublicReviews', 'arguments': '{\\n  \"__arg1\": \"dislike having ADHD\"\\n}'}}, example=False), FunctionMessage(content='[Document(page_content=\\'\\\\ufeff\"fullname\": unfettered by neuronormativity\\\\nid: 1698429799126225390\\\\nimages/0: \\\\nisQuote: false\\\\nisRetweet: false\\\\nlikes: 0\\\\nquotes: 0\\\\nreplies: 2\\\\nretweets: 0\\\\ntext: h/t at Lauren Ancona, put me on the path to understanding what happened to me by sharing her story of ADHD dx +subsequent years of medication to be able to maintain in an office/work situation.\\\\nI resisted mood medication because I was a therapist myself.+\\\\ntimestamp: 2023-09-03T20:16:00.000Z\\\\nurl: https://twitter.com/cyn_mccrackan/status/1698429799126225390\\\\nusername: @cyn_mccrackan\\\\nverified: false\\', metadata={\\'source\\': \\'https://twitter.com/cyn_mccrackan/status/1698429799126225390\\', \\'row\\': 326}), Document(page_content=\\'\\\\ufeff\"fullname\": my therapist say i got ADHD 😔\\\\nid: 1698404895517188423\\\\nimages/0: \\\\nisQuote: false\\\\nisRetweet: false\\\\nlikes: 1\\\\nquotes: 0\\\\nreplies: 0\\\\nretweets: 0\\\\ntext: soooooo bad u get it!!!\\\\ntimestamp: 2023-09-03T18:37:00.000Z\\\\nurl: https://twitter.com/crablegluver/status/1698404895517188423\\\\nusername: @crablegluver\\\\nverified: false\\', metadata={\\'source\\': \\'https://twitter.com/crablegluver/status/1698404895517188423\\', \\'row\\': 674}), Document(page_content=\\'\\\\ufeff\"fullname\": Miss ADHD UK\\\\nid: 1698453991724638649\\\\nimages/0: \\\\nisQuote: false\\\\nisRetweet: false\\\\nlikes: 0\\\\nquotes: 0\\\\nreplies: 0\\\\nretweets: 0\\\\ntext: Would be great to hear your take on Learning to manage dopamine. I’m assuming you mean thing like managing or detoxing social media etc? Also, the rest of the list are literally my dieticians recommendations minus fruit fast, personally my health required little to no sugar atm\\\\ntimestamp: 2023-09-03T21:52:00.000Z\\\\nurl: https://twitter.com/mentallynotill/status/1698453991724638649\\\\nusername: @mentallynotill\\\\nverified: false\\', metadata={\\'source\\': \\'https://twitter.com/mentallynotill/status/1698453991724638649\\', \\'row\\': 53}), Document(page_content=\\'\\\\ufeff\"fullname\": Addiction Atheism\\\\nid: 1698431040925118512\\\\nimages/0: \\\\nisQuote: false\\\\nisRetweet: false\\\\nlikes: 0\\\\nquotes: 0\\\\nreplies: 0\\\\nretweets: 0\\\\ntext: I find it rather odd when people say \"I\\\\\\'m ADHD\" as opposed to \"I have ADHD\".\\\\ntimestamp: 2023-09-03T20:21:00.000Z\\\\nurl: https://twitter.com/AnAddictAtheist/status/1698431040925118512\\\\nusername: @AnAddictAtheist\\\\nverified: true\\', metadata={\\'source\\': \\'https://twitter.com/AnAddictAtheist/status/1698431040925118512\\', \\'row\\': 305})]', additional_kwargs={}, name='PublicReviews'), AIMessage(content='Here are some things that people dislike about having ADHD:\\n\\n1. User @cyn_mccrackan tweeted, \"Put me on the path to understanding what happened to me by sharing her story of ADHD diagnosis + subsequent years of medication to be able to maintain in an office/work situation. I resisted mood medication because I was a therapist myself.\" You can find more information [here](https://twitter.com/cyn_mccrackan/status/1698429799126225390).\\n\\n2. User @crablegluver tweeted, \"Soooooo bad u get it!!!\" You can find more information [here](https://twitter.com/crablegluver/status/1698404895517188423).\\n\\n3. User @mentallynotill tweeted, \"Would be great to hear your take on Learning to manage dopamine. I’m assuming you mean things like managing or detoxing social media etc? Also, the rest of the list are literally my dieticians recommendations minus fruit fast, personally my health required little to no sugar atm.\" You can find more information [here](https://twitter.com/mentallynotill/status/1698453991724638649).\\n\\n4. User @AnAddictAtheist tweeted, \"I find it rather odd when people say \\'I\\'m ADHD\\' as opposed to \\'I have ADHD\\'.\" You can find more information [here](https://twitter.com/AnAddictAtheist/status/1698431040925118512).\\n\\nPlease note that these are personal experiences shared on Twitter and may not represent the experiences of all individuals with ADHD.', additional_kwargs={}, example=False)], 'output': 'Here are some things that people dislike about having ADHD:\\n\\n1. User @cyn_mccrackan tweeted, \"Put me on the path to understanding what happened to me by sharing her story of ADHD diagnosis + subsequent years of medication to be able to maintain in an office/work situation. I resisted mood medication because I was a therapist myself.\" You can find more information [here](https://twitter.com/cyn_mccrackan/status/1698429799126225390).\\n\\n2. User @crablegluver tweeted, \"Soooooo bad u get it!!!\" You can find more information [here](https://twitter.com/crablegluver/status/1698404895517188423).\\n\\n3. User @mentallynotill tweeted, \"Would be great to hear your take on Learning to manage dopamine. I’m assuming you mean things like managing or detoxing social media etc? Also, the rest of the list are literally my dieticians recommendations minus fruit fast, personally my health required little to no sugar atm.\" You can find more information [here](https://twitter.com/mentallynotill/status/1698453991724638649).\\n\\n4. User @AnAddictAtheist tweeted, \"I find it rather odd when people say \\'I\\'m ADHD\\' as opposed to \\'I have ADHD\\'.\" You can find more information [here](https://twitter.com/AnAddictAtheist/status/1698431040925118512).\\n\\nPlease note that these are personal experiences shared on Twitter and may not represent the experiences of all individuals with ADHD.', 'intermediate_steps': [(_FunctionsAgentAction(tool='PublicReviews', tool_input='dislike having ADHD', log='\\nInvoking: `PublicReviews` with `dislike having ADHD`\\n\\n\\n', message_log=[AIMessage(content='', additional_kwargs={'function_call': {'name': 'PublicReviews', 'arguments': '{\\n  \"__arg1\": \"dislike having ADHD\"\\n}'}}, example=False)]), [Document(page_content='\\ufeff\"fullname\": unfettered by neuronormativity\\nid: 1698429799126225390\\nimages/0: \\nisQuote: false\\nisRetweet: false\\nlikes: 0\\nquotes: 0\\nreplies: 2\\nretweets: 0\\ntext: h/t at Lauren Ancona, put me on the path to understanding what happened to me by sharing her story of ADHD dx +subsequent years of medication to be able to maintain in an office/work situation.\\nI resisted mood medication because I was a therapist myself.+\\ntimestamp: 2023-09-03T20:16:00.000Z\\nurl: https://twitter.com/cyn_mccrackan/status/1698429799126225390\\nusername: @cyn_mccrackan\\nverified: false', metadata={'source': 'https://twitter.com/cyn_mccrackan/status/1698429799126225390', 'row': 326}), Document(page_content='\\ufeff\"fullname\": my therapist say i got ADHD 😔\\nid: 1698404895517188423\\nimages/0: \\nisQuote: false\\nisRetweet: false\\nlikes: 1\\nquotes: 0\\nreplies: 0\\nretweets: 0\\ntext: soooooo bad u get it!!!\\ntimestamp: 2023-09-03T18:37:00.000Z\\nurl: https://twitter.com/crablegluver/status/1698404895517188423\\nusername: @crablegluver\\nverified: false', metadata={'source': 'https://twitter.com/crablegluver/status/1698404895517188423', 'row': 674}), Document(page_content='\\ufeff\"fullname\": Miss ADHD UK\\nid: 1698453991724638649\\nimages/0: \\nisQuote: false\\nisRetweet: false\\nlikes: 0\\nquotes: 0\\nreplies: 0\\nretweets: 0\\ntext: Would be great to hear your take on Learning to manage dopamine. I’m assuming you mean thing like managing or detoxing social media etc? Also, the rest of the list are literally my dieticians recommendations minus fruit fast, personally my health required little to no sugar atm\\ntimestamp: 2023-09-03T21:52:00.000Z\\nurl: https://twitter.com/mentallynotill/status/1698453991724638649\\nusername: @mentallynotill\\nverified: false', metadata={'source': 'https://twitter.com/mentallynotill/status/1698453991724638649', 'row': 53}), Document(page_content='\\ufeff\"fullname\": Addiction Atheism\\nid: 1698431040925118512\\nimages/0: \\nisQuote: false\\nisRetweet: false\\nlikes: 0\\nquotes: 0\\nreplies: 0\\nretweets: 0\\ntext: I find it rather odd when people say \"I\\'m ADHD\" as opposed to \"I have ADHD\".\\ntimestamp: 2023-09-03T20:21:00.000Z\\nurl: https://twitter.com/AnAddictAtheist/status/1698431040925118512\\nusername: @AnAddictAtheist\\nverified: true', metadata={'source': 'https://twitter.com/AnAddictAtheist/status/1698431040925118512', 'row': 305})])]}\u001b[0m\n",
      "Thought:\u001b[32;1m\u001b[1;3mI have found some personal experiences shared by individuals regarding ADHD. Some people dislike the need for medication to maintain focus and productivity in work or school settings. Others find it challenging to manage impulsivity and hyperactivity. Memory issues can also be a concern, although strategies like using post-it notes can help. Additionally, some individuals find it odd when people say \"I'm ADHD\" instead of \"I have ADHD.\" Please note that these experiences may not represent everyone with ADHD.\n",
      "Final Answer: Some common dislikes about having ADHD include the need for medication, challenges with impulsivity and hyperactivity, memory issues, and the language used to describe the condition.\u001b[0m\n",
      "\n",
      "\u001b[1m> Finished chain.\u001b[0m\n"
     ]
    },
    {
     "data": {
      "text/plain": [
       "'Some common dislikes about having ADHD include the need for medication, challenges with impulsivity and hyperactivity, memory issues, and the language used to describe the condition.'"
      ]
     },
     "execution_count": 93,
     "metadata": {},
     "output_type": "execute_result"
    }
   ],
   "source": [
    "adhdDepression_agent_chain.run({\"input\" : \"What did people hate about having adhd?\"})"
   ]
  },
  {
   "cell_type": "code",
   "execution_count": 96,
   "metadata": {},
   "outputs": [],
   "source": [
    "#adhdDepression_agent_chain.run({\"input\" : \"what is it like to have both adhd and depression?\"})"
   ]
  },
  {
   "cell_type": "code",
   "execution_count": 97,
   "metadata": {},
   "outputs": [
    {
     "name": "stdout",
     "output_type": "stream",
     "text": [
      "\n",
      "\n",
      "\u001b[1m> Entering new AgentExecutor chain...\u001b[0m\n",
      "\u001b[32;1m\u001b[1;3mThought: I need to gather information about people's experiences with having depression and ADHD simultaneously.\n",
      "Action: DepressionInfo\n",
      "Action Input: \"What do people say about having depression and ADHD at the same time?\"\u001b[0m\n",
      "Observation: \u001b[33;1m\u001b[1;3mcontent='People say that having depression and ADHD at the same time can complicate the diagnosis and treatment of both conditions. They mention that around a third of individuals diagnosed with ADHD develop comorbid depression. Additionally, they highlight that depression may also coexist with ADHD, making it challenging to manage both conditions effectively.' additional_kwargs={} example=False\u001b[0m\n",
      "Thought:\u001b[32;1m\u001b[1;3mI need to gather more information about the complications of having depression and ADHD at the same time.\n",
      "Action: AdhdInfo\n",
      "Action Input: \"What are the complications of having depression and ADHD at the same time?\"\u001b[0m\n",
      "\n",
      "\u001b[1m> Entering new AgentExecutor chain...\u001b[0m\n",
      "\u001b[32;1m\u001b[1;3mHaving depression and ADHD at the same time can lead to several complications. Some of the common complications include:\n",
      "\n",
      "1. Increased severity of symptoms: The presence of both ADHD and depression can exacerbate the symptoms of both conditions. The inattention, impulsivity, and hyperactivity associated with ADHD can make it difficult to cope with the low mood, lack of motivation, and fatigue associated with depression.\n",
      "\n",
      "2. Impaired functioning: The combination of ADHD and depression can significantly impact daily functioning. It can affect academic or work performance, relationships, and overall quality of life. The difficulties in focusing, organizing tasks, and managing emotions associated with ADHD can be further hindered by the lack of energy, motivation, and negative thinking patterns associated with depression.\n",
      "\n",
      "3. Increased risk of other mental health disorders: Individuals with both ADHD and depression may be at a higher risk of developing other mental health disorders, such as anxiety disorders or substance abuse. The presence of multiple conditions can complicate the treatment and management process.\n",
      "\n",
      "4. Social and emotional challenges: The combination of ADHD and depression can lead to social and emotional difficulties. It may be challenging to maintain relationships, regulate emotions, and engage in social activities. The negative self-perception and low self-esteem associated with depression can further impact social interactions.\n",
      "\n",
      "5. Treatment complexities: Treating both ADHD and depression simultaneously can be complex. Medications used to treat one condition may have different effects or interactions with the other condition. It is important to work closely with healthcare professionals to develop an individualized treatment plan that addresses both conditions effectively.\n",
      "\n",
      "It's important to note that the specific complications can vary from person to person, and individual experiences may differ. It is recommended to consult with a healthcare professional for a comprehensive evaluation and personalized treatment approach.\u001b[0m\n",
      "\n",
      "\u001b[1m> Finished chain.\u001b[0m\n",
      "\n",
      "Observation: \u001b[36;1m\u001b[1;3m{'input': 'What are the complications of having depression and ADHD at the same time?', 'chat_history': [AIMessage(content=\"Having depression and ADHD at the same time can lead to several complications. Some of the common complications include:\\n\\n1. Increased severity of symptoms: The presence of both ADHD and depression can exacerbate the symptoms of both conditions. The inattention, impulsivity, and hyperactivity associated with ADHD can make it difficult to cope with the low mood, lack of motivation, and fatigue associated with depression.\\n\\n2. Impaired functioning: The combination of ADHD and depression can significantly impact daily functioning. It can affect academic or work performance, relationships, and overall quality of life. The difficulties in focusing, organizing tasks, and managing emotions associated with ADHD can be further hindered by the lack of energy, motivation, and negative thinking patterns associated with depression.\\n\\n3. Increased risk of other mental health disorders: Individuals with both ADHD and depression may be at a higher risk of developing other mental health disorders, such as anxiety disorders or substance abuse. The presence of multiple conditions can complicate the treatment and management process.\\n\\n4. Social and emotional challenges: The combination of ADHD and depression can lead to social and emotional difficulties. It may be challenging to maintain relationships, regulate emotions, and engage in social activities. The negative self-perception and low self-esteem associated with depression can further impact social interactions.\\n\\n5. Treatment complexities: Treating both ADHD and depression simultaneously can be complex. Medications used to treat one condition may have different effects or interactions with the other condition. It is important to work closely with healthcare professionals to develop an individualized treatment plan that addresses both conditions effectively.\\n\\nIt's important to note that the specific complications can vary from person to person, and individual experiences may differ. It is\", additional_kwargs={}, example=False), HumanMessage(content='What are the complications of having depression and ADHD at the same time?', additional_kwargs={}, example=False), AIMessage(content=\"Having depression and ADHD at the same time can lead to several complications. Some of the common complications include:\\n\\n1. Increased severity of symptoms: The presence of both ADHD and depression can exacerbate the symptoms of both conditions. The inattention, impulsivity, and hyperactivity associated with ADHD can make it difficult to cope with the low mood, lack of motivation, and fatigue associated with depression.\\n\\n2. Impaired functioning: The combination of ADHD and depression can significantly impact daily functioning. It can affect academic or work performance, relationships, and overall quality of life. The difficulties in focusing, organizing tasks, and managing emotions associated with ADHD can be further hindered by the lack of energy, motivation, and negative thinking patterns associated with depression.\\n\\n3. Increased risk of other mental health disorders: Individuals with both ADHD and depression may be at a higher risk of developing other mental health disorders, such as anxiety disorders or substance abuse. The presence of multiple conditions can complicate the treatment and management process.\\n\\n4. Social and emotional challenges: The combination of ADHD and depression can lead to social and emotional difficulties. It may be challenging to maintain relationships, regulate emotions, and engage in social activities. The negative self-perception and low self-esteem associated with depression can further impact social interactions.\\n\\n5. Treatment complexities: Treating both ADHD and depression simultaneously can be complex. Medications used to treat one condition may have different effects or interactions with the other condition. It is important to work closely with healthcare professionals to develop an individualized treatment plan that addresses both conditions effectively.\\n\\nIt's important to note that the specific complications can vary from person to person, and individual experiences may differ. It is recommended to consult with a healthcare professional for a comprehensive evaluation and personalized treatment approach.\", additional_kwargs={}, example=False)], 'output': \"Having depression and ADHD at the same time can lead to several complications. Some of the common complications include:\\n\\n1. Increased severity of symptoms: The presence of both ADHD and depression can exacerbate the symptoms of both conditions. The inattention, impulsivity, and hyperactivity associated with ADHD can make it difficult to cope with the low mood, lack of motivation, and fatigue associated with depression.\\n\\n2. Impaired functioning: The combination of ADHD and depression can significantly impact daily functioning. It can affect academic or work performance, relationships, and overall quality of life. The difficulties in focusing, organizing tasks, and managing emotions associated with ADHD can be further hindered by the lack of energy, motivation, and negative thinking patterns associated with depression.\\n\\n3. Increased risk of other mental health disorders: Individuals with both ADHD and depression may be at a higher risk of developing other mental health disorders, such as anxiety disorders or substance abuse. The presence of multiple conditions can complicate the treatment and management process.\\n\\n4. Social and emotional challenges: The combination of ADHD and depression can lead to social and emotional difficulties. It may be challenging to maintain relationships, regulate emotions, and engage in social activities. The negative self-perception and low self-esteem associated with depression can further impact social interactions.\\n\\n5. Treatment complexities: Treating both ADHD and depression simultaneously can be complex. Medications used to treat one condition may have different effects or interactions with the other condition. It is important to work closely with healthcare professionals to develop an individualized treatment plan that addresses both conditions effectively.\\n\\nIt's important to note that the specific complications can vary from person to person, and individual experiences may differ. It is recommended to consult with a healthcare professional for a comprehensive evaluation and personalized treatment approach.\", 'intermediate_steps': []}\u001b[0m\n",
      "Thought:\u001b[32;1m\u001b[1;3mI now know the final answer. \n",
      "\n",
      "Final Answer: People say that having depression and ADHD at the same time can complicate the diagnosis and treatment of both conditions. It can lead to increased severity of symptoms, impaired functioning, increased risk of other mental health disorders, social and emotional challenges, and treatment complexities. It is recommended to consult with a healthcare professional for a comprehensive evaluation and personalized treatment approach.\u001b[0m\n",
      "\n",
      "\u001b[1m> Finished chain.\u001b[0m\n"
     ]
    }
   ],
   "source": [
    "res=adhdDepression_agent_chain.run({\"input\" : \"what people are say about having depression and adhd at the same time?\"})"
   ]
  },
  {
   "cell_type": "code",
   "execution_count": 107,
   "metadata": {},
   "outputs": [
    {
     "name": "stdout",
     "output_type": "stream",
     "text": [
      "\n",
      "\n",
      "\u001b[1m> Entering new AgentExecutor chain...\u001b[0m\n",
      "\u001b[32;1m\u001b[1;3mThought: I need to gather information about people's experiences with having depression and ADHD simultaneously.\n",
      "Action: DepressionInfo\n",
      "Action Input: \"What are people's experiences with having depression and ADHD at the same time?\"\u001b[0m\n",
      "Observation: \u001b[33;1m\u001b[1;3mcontent=\"People's experiences with having depression and ADHD at the same time can vary, but there are some common themes. Many individuals report feeling overwhelmed and struggle with managing their symptoms of both conditions. They may experience difficulties with concentration, motivation, and organization, which can exacerbate feelings of low mood and hopelessness. The co-occurrence of depression and ADHD can also complicate the diagnosis and treatment process, as symptoms may overlap and be difficult to distinguish. Additionally, individuals with both conditions may be at a higher risk for substance use disorders and may require a comprehensive treatment approach that addresses both depression and ADHD.\" additional_kwargs={} example=False\u001b[0m\n",
      "Thought:\u001b[32;1m\u001b[1;3mI should also gather information about the prevalence of comorbid depression and ADHD.\n",
      "Action: DepressionInfo\n",
      "Action Input: \"What is the prevalence of comorbid depression and ADHD?\"\u001b[0m\n",
      "Observation: \u001b[33;1m\u001b[1;3mcontent='The prevalence of comorbid depression and ADHD is around one-third of individuals diagnosed with ADHD.' additional_kwargs={} example=False\u001b[0m\n",
      "Thought:\u001b[32;1m\u001b[1;3mI now know the final answer\n",
      "Final Answer: People's experiences with having depression and ADHD at the same time can vary, but there are some common themes. Many individuals report feeling overwhelmed and struggle with managing their symptoms of both conditions. They may experience difficulties with concentration, motivation, and organization, which can exacerbate feelings of low mood and hopelessness. The co-occurrence of depression and ADHD can also complicate the diagnosis and treatment process, as symptoms may overlap and be difficult to distinguish. Additionally, individuals with both conditions may be at a higher risk for substance use disorders and may require a comprehensive treatment approach that addresses both depression and ADHD. The prevalence of comorbid depression and ADHD is around one-third of individuals diagnosed with ADHD.\u001b[0m\n",
      "\n",
      "\u001b[1m> Finished chain.\u001b[0m\n"
     ]
    }
   ],
   "source": [
    "res=adhdDepression_agent_chain({\"input\" : \"what people are say about having depression and adhd at the same time?\"})"
   ]
  },
  {
   "cell_type": "code",
   "execution_count": 108,
   "metadata": {},
   "outputs": [
    {
     "data": {
      "text/plain": [
       "{'input': 'what people are say about having depression and adhd at the same time?',\n",
       " 'output': \"People's experiences with having depression and ADHD at the same time can vary, but there are some common themes. Many individuals report feeling overwhelmed and struggle with managing their symptoms of both conditions. They may experience difficulties with concentration, motivation, and organization, which can exacerbate feelings of low mood and hopelessness. The co-occurrence of depression and ADHD can also complicate the diagnosis and treatment process, as symptoms may overlap and be difficult to distinguish. Additionally, individuals with both conditions may be at a higher risk for substance use disorders and may require a comprehensive treatment approach that addresses both depression and ADHD. The prevalence of comorbid depression and ADHD is around one-third of individuals diagnosed with ADHD.\"}"
      ]
     },
     "execution_count": 108,
     "metadata": {},
     "output_type": "execute_result"
    }
   ],
   "source": [
    "res"
   ]
  },
  {
   "cell_type": "markdown",
   "metadata": {},
   "source": [
    "## Next Steps\n",
    "\n",
    "It's time to build a Chainlit (or Gradio) application and host it on Hugging Face Spaces! :ship:"
   ]
  }
 ],
 "metadata": {
  "kernelspec": {
   "display_name": "Python 3.11.4 ('raqa_llm')",
   "language": "python",
   "name": "python3"
  },
  "language_info": {
   "codemirror_mode": {
    "name": "ipython",
    "version": 3
   },
   "file_extension": ".py",
   "mimetype": "text/x-python",
   "name": "python",
   "nbconvert_exporter": "python",
   "pygments_lexer": "ipython3",
   "version": "3.11.4"
  },
  "orig_nbformat": 4,
  "vscode": {
   "interpreter": {
    "hash": "be5acfcc025169f2a5d2f1f42c6f0bfaa3f26bc4a79ece99f8de0b1efed5ee59"
   }
  }
 },
 "nbformat": 4,
 "nbformat_minor": 2
}
