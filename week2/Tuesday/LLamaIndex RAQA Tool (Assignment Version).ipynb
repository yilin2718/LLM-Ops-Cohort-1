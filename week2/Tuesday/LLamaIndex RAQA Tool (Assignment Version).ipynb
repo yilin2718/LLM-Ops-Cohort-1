{
 "cells": [
  {
   "cell_type": "markdown",
   "metadata": {},
   "source": [
    "# Creating a more robust RAQA system using LlamaIndex\n",
    "\n",
    "We'll be putting together a system for querying both qualitative and quantitative data using LlamaIndex. \n",
    "\n",
    "To stick to a theme, we'll continue to use BarbenHeimer data as our base - but this can, and should, be extended to other topics/domains.\n",
    "\n",
    "# Build 🏗️\n",
    "There are 3 main tasks in this notebook:\n",
    "\n",
    "- Create a Qualitative VectorStore query engine\n",
    "- Create a quantitative NLtoSQL query engine\n",
    "- Combine the two using LlamaIndex's OpenAI agent framework.\n",
    "\n",
    "# Ship 🚢\n",
    "Create an host a Gradio or Chainlit application to serve your project on Hugging Face spaces.\n",
    "\n",
    "# Share 🚀\n",
    "Make a social media post about your final application and tag @AIMakerspace"
   ]
  },
  {
   "cell_type": "markdown",
   "metadata": {},
   "source": [
    "### A note on terminology:\n",
    "\n",
    "You'll notice that there are quite a few similarities between LangChain and LlamaIndex. LlamaIndex can largely be thought of as an extension to LangChain, in some ways - but they moved some of the language around. Let's spend a few moments disambiguating the language.\n",
    "\n",
    "- `QueryEngine` -> `RetrievalQA`:\n",
    "  -  `QueryEngine` is just LlamaIndex's way of indicating something is an LLM \"chain\" on top of a retrieval system\n",
    "- `OpenAIAgent` vs. `ZeroShotAgent`:\n",
    "  - The two agents have the same fundamental pattern: Decide which of a list of tools to use to answer a user's query.\n",
    "  - `OpenAIAgent` (LlamaIndex's primary agent) does not need to rely on an agent excecutor due to the fact that it is leveraging OpenAI's [functional api](https://openai.com/blog/function-calling-and-other-api-updates) which allows the agent to interface \"directly\" with the tools instead of operating through an intermediary application process.\n",
    "\n",
    "There is, however, a much large terminological difference when it comes to discussing data.\n",
    "\n",
    "##### Nodes vs. Documents\n",
    "\n",
    "As you're aware of from the previous weeks assignments, there's an idea of `documents` in NLP which refers to text objects that exist within a corpus of documents.\n",
    "\n",
    "LlamaIndex takes this a step further and reclassifies `documents` as `nodes`. Confusingly, it refers to the `Source Document` as simply `Documents`.\n",
    "\n",
    "The `Document` -> `node` structure is, almost exactly, equivalent to the `Source Document` -> `Document` structure found in LangChain - but the new terminology comes with some clarity about different structure-indices. \n",
    "\n",
    "We won't be leveraging those structured indicies today, but we will be leveraging a \"benefit\" of the `node` structure that exists as a default in LlamaIndex, which is the ability to quickly filter nodes based on their metadata.\n",
    "\n",
    "![image](https://i.imgur.com/B1QDjs5.png)"
   ]
  },
  {
   "cell_type": "markdown",
   "metadata": {},
   "source": [
    "### BOILERPLATE\n",
    "\n",
    "This is only relevant when running the code in a Jupyter Notebook."
   ]
  },
  {
   "cell_type": "code",
   "execution_count": 26,
   "metadata": {},
   "outputs": [],
   "source": [
    "import nest_asyncio\n",
    "\n",
    "nest_asyncio.apply()\n",
    "\n",
    "import logging\n",
    "import sys\n",
    "\n",
    "logging.basicConfig(stream=sys.stdout, level=logging.INFO)\n",
    "logging.getLogger().addHandler(logging.StreamHandler(stream=sys.stdout))"
   ]
  },
  {
   "cell_type": "markdown",
   "metadata": {},
   "source": [
    "### Primary Dependencies and Context Setting"
   ]
  },
  {
   "cell_type": "markdown",
   "metadata": {},
   "source": [
    "#### Dependencies and OpenAI API key setting\n",
    "\n",
    "First of all, we'll need our primary libraries - and to set up our OpenAI API key."
   ]
  },
  {
   "cell_type": "code",
   "execution_count": 5,
   "metadata": {},
   "outputs": [],
   "source": [
    "!pip install -U -q openai==0.27.8 llama-index==0.8.6 nltk==3.8.1"
   ]
  },
  {
   "cell_type": "code",
   "execution_count": 27,
   "metadata": {},
   "outputs": [],
   "source": [
    "import os\n",
    "import getpass\n",
    "\n",
    "os.environ[\"OPENAI_API_KEY\"] = getpass.getpass(\"OpenAI API Key: \")\n",
    "\n",
    "import openai\n",
    "openai.api_key = os.environ[\"OPENAI_API_KEY\"]"
   ]
  },
  {
   "cell_type": "markdown",
   "metadata": {},
   "source": [
    "#### Context Setting\n",
    "\n",
    "Now, LlamaIndex has the ability to set `ServiceContext`. You can think of this as a config file of sorts. The basic idea here is that we use this to establish some core properties and then can pass it to various services. \n",
    "\n",
    "While we could set this up as a global context, we're going to leave it as `ServiceContext` so we can see where it's applied.\n",
    "\n",
    "We'll set a few significant contexts:\n",
    "\n",
    "- `chunk_size` - this is what it says on the tin\n",
    "- `llm` - this is where we can set what model we wish to use as our primary LLM when we're making `QueryEngine`s and more\n",
    "- `embed_model` - this will help us keep our embedding model consistent across use cases\n",
    "\n",
    "\n",
    "We'll also create some resources we're going to keep consistent across all of our indices today.\n",
    "\n",
    "- `text_splitter` - This is what we'll use to split our text, feel free to experiment here\n",
    "- `SimpleNodeParser` - This is what will work in tandem with the `text_splitter` to parse our full sized documents into nodes."
   ]
  },
  {
   "cell_type": "code",
   "execution_count": 17,
   "metadata": {},
   "outputs": [],
   "source": [
    "from llama_index import ServiceContext\n",
    "from llama_index.node_parser.simple import SimpleNodeParser\n",
    "from llama_index.langchain_helpers.text_splitter import TokenTextSplitter\n",
    "from llama_index.llms import OpenAI\n",
    "from llama_index.embeddings.openai import OpenAIEmbedding\n",
    "\n",
    "embed_model = OpenAIEmbedding()\n",
    "chunk_size = 1000 ### YOUR CODE HERE\n",
    "llm = OpenAI(\n",
    "    temperature=0, \n",
    "    model=\"gpt-3.5-turbo\", \n",
    "    streaming=True\n",
    ")\n",
    "\n",
    "service_context = ServiceContext.from_defaults(\n",
    "    llm=llm, ### YOUR CODE HERE, \n",
    "    chunk_size=chunk_size,### YOUR CODE HERE, \n",
    "    embed_model=embed_model### YOUR CODE HERE\n",
    ")\n",
    "\n",
    "text_splitter = TokenTextSplitter(\n",
    "    chunk_size=chunk_size### YOUR CODE HERE\n",
    ")\n",
    "\n",
    "node_parser = SimpleNodeParser(\n",
    "    text_splitter=text_splitter### YOUR CODE HERE\n",
    ")"
   ]
  },
  {
   "cell_type": "markdown",
   "metadata": {},
   "source": []
  },
  {
   "cell_type": "markdown",
   "metadata": {},
   "source": [
    "### BarbenHeimer Wikipedia Retrieval Tool\n",
    "\n",
    "Now we can get to work creating our semantic `QueryEngine`!\n",
    "\n",
    "We'll follow a similar pattern as we did with LangChain here - and the first step (as always) is to get dependencies."
   ]
  },
  {
   "cell_type": "code",
   "execution_count": 7,
   "metadata": {},
   "outputs": [],
   "source": [
    "!pip install -U -q chromadb==0.4.6 tiktoken==0.4.0 sentence-transformers==2.2.2 pydantic==1.10.11"
   ]
  },
  {
   "cell_type": "code",
   "execution_count": 18,
   "metadata": {},
   "outputs": [],
   "source": [
    "from llama_index import VectorStoreIndex\n",
    "from llama_index.vector_stores import ChromaVectorStore\n",
    "from llama_index.storage.storage_context import StorageContext\n",
    "import chromadb"
   ]
  },
  {
   "cell_type": "markdown",
   "metadata": {},
   "source": [
    "#### ChromaDB\n",
    "\n",
    "We'll be using [ChromaDB](https://www.trychroma.com/) as our `VectorStore` today!\n",
    "\n",
    "It works in a similar fashion to tools like Pinecone, Weaveate, and more - but it's locally hosted and will serve our purposes fine.\n",
    "\n",
    "You'll also notice the return of `OpenAIEmbedding()`, which is the embeddings model we'll be leveraging. Of course, this is using the `ada` model under the hood - and already comes equipped with in-memory caching.\n",
    "\n",
    "You'll notice we can pass our `service_context` into our `VectorStoreIndex`!"
   ]
  },
  {
   "cell_type": "code",
   "execution_count": 21,
   "metadata": {},
   "outputs": [],
   "source": []
  },
  {
   "cell_type": "code",
   "execution_count": 28,
   "metadata": {},
   "outputs": [
    {
     "name": "stdout",
     "output_type": "stream",
     "text": [
      "INFO:chromadb.telemetry.posthog:Anonymized telemetry enabled. See https://docs.trychroma.com/telemetry for more information.\n",
      "Anonymized telemetry enabled. See https://docs.trychroma.com/telemetry for more information.\n",
      "Anonymized telemetry enabled. See https://docs.trychroma.com/telemetry for more information.\n",
      "Anonymized telemetry enabled. See https://docs.trychroma.com/telemetry for more information.\n"
     ]
    },
    {
     "ename": "ValueError",
     "evalue": "Collection wikipedia_barbie_opp already exists.",
     "output_type": "error",
     "traceback": [
      "\u001b[0;31m---------------------------------------------------------------------------\u001b[0m",
      "\u001b[0;31mValueError\u001b[0m                                Traceback (most recent call last)",
      "Cell \u001b[0;32mIn[28], line 2\u001b[0m\n\u001b[1;32m      1\u001b[0m chroma_client \u001b[38;5;241m=\u001b[39m chromadb\u001b[38;5;241m.\u001b[39mClient()\n\u001b[0;32m----> 2\u001b[0m chroma_collection \u001b[38;5;241m=\u001b[39m chroma_client\u001b[38;5;241m.\u001b[39mcreate_collection(\u001b[38;5;124m\"\u001b[39m\u001b[38;5;124mwikipedia_barbie_opp\u001b[39m\u001b[38;5;124m\"\u001b[39m)\n\u001b[1;32m      4\u001b[0m vector_store \u001b[38;5;241m=\u001b[39m ChromaVectorStore(chroma_collection\u001b[38;5;241m=\u001b[39mchroma_collection)\n\u001b[1;32m      5\u001b[0m storage_context \u001b[38;5;241m=\u001b[39m StorageContext\u001b[38;5;241m.\u001b[39mfrom_defaults(vector_store\u001b[38;5;241m=\u001b[39mvector_store)\n",
      "File \u001b[0;32m~/miniforge3/envs/raqa_llm/lib/python3.11/site-packages/chromadb/api/segment.py:122\u001b[0m, in \u001b[0;36mSegmentAPI.create_collection\u001b[0;34m(self, name, metadata, embedding_function, get_or_create)\u001b[0m\n\u001b[1;32m    114\u001b[0m         \u001b[39mreturn\u001b[39;00m Collection(\n\u001b[1;32m    115\u001b[0m             client\u001b[39m=\u001b[39m\u001b[39mself\u001b[39m,\n\u001b[1;32m    116\u001b[0m             \u001b[39mid\u001b[39m\u001b[39m=\u001b[39mexisting[\u001b[39m0\u001b[39m][\u001b[39m\"\u001b[39m\u001b[39mid\u001b[39m\u001b[39m\"\u001b[39m],\n\u001b[0;32m   (...)\u001b[0m\n\u001b[1;32m    119\u001b[0m             embedding_function\u001b[39m=\u001b[39membedding_function,\n\u001b[1;32m    120\u001b[0m         )\n\u001b[1;32m    121\u001b[0m     \u001b[39melse\u001b[39;00m:\n\u001b[0;32m--> 122\u001b[0m         \u001b[39mraise\u001b[39;00m \u001b[39mValueError\u001b[39;00m(\u001b[39mf\u001b[39m\u001b[39m\"\u001b[39m\u001b[39mCollection \u001b[39m\u001b[39m{\u001b[39;00mname\u001b[39m}\u001b[39;00m\u001b[39m already exists.\u001b[39m\u001b[39m\"\u001b[39m)\n\u001b[1;32m    124\u001b[0m \u001b[39m# TODO: remove backwards compatibility in naming requirements\u001b[39;00m\n\u001b[1;32m    125\u001b[0m check_index_name(name)\n",
      "\u001b[0;31mValueError\u001b[0m: Collection wikipedia_barbie_opp already exists."
     ]
    }
   ],
   "source": [
    "chroma_client = chromadb.Client()\n",
    "chroma_collection = chroma_client.create_collection(\"wikipedia_barbie_opp\")\n",
    "\n",
    "vector_store = ChromaVectorStore(chroma_collection=chroma_collection)\n",
    "storage_context = StorageContext.from_defaults(vector_store=vector_store)\n",
    "wiki_vector_index = VectorStoreIndex([], storage_context=storage_context, service_context=service_context)\n",
    "\n"
   ]
  },
  {
   "cell_type": "code",
   "execution_count": 23,
   "metadata": {},
   "outputs": [],
   "source": [
    "!pip install -U -q wikipedia"
   ]
  },
  {
   "cell_type": "markdown",
   "metadata": {},
   "source": [
    "Essentially the same as the LangChain example - we're just going to be pulling information straight from Wikipedia using the built in `WikipediaReader`.\n",
    "\n",
    "Setting `auto_suggest=False` ensures we run into fewer auto-correct based errors."
   ]
  },
  {
   "cell_type": "code",
   "execution_count": 29,
   "metadata": {},
   "outputs": [],
   "source": [
    "from llama_index.readers.wikipedia import WikipediaReader\n",
    "\n",
    "movie_list = [\"Barbie (film)\", \"Oppenheimer (film)\"]\n",
    "\n",
    "wiki_docs = WikipediaReader().load_data(pages=movie_list, auto_suggest=False)"
   ]
  },
  {
   "cell_type": "markdown",
   "metadata": {},
   "source": [
    "#### Node Construction\n",
    "\n",
    "Now we will loop through our documents and metadata and construct nodes (associated with particular metadata for easy filtration later).\n",
    "\n",
    "We're using the `node_parser` we created at the top of the Notebook."
   ]
  },
  {
   "cell_type": "code",
   "execution_count": 30,
   "metadata": {},
   "outputs": [],
   "source": [
    "for movie, wiki_doc in zip(movie_list, wiki_docs):\n",
    "    nodes = node_parser.get_nodes_from_documents([wiki_doc])\n",
    "    for node in nodes:\n",
    "        node.metadata = {\"title\" : movie} \n",
    "    wiki_vector_index.insert_nodes(nodes)\n",
    "\n",
    "#https://gpt-index.readthedocs.io/en/stable/api_reference/indices/vector_store.html"
   ]
  },
  {
   "cell_type": "markdown",
   "metadata": {},
   "source": [
    "#### Auto Retriever Functional Tool\n",
    "\n",
    "This tool will leverage OpenAI's functional endpoint to select the correct metadata filter and query the filtered index - only looking at nodes with the desired metadata.\n",
    "\n",
    "A simplified diagram: ![image](https://i.imgur.com/AICDPav.png)"
   ]
  },
  {
   "cell_type": "markdown",
   "metadata": {},
   "source": [
    "First, we need to create our `VectoreStoreInfo` object which will hold all the relevant metadata we need for each component (in this case title metadata).\n",
    "\n",
    "Notice that you need to include it in a text list."
   ]
  },
  {
   "cell_type": "code",
   "execution_count": 32,
   "metadata": {},
   "outputs": [],
   "source": [
    "from llama_index.tools import FunctionTool\n",
    "from llama_index.vector_stores.types import (\n",
    "    VectorStoreInfo,\n",
    "    MetadataInfo,\n",
    "    ExactMatchFilter,\n",
    "    MetadataFilters,\n",
    ")\n",
    "from llama_index.retrievers import VectorIndexRetriever\n",
    "from llama_index.query_engine import RetrieverQueryEngine\n",
    "\n",
    "from typing import List, Tuple, Any\n",
    "from pydantic import BaseModel, Field\n",
    "\n",
    "top_k = 3\n",
    "\n",
    "vector_store_info = VectorStoreInfo(\n",
    "    content_info=\"semantic information about movies\",\n",
    "    metadata_info=[MetadataInfo(\n",
    "        name=\"title\",\n",
    "        type=\"str\",\n",
    "        description=\"title of the movie, one of [Barbie (film), Oppenheimer (film)]\",\n",
    "    )]\n",
    ")"
   ]
  },
  {
   "cell_type": "markdown",
   "metadata": {},
   "source": [
    "Now we'll create our base PyDantic object that we can use to ensure compatability with our application layer. This verifies that the response from the OpenAI endpoint conforms to this schema."
   ]
  },
  {
   "cell_type": "code",
   "execution_count": 33,
   "metadata": {},
   "outputs": [],
   "source": [
    "class AutoRetrieveModel(BaseModel):\n",
    "    query: str = Field(..., description=\"natural language query string\")\n",
    "    filter_key_list: List[str] = Field(\n",
    "        ..., description=\"List of metadata filter field names\"\n",
    "    )\n",
    "    filter_value_list: List[str] = Field(\n",
    "        ...,\n",
    "        description=(\n",
    "            \"List of metadata filter field values (corresponding to names specified in filter_key_list)\"\n",
    "        )\n",
    "    )"
   ]
  },
  {
   "cell_type": "markdown",
   "metadata": {},
   "source": [
    "Now we can build our function that we will use to query the functional endpoint.\n",
    "\n",
    ">The `docstring` is important to the functionality of the application."
   ]
  },
  {
   "cell_type": "code",
   "execution_count": 34,
   "metadata": {},
   "outputs": [],
   "source": [
    "def auto_retrieve_fn(\n",
    "    query: str, filter_key_list: List[str], filter_value_list: List[str]\n",
    "):\n",
    "    \"\"\"Auto retrieval function.\n",
    "\n",
    "    Performs auto-retrieval from a vector database, and then applies a set of filters.\n",
    "\n",
    "    \"\"\"\n",
    "    query = query or \"Query\"\n",
    "\n",
    "    exact_match_filters = [\n",
    "        ExactMatchFilter(key=k, value=v)\n",
    "        for k, v in zip(filter_key_list, filter_value_list)\n",
    "    ]\n",
    "    retriever = VectorIndexRetriever(\n",
    "        wiki_vector_index, filters=MetadataFilters(filters=exact_match_filters), top_k=top_k\n",
    "    )\n",
    "    query_engine = RetrieverQueryEngine.from_args(retriever)\n",
    "\n",
    "    response = query_engine.query(query)\n",
    "    return str(response)"
   ]
  },
  {
   "cell_type": "markdown",
   "metadata": {},
   "source": [
    "Now we need to wrap our system in a tool in order to integrate it into the larger application.\n",
    "\n",
    "Source Code Here:\n",
    "- [`FunctionTool`](https://github.com/jerryjliu/llama_index/blob/d24767b0812ac56104497d8f59095eccbe9f2b08/llama_index/tools/function_tool.py#L21)"
   ]
  },
  {
   "cell_type": "code",
   "execution_count": 36,
   "metadata": {},
   "outputs": [
    {
     "data": {
      "text/plain": [
       "[MetadataInfo(name='title', type='str', description='title of the movie, one of [Barbie (film), Oppenheimer (film)]')]"
      ]
     },
     "execution_count": 36,
     "metadata": {},
     "output_type": "execute_result"
    }
   ],
   "source": [
    "vector_store_info.metadata_info"
   ]
  },
  {
   "cell_type": "code",
   "execution_count": 39,
   "metadata": {},
   "outputs": [],
   "source": [
    "## these description are important \n",
    "description = f\"\"\"\\  \n",
    "Use this tool to look up semantic information about films.\n",
    "The vector database schema is given below:\n",
    "{vector_store_info.json()}\n",
    "\"\"\"\n",
    "\n",
    "auto_retrieve_tool = FunctionTool.from_defaults(\n",
    "    fn=auto_retrieve_fn, # YOUR CODE HERE,\n",
    "    name=\"AutoRetrieve\",# YOUR CODE HERE,\n",
    "    description=description,# YOUR CODE HERE,\n",
    "    fn_schema=AutoRetrieveModel# YOUR CODE HERE,\n",
    ")"
   ]
  },
  {
   "cell_type": "markdown",
   "metadata": {},
   "source": [
    "All that's left to do is attach the tool to an OpenAIAgent and let it rip!\n",
    "\n",
    "Source Code Here:\n",
    "- [`OpenAIAgent`](https://github.com/jerryjliu/llama_index/blob/d24767b0812ac56104497d8f59095eccbe9f2b08/llama_index/agent/openai_agent.py#L361)"
   ]
  },
  {
   "cell_type": "code",
   "execution_count": 41,
   "metadata": {},
   "outputs": [],
   "source": [
    "from llama_index.agent import OpenAIAgent\n",
    "\n",
    "agent = OpenAIAgent.from_tools([auto_retrieve_tool], llm=llm, verbose=True)\n"
   ]
  },
  {
   "cell_type": "code",
   "execution_count": 42,
   "metadata": {},
   "outputs": [
    {
     "name": "stdout",
     "output_type": "stream",
     "text": [
      "=== Calling Function ===\n",
      "Calling function: AutoRetrieve with args: {\n",
      "  \"query\": \"Barbie movie\",\n",
      "  \"filter_key_list\": [\"title\"],\n",
      "  \"filter_value_list\": [\"Barbie (film)\"]\n",
      "}\n",
      "Got output: Barbie is a 2023 American fantasy comedy film directed by Greta Gerwig. It is the first live-action Barbie film based on the Barbie fashion dolls by Mattel. The film follows Barbie and Ken on a journey of self-discovery after Barbie experiences an existential crisis. The film received critical acclaim and has become the second-highest-grossing film of 2023.\n",
      "========================\n",
      "In the Barbie movie, Barbie and Ken go on a journey of self-discovery after Barbie experiences an existential crisis. The film is a fantasy comedy and has received critical acclaim. It is the first live-action Barbie film based on the Barbie fashion dolls by Mattel.\n"
     ]
    }
   ],
   "source": [
    "response = agent.chat(\"Tell me what happens (briefly) in the Barbie movie.\")\n",
    "print(str(response))"
   ]
  },
  {
   "cell_type": "markdown",
   "metadata": {},
   "source": [
    "### BarbenHeimer SQL Tool\n",
    "\n",
    "We'll walk through the steps of creating a natural language to SQL system in the following section.\n",
    "\n",
    "> NOTICE: This does not have parsing on the inputs or intermediary calls to ensure that users are using safe SQL queries. Use this with caution in a production environment without adding specific guardrails from either side of the application."
   ]
  },
  {
   "cell_type": "code",
   "execution_count": 43,
   "metadata": {},
   "outputs": [],
   "source": [
    "!pip install -q -U sqlalchemy pandas"
   ]
  },
  {
   "cell_type": "markdown",
   "metadata": {},
   "source": [
    "The next few steps should be largely straightforward, we'll want to:\n",
    "\n",
    "1. Read in our `.csv` files into `pd.DataFrame` objects\n",
    "2. Create an in-memory `sqlite` powered `sqlalchemy` engine\n",
    "3. Cast our `pd.DataFrame` objects to the SQL engine\n",
    "4. Create an `SQLDatabase` object through LlamaIndex\n",
    "5. Use that to create a `QueryEngineTool` that we can interact with through the `NLSQLTableQueryEngine`!\n",
    "\n",
    "If you get stuck, please consult the documentation."
   ]
  },
  {
   "cell_type": "markdown",
   "metadata": {},
   "source": [
    "#### Read `.csv` Into Pandas"
   ]
  },
  {
   "cell_type": "code",
   "execution_count": 45,
   "metadata": {},
   "outputs": [],
   "source": [
    "import pandas as pd\n",
    "\n",
    "barbie_df = pd.read_csv('./barbie_data/barbie.csv')# YOUR CODE HERE\n",
    "oppenheimer_df = pd.read_csv('./oppenheimer_data/oppenheimer.csv')# YOUR CODE HERE"
   ]
  },
  {
   "cell_type": "markdown",
   "metadata": {},
   "source": [
    "#### Create SQLAlchemy engine with SQLite"
   ]
  },
  {
   "cell_type": "code",
   "execution_count": 46,
   "metadata": {},
   "outputs": [],
   "source": [
    "from sqlalchemy import create_engine\n",
    "\n",
    "engine = create_engine(\"sqlite+pysqlite:///:memory:\")"
   ]
  },
  {
   "cell_type": "markdown",
   "metadata": {},
   "source": [
    "#### Convert `pd.DataFrame` to SQL tables"
   ]
  },
  {
   "cell_type": "code",
   "execution_count": 47,
   "metadata": {},
   "outputs": [
    {
     "data": {
      "text/plain": [
       "125"
      ]
     },
     "execution_count": 47,
     "metadata": {},
     "output_type": "execute_result"
    }
   ],
   "source": [
    "barbie_df.to_sql('barbie', con=engine, if_exists='append')"
   ]
  },
  {
   "cell_type": "code",
   "execution_count": 48,
   "metadata": {},
   "outputs": [
    {
     "data": {
      "text/plain": [
       "150"
      ]
     },
     "execution_count": 48,
     "metadata": {},
     "output_type": "execute_result"
    }
   ],
   "source": [
    "oppenheimer_df.to_sql('oppenheimer', con=engine, if_exists='append')"
   ]
  },
  {
   "cell_type": "markdown",
   "metadata": {},
   "source": [
    "#### Construct a `SQLDatabase` index\n",
    "\n",
    "Source Code Here:\n",
    "- [`SQLDatabase`](https://github.com/jerryjliu/llama_index/blob/d24767b0812ac56104497d8f59095eccbe9f2b08/llama_index/langchain_helpers/sql_wrapper.py#L9)"
   ]
  },
  {
   "cell_type": "code",
   "execution_count": 49,
   "metadata": {},
   "outputs": [],
   "source": [
    "from llama_index import SQLDatabase\n",
    "\n",
    "sql_database = SQLDatabase(\n",
    "    engine,\n",
    "    include_tables=['barbie','oppenheimer'])\n",
    "\n",
    "#https://github.com/jerryjliu/llama_index/blob/main/docs/examples/index_structs/struct_indices/SQLIndexDemo.ipynb"
   ]
  },
  {
   "cell_type": "code",
   "execution_count": 51,
   "metadata": {},
   "outputs": [
    {
     "data": {
      "text/plain": [
       "'\\nCREATE TABLE barbie (\\n\\t\"index\" BIGINT, \\n\\t\"Unnamed: 0\" BIGINT, \\n\\t\"Review_Date\" TEXT, \\n\\t\"Author\" TEXT, \\n\\t\"Rating\" FLOAT, \\n\\t\"Review_Title\" TEXT, \\n\\t\"Review\" TEXT, \\n\\t\"Review_Url\" TEXT\\n)\\n\\n/*\\n3 rows from barbie table:\\nindex\\tUnnamed: 0\\tReview_Date\\tAuthor\\tRating\\tReview_Title\\tReview\\tReview_Url\\n0\\t0\\t21 July 2023\\tLoveofLegacy\\t6.0\\t Beautiful film, but so preachy\\n\\tMargot does the best with what she\\'s given, but this film was very disappointing to me. It was marke\\t/review/rw9199947/?ref_=tt_urv\\n1\\t1\\t22 July 2023\\timseeg\\t7.0\\t 3 reasons FOR seeing it and 1 reason AGAINST.\\n\\tThe first reason to go see it:\\t/review/rw9199947/?ref_=tt_urv\\n2\\t2\\t22 July 2023\\tNatcat87\\t6.0\\t Too heavy handed\\n\\tAs a woman that grew up with Barbie, I was very excited for this movie. I was curious to see how the\\t/review/rw9199947/?ref_=tt_urv\\n*/\\n\\n\\nCREATE TABLE oppenheimer (\\n\\t\"index\" BIGINT, \\n\\t\"Unnamed: 0\" BIGINT, \\n\\t\"Review_Date\" TEXT, \\n\\t\"Author\" TEXT, \\n\\t\"Rating\" FLOAT, \\n\\t\"Review_Title\" TEXT, \\n\\t\"Review\" TEXT, \\n\\t\"Review_Url\" TEXT\\n)\\n\\n/*\\n3 rows from oppenheimer table:\\nindex\\tUnnamed: 0\\tReview_Date\\tAuthor\\tRating\\tReview_Title\\tReview\\tReview_Url\\n0\\t0\\t19 July 2023\\tOrlando_Gardner\\t9.0\\t Murphy is exceptional\\n\\tYou\\'ll have to have your wits about you and your brain fully switched on watching Oppenheimer as it \\t/review/rw9199470/?ref_=tt_urv\\n1\\t1\\t20 July 2023\\tJeremy_Urquhart\\t8.0\\t A challenging watch to be sure, but a worthwhile one.\\n\\tOne of the most anticipated films of the year for many people, myself included, Oppenheimer largely \\t/review/rw9202448/?ref_=tt_urv\\n2\\t2\\t20 July 2023\\tMrDHWong\\t10.0\\t A brilliantly layered examination of a man throughout all of his incredible accomplishments and fun\\t\"Oppenheimer\" is a biographical thriller film written and directed by Christopher Nolan (\"The Dark K\\t/review/rw9202246/?ref_=tt_urv\\n*/'"
      ]
     },
     "execution_count": 51,
     "metadata": {},
     "output_type": "execute_result"
    }
   ],
   "source": [
    "sql_database.table_info"
   ]
  },
  {
   "cell_type": "markdown",
   "metadata": {},
   "source": [
    "#### Create the NLSQLTableQueryEngine interface for all added SQL tables\n",
    "\n",
    "Source Code Here:\n",
    "- [`NLSQLTableQueryEngine`](https://github.com/jerryjliu/llama_index/blob/d24767b0812ac56104497d8f59095eccbe9f2b08/llama_index/indices/struct_store/sql_query.py#L75C1-L75C1)"
   ]
  },
  {
   "cell_type": "code",
   "execution_count": 52,
   "metadata": {},
   "outputs": [],
   "source": [
    "from llama_index.indices.struct_store.sql_query import NLSQLTableQueryEngine\n",
    "\n",
    "sql_query_engine = NLSQLTableQueryEngine(\n",
    "    sql_database=sql_database,#\n",
    "    tables=['barbie','oppenheimer']# \n",
    ")"
   ]
  },
  {
   "cell_type": "markdown",
   "metadata": {},
   "source": [
    "#### Wrap It All Up in a `QueryEngineTool`\n",
    "\n",
    "You'll want to ensure you have a descriptive...description. \n",
    "\n",
    "An example is provided here:\n",
    "\n",
    "```\n",
    "\"Useful for translating a natural language query into a SQL query over a table containing: \"\n",
    "\"barbie, containing information related to reviews of the Barbie movie\"\n",
    "\"oppenheimer, containing information related to reviews of the Oppenheimer movie\"\n",
    "```\n",
    "\n",
    "Sorce Code Here: \n",
    "\n",
    "- [`QueryEngineTool`](https://github.com/jerryjliu/llama_index/blob/d24767b0812ac56104497d8f59095eccbe9f2b08/llama_index/tools/query_engine.py#L13)"
   ]
  },
  {
   "cell_type": "code",
   "execution_count": 53,
   "metadata": {},
   "outputs": [],
   "source": [
    "from llama_index.tools.query_engine import QueryEngineTool\n",
    "\n",
    "sql_tool = QueryEngineTool.from_defaults(\n",
    "    query_engine=sql_query_engine,# YOUR CODE HERE,\n",
    "    name='sql',# Add a name here,\n",
    "    description=(\n",
    "        \"Useful for translating a natural language query into a SQL query over a table containing: \"\n",
    "        \"barbie, containing information related to reviews of the Barbie movie\"\n",
    "        \"oppenheimer, containing information related to reviews of the Oppenheimer movie\"\n",
    "# Add a natural language description here\n",
    "    ),\n",
    "\n",
    ")"
   ]
  },
  {
   "cell_type": "code",
   "execution_count": 55,
   "metadata": {},
   "outputs": [],
   "source": [
    "agent = OpenAIAgent.from_tools([sql_tool], llm=llm, verbose=True)"
   ]
  },
  {
   "cell_type": "code",
   "execution_count": 56,
   "metadata": {},
   "outputs": [
    {
     "name": "stdout",
     "output_type": "stream",
     "text": [
      "=== Calling Function ===\n",
      "Calling function: sql with args: {\n",
      "  \"input\": \"SELECT AVG(rating) AS average_rating FROM barbie UNION SELECT AVG(rating) AS average_rating FROM oppenheimer\"\n",
      "}\n",
      "INFO:llama_index.indices.struct_store.sql_query:> Table desc str: Table 'barbie' has columns: index (BIGINT), Unnamed: 0 (BIGINT), Review_Date (TEXT), Author (TEXT), Rating (FLOAT), Review_Title (TEXT), Review (TEXT), Review_Url (TEXT), and foreign keys: .\n",
      "\n",
      "Table 'oppenheimer' has columns: index (BIGINT), Unnamed: 0 (BIGINT), Review_Date (TEXT), Author (TEXT), Rating (FLOAT), Review_Title (TEXT), Review (TEXT), Review_Url (TEXT), and foreign keys: .\n",
      "> Table desc str: Table 'barbie' has columns: index (BIGINT), Unnamed: 0 (BIGINT), Review_Date (TEXT), Author (TEXT), Rating (FLOAT), Review_Title (TEXT), Review (TEXT), Review_Url (TEXT), and foreign keys: .\n",
      "\n",
      "Table 'oppenheimer' has columns: index (BIGINT), Unnamed: 0 (BIGINT), Review_Date (TEXT), Author (TEXT), Rating (FLOAT), Review_Title (TEXT), Review (TEXT), Review_Url (TEXT), and foreign keys: .\n",
      "> Table desc str: Table 'barbie' has columns: index (BIGINT), Unnamed: 0 (BIGINT), Review_Date (TEXT), Author (TEXT), Rating (FLOAT), Review_Title (TEXT), Review (TEXT), Review_Url (TEXT), and foreign keys: .\n",
      "\n",
      "Table 'oppenheimer' has columns: index (BIGINT), Unnamed: 0 (BIGINT), Review_Date (TEXT), Author (TEXT), Rating (FLOAT), Review_Title (TEXT), Review (TEXT), Review_Url (TEXT), and foreign keys: .\n",
      "> Table desc str: Table 'barbie' has columns: index (BIGINT), Unnamed: 0 (BIGINT), Review_Date (TEXT), Author (TEXT), Rating (FLOAT), Review_Title (TEXT), Review (TEXT), Review_Url (TEXT), and foreign keys: .\n",
      "\n",
      "Table 'oppenheimer' has columns: index (BIGINT), Unnamed: 0 (BIGINT), Review_Date (TEXT), Author (TEXT), Rating (FLOAT), Review_Title (TEXT), Review (TEXT), Review_Url (TEXT), and foreign keys: .\n",
      "Got output: The average rating for the Barbie dataset is 7.36, while the average rating for the Oppenheimer dataset is 8.35.\n",
      "========================\n"
     ]
    }
   ],
   "source": [
    "response = agent.chat(\"What is the average rating of the two films?\")"
   ]
  },
  {
   "cell_type": "code",
   "execution_count": 57,
   "metadata": {},
   "outputs": [
    {
     "name": "stdout",
     "output_type": "stream",
     "text": [
      "The average rating of the two films is 7.36 for Barbie and 8.35 for Oppenheimer.\n"
     ]
    }
   ],
   "source": [
    "print(str(response))"
   ]
  },
  {
   "cell_type": "markdown",
   "metadata": {},
   "source": [
    "### Combining The Tools Together\n",
    "\n",
    "Now, we can simple add our tools into the `OpenAIAgent`, and off we go!"
   ]
  },
  {
   "cell_type": "code",
   "execution_count": 58,
   "metadata": {},
   "outputs": [],
   "source": [
    "barbenheimer_agent = OpenAIAgent.from_tools([auto_retrieve_tool, sql_tool], llm=llm, verbose=True\n",
    "    ### YOUR CODE HERE\n",
    ")"
   ]
  },
  {
   "cell_type": "code",
   "execution_count": 59,
   "metadata": {},
   "outputs": [
    {
     "name": "stdout",
     "output_type": "stream",
     "text": [
      "=== Calling Function ===\n",
      "Calling function: sql with args: {\n",
      "  \"input\": \"SELECT MIN(rating) AS lowest_rating, review FROM barbie UNION SELECT MIN(rating) AS lowest_rating, review FROM oppenheimer\"\n",
      "}\n",
      "INFO:llama_index.indices.struct_store.sql_query:> Table desc str: Table 'barbie' has columns: index (BIGINT), Unnamed: 0 (BIGINT), Review_Date (TEXT), Author (TEXT), Rating (FLOAT), Review_Title (TEXT), Review (TEXT), Review_Url (TEXT), and foreign keys: .\n",
      "\n",
      "Table 'oppenheimer' has columns: index (BIGINT), Unnamed: 0 (BIGINT), Review_Date (TEXT), Author (TEXT), Rating (FLOAT), Review_Title (TEXT), Review (TEXT), Review_Url (TEXT), and foreign keys: .\n",
      "> Table desc str: Table 'barbie' has columns: index (BIGINT), Unnamed: 0 (BIGINT), Review_Date (TEXT), Author (TEXT), Rating (FLOAT), Review_Title (TEXT), Review (TEXT), Review_Url (TEXT), and foreign keys: .\n",
      "\n",
      "Table 'oppenheimer' has columns: index (BIGINT), Unnamed: 0 (BIGINT), Review_Date (TEXT), Author (TEXT), Rating (FLOAT), Review_Title (TEXT), Review (TEXT), Review_Url (TEXT), and foreign keys: .\n",
      "> Table desc str: Table 'barbie' has columns: index (BIGINT), Unnamed: 0 (BIGINT), Review_Date (TEXT), Author (TEXT), Rating (FLOAT), Review_Title (TEXT), Review (TEXT), Review_Url (TEXT), and foreign keys: .\n",
      "\n",
      "Table 'oppenheimer' has columns: index (BIGINT), Unnamed: 0 (BIGINT), Review_Date (TEXT), Author (TEXT), Rating (FLOAT), Review_Title (TEXT), Review (TEXT), Review_Url (TEXT), and foreign keys: .\n",
      "> Table desc str: Table 'barbie' has columns: index (BIGINT), Unnamed: 0 (BIGINT), Review_Date (TEXT), Author (TEXT), Rating (FLOAT), Review_Title (TEXT), Review (TEXT), Review_Url (TEXT), and foreign keys: .\n",
      "\n",
      "Table 'oppenheimer' has columns: index (BIGINT), Unnamed: 0 (BIGINT), Review_Date (TEXT), Author (TEXT), Rating (FLOAT), Review_Title (TEXT), Review (TEXT), Review_Url (TEXT), and foreign keys: .\n",
      "Got output: The lowest rating for the Barbie movie is 3.0. One review mentioned that the movie lacked science and interesting problem-solving. As for the Oppenheimer movie, it also received a lowest rating of 3.0. One review mentioned that while the production value, cinematography, and acting were good, the movie fell short in some aspects.\n",
      "========================\n"
     ]
    }
   ],
   "source": [
    "response = barbenheimer_agent.chat(\"What is the lowest rating of the two films - and can you summarize what the reviewer said?\")"
   ]
  },
  {
   "cell_type": "code",
   "execution_count": 60,
   "metadata": {},
   "outputs": [
    {
     "name": "stdout",
     "output_type": "stream",
     "text": [
      "The lowest rating for both films is 3.0. \n",
      "\n",
      "For the Barbie movie, one reviewer mentioned that it lacked science and interesting problem-solving. \n",
      "\n",
      "For the Oppenheimer movie, one reviewer mentioned that while the production value, cinematography, and acting were good, the movie fell short in some aspects.\n"
     ]
    }
   ],
   "source": [
    "print(str(response))"
   ]
  },
  {
   "cell_type": "code",
   "execution_count": 61,
   "metadata": {},
   "outputs": [
    {
     "name": "stdout",
     "output_type": "stream",
     "text": [
      "=== Calling Function ===\n",
      "Calling function: AutoRetrieve with args: {\n",
      "  \"query\": \"Barbie\",\n",
      "  \"filter_key_list\": [\"title\"],\n",
      "  \"filter_value_list\": [\"Barbie (film)\"]\n",
      "}\n",
      "Got output: Barbie is a 2023 American fantasy comedy film directed by Greta Gerwig. It is the first live-action Barbie film and is based on the Barbie fashion dolls by Mattel. The film follows Barbie and Ken on a journey of self-discovery after Barbie experiences an existential crisis. It features a supporting ensemble cast and has received critical acclaim. The film was released in July 2023 and has become the second-highest-grossing film of the year.\n",
      "========================\n",
      "=== Calling Function ===\n",
      "Calling function: AutoRetrieve with args: {\n",
      "  \"query\": \"Ken\",\n",
      "  \"filter_key_list\": [\"title\"],\n",
      "  \"filter_value_list\": [\"Barbie (film)\"]\n",
      "}\n",
      "Got output: Ken is a character in the film Barbie. He is portrayed by actor Ryan Gosling. In the film, Ken has low self-esteem and seeks approval from Barbie. He also has a power ballad, which is considered a significant moment in the movie. The casting process for the film involved looking for actors with \"Barbie energy\" to portray Ken and other characters.\n",
      "========================\n"
     ]
    }
   ],
   "source": [
    "response = barbenheimer_agent.chat(\"How many times do the Barbie reviews mention 'Ken', and what is a summary of his character in the Barbie movie?\")"
   ]
  },
  {
   "cell_type": "code",
   "execution_count": 62,
   "metadata": {},
   "outputs": [
    {
     "name": "stdout",
     "output_type": "stream",
     "text": [
      "The character of Ken is mentioned in the Barbie movie. \n",
      "\n",
      "According to the information available, Ken is portrayed by actor Ryan Gosling. In the film, Ken has low self-esteem and seeks approval from Barbie. He also has a power ballad, which is considered a significant moment in the movie. The casting process for the film involved looking for actors with \"Barbie energy\" to portray Ken and other characters.\n"
     ]
    }
   ],
   "source": [
    "print(str(response))"
   ]
  },
  {
   "cell_type": "code",
   "execution_count": 66,
   "metadata": {},
   "outputs": [
    {
     "name": "stdout",
     "output_type": "stream",
     "text": [
      "=== Calling Function ===\n",
      "Calling function: AutoRetrieve with args: {\n",
      "  \"query\": \"Barbie\",\n",
      "  \"filter_key_list\": [\"title\"],\n",
      "  \"filter_value_list\": [\"Barbie (film)\"]\n",
      "}\n",
      "Got output: Barbie is a 2023 American fantasy comedy film directed by Greta Gerwig. It is the first live-action Barbie film and is based on the Barbie fashion dolls by Mattel. The film follows Barbie and Ken on a journey of self-discovery after Barbie experiences an existential crisis. It features a supporting ensemble cast and has received critical acclaim. The film was released in July 2023 and has become one of the highest-grossing films of the year.\n",
      "========================\n",
      "=== Calling Function ===\n",
      "Calling function: AutoRetrieve with args: {\n",
      "  \"query\": \"Oppenheimer\",\n",
      "  \"filter_key_list\": [\"title\"],\n",
      "  \"filter_value_list\": [\"Oppenheimer (film)\"]\n",
      "}\n",
      "Got output: Oppenheimer is a 2023 epic biographical thriller film written and directed by Christopher Nolan. It is based on the 2005 biography American Prometheus by Kai Bird and Martin J. Sherwin. The film chronicles the career of American theoretical physicist J. Robert Oppenheimer, focusing on his studies, his role in the Manhattan Project during World War II, and his subsequent fall from grace due to a security hearing in 1954. The film stars Cillian Murphy as Oppenheimer, along with Emily Blunt, Matt Damon, Robert Downey Jr., and Florence Pugh in supporting roles. It premiered in July 2023 and received critical acclaim for its performances, screenplay, and visuals.\n",
      "========================\n"
     ]
    }
   ],
   "source": [
    "response = barbenheimer_agent.chat(\"Do Barbie and Oppenheimer share the same themes based on wikipedia? \")"
   ]
  },
  {
   "cell_type": "code",
   "execution_count": 67,
   "metadata": {},
   "outputs": [
    {
     "name": "stdout",
     "output_type": "stream",
     "text": [
      "Based on the information available, the Barbie movie and the Oppenheimer movie do not share the same themes. \n",
      "\n",
      "The Barbie movie is described as a fantasy comedy film that follows Barbie and Ken on a journey of self-discovery after Barbie experiences an existential crisis. It is based on the Barbie fashion dolls by Mattel.\n",
      "\n",
      "On the other hand, the Oppenheimer movie is an epic biographical thriller that chronicles the career of American theoretical physicist J. Robert Oppenheimer. It focuses on his studies, his role in the Manhattan Project during World War II, and his subsequent fall from grace due to a security hearing in 1954.\n",
      "\n",
      "Therefore, the themes of the two movies are different.\n"
     ]
    }
   ],
   "source": [
    "print(str(response))"
   ]
  },
  {
   "cell_type": "code",
   "execution_count": 68,
   "metadata": {},
   "outputs": [
    {
     "name": "stdout",
     "output_type": "stream",
     "text": [
      "=== Calling Function ===\n",
      "Calling function: AutoRetrieve with args: {\n",
      "  \"query\": \"Barbie\",\n",
      "  \"filter_key_list\": [\"title\"],\n",
      "  \"filter_value_list\": [\"Barbie (film)\"]\n",
      "}\n",
      "Got output: Barbie is a 2023 American fantasy comedy film directed by Greta Gerwig. It is the first live-action Barbie film and is based on the Barbie fashion dolls by Mattel. The film follows Barbie and Ken on a journey of self-discovery after Barbie experiences an existential crisis. It features a supporting ensemble cast and has received critical acclaim. The film was released in July 2023 and has become the second-highest-grossing film of the year.\n",
      "========================\n",
      "=== Calling Function ===\n",
      "Calling function: AutoRetrieve with args: {\n",
      "  \"query\": \"Oppenheimer\",\n",
      "  \"filter_key_list\": [\"title\"],\n",
      "  \"filter_value_list\": [\"Oppenheimer (film)\"]\n",
      "}\n",
      "Got output: Oppenheimer is a 2023 epic biographical thriller film written and directed by Christopher Nolan. It is based on the 2005 biography American Prometheus by Kai Bird and Martin J. Sherwin. The film chronicles the career of American theoretical physicist J. Robert Oppenheimer, focusing on his studies, his role in the Manhattan Project during World War II, and his subsequent fall from grace due to a security hearing in 1954. The film stars Cillian Murphy as Oppenheimer, along with an ensemble cast including Emily Blunt, Matt Damon, Robert Downey Jr., and Florence Pugh. It premiered in July 2023 and received critical acclaim for its performances, screenplay, and visuals.\n",
      "========================\n",
      "=== Calling Function ===\n",
      "Calling function: AutoRetrieve with args: {\n",
      "  \"query\": \"theme\",\n",
      "  \"filter_key_list\": [\"title\"],\n",
      "  \"filter_value_list\": [\"Barbie (film)\", \"Oppenheimer (film)\"]\n",
      "}\n",
      "Got output: The theme of the film Barbie is explored through various lenses, including feminism, capitalism, and existentialism. Some reviews see the film as a satire that pokes fun at capitalism, while others perceive it as a satire that cleverly uses capitalist themes. Additionally, the film delves into the idea of what makes us human and questions the concept of autonomy. Overall, the film tackles these themes in a thought-provoking and multifaceted manner.\n",
      "========================\n",
      "=== Calling Function ===\n",
      "Calling function: AutoRetrieve with args: {\n",
      "  \"query\": \"theme\",\n",
      "  \"filter_key_list\": [\"title\"],\n",
      "  \"filter_value_list\": [\"Barbie (film)\", \"Oppenheimer (film)\"]\n",
      "}\n",
      "Got output: The theme of the film Barbie is explored through various lenses, including feminism, capitalism, and existentialism. Some reviews see the film as a satire that pokes fun at capitalism, while others perceive it as a satire that cleverly uses capitalist themes. Additionally, the film delves into the idea of what makes us human and questions the concept of autonomy. Overall, the film tackles these themes in a thought-provoking and multifaceted manner.\n",
      "========================\n"
     ]
    }
   ],
   "source": [
    "response = barbenheimer_agent.chat(\"Do Barbie and Oppenheimer share the same themes based on reviews? \")"
   ]
  },
  {
   "cell_type": "code",
   "execution_count": 69,
   "metadata": {},
   "outputs": [
    {
     "name": "stdout",
     "output_type": "stream",
     "text": [
      "Based on the available information, the Barbie movie explores themes related to feminism, capitalism, and existentialism. Some reviews see the film as a satire that critiques capitalism, while others view it as a clever use of capitalist themes. The movie also delves into the concept of what makes us human and raises questions about autonomy.\n",
      "\n",
      "On the other hand, the Oppenheimer movie focuses on the life and career of J. Robert Oppenheimer, a theoretical physicist involved in the Manhattan Project during World War II. The film explores themes such as scientific discovery, the ethics of nuclear weapons, and the consequences of scientific advancements.\n",
      "\n",
      "Therefore, based on the reviews, the Barbie and Oppenheimer movies have different themes.\n"
     ]
    }
   ],
   "source": [
    "print(str(response))"
   ]
  },
  {
   "cell_type": "code",
   "execution_count": null,
   "metadata": {},
   "outputs": [],
   "source": []
  },
  {
   "cell_type": "code",
   "execution_count": 70,
   "metadata": {},
   "outputs": [
    {
     "name": "stdout",
     "output_type": "stream",
     "text": [
      "=== Calling Function ===\n",
      "Calling function: sql with args: {\n",
      "  \"input\": \"SELECT AVG(rating) AS average_rating FROM barbie UNION SELECT AVG(rating) AS average_rating FROM oppenheimer\"\n",
      "}\n",
      "INFO:llama_index.indices.struct_store.sql_query:> Table desc str: Table 'barbie' has columns: index (BIGINT), Unnamed: 0 (BIGINT), Review_Date (TEXT), Author (TEXT), Rating (FLOAT), Review_Title (TEXT), Review (TEXT), Review_Url (TEXT), and foreign keys: .\n",
      "\n",
      "Table 'oppenheimer' has columns: index (BIGINT), Unnamed: 0 (BIGINT), Review_Date (TEXT), Author (TEXT), Rating (FLOAT), Review_Title (TEXT), Review (TEXT), Review_Url (TEXT), and foreign keys: .\n",
      "> Table desc str: Table 'barbie' has columns: index (BIGINT), Unnamed: 0 (BIGINT), Review_Date (TEXT), Author (TEXT), Rating (FLOAT), Review_Title (TEXT), Review (TEXT), Review_Url (TEXT), and foreign keys: .\n",
      "\n",
      "Table 'oppenheimer' has columns: index (BIGINT), Unnamed: 0 (BIGINT), Review_Date (TEXT), Author (TEXT), Rating (FLOAT), Review_Title (TEXT), Review (TEXT), Review_Url (TEXT), and foreign keys: .\n",
      "> Table desc str: Table 'barbie' has columns: index (BIGINT), Unnamed: 0 (BIGINT), Review_Date (TEXT), Author (TEXT), Rating (FLOAT), Review_Title (TEXT), Review (TEXT), Review_Url (TEXT), and foreign keys: .\n",
      "\n",
      "Table 'oppenheimer' has columns: index (BIGINT), Unnamed: 0 (BIGINT), Review_Date (TEXT), Author (TEXT), Rating (FLOAT), Review_Title (TEXT), Review (TEXT), Review_Url (TEXT), and foreign keys: .\n",
      "> Table desc str: Table 'barbie' has columns: index (BIGINT), Unnamed: 0 (BIGINT), Review_Date (TEXT), Author (TEXT), Rating (FLOAT), Review_Title (TEXT), Review (TEXT), Review_Url (TEXT), and foreign keys: .\n",
      "\n",
      "Table 'oppenheimer' has columns: index (BIGINT), Unnamed: 0 (BIGINT), Review_Date (TEXT), Author (TEXT), Rating (FLOAT), Review_Title (TEXT), Review (TEXT), Review_Url (TEXT), and foreign keys: .\n",
      "Got output: The average rating for the Barbie dataset is 7.36, while the average rating for the Oppenheimer dataset is 8.35.\n",
      "========================\n"
     ]
    }
   ],
   "source": [
    "response = barbenheimer_agent.chat(\"which movie should i watch if i want to watch higher rated move? \")"
   ]
  },
  {
   "cell_type": "code",
   "execution_count": 71,
   "metadata": {},
   "outputs": [
    {
     "name": "stdout",
     "output_type": "stream",
     "text": [
      "If you want to watch a higher-rated movie, I would recommend watching the Oppenheimer movie. It has an average rating of 8.35, which is higher than the average rating of 7.36 for the Barbie movie.\n"
     ]
    }
   ],
   "source": [
    "print(str(response))"
   ]
  }
 ],
 "metadata": {
  "kernelspec": {
   "display_name": "Python 3.11.4 ('raqa_llm')",
   "language": "python",
   "name": "python3"
  },
  "language_info": {
   "codemirror_mode": {
    "name": "ipython",
    "version": 3
   },
   "file_extension": ".py",
   "mimetype": "text/x-python",
   "name": "python",
   "nbconvert_exporter": "python",
   "pygments_lexer": "ipython3",
   "version": "3.11.4"
  },
  "orig_nbformat": 4,
  "vscode": {
   "interpreter": {
    "hash": "be5acfcc025169f2a5d2f1f42c6f0bfaa3f26bc4a79ece99f8de0b1efed5ee59"
   }
  }
 },
 "nbformat": 4,
 "nbformat_minor": 2
}
